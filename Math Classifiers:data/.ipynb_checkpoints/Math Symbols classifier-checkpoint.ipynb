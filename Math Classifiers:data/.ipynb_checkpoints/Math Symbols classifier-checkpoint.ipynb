{
 "cells": [
  {
   "cell_type": "markdown",
   "metadata": {},
   "source": [
    "## Importing libraries/data"
   ]
  },
  {
   "cell_type": "markdown",
   "metadata": {},
   "source": [
    "### Importing Libraries"
   ]
  },
  {
   "cell_type": "code",
   "execution_count": 1,
   "metadata": {},
   "outputs": [],
   "source": [
    "# For general use\n",
    "import matplotlib.pyplot as plt\n",
    "import numpy as np\n",
    "import pandas as pd\n",
    "\n",
    "# For our classifiers\n",
    "from sklearn import neighbors\n",
    "from sklearn import naive_bayes\n",
    "from sklearn import tree\n",
    "from sklearn import neural_network\n",
    "\n",
    "# For confusion matrix/data importing\n",
    "from sklearn import metrics  \n",
    "from sklearn.datasets import load_digits  "
   ]
  },
  {
   "cell_type": "markdown",
   "metadata": {},
   "source": [
    "### Importing Math Symbol data"
   ]
  },
  {
   "cell_type": "code",
   "execution_count": 2,
   "metadata": {},
   "outputs": [
    {
     "name": "stdout",
     "output_type": "stream",
     "text": [
      "Loading +.CSV...\n",
      "Loading ).CSV...\n",
      "Loading (.CSV...\n",
      "Loading ,.CSV...\n",
      "Loading -.CSV...\n",
      "Concatenating Data...\n",
      "Done\n"
     ]
    }
   ],
   "source": [
    "dfs = []\n",
    "for cls in ['+', ')', '(', ',', '-']:\n",
    "    print(f\"Loading {cls}.CSV...\")\n",
    "    a = pd.read_csv(\"CSV/\"+cls+\".csv\", index_col=0)\n",
    "    a['class'] = cls\n",
    "    dfs.append(a)\n",
    "\n",
    "print(\"Concatenating Data...\")\n",
    "df = pd.concat(dfs,ignore_index=True, sort =False)\n",
    "print(\"Done\")"
   ]
  },
  {
   "cell_type": "markdown",
   "metadata": {},
   "source": [
    "### Test/Train split"
   ]
  },
  {
   "cell_type": "code",
   "execution_count": 3,
   "metadata": {},
   "outputs": [],
   "source": [
    "features = [feature for feature in df]\n",
    "features.remove(\"class\")\n",
    "\n",
    "train_X = np.array(df[df.index%2 == 0][features])\n",
    "train_y = df[df.index%2 == 0][\"class\"]\n",
    "\n",
    "test_X = np.array(df[df.index%2 == 1][features])\n",
    "test_y = df[df.index%2 == 1][\"class\"]"
   ]
  },
  {
   "cell_type": "markdown",
   "metadata": {},
   "source": [
    "### Importing Digits\n",
    "\n",
    "This is where we will import the MNIST data set to classify digits as well (in the future)"
   ]
  },
  {
   "cell_type": "markdown",
   "metadata": {},
   "source": [
    "## Testing classifiers\n",
    "I conducted some \"accuracy vs parameter\" tests and found these to the be the optimal `n_neighbors` and `max_depth` values. In the future I will put those tests here"
   ]
  },
  {
   "cell_type": "code",
   "execution_count": 4,
   "metadata": {},
   "outputs": [
    {
     "name": "stdout",
     "output_type": "stream",
     "text": [
      "Fitting...\n",
      "Scoring...\n"
     ]
    },
    {
     "data": {
      "text/plain": [
       "0.98"
      ]
     },
     "execution_count": 4,
     "metadata": {},
     "output_type": "execute_result"
    }
   ],
   "source": [
    "# Kneighbors\n",
    "clf = neighbors.KNeighborsClassifier(n_neighbors=1)\n",
    "print(\"Fitting...\")\n",
    "clf.fit(train_X, train_y)\n",
    "print(\"Scoring...\")\n",
    "clf.score(test_X[:100], test_y[:100])"
   ]
  },
  {
   "cell_type": "code",
   "execution_count": 5,
   "metadata": {},
   "outputs": [
    {
     "name": "stdout",
     "output_type": "stream",
     "text": [
      "Fitting...\n",
      "Scoring...\n"
     ]
    },
    {
     "data": {
      "text/plain": [
       "0.980638829407566"
      ]
     },
     "execution_count": 5,
     "metadata": {},
     "output_type": "execute_result"
    }
   ],
   "source": [
    "# Decision Tree\n",
    "clf = tree.DecisionTreeClassifier(random_state=10)\n",
    "print(\"Fitting...\")\n",
    "clf.fit(train_X, train_y)\n",
    "print(\"Scoring...\")\n",
    "clf.score(test_X, test_y)"
   ]
  },
  {
   "cell_type": "code",
   "execution_count": 6,
   "metadata": {},
   "outputs": [
    {
     "name": "stdout",
     "output_type": "stream",
     "text": [
      "Fitting...\n",
      "Scoring...\n"
     ]
    },
    {
     "data": {
      "text/plain": [
       "0.905870806566738"
      ]
     },
     "execution_count": 6,
     "metadata": {},
     "output_type": "execute_result"
    }
   ],
   "source": [
    "# Gaussian Naive Bayes\n",
    "clf = naive_bayes.GaussianNB()\n",
    "print(\"Fitting...\")\n",
    "clf.fit(train_X, train_y)\n",
    "print(\"Scoring...\")\n",
    "clf.score(test_X, test_y)"
   ]
  },
  {
   "cell_type": "markdown",
   "metadata": {},
   "source": [
    "### Finding most accurate hidden_layer_sizes value"
   ]
  },
  {
   "cell_type": "code",
   "execution_count": 11,
   "metadata": {},
   "outputs": [
    {
     "name": "stdout",
     "output_type": "stream",
     "text": [
      "fitting and scoring hidden_layer_sizes=1...\n",
      "fitting and scoring hidden_layer_sizes=2...\n",
      "fitting and scoring hidden_layer_sizes=3...\n",
      "fitting and scoring hidden_layer_sizes=4...\n",
      "fitting and scoring hidden_layer_sizes=5...\n",
      "fitting and scoring hidden_layer_sizes=6...\n",
      "fitting and scoring hidden_layer_sizes=7...\n",
      "fitting and scoring hidden_layer_sizes=8...\n",
      "fitting and scoring hidden_layer_sizes=9...\n",
      "fitting and scoring hidden_layer_sizes=10...\n",
      "fitting and scoring hidden_layer_sizes=11...\n",
      "fitting and scoring hidden_layer_sizes=12...\n",
      "fitting and scoring hidden_layer_sizes=13...\n",
      "fitting and scoring hidden_layer_sizes=14...\n"
     ]
    }
   ],
   "source": [
    "# Using a small subset of data for faster results\n",
    "data_portion = 1000\n",
    "train_X2 = np.array(df[df.index%data_portion == 0][features])\n",
    "train_y2 = df[df.index%data_portion == 0][\"class\"]\n",
    "\n",
    "test_X2 = np.array(df[df.index%data_portion == 1][features])\n",
    "test_y2 = df[df.index%data_portion == 1][\"class\"]\n",
    "\n",
    "# Recording scores\n",
    "scoresNN = []\n",
    "for hid in range(1, 15):\n",
    "    print(f\"fitting and scoring hidden_layer_sizes={hid}...\")\n",
    "    clf = neural_network.MLPClassifier(hidden_layer_sizes=(hid),max_iter=2000, random_state=42)\n",
    "    clf.fit(train_X2, train_y2)\n",
    "    scoresNN.append(clf.score(test_X2, test_y2))"
   ]
  },
  {
   "cell_type": "code",
   "execution_count": 12,
   "metadata": {},
   "outputs": [
    {
     "name": "stdout",
     "output_type": "stream",
     "text": [
      "hidden_layer_sizes = 1   ::   0.5222222222222223\n",
      "hidden_layer_sizes = 2   ::   0.6333333333333333\n",
      "hidden_layer_sizes = 3   ::   0.6777777777777778\n",
      "hidden_layer_sizes = 4   ::   0.7\n",
      "hidden_layer_sizes = 5   ::   0.7111111111111111\n",
      "hidden_layer_sizes = 6   ::   0.7777777777777778\n",
      "hidden_layer_sizes = 7   ::   0.8111111111111111\n",
      "hidden_layer_sizes = 8   ::   0.8333333333333334\n",
      "hidden_layer_sizes = 9   ::   0.7444444444444445\n",
      "hidden_layer_sizes = 10   ::   0.7222222222222222\n",
      "hidden_layer_sizes = 11   ::   0.7555555555555555\n",
      "hidden_layer_sizes = 12   ::   0.7\n",
      "hidden_layer_sizes = 13   ::   0.7333333333333333\n",
      "hidden_layer_sizes = 14   ::   0.7222222222222222\n"
     ]
    }
   ],
   "source": [
    "for i, score in zip(range(len(scoresNN)), scoresNN):\n",
    "    print(\"hidden_layer_sizes =\", i+1, '  ::  ', score)"
   ]
  },
  {
   "cell_type": "markdown",
   "metadata": {},
   "source": [
    "Clearly `hidden_layer_sizes=8` is the most accurate value.\n",
    "\n",
    "Using this value, I will conduct accuracy testing with all of the data"
   ]
  },
  {
   "cell_type": "code",
   "execution_count": 13,
   "metadata": {},
   "outputs": [
    {
     "name": "stdout",
     "output_type": "stream",
     "text": [
      "fitting...\n",
      "scoring...\n"
     ]
    },
    {
     "data": {
      "text/plain": [
       "0.9965203426124197"
      ]
     },
     "execution_count": 13,
     "metadata": {},
     "output_type": "execute_result"
    }
   ],
   "source": [
    "num = 4\n",
    "train_X3 = np.array(df[df.index%num != 0][features])\n",
    "train_y3 = df[df.index%num != 0][\"class\"]\n",
    "\n",
    "test_X3 = np.array(df[df.index%num == 0][features])\n",
    "test_y3 = df[df.index%num == 0][\"class\"]\n",
    "\n",
    "clf = neural_network.MLPClassifier(hidden_layer_sizes=(8),max_iter=8000, random_state=42)\n",
    "print(\"fitting...\")\n",
    "clf.fit(train_X3, train_y3)\n",
    "print(\"scoring...\")\n",
    "clf.score(test_X3, test_y3)"
   ]
  }
 ],
 "metadata": {
  "kernelspec": {
   "display_name": "Python 3",
   "language": "python",
   "name": "python3"
  },
  "language_info": {
   "codemirror_mode": {
    "name": "ipython",
    "version": 3
   },
   "file_extension": ".py",
   "mimetype": "text/x-python",
   "name": "python",
   "nbconvert_exporter": "python",
   "pygments_lexer": "ipython3",
   "version": "3.7.4"
  }
 },
 "nbformat": 4,
 "nbformat_minor": 2
}
