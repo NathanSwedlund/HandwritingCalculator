{
 "cells": [
  {
   "cell_type": "markdown",
   "metadata": {},
   "source": [
    "## Importing libraries/data"
   ]
  },
  {
   "cell_type": "markdown",
   "metadata": {},
   "source": [
    "### Importing Libraries"
   ]
  },
  {
   "cell_type": "code",
   "execution_count": 9,
   "metadata": {},
   "outputs": [],
   "source": [
    "# For general use\n",
    "import matplotlib.pyplot as plt\n",
    "import numpy as np\n",
    "import pandas as pd\n",
    "\n",
    "# For our classifiers\n",
    "from sklearn import neighbors\n",
    "from sklearn import naive_bayes\n",
    "from sklearn import tree\n",
    "from sklearn import neural_network\n",
    "\n",
    "# For confusion matrix/data importing\n",
    "from sklearn import metrics  \n",
    "from sklearn.datasets import load_digits  "
   ]
  },
  {
   "cell_type": "markdown",
   "metadata": {},
   "source": [
    "### Importing Math Symbol data"
   ]
  },
  {
   "cell_type": "code",
   "execution_count": 10,
   "metadata": {},
   "outputs": [
    {
     "name": "stdout",
     "output_type": "stream",
     "text": [
      "+\n",
      ")\n",
      "(\n",
      ",\n",
      "-\n",
      "Concat-ing:\n",
      "Done\n"
     ]
    }
   ],
   "source": [
    "dfs = []\n",
    "for cls in ['+', ')', '(', ',', '-']:\n",
    "    print(cls)\n",
    "    a = pd.read_csv(\"big/\"+cls+\".csv\", index_col=0)\n",
    "    a['class'] = cls\n",
    "    dfs.append(a)\n",
    "\n",
    "print(\"Concat-ing:\")\n",
    "df = pd.concat(dfs,ignore_index=True, sort =False)\n",
    "print(\"Done\")"
   ]
  },
  {
   "cell_type": "markdown",
   "metadata": {},
   "source": [
    "### Importing Digits"
   ]
  },
  {
   "cell_type": "code",
   "execution_count": 11,
   "metadata": {},
   "outputs": [],
   "source": [
    "# X, y = load_digits(return_X_y=True)\n",
    "# temp = pd.DataFrame(X)\n",
    "# temp[\"class\"] = y\n",
    "# df.append(temp, ignore_index=True, sort=False)"
   ]
  },
  {
   "cell_type": "code",
   "execution_count": 12,
   "metadata": {},
   "outputs": [],
   "source": [
    "features = [feature for feature in df]\n",
    "features.remove(\"class\")\n",
    "\n",
    "train_X = np.array(df[df.index%2 == 0][features])\n",
    "train_y = df[df.index%2 == 0][\"class\"]\n",
    "\n",
    "test_X = np.array(df[df.index%2 == 1][features])\n",
    "test_y = df[df.index%2 == 1][\"class\"]"
   ]
  },
  {
   "cell_type": "markdown",
   "metadata": {},
   "source": [
    "## Tesing classifiers"
   ]
  },
  {
   "cell_type": "code",
   "execution_count": 13,
   "metadata": {},
   "outputs": [
    {
     "data": {
      "text/plain": [
       "0.98"
      ]
     },
     "execution_count": 13,
     "metadata": {},
     "output_type": "execute_result"
    }
   ],
   "source": [
    "clf = neighbors.KNeighborsClassifier(n_neighbors=1)\n",
    "clf.fit(train_X, train_y)\n",
    "clf.score(test_X[:100], test_y[:100])"
   ]
  },
  {
   "cell_type": "code",
   "execution_count": 14,
   "metadata": {},
   "outputs": [
    {
     "data": {
      "text/plain": [
       "0.980638829407566"
      ]
     },
     "execution_count": 14,
     "metadata": {},
     "output_type": "execute_result"
    }
   ],
   "source": [
    "clf = tree.DecisionTreeClassifier(random_state=10)\n",
    "clf.fit(train_X, train_y)\n",
    "clf.score(test_X, test_y)"
   ]
  },
  {
   "cell_type": "code",
   "execution_count": 15,
   "metadata": {},
   "outputs": [
    {
     "data": {
      "text/plain": [
       "0.905870806566738"
      ]
     },
     "execution_count": 15,
     "metadata": {},
     "output_type": "execute_result"
    }
   ],
   "source": [
    "clf = naive_bayes.GaussianNB()\n",
    "clf.fit(train_X, train_y)\n",
    "clf.score(test_X, test_y)"
   ]
  },
  {
   "cell_type": "code",
   "execution_count": 26,
   "metadata": {},
   "outputs": [],
   "source": [
    "# scoresKN = []\n",
    "# for hidd in range(1,3,1):\n",
    "#     print(hidd)\n",
    "#     clf = neural_network.MLPClassifier(hidden_layer_sizes=(hidd),max_iter=1000, random_state=42)\n",
    "#     print(\"fitting\")\n",
    "#     clf.fit(train_X, train_y)\n",
    "#     print(\"scoring\")\n",
    "#     scoresKN.append(clf.score(test_X[:400], test_y[:400]))"
   ]
  },
  {
   "cell_type": "code",
   "execution_count": 24,
   "metadata": {},
   "outputs": [],
   "source": [
    "# train_X[train_X.index %100 == 0]#train_y[train_y.index %100 = 0]"
   ]
  },
  {
   "cell_type": "code",
   "execution_count": 29,
   "metadata": {},
   "outputs": [],
   "source": [
    "train_X2 = np.array(df[df.index%1000 == 0][features])\n",
    "train_y2 = df[df.index%1000 == 0][\"class\"]\n",
    "\n",
    "test_X2 = np.array(df[df.index%1000 == 1][features])\n",
    "test_y2 = df[df.index%1000 == 1][\"class\"]"
   ]
  },
  {
   "cell_type": "code",
   "execution_count": 43,
   "metadata": {},
   "outputs": [
    {
     "name": "stdout",
     "output_type": "stream",
     "text": [
      "fitting\n",
      "scoring\n",
      "fitting\n",
      "scoring\n",
      "fitting\n",
      "scoring\n",
      "fitting\n",
      "scoring\n",
      "fitting\n",
      "scoring\n",
      "fitting\n",
      "scoring\n",
      "fitting\n",
      "scoring\n",
      "fitting\n",
      "scoring\n",
      "fitting\n",
      "scoring\n"
     ]
    }
   ],
   "source": [
    "scoresNN = []\n",
    "for hid in range(1, 10):\n",
    "    clf = neural_network.MLPClassifier(hidden_layer_sizes=(hid),max_iter=2000, random_state=42)\n",
    "    print(\"fitting\")\n",
    "    clf.fit(train_X2, train_y2)\n",
    "    print(\"scoring\")\n",
    "    scoresNN.append(clf.score(test_X2, test_y2))"
   ]
  },
  {
   "cell_type": "code",
   "execution_count": 45,
   "metadata": {},
   "outputs": [
    {
     "data": {
      "text/plain": [
       "[0.5222222222222223,\n",
       " 0.6333333333333333,\n",
       " 0.6777777777777778,\n",
       " 0.7,\n",
       " 0.7111111111111111,\n",
       " 0.7777777777777778,\n",
       " 0.8111111111111111,\n",
       " 0.8333333333333334,\n",
       " 0.7444444444444445]"
      ]
     },
     "execution_count": 45,
     "metadata": {},
     "output_type": "execute_result"
    }
   ],
   "source": [
    "scoresNN"
   ]
  },
  {
   "cell_type": "code",
   "execution_count": 59,
   "metadata": {},
   "outputs": [
    {
     "name": "stdout",
     "output_type": "stream",
     "text": [
      "fitting\n",
      "scoring\n"
     ]
    },
    {
     "data": {
      "text/plain": [
       "0.9979926396788223"
      ]
     },
     "execution_count": 59,
     "metadata": {},
     "output_type": "execute_result"
    }
   ],
   "source": [
    "num = 15\n",
    "train_X3 = np.array(df[df.index%num != 0][features])\n",
    "train_y3 = df[df.index%num != 0][\"class\"]\n",
    "\n",
    "test_X3 = np.array(df[df.index%num == 0][features])\n",
    "test_y3 = df[df.index%num == 0][\"class\"]\n",
    "\n",
    "clf = neural_network.MLPClassifier(hidden_layer_sizes=(8),max_iter=8000, random_state=42)\n",
    "print(\"fitting\")\n",
    "clf.fit(train_X3, train_y3)\n",
    "print(\"scoring\")\n",
    "clf.score(test_X3, test_y3)"
   ]
  }
 ],
 "metadata": {
  "kernelspec": {
   "display_name": "Python 3",
   "language": "python",
   "name": "python3"
  },
  "language_info": {
   "codemirror_mode": {
    "name": "ipython",
    "version": 3
   },
   "file_extension": ".py",
   "mimetype": "text/x-python",
   "name": "python",
   "nbconvert_exporter": "python",
   "pygments_lexer": "ipython3",
   "version": "3.7.4"
  }
 },
 "nbformat": 4,
 "nbformat_minor": 2
}
