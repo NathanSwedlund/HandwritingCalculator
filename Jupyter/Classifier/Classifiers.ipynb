{
 "cells": [
  {
   "cell_type": "markdown",
   "metadata": {},
   "source": [
    "## Importing libraries/data"
   ]
  },
  {
   "cell_type": "markdown",
   "metadata": {},
   "source": [
    "### Importing Libraries"
   ]
  },
  {
   "cell_type": "code",
   "execution_count": 1,
   "metadata": {},
   "outputs": [],
   "source": [
    "# For general use\n",
    "import matplotlib.pyplot as plt\n",
    "import numpy as np\n",
    "import pandas as pd\n",
    "\n",
    "# For our classifiers\n",
    "from sklearn import neighbors\n",
    "from sklearn import naive_bayes\n",
    "from sklearn import tree\n",
    "from sklearn import neural_network\n",
    "from sklearn import preprocessing\n",
    "\n",
    "# For confusion matrix/data importing\n",
    "from sklearn import metrics  \n",
    "from sklearn.datasets import load_digits \n",
    "\n",
    "from PIL import Image\n"
   ]
  },
  {
   "cell_type": "markdown",
   "metadata": {},
   "source": [
    "### Importing CSV data"
   ]
  },
  {
   "cell_type": "code",
   "execution_count": 2,
   "metadata": {},
   "outputs": [
    {
     "name": "stdout",
     "output_type": "stream",
     "text": [
      "Getting digits\n",
      "Loading 0.CSV...\n",
      "Loading 1.CSV...\n",
      "Loading 2.CSV...\n",
      "Loading 3.CSV...\n",
      "Loading 4.CSV...\n",
      "Loading 5.CSV...\n",
      "Loading 6.CSV...\n",
      "Loading 7.CSV...\n",
      "Loading 8.CSV...\n",
      "Loading 9.CSV...\n",
      "\n",
      "Getting math symbols\n",
      "Loading +.CSV...\n",
      "Loading ).CSV...\n",
      "Loading (.CSV...\n",
      "Loading ,.CSV...\n",
      "Loading -.CSV...\n",
      "\n",
      "Getting math symbols\n",
      "Loading 0.CSV...\n",
      "Loading 1.CSV...\n",
      "Loading 2.CSV...\n",
      "Loading 3.CSV...\n",
      "Loading 4.CSV...\n",
      "Loading 5.CSV...\n",
      "Loading 6.CSV...\n",
      "Loading 7.CSV...\n",
      "Loading 8.CSV...\n",
      "Loading 9.CSV...\n",
      "Loading +28.CSV...\n",
      "Loading )28.CSV...\n",
      "Loading (28.CSV...\n",
      "Loading ,28.CSV...\n",
      "Loading -28.CSV...\n",
      "Concatenating Data...\n",
      "Done\n"
     ]
    }
   ],
   "source": [
    "file = \"../../Data/CSV/\"\n",
    "\n",
    "print(\"Getting digits\")\n",
    "dfs_digi = []\n",
    "for cls in ['0','1','2','3','4','5','6','7','8','9']:\n",
    "    print(f\"Loading {cls}.CSV...\")\n",
    "    a = pd.read_csv(file+cls+\".csv\", index_col=0)\n",
    "    a['class'] = cls\n",
    "    dfs_digi.append(a)\n",
    "    \n",
    "print(\"\\nGetting math symbols\")\n",
    "dfs_math = []\n",
    "for cls in ['+', ')', '(', ',', '-']:\n",
    "    print(f\"Loading {cls}.CSV...\")\n",
    "    a = pd.read_csv(file+cls+\".csv\", index_col=0)\n",
    "    a['class'] = cls\n",
    "    dfs_math.append(a)\n",
    "\n",
    "print(\"\\nGetting math symbols\")\n",
    "dfs_all = []\n",
    "for cls in ['0','1','2','3','4','5','6','7','8','9','+28', ')28', '(28', ',28', '-28']:\n",
    "    print(f\"Loading {cls}.CSV...\")\n",
    "    a = pd.read_csv(file+cls+\".csv\", index_col=0)\n",
    "    a['class'] = cls[0]\n",
    "    dfs_all.append(a)\n",
    "    \n",
    "print(\"Concatenating Data...\")\n",
    "df_math = pd.concat(dfs_math,ignore_index=True, sort=False)\n",
    "df_digi = pd.concat(dfs_digi,ignore_index=True, sort=False)\n",
    "df_all  = pd.concat(dfs_all, ignore_index=True, sort=False)\n",
    "print(\"Done\")"
   ]
  },
  {
   "cell_type": "markdown",
   "metadata": {},
   "source": [
    "### Test/Train split"
   ]
  },
  {
   "cell_type": "code",
   "execution_count": 3,
   "metadata": {},
   "outputs": [],
   "source": [
    "Dfeatures = [feature for feature in df_digi]\n",
    "Dfeatures.remove(\"class\")\n",
    "\n",
    "Dtrain_X = np.array(df_digi[df_digi.index%2 == 0][Dfeatures])\n",
    "Dtrain_y = df_digi[df_digi.index%2 == 0][\"class\"]\n",
    "Dtest_X = np.array(df_digi[df_digi.index%2 == 1][Dfeatures])\n",
    "Dtest_y = df_digi[df_digi.index%2 == 1][\"class\"]\n",
    "\n",
    "Mfeatures = [feature for feature in df_math]\n",
    "Mfeatures.remove(\"class\")\n",
    "Mtrain_X = np.array(df_math[df_math.index%2 == 0][Mfeatures])\n",
    "Mtrain_y = df_math[df_math.index%2 == 0][\"class\"]\n",
    "Mtest_X = np.array(df_math[df_math.index%2 == 1][Mfeatures])\n",
    "Mtest_y = df_math[df_math.index%2 == 1][\"class\"]\n",
    "\n",
    "Afeatures = [feature for feature in df_all]\n",
    "Afeatures.remove(\"class\")\n",
    "Atrain_X = np.array(df_all[df_all.index%2 == 0][Afeatures])\n",
    "Atrain_y = df_all[df_all.index%2 == 0][\"class\"]\n",
    "Atest_X = np.array(df_all[df_all.index%2 == 1][Afeatures])\n",
    "Atest_y = df_all[df_all.index%2 == 1][\"class\"]"
   ]
  },
  {
   "cell_type": "code",
   "execution_count": 4,
   "metadata": {},
   "outputs": [
    {
     "data": {
      "text/plain": [
       "(4765, 2025)"
      ]
     },
     "execution_count": 4,
     "metadata": {},
     "output_type": "execute_result"
    }
   ],
   "source": [
    "Mtrain_X.shape"
   ]
  },
  {
   "cell_type": "markdown",
   "metadata": {},
   "source": [
    "## Testing classifiers\n",
    "I conducted some \"accuracy vs parameter\" tests and found these to the be the optimal `n_neighbors` and `max_depth` values. In the future I will put those tests here"
   ]
  },
  {
   "cell_type": "code",
<<<<<<< HEAD
   "execution_count": 4,
=======
   "execution_count": 5,
   "metadata": {},
   "outputs": [],
   "source": [
    "def test_CLF(clf, tests):\n",
    "    print(\"Digit: ------\\nFitting...\")\n",
    "    clf.fit(Dtrain_X, Dtrain_y)\n",
    "    print(\"Scoring...\")\n",
    "    print(\"Score: \", clf.score(Dtest_X[:tests], Dtest_y[:tests]), \"\\n\")\n",
    "\n",
    "    print(\"Math: ------\\nFitting...\")\n",
    "    clf.fit(Mtrain_X, Mtrain_y)\n",
    "    print(\"Scoring...\")\n",
    "    print(\"Score: \", clf.score(Mtest_X[:tests], Mtest_y[:tests]), \"\\n\")\n",
    "\n",
    "    print(\"All: ------\\nFitting...\")\n",
    "    clf.fit(Atrain_X, Atrain_y)\n",
    "    print(\"Scoring...\")\n",
    "    print(\"Score: \", clf.score(Atest_X[:tests], Atest_y[:tests]), \"\\n\")"
   ]
  },
  {
   "cell_type": "code",
   "execution_count": 6,
>>>>>>> 7f90256751ab0e8fe43609e4b068584294930628
   "metadata": {},
   "outputs": [
    {
     "name": "stdout",
     "output_type": "stream",
     "text": [
      "Digit: ------\n",
      "Fitting...\n",
      "Scoring...\n",
      "Score:  1.0 \n",
      "\n",
      "Math: ------\n",
      "Fitting...\n",
      "Scoring...\n",
<<<<<<< HEAD
      "Digit score:  1.0 \n",
=======
      "Score:  0.28 \n",
>>>>>>> 7f90256751ab0e8fe43609e4b068584294930628
      "\n",
      "All: ------\n",
      "Fitting...\n",
      "Scoring...\n",
<<<<<<< HEAD
      "Math score:  0.36 \n",
=======
      "Score:  1.0 \n",
>>>>>>> 7f90256751ab0e8fe43609e4b068584294930628
      "\n"
     ]
    }
   ],
   "source": [
    "# Kneighbors\n",
    "clf = neighbors.KNeighborsClassifier(n_neighbors=1)\n",
    "test_CLF(clf, 100)"
   ]
  },
  {
   "cell_type": "code",
<<<<<<< HEAD
   "execution_count": 5,
=======
   "execution_count": 7,
>>>>>>> 7f90256751ab0e8fe43609e4b068584294930628
   "metadata": {},
   "outputs": [
    {
     "name": "stdout",
     "output_type": "stream",
     "text": [
      "Digit: ------\n",
      "Fitting...\n",
      "Scoring...\n",
<<<<<<< HEAD
      "Digit score:  0.9 \n",
=======
      "Score:  0.889 \n",
>>>>>>> 7f90256751ab0e8fe43609e4b068584294930628
      "\n",
      "Math: ------\n",
      "Fitting...\n",
      "Scoring...\n",
<<<<<<< HEAD
      "Math score:  0.74 \n",
=======
      "Score:  0.295 \n",
      "\n",
      "All: ------\n",
      "Fitting...\n",
      "Scoring...\n",
      "Score:  0.867 \n",
>>>>>>> 7f90256751ab0e8fe43609e4b068584294930628
      "\n"
     ]
    }
   ],
   "source": [
    "# Decision Tree\n",
    "clf = tree.DecisionTreeClassifier(random_state=42, max_depth=15)\n",
    "test_CLF(clf, 1000)"
   ]
  },
  {
   "cell_type": "code",
<<<<<<< HEAD
   "execution_count": 6,
=======
   "execution_count": 8,
>>>>>>> 7f90256751ab0e8fe43609e4b068584294930628
   "metadata": {},
   "outputs": [
    {
     "name": "stdout",
     "output_type": "stream",
     "text": [
      "Digit: ------\n",
      "Fitting...\n",
      "Scoring...\n",
<<<<<<< HEAD
      "Digit score:  0.582791185729276 \n",
=======
      "Score:  0.92 \n",
>>>>>>> 7f90256751ab0e8fe43609e4b068584294930628
      "\n",
      "Math: ------\n",
      "Fitting...\n",
      "Scoring...\n",
<<<<<<< HEAD
      "Math score:  0.9034627492130115 \n",
=======
      "Score:  0.977 \n",
      "\n",
      "All: ------\n",
      "Fitting...\n",
      "Scoring...\n",
      "Score:  0.9085 \n",
>>>>>>> 7f90256751ab0e8fe43609e4b068584294930628
      "\n"
     ]
    }
   ],
   "source": [
    "# Gaussian Naive Bayes\n",
    "clf = naive_bayes.GaussianNB()\n",
    "test_CLF(clf, 2000)"
   ]
  },
  {
   "cell_type": "markdown",
   "metadata": {},
   "source": [
    "### Finding most accurate hidden_layer_sizes value"
   ]
  },
  {
   "cell_type": "code",
<<<<<<< HEAD
   "execution_count": 7,
=======
   "execution_count": 9,
>>>>>>> 7f90256751ab0e8fe43609e4b068584294930628
   "metadata": {},
   "outputs": [],
   "source": [
    "# Using a small subset of data for faster results\n",
    "data_portion = 500\n",
    "Dtrain_X2 = np.array(df_digi[df_digi.index%data_portion == 0][Dfeatures])\n",
    "Dtrain_y2 = df_digi[df_digi.index%data_portion == 0][\"class\"]\n",
    "Dtest_X2 = np.array(df_digi[df_digi.index%data_portion == 1][Dfeatures])\n",
    "Dtest_y2 = df_digi[df_digi.index%data_portion == 1][\"class\"]\n",
    "\n",
    "Mtrain_X2 = np.array(df_math[df_math.index%data_portion == 0][Mfeatures])\n",
    "Mtrain_y2 = df_math[df_math.index%data_portion == 0][\"class\"]\n",
    "Mtest_X2 = np.array(df_math[df_math.index%data_portion == 1][Mfeatures])\n",
    "Mtest_y2 = df_math[df_math.index%data_portion == 1][\"class\"]\n",
    "\n",
<<<<<<< HEAD
    "sc = preprocessing.StandardScaler()\n",
    "Dtrain_X2 = sc.fit_transform(Dtrain_X2)\n",
    "Dtest_X2 = sc.fit_transform(Dtest_X2)\n",
    "Mtrain_X2 = sc.fit_transform(Mtrain_X2)\n",
    "Mtest_X2 = sc.fit_transform(Mtest_X2)"
   ]
  },
  {
   "cell_type": "code",
   "execution_count": 8,
   "metadata": {},
   "outputs": [
    {
     "data": {
      "text/plain": [
       "4.358898943540674"
      ]
     },
     "execution_count": 8,
     "metadata": {},
     "output_type": "execute_result"
    }
   ],
   "source": [
    "max(Mtest_X2[0])"
=======
    "Atrain_X2 = np.array(df_all[df_all.index%data_portion == 0][Afeatures])\n",
    "Atrain_y2 = df_all[df_all.index%data_portion == 0][\"class\"]\n",
    "Atest_X2 = np.array(df_all[df_all.index%data_portion == 1][Afeatures])\n",
    "Atest_y2 = df_all[df_all.index%data_portion == 1][\"class\"]\n",
    "\n",
    "# sc = preprocessing.StandardScaler()\n",
    "# Dtrain_X2 = sc.fit_transform(Dtrain_X2)\n",
    "# Dtest_X2 = sc.fit_transform(Dtest_X2)\n",
    "# Mtrain_X2 = sc.fit_transform(Mtrain_X2)\n",
    "# Mtest_X2 = sc.fit_transform(Mtest_X2)"
>>>>>>> 7f90256751ab0e8fe43609e4b068584294930628
   ]
  },
  {
   "cell_type": "code",
<<<<<<< HEAD
   "execution_count": 9,
=======
   "execution_count": 10,
>>>>>>> 7f90256751ab0e8fe43609e4b068584294930628
   "metadata": {},
   "outputs": [
    {
     "name": "stdout",
     "output_type": "stream",
     "text": [
<<<<<<< HEAD
      "fitting and scoring hidden_layer_sizes=1...\n",
      "fitting and scoring hidden_layer_sizes=2...\n",
      "fitting and scoring hidden_layer_sizes=3...\n",
      "fitting and scoring hidden_layer_sizes=4...\n",
      "fitting and scoring hidden_layer_sizes=5...\n",
      "fitting and scoring hidden_layer_sizes=6...\n",
      "fitting and scoring hidden_layer_sizes=7...\n",
      "fitting and scoring hidden_layer_sizes=8...\n",
      "fitting and scoring hidden_layer_sizes=9...\n",
      "fitting and scoring hidden_layer_sizes=10...\n",
      "fitting and scoring hidden_layer_sizes=11...\n",
      "fitting and scoring hidden_layer_sizes=12...\n",
      "fitting and scoring hidden_layer_sizes=13...\n",
      "fitting and scoring hidden_layer_sizes=14...\n",
      "fitting and scoring hidden_layer_sizes=15...\n",
      "fitting and scoring hidden_layer_sizes=16...\n",
      "fitting and scoring hidden_layer_sizes=17...\n",
      "fitting and scoring hidden_layer_sizes=18...\n",
      "fitting and scoring hidden_layer_sizes=19...\n",
=======
>>>>>>> 7f90256751ab0e8fe43609e4b068584294930628
      "fitting and scoring hidden_layer_sizes=20...\n",
      "fitting and scoring hidden_layer_sizes=21...\n",
      "fitting and scoring hidden_layer_sizes=22...\n",
      "fitting and scoring hidden_layer_sizes=23...\n",
      "fitting and scoring hidden_layer_sizes=24...\n",
      "fitting and scoring hidden_layer_sizes=25...\n",
      "fitting and scoring hidden_layer_sizes=26...\n",
      "fitting and scoring hidden_layer_sizes=27...\n",
      "fitting and scoring hidden_layer_sizes=28...\n",
      "fitting and scoring hidden_layer_sizes=29...\n"
     ]
    }
   ],
   "source": [
    "# Recording scores\n",
    "Dscores = []\n",
    "Mscores = []\n",
    "Ascores = []\n",
    "MAX = 30\n",
    "for hid in range(20, MAX):\n",
    "    print(f\"fitting and scoring hidden_layer_sizes={hid}...\")\n",
    "    clf = neural_network.MLPClassifier(hidden_layer_sizes=(hid),max_iter=3000, random_state=42)\n",
    "    \n",
    "    clf.fit(Dtrain_X2, Dtrain_y2)\n",
    "    Dscores.append(clf.score(Dtest_X2, Dtest_y2))\n",
    "    \n",
    "    clf.fit(Mtrain_X2, Mtrain_y2)\n",
    "    Mscores.append(clf.score(Mtest_X2, Mtest_y2))\n",
    "    \n",
    "    clf.fit(Atrain_X2, Atrain_y2)\n",
    "    Ascores.append(clf.score(Atest_X2, Atest_y2))"
   ]
  },
  {
   "cell_type": "code",
<<<<<<< HEAD
   "execution_count": 10,
=======
   "execution_count": 11,
>>>>>>> 7f90256751ab0e8fe43609e4b068584294930628
   "metadata": {},
   "outputs": [
    {
     "name": "stdout",
     "output_type": "stream",
     "text": [
<<<<<<< HEAD
      "hidden_layer_sizes = 10   ::   0.25  ::  0.1282051282051282\n",
      "hidden_layer_sizes = 11   ::   0.35  ::  0.2564102564102564\n",
      "hidden_layer_sizes = 12   ::   0.3  ::  0.20512820512820512\n",
      "hidden_layer_sizes = 13   ::   0.3  ::  0.48717948717948717\n",
      "hidden_layer_sizes = 14   ::   0.5  ::  0.3333333333333333\n",
      "hidden_layer_sizes = 15   ::   0.6  ::  0.5128205128205128\n",
      "hidden_layer_sizes = 16   ::   0.55  ::  0.4358974358974359\n",
      "hidden_layer_sizes = 17   ::   0.5  ::  0.5128205128205128\n",
      "hidden_layer_sizes = 18   ::   0.5  ::  0.46153846153846156\n",
      "hidden_layer_sizes = 19   ::   0.55  ::  0.5128205128205128\n",
      "hidden_layer_sizes = 20   ::   0.5  ::  0.5641025641025641\n",
      "hidden_layer_sizes = 21   ::   0.5  ::  0.4358974358974359\n",
      "hidden_layer_sizes = 22   ::   0.6  ::  0.46153846153846156\n",
      "hidden_layer_sizes = 23   ::   0.6  ::  0.6410256410256411\n",
      "hidden_layer_sizes = 24   ::   0.4  ::  0.48717948717948717\n",
      "hidden_layer_sizes = 25   ::   0.5  ::  0.5128205128205128\n",
      "hidden_layer_sizes = 26   ::   0.6  ::  0.5128205128205128\n",
      "hidden_layer_sizes = 27   ::   0.55  ::  0.6153846153846154\n",
      "hidden_layer_sizes = 28   ::   0.5  ::  0.4358974358974359\n",
      "hidden_layer_sizes = 29   ::   0.55  ::  0.5897435897435898\n",
      "hidden_layer_sizes = 30   ::   0.55  ::  0.48717948717948717\n",
      "hidden_layer_sizes = 31   ::   0.45  ::  0.5897435897435898\n",
      "hidden_layer_sizes = 32   ::   0.45  ::  0.48717948717948717\n",
      "hidden_layer_sizes = 33   ::   0.45  ::  0.5128205128205128\n",
      "hidden_layer_sizes = 34   ::   0.55  ::  0.5897435897435898\n",
      "hidden_layer_sizes = 35   ::   0.65  ::  0.5384615384615384\n",
      "hidden_layer_sizes = 36   ::   0.5  ::  0.5128205128205128\n",
      "hidden_layer_sizes = 37   ::   0.45  ::  0.5641025641025641\n",
      "hidden_layer_sizes = 38   ::   0.5  ::  0.5641025641025641\n",
      "hidden_layer_sizes = 39   ::   0.45  ::  0.5128205128205128\n",
      "hidden_layer_sizes = 40   ::   0.8  ::  0.5384615384615384\n",
      "hidden_layer_sizes = 41   ::   0.55  ::  0.5384615384615384\n",
      "hidden_layer_sizes = 42   ::   0.5  ::  0.5897435897435898\n",
      "hidden_layer_sizes = 43   ::   0.5  ::  0.5384615384615384\n",
      "hidden_layer_sizes = 44   ::   0.55  ::  0.5897435897435898\n",
      "hidden_layer_sizes = 45   ::   0.5  ::  0.5897435897435898\n",
      "hidden_layer_sizes = 46   ::   0.55  ::  0.5384615384615384\n",
      "hidden_layer_sizes = 47   ::   0.5  ::  0.5128205128205128\n",
      "hidden_layer_sizes = 48   ::   0.4  ::  0.6410256410256411\n",
      "hidden_layer_sizes = 49   ::   0.4  ::  0.46153846153846156\n",
      "hidden_layer_sizes = 50   ::   0.6  ::  0.5897435897435898\n",
      "hidden_layer_sizes = 51   ::   0.55  ::  0.5897435897435898\n",
      "hidden_layer_sizes = 52   ::   0.55  ::  0.5384615384615384\n",
      "hidden_layer_sizes = 53   ::   0.5  ::  0.6410256410256411\n"
=======
      "hidden_layer_sizes =20  ::  0.513 :: 0.55 :: 0.466\n",
      "hidden_layer_sizes =21  ::  0.436 :: 0.7 :: 0.569\n",
      "hidden_layer_sizes =22  ::  0.41 :: 0.65 :: 0.517\n",
      "hidden_layer_sizes =23  ::  0.59 :: 0.5 :: 0.5\n",
      "hidden_layer_sizes =24  ::  0.513 :: 0.45 :: 0.466\n",
      "hidden_layer_sizes =25  ::  0.487 :: 0.55 :: 0.448\n",
      "hidden_layer_sizes =26  ::  0.41 :: 0.7 :: 0.448\n",
      "hidden_layer_sizes =27  ::  0.487 :: 0.55 :: 0.466\n",
      "hidden_layer_sizes =28  ::  0.487 :: 0.6 :: 0.5\n",
      "hidden_layer_sizes =29  ::  0.538 :: 0.65 :: 0.448\n"
>>>>>>> 7f90256751ab0e8fe43609e4b068584294930628
     ]
    }
   ],
   "source": [
    "for i, Dscore, Mscore, Ascore in zip(range(MAX), Dscores, Mscores, Ascores):\n",
    "    print(f\"hidden_layer_sizes ={i+20}  ::  {Dscore:3.3} :: {Mscore:3.3} :: {Ascore:3.3}\" )"
   ]
  },
  {
   "cell_type": "code",
<<<<<<< HEAD
   "execution_count": 11,
=======
   "execution_count": 12,
>>>>>>> 7f90256751ab0e8fe43609e4b068584294930628
   "metadata": {},
   "outputs": [
    {
     "data": {
<<<<<<< HEAD
      "image/png": "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\n",
=======
      "image/png": "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\n",
>>>>>>> 7f90256751ab0e8fe43609e4b068584294930628
      "text/plain": [
       "<Figure size 432x288 with 1 Axes>"
      ]
     },
     "metadata": {
      "needs_background": "light"
     },
     "output_type": "display_data"
    }
   ],
   "source": [
    "plt.plot(Mscores)\n",
    "plt.plot(Dscores)\n",
    "plt.show()"
   ]
  },
  {
   "cell_type": "code",
<<<<<<< HEAD
   "execution_count": 12,
=======
   "execution_count": 13,
>>>>>>> 7f90256751ab0e8fe43609e4b068584294930628
   "metadata": {},
   "outputs": [
    {
     "name": "stdout",
     "output_type": "stream",
     "text": [
<<<<<<< HEAD
      "hidden_layer_sizes = 1   ::   0.25  ::  0.1282051282051282\n",
      "hidden_layer_sizes = 2   ::   0.35  ::  0.2564102564102564\n",
      "hidden_layer_sizes = 3   ::   0.3  ::  0.20512820512820512\n",
      "hidden_layer_sizes = 4   ::   0.3  ::  0.48717948717948717\n",
      "hidden_layer_sizes = 5   ::   0.5  ::  0.3333333333333333\n",
      "hidden_layer_sizes = 6   ::   0.6  ::  0.5128205128205128\n",
      "hidden_layer_sizes = 7   ::   0.55  ::  0.4358974358974359\n",
      "hidden_layer_sizes = 8   ::   0.5  ::  0.5128205128205128\n",
      "hidden_layer_sizes = 9   ::   0.5  ::  0.46153846153846156\n",
      "hidden_layer_sizes = 10   ::   0.55  ::  0.5128205128205128\n",
      "hidden_layer_sizes = 11   ::   0.5  ::  0.5641025641025641\n",
      "hidden_layer_sizes = 12   ::   0.5  ::  0.4358974358974359\n",
      "hidden_layer_sizes = 13   ::   0.6  ::  0.46153846153846156\n",
      "hidden_layer_sizes = 14   ::   0.6  ::  0.6410256410256411\n",
      "hidden_layer_sizes = 15   ::   0.4  ::  0.48717948717948717\n",
      "hidden_layer_sizes = 16   ::   0.5  ::  0.5128205128205128\n",
      "hidden_layer_sizes = 17   ::   0.6  ::  0.5128205128205128\n",
      "hidden_layer_sizes = 18   ::   0.55  ::  0.6153846153846154\n",
      "hidden_layer_sizes = 19   ::   0.5  ::  0.4358974358974359\n",
      "hidden_layer_sizes = 20   ::   0.55  ::  0.5897435897435898\n",
      "hidden_layer_sizes = 21   ::   0.55  ::  0.48717948717948717\n",
      "hidden_layer_sizes = 22   ::   0.45  ::  0.5897435897435898\n",
      "hidden_layer_sizes = 23   ::   0.45  ::  0.48717948717948717\n",
      "hidden_layer_sizes = 24   ::   0.45  ::  0.5128205128205128\n",
      "hidden_layer_sizes = 25   ::   0.55  ::  0.5897435897435898\n",
      "hidden_layer_sizes = 26   ::   0.65  ::  0.5384615384615384\n",
      "hidden_layer_sizes = 27   ::   0.5  ::  0.5128205128205128\n",
      "hidden_layer_sizes = 28   ::   0.45  ::  0.5641025641025641\n",
      "hidden_layer_sizes = 29   ::   0.5  ::  0.5641025641025641\n",
      "hidden_layer_sizes = 30   ::   0.45  ::  0.5128205128205128\n",
      "hidden_layer_sizes = 31   ::   0.8  ::  0.5384615384615384\n",
      "hidden_layer_sizes = 32   ::   0.55  ::  0.5384615384615384\n",
      "hidden_layer_sizes = 33   ::   0.5  ::  0.5897435897435898\n",
      "hidden_layer_sizes = 34   ::   0.5  ::  0.5384615384615384\n",
      "hidden_layer_sizes = 35   ::   0.55  ::  0.5897435897435898\n",
      "hidden_layer_sizes = 36   ::   0.5  ::  0.5897435897435898\n",
      "hidden_layer_sizes = 37   ::   0.55  ::  0.5384615384615384\n",
      "hidden_layer_sizes = 38   ::   0.5  ::  0.5128205128205128\n",
      "hidden_layer_sizes = 39   ::   0.4  ::  0.6410256410256411\n",
      "hidden_layer_sizes = 40   ::   0.4  ::  0.46153846153846156\n",
      "hidden_layer_sizes = 41   ::   0.6  ::  0.5897435897435898\n",
      "hidden_layer_sizes = 42   ::   0.55  ::  0.5897435897435898\n",
      "hidden_layer_sizes = 43   ::   0.55  ::  0.5384615384615384\n",
      "hidden_layer_sizes = 44   ::   0.5  ::  0.6410256410256411\n"
=======
      "hidden_layer_sizes = 1   ::   0.55  ::  0.5128205128205128\n",
      "hidden_layer_sizes = 2   ::   0.7  ::  0.4358974358974359\n",
      "hidden_layer_sizes = 3   ::   0.65  ::  0.41025641025641024\n",
      "hidden_layer_sizes = 4   ::   0.5  ::  0.5897435897435898\n",
      "hidden_layer_sizes = 5   ::   0.45  ::  0.5128205128205128\n",
      "hidden_layer_sizes = 6   ::   0.55  ::  0.48717948717948717\n",
      "hidden_layer_sizes = 7   ::   0.7  ::  0.41025641025641024\n",
      "hidden_layer_sizes = 8   ::   0.55  ::  0.48717948717948717\n",
      "hidden_layer_sizes = 9   ::   0.6  ::  0.48717948717948717\n",
      "hidden_layer_sizes = 10   ::   0.65  ::  0.5384615384615384\n"
>>>>>>> 7f90256751ab0e8fe43609e4b068584294930628
     ]
    }
   ],
   "source": [
    "for i, Dscore, Mscore in zip(range(MAX), Dscores, Mscores):\n",
    "    print(\"hidden_layer_sizes =\", i+1, '  ::  ', Mscore, ' :: ', Dscore )"
   ]
  },
  {
   "cell_type": "markdown",
   "metadata": {},
   "source": [
    "Clearly `hidden_layer_sizes=16` is the most accurate value.\n",
    "\n",
    "Using this value, I will conduct accuracy testing with all of the data"
   ]
  },
  {
   "cell_type": "code",
<<<<<<< HEAD
   "execution_count": 13,
=======
   "execution_count": 14,
>>>>>>> 7f90256751ab0e8fe43609e4b068584294930628
   "metadata": {},
   "outputs": [],
   "source": [
    "data_portion = 19\n",
    "Dtrain_X3 = np.array(df_digi[df_digi.index%data_portion != 0][Dfeatures])\n",
    "Dtrain_y3 = df_digi[df_digi.index%data_portion != 0][\"class\"]\n",
    "Dtest_X3 = np.array(df_digi[df_digi.index%data_portion == 0][Dfeatures])\n",
    "Dtest_y3 = df_digi[df_digi.index%data_portion == 0][\"class\"]\n",
    "\n",
    "Mtrain_X3 = np.array(df_math[df_math.index%data_portion != 0][Mfeatures])\n",
    "Mtrain_y3 = df_math[df_math.index%data_portion != 0][\"class\"]\n",
    "Mtest_X3 = np.array(df_math[df_math.index%data_portion == 0][Mfeatures])\n",
    "Mtest_y3 = df_math[df_math.index%data_portion == 0][\"class\"]\n",
    "\n",
    "Atrain_X3 = np.array(df_all[df_all.index%data_portion != 0][Afeatures])\n",
    "Atrain_y3 = df_all[df_all.index%data_portion != 0][\"class\"]\n",
    "Atest_X3 = np.array(df_all[df_all.index%data_portion == 0][Afeatures])\n",
    "Atest_y3 = df_all[df_all.index%data_portion == 0][\"class\"]\n",
    "\n",
    "\n",
    "# sc = preprocessing.StandardScaler()\n",
    "# Dtrain_X3 = sc.fit_transform(Dtrain_X3)\n",
    "# Dtest_X3 = sc.fit_transform(Dtest_X3)\n",
    "# Mtrain_X3 = sc.fit_transform(Mtrain_X3)\n",
    "# Mtest_X3 = sc.fit_transform(Mtest_X3)\n"
   ]
  },
  {
   "cell_type": "code",
<<<<<<< HEAD
   "execution_count": 14,
=======
   "execution_count": 15,
>>>>>>> 7f90256751ab0e8fe43609e4b068584294930628
   "metadata": {},
   "outputs": [
    {
     "name": "stdout",
     "output_type": "stream",
     "text": [
      "fitting...\n",
      "scoring...\n",
<<<<<<< HEAD
      "Digits scored: 0.9412350597609562\n",
      "fitting...\n",
      "scoring...\n",
      "Math scored: 0.9860557768924303\n"
=======
      "Digits scored: 0.951195219123506\n",
      "fitting...\n",
      "scoring...\n",
      "Math scored: 0.9820717131474104\n",
      "fitting...\n",
      "scoring...\n",
      "All scored: 0.9408637873754153\n"
>>>>>>> 7f90256751ab0e8fe43609e4b068584294930628
     ]
    }
   ],
   "source": [
    "clf_digi = neural_network.MLPClassifier(hidden_layer_sizes=(39),max_iter=8000, random_state=42)\n",
    "print(\"fitting...\")\n",
    "clf_digi.fit(Dtrain_X3, Dtrain_y3)\n",
    "print(\"scoring...\")\n",
    "print(\"Digits scored:\", clf_digi.score(Dtest_X3, Dtest_y3))\n",
    "\n",
    "clf_math = neural_network.MLPClassifier(hidden_layer_sizes=(39),max_iter=8000, random_state=42)\n",
    "print(\"fitting...\")\n",
    "clf_math.fit(Mtrain_X3, Mtrain_y3)\n",
    "print(\"scoring...\")\n",
    "print(\"Math scored:\", clf_math.score(Mtest_X3, Mtest_y3))\n",
    "\n",
    "clf_all = neural_network.MLPClassifier(hidden_layer_sizes=(39),max_iter=8000, random_state=42)\n",
    "print(\"fitting...\")\n",
    "clf_all.fit(Atrain_X3, Atrain_y3)\n",
    "print(\"scoring...\")\n",
    "print(\"All scored:\", clf_all.score(Atest_X3, Atest_y3))"
   ]
  },
  {
   "cell_type": "code",
<<<<<<< HEAD
   "execution_count": 15,
=======
   "execution_count": 16,
>>>>>>> 7f90256751ab0e8fe43609e4b068584294930628
   "metadata": {},
   "outputs": [],
   "source": [
    "import pickle\n",
    "with open('clf_digi.pk', 'wb') as fout:\n",
    "    pickle.dump(clf_digi, fout)\n",
    "with open('clf_math.pk', 'wb') as fout:\n",
    "    pickle.dump(clf_math, fout)\n",
    "with open('clf_all.pk', 'wb') as fout:\n",
    "    pickle.dump(clf_all, fout)"
   ]
  },
  {
   "cell_type": "code",
<<<<<<< HEAD
   "execution_count": 16,
=======
   "execution_count": 17,
>>>>>>> 7f90256751ab0e8fe43609e4b068584294930628
   "metadata": {},
   "outputs": [
    {
     "name": "stdout",
     "output_type": "stream",
     "text": [
<<<<<<< HEAD
      "0.9412350597609562\n",
      "0.9860557768924303\n"
=======
      "0.951195219123506\n",
      "0.9820717131474104\n",
      "0.9408637873754153\n"
>>>>>>> 7f90256751ab0e8fe43609e4b068584294930628
     ]
    }
   ],
   "source": [
    "clf_digi2 = 10\n",
    "clf_math2 = 10\n",
    "clf_all2 = 10\n",
    "with open('clf_digi.pk', 'rb') as fin:\n",
    "    clf_digi2 = pickle.load(fin)\n",
    "with open('clf_math.pk', 'rb') as fin:\n",
    "    clf_math2 = pickle.load(fin)\n",
    "with open('clf_all.pk', 'rb') as fin:\n",
    "    clf_all2 = pickle.load(fin)  \n",
    "    \n",
    "print(clf_digi2.score(Dtest_X3, Dtest_y3))\n",
    "print(clf_math2.score(Mtest_X3, Mtest_y3))\n",
    "print(clf_all2.score(Atest_X3, Atest_y3))"
   ]
  },
  {
   "cell_type": "markdown",
   "metadata": {},
   "source": [
    "### Testing time"
   ]
  },
  {
   "cell_type": "code",
   "execution_count": 82,
   "metadata": {},
   "outputs": [],
   "source": [
    "# functions for testing\n",
    "def compress_array(A, initx, inity, endx, endy):\n",
    "    arr = (A.reshape(initx,inity)).astype('uint8') # sample array\n",
    "    im = Image.fromarray(arr) # monochromatic image\n",
    "    im = im.resize((endx,endy))\n",
    "    return np.array(im)\n",
    "\n",
    "def testImg(arr):\n",
    "    initx = int(np.sqrt(len(arr)))\n",
    "    inity = initx\n",
    "\n",
    "    arrM = compress_array(arr, initx, inity, 45, 45).reshape(1,-1)\n",
    "    arrD = compress_array(arr, initx, inity, 28, 28).reshape(1,-1)\n",
    "\n",
    "    probM = clf_math.predict_proba(arrM)[0]\n",
    "    probD = clf_digi.predict_proba(arrD)[0]\n",
    "    probA = clf_all.predict_proba(arrD)[0]\n",
    "\n",
    "    print(\"Math: ------------------------------\")\n",
    "    plt.imshow(arrM.reshape(45,45), cmap=plt.cm.binary)\n",
    "    plt.title(clf_math.predict(arrM)[0])\n",
    "    plt.show()\n",
    "    for p, c in sorted(zip(probM, clf_math.classes_)):\n",
    "        print(c, \"  ::  \", p)\n",
    "\n",
    "    print(\"\\nDigit: ---------------------------\")\n",
    "    plt.imshow(arrD.reshape(28,28), cmap=plt.cm.binary)\n",
    "    plt.title(clf_digi.predict(arrD)[0])\n",
    "    plt.show()\n",
    "    for p, c in sorted(zip(probD, clf_digi.classes_)):\n",
    "        print(c, \"  ::  \", p)\n",
    "\n",
    "    print(\"\\nAll: ------------------------------\")\n",
    "    plt.imshow(arrD.reshape(28,28), cmap=plt.cm.binary)\n",
    "    plt.title(clf_all.predict(arrD)[0])\n",
    "    plt.show()\n",
    "    for p, c in sorted(zip(probA, clf_all.classes_)):\n",
    "        print(c, \"  ::  \", p)"
   ]
  },
  {
   "cell_type": "code",
   "execution_count": 87,
   "metadata": {},
   "outputs": [],
   "source": [
    "# Functions for finding combined classification\n",
    "def predict_as_dictionary(clf, arr, num):\n",
    "    initx = int(np.sqrt(len(arr)))\n",
    "    inity = initx\n",
    "    arr2 = compress_array(arr, initx, inity, num, num).reshape(1,-1)\n",
    "    return dict(zip(clf.classes_, clf.predict_proba(arr2)[0]))\n",
    "def classify(arr):\n",
    "    probM = predict_as_dictionary(clf_math, arr, 45)\n",
    "    probD = predict_as_dictionary(clf_digi, arr, 28)\n",
    "    probAll = predict_as_dictionary(clf_all, arr, 28)\n",
    "    \n",
    "    prob_M_D = {**probM, **probD}\n",
    "    \n",
    "    prob_true = {}\n",
    "    for symbol in math_symbols+digit_symbols:\n",
    "        prob_true[symbol] = probAll[symbol]*prob_M_D[symbol]\n",
    "\n",
    "    print(\"\\n\\nCombined prediction ------------------------------------------\")\n",
    "    for i in sorted(zip(prob_true.values(), prob_true)):\n",
    "        print(i)"
   ]
  },
  {
   "cell_type": "code",
   "execution_count": 89,
   "metadata": {},
   "outputs": [
    {
     "name": "stdout",
     "output_type": "stream",
     "text": [
      "Math: ------------------------------\n"
     ]
    },
    {
     "data": {
      "image/png": "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\n",
      "text/plain": [
       "<Figure size 432x288 with 1 Axes>"
      ]
     },
     "metadata": {
      "needs_background": "light"
     },
     "output_type": "display_data"
    },
    {
     "name": "stdout",
     "output_type": "stream",
     "text": [
      "-   ::   1.0518185692350958e-11\n",
      ")   ::   4.637835999579887e-07\n",
      "(   ::   3.0919728384470506e-06\n",
      "+   ::   4.381739937307768e-06\n",
      ",   ::   0.999992062493106\n",
      "\n",
      "Digit: ---------------------------\n"
     ]
    },
    {
     "data": {
      "image/png": "iVBORw0KGgoAAAANSUhEUgAAAPsAAAEICAYAAACZA4KlAAAABHNCSVQICAgIfAhkiAAAAAlwSFlzAAALEgAACxIB0t1+/AAAADh0RVh0U29mdHdhcmUAbWF0cGxvdGxpYiB2ZXJzaW9uMy4xLjEsIGh0dHA6Ly9tYXRwbG90bGliLm9yZy8QZhcZAAALGklEQVR4nO3dX4il9X3H8fenrqGggWp3lMVINw2SVgrZhMEWLGIJpuqN5qIlUsIWhM2FQgK5qKQX9aJQKU1CaUtgUyXbkhoKiShU0siSIiklOIrRNdtEI9tm47I7ixfRi2I1317MY5msMzvjOc+Z57Tf9wsO55znPDPPl8O+9/zd/aWqkPT/3y9MPYCkvWHsUhPGLjVh7FITxi41YexSE8YuNWHs2lKSf0nyX0leH04/mHomzcfYdTH3VtXlw+mDUw+j+Ri71ISx62L+LMn5JP+a5Oaph9F84nfjtZUkvwl8H3gD+ATw18ChqvrRpINpZsauXUnyTeCfquqvpp5Fs/FpvHargEw9hGZn7HqHJL+U5HeT/GKSfUn+ALgJ+OepZ9Ps9k09gJbSpcCfAr8GvAX8O3BnVflZ+/9hvmaXmvBpvNSEsUtNGLvUhLFLTezpu/H79++vgwcP7uUhpVZOnTrF+fPnt/w+xFyxJ7kV+EvgEuBvq+qBi+1/8OBB1tbW5jmkpItYXV3d9raZn8YnuQT4G+A24HrgriTXz/r7JC3WPK/ZbwBeqqqXq+oN4GvAHeOMJWls88R+DfDjTddPD9t+TpIjSdaSrK2vr89xOEnzmCf2rd4EeMfX8arqaFWtVtXqysrKHIeTNI95Yj8NXLvp+vuAV+YbR9KizBP7U8B1Sd6f5D1s/AcHj40zlqSxzfzRW1W9meReNv7Z4yXAQ1X1wmiTSRrVXJ+zV9XjwOMjzSJpgfy6rNSEsUtNGLvUhLFLTRi71ISxS00Yu9SEsUtNGLvUhLFLTRi71ISxS00Yu9SEsUtNGLvUhLFLTRi71ISxS00Yu9SEsUtNGLvUhLFLTRi71ISxS00Yu9SEsUtNGLvUhLFLTRi71ISxS03MtWRzklPAa8BbwJtVtTrGUJLGN1fsg9+pqvMj/B5JC+TTeKmJeWMv4FtJnk5yZKsdkhxJspZkbX19fc7DSZrVvLHfWFUfAW4D7kly04U7VNXRqlqtqtWVlZU5DydpVnPFXlWvDOfngEeAG8YYStL4Zo49yWVJ3vv2ZeBjwImxBpM0rnnejb8aeCTJ27/nH6rqm6NMJWl0M8deVS8DHxpxFkkL5EdvUhPGLjVh7FITxi41YexSE8YuNWHsUhPGLjVh7FITxi41YexSE8YuNWHsUhPGLjVh7FITxi41YexSE8YuNWHsUhPGLjVh7FITxi41YexSE8YuNWHsUhPGLjVh7FITxi41YexSE8YuNbFj7EkeSnIuyYlN265M8kSSF4fzKxY7pqR57eaR/SvArRdsuw84XlXXAceH65KW2I6xV9WTwKsXbL4DODZcPgbcOfJckkY262v2q6vqDMBwftV2OyY5kmQtydr6+vqMh5M0r4W/QVdVR6tqtapWV1ZWFn04SduYNfazSQ4ADOfnxhtJ0iLMGvtjwOHh8mHg0XHGkbQou/no7WHg34APJjmd5G7gAeCWJC8CtwzXJS2xfTvtUFV3bXPTR0eeRdIC+Q06qQljl5owdqkJY5eaMHapCWOXmjB2qQljl5owdqkJY5eaMHapCWOXmjB2qQljl5owdqkJY5eaMHapCWOXmjB2qQljl5owdqkJY5eaMHapCWOXmjB2qQljl5owdqkJY5eaMHapCWOXmtjN+uwPJTmX5MSmbfcn+UmSZ4fT7YsdU9K8dvPI/hXg1i22f7GqDg2nx8cdS9LYdoy9qp4EXt2DWSQt0Dyv2e9N8tzwNP+K7XZKciTJWpK19fX1OQ4naR6zxv4l4APAIeAM8Pntdqyqo1W1WlWrKysrMx5O0rxmir2qzlbVW1X1M+DLwA3jjiVpbDPFnuTApqsfB05st6+k5bBvpx2SPAzcDOxPchr4E+DmJIeAAk4Bn1rgjJJGsGPsVXXXFpsfXMAskhbIb9BJTRi71ISxS00Yu9SEsUtNGLvUhLFLTRi71ISxS00Yu9SEsUtNGLvUhLFLTRi71ISxS00Yu9SEsUtNGLvUhLFLTRi71ISxS00Yu9SEsUtNGLvUhLFLTRi71ISxS00Yu9SEsUtN7Bh7kmuTfDvJySQvJPn0sP3KJE8keXE4v2Lx40qa1W4e2d8EPltVvw78FnBPkuuB+4DjVXUdcHy4LmlJ7Rh7VZ2pqmeGy68BJ4FrgDuAY8Nux4A7FzWkpPm9q9fsSQ4CHwa+C1xdVWdg4y8E4Kqxh5M0nl3HnuRy4OvAZ6rqp+/i544kWUuytr6+PsuMkkawq9iTXMpG6F+tqm8Mm88mOTDcfgA4t9XPVtXRqlqtqtWVlZUxZpY0g928Gx/gQeBkVX1h002PAYeHy4eBR8cfT9JY9u1inxuBTwLPJ3l22PY54AHgH5PcDfwn8HuLGVHSGHaMvaq+A2Sbmz867jiSFsVv0ElNGLvUhLFLTRi71ISxS00Yu9SEsUtNGLvUhLFLTRi71ISxS00Yu9SEsUtNGLvUhLFLTRi71ISxS00Yu9SEsUtNGLvUhLFLTRi71ISxS00Yu9SEsUtNGLvUhLFLTRi71ISxS00Yu9TEjrEnuTbJt5OcTPJCkk8P2+9P8pMkzw6n2xc/rqRZ7bg+O/Am8NmqeibJe4Gnkzwx3PbFqvqLxY0naSw7xl5VZ4Azw+XXkpwErln0YJLG9a5esyc5CHwY+O6w6d4kzyV5KMkV2/zMkSRrSdbW19fnGlbS7HYde5LLga8Dn6mqnwJfAj4AHGLjkf/zW/1cVR2tqtWqWl1ZWRlhZEmz2FXsSS5lI/SvVtU3AKrqbFW9VVU/A74M3LC4MSXNazfvxgd4EDhZVV/YtP3Apt0+DpwYfzxJY9nNu/E3Ap8Enk/y7LDtc8BdSQ4BBZwCPrWQCSWNYjfvxn8HyBY3PT7+OJIWxW/QSU0Yu9SEsUtNGLvUhLFLTRi71ISxS00Yu9SEsUtNGLvUhLFLTRi71ISxS00Yu9REqmrvDpasA/+xadN+4PyeDfDuLOtsyzoXONusxpztV6pqy///bU9jf8fBk7WqWp1sgItY1tmWdS5wtlnt1Ww+jZeaMHapialjPzrx8S9mWWdb1rnA2Wa1J7NN+ppd0t6Z+pFd0h4xdqmJSWJPcmuSHyR5Kcl9U8ywnSSnkjw/LEO9NvEsDyU5l+TEpm1XJnkiyYvD+ZZr7E0021Is432RZcYnve+mXv58z1+zJ7kE+CFwC3AaeAq4q6q+v6eDbCPJKWC1qib/AkaSm4DXgb+rqt8Ytv058GpVPTD8RXlFVf3Rksx2P/D61Mt4D6sVHdi8zDhwJ/CHTHjfXWSu32cP7rcpHtlvAF6qqper6g3ga8AdE8yx9KrqSeDVCzbfARwbLh9j4w/LnttmtqVQVWeq6pnh8mvA28uMT3rfXWSuPTFF7NcAP950/TTLtd57Ad9K8nSSI1MPs4Wrq+oMbPzhAa6aeJ4L7biM9166YJnxpbnvZln+fF5TxL7VUlLL9PnfjVX1EeA24J7h6ap2Z1fLeO+VLZYZXwqzLn8+ryliPw1cu+n6+4BXJphjS1X1ynB+DniE5VuK+uzbK+gO5+cmnud/LdMy3lstM84S3HdTLn8+RexPAdcleX+S9wCfAB6bYI53SHLZ8MYJSS4DPsbyLUX9GHB4uHwYeHTCWX7Osizjvd0y40x8302+/HlV7fkJuJ2Nd+R/BPzxFDNsM9evAt8bTi9MPRvwMBtP6/6bjWdEdwO/DBwHXhzOr1yi2f4eeB54jo2wDkw022+z8dLwOeDZ4XT71PfdRebak/vNr8tKTfgNOqkJY5eaMHapCWOXmjB2qQljl5owdqmJ/wGKC3JnPE/ZPQAAAABJRU5ErkJggg==\n",
      "text/plain": [
       "<Figure size 432x288 with 1 Axes>"
      ]
     },
     "metadata": {
      "needs_background": "light"
     },
     "output_type": "display_data"
    },
    {
     "name": "stdout",
     "output_type": "stream",
     "text": [
      "0   ::   0.061222929912726584\n",
      "9   ::   0.06616381768399081\n",
      "6   ::   0.080582482052169\n",
      "7   ::   0.09588508850810859\n",
      "2   ::   0.10419976216517278\n",
      "3   ::   0.10519176652603686\n",
      "8   ::   0.10736411224516709\n",
      "4   ::   0.11638733634419388\n",
      "1   ::   0.12010799317494093\n",
      "5   ::   0.1428947113874935\n",
      "\n",
      "All: ------------------------------\n"
     ]
    },
    {
     "data": {
      "image/png": "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\n",
      "text/plain": [
       "<Figure size 432x288 with 1 Axes>"
      ]
     },
     "metadata": {
      "needs_background": "light"
     },
     "output_type": "display_data"
    },
    {
     "name": "stdout",
     "output_type": "stream",
     "text": [
      "5   ::   3.63239176996361e-05\n",
      "0   ::   4.524963120586473e-05\n",
      ")   ::   4.681299223020507e-05\n",
      "9   ::   5.426159310407193e-05\n",
      "3   ::   6.569889298994256e-05\n",
      "1   ::   6.977650004856624e-05\n",
      "6   ::   8.522639970537478e-05\n",
      "8   ::   0.00022914498486136913\n",
      "7   ::   0.00023012243111571092\n",
      "2   ::   0.0003419741077721281\n",
      "(   ::   0.00044644111952751777\n",
      "4   ::   0.0005225571940885115\n",
      "+   ::   0.004531187017102135\n",
      ",   ::   0.23844934325036038\n",
      "-   ::   0.7548458799681887\n",
      "\n",
      "\n",
      "Combined prediction ------------------------------------------\n",
      "(7.939609134611472e-12, '-')\n",
      "(2.171109806132986e-11, ')')\n",
      "(1.380383815544978e-09, '(')\n",
      "(1.985448311624688e-08, '+')\n",
      "(2.770314999893382e-06, '0')\n",
      "(3.5901541533807082e-06, '9')\n",
      "(5.190495736152567e-06, '5')\n",
      "(6.867754824629345e-06, '6')\n",
      "(6.910982612417118e-06, '3')\n",
      "(8.38071539160446e-06, '1')\n",
      "(2.2065309675231065e-05, '7')\n",
      "(2.460194787507315e-05, '8')\n",
      "(3.563362069650291e-05, '2')\n",
      "(6.081903990745779e-05, '4')\n",
      "(0.23844745055705446, ',')\n"
     ]
    }
   ],
   "source": [
    "# Getting test data\n",
    "num = 390\n",
    "arr = Mtest_X3[num]\n",
    "\n",
    "# Printing preliminary classifications\n",
    "testImg(arr)\n",
    "\n",
    "# Getting combined scores\n",
    "classify(arr)"
   ]
  }
 ],
 "metadata": {
  "kernelspec": {
   "display_name": "Python 3",
   "language": "python",
   "name": "python3"
  },
  "language_info": {
   "codemirror_mode": {
    "name": "ipython",
    "version": 3
   },
   "file_extension": ".py",
   "mimetype": "text/x-python",
   "name": "python",
   "nbconvert_exporter": "python",
   "pygments_lexer": "ipython3",
   "version": "3.7.6"
  }
 },
 "nbformat": 4,
 "nbformat_minor": 4
}
