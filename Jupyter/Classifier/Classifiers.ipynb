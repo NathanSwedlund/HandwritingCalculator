{
 "cells": [
  {
   "cell_type": "markdown",
   "metadata": {},
   "source": [
    "# Classifiers"
   ]
  },
  {
   "cell_type": "markdown",
   "metadata": {},
   "source": [
    "## Importing libraries/data"
   ]
  },
  {
   "cell_type": "markdown",
   "metadata": {},
   "source": [
    "### Importing Libraries"
   ]
  },
  {
   "cell_type": "code",
   "execution_count": 1,
   "metadata": {},
   "outputs": [],
   "source": [
    "# For general use\n",
    "import matplotlib.pyplot as plt\n",
    "import numpy as np\n",
    "import pandas as pd\n",
    "\n",
    "# For our classifiers\n",
    "from sklearn import neighbors\n",
    "from sklearn import naive_bayes\n",
    "from sklearn import tree\n",
    "from sklearn import neural_network\n",
    "from sklearn import preprocessing\n",
    "\n",
    "# For confusion matrix/data importing\n",
    "from sklearn import metrics  \n",
    "from sklearn.datasets import load_digits \n",
    "\n",
    "from os import listdir\n",
    "from os.path import isfile, join\n",
    "\n",
    "from PIL import Image\n",
    "\n",
    "import pickle"
   ]
  },
  {
   "cell_type": "markdown",
   "metadata": {},
   "source": [
    "---\n",
    "## Reading in Test Data\n",
    "In this section of the notebook we read in all the images and convert them to a form that is acceptable by the classifier. To accomplish this, we must first get a list of file paths in our testing directories. After this, we will read in those images, and convert them to a classifier-acceptable numerical form."
   ]
  },
  {
   "cell_type": "markdown",
   "metadata": {},
   "source": [
    "### Getting list of Image Paths\n",
    "Using `listdir`, `isfile`, and `join` from the `os`, we are able to get the paths of all our testing images as a list of strings. To avoid system files we remove any non-png files from the list."
   ]
  },
  {
   "cell_type": "code",
   "execution_count": 2,
   "metadata": {},
   "outputs": [],
   "source": [
    "symbols = [str(x) for x in range(10)]+[\"+\", \"-\", \"(\", \")\", \",\"]\n",
    "\n",
    "file_lists = {}\n",
    "for symbol in symbols:\n",
    "    mypath =  \"img/training/\"+symbol\n",
    "    file_lists[symbol] =  [mypath+\"b/\"+f for f in listdir(mypath+\"b\") if isfile(join(mypath+\"b\", f))]\n",
    "    file_lists[symbol] += [mypath+\"n/\"+f for f in listdir(mypath+\"n\") if isfile(join(mypath+\"n\", f))]\n",
    "\n",
    "    # Removing all non-png files\n",
    "    for file in file_lists[symbol]:\n",
    "        if(file[-4:] != \".png\"):\n",
    "            file_lists[symbol].remove(file)"
   ]
  },
  {
   "cell_type": "markdown",
   "metadata": {},
   "source": [
    "### Loading in Images\n",
    "Using the paths we just collected and PIL, we can load all of our test images"
   ]
  },
  {
   "cell_type": "code",
   "execution_count": 3,
   "metadata": {},
   "outputs": [],
   "source": [
    "image_dict = {}\n",
    "for symbol in symbols:\n",
    "    image_dict[symbol] = []\n",
    "    for file in file_lists[symbol]:\n",
    "        image = Image.open(file)\n",
    "        # Scaling image down\n",
    "        image_dict[symbol].append(image.resize((45, 45)))"
   ]
  },
  {
   "cell_type": "markdown",
   "metadata": {},
   "source": [
    "### Converting Each Image into an array"
   ]
  },
  {
   "cell_type": "code",
   "execution_count": 4,
   "metadata": {},
   "outputs": [],
   "source": [
    "images_mono = {}\n",
    "# Turning images into numerical values representing\n",
    "#  brightness of each pixel\n",
    "for symbol in symbols:\n",
    "    images_mono[symbol] = []\n",
    "    for i in image_dict[symbol]:\n",
    "        images_mono[symbol].append(np.asarray( i, dtype=\"int32\" ))"
   ]
  },
  {
   "cell_type": "markdown",
   "metadata": {},
   "source": [
    "### Reshaping those arrays"
   ]
  },
  {
   "cell_type": "code",
   "execution_count": 5,
   "metadata": {},
   "outputs": [],
   "source": [
    "images_shaped = images_mono.copy()\n",
    "\n",
    "for symbol in symbols:\n",
    "    for image in range(len(images_shaped[symbol])):\n",
    "        images_shaped[symbol][image] = images_shaped[symbol][image].reshape(-1, 45**2)"
   ]
  },
  {
   "cell_type": "markdown",
   "metadata": {},
   "source": [
    "### Combining data "
   ]
  },
  {
   "cell_type": "code",
   "execution_count": 6,
   "metadata": {},
   "outputs": [
    {
     "name": "stdout",
     "output_type": "stream",
     "text": [
      "Symbol: 0\n",
      "Creating DF\n",
      "Symbol: 1\n",
      "Creating DF\n",
      "Symbol: 2\n",
      "Creating DF\n",
      "Symbol: 3\n",
      "Creating DF\n",
      "Symbol: 4\n",
      "Creating DF\n",
      "Symbol: 5\n",
      "Creating DF\n",
      "Symbol: 6\n",
      "Creating DF\n",
      "Symbol: 7\n",
      "Creating DF\n",
      "Symbol: 8\n",
      "Creating DF\n",
      "Symbol: 9\n",
      "Creating DF\n",
      "Symbol: +\n",
      "Creating DF\n",
      "Symbol: -\n",
      "Creating DF\n",
      "Symbol: (\n",
      "Creating DF\n",
      "Symbol: )\n",
      "Creating DF\n",
      "Symbol: ,\n",
      "Creating DF\n",
      "Done.\n"
     ]
    }
   ],
   "source": [
    "dfs = []\n",
    "for symbol in symbols:\n",
    "    print(\"Symbol: \"+symbol)\n",
    "    print(\"Creating DF\")\n",
    "    temp = pd.DataFrame([images_shaped[symbol][i][0] for i in range(len(images_shaped[symbol]))])\n",
    "    temp[\"class\"] = symbol\n",
    "    dfs.append(temp)\n",
    "    \n",
    "df = pd.concat(dfs)\n",
    "\n",
    "\n",
    "print(\"Done.\")"
   ]
  },
  {
   "cell_type": "markdown",
   "metadata": {},
   "source": [
    "## Test Train Split"
   ]
  },
  {
   "cell_type": "code",
   "execution_count": 7,
   "metadata": {},
   "outputs": [],
   "source": [
    "features = [x for x in df]\n",
    "features.remove(\"class\")\n",
    "\n",
    "train = df[df.index%2 == 0]\n",
    "test = df[df.index%2 != 0]\n",
    "\n",
    "train_X = np.array(train[features].values)\n",
    "train_y = train[\"class\"].values\n",
    "\n",
    "test_X = np.array(test[features].values)\n",
    "test_y = test[\"class\"].values\n",
    "\n",
    "all_X = np.array(df[features].values)\n",
    "all_y = df[\"class\"]"
   ]
  },
  {
   "cell_type": "markdown",
   "metadata": {},
   "source": [
    "### Making a scaled copy of the data\n",
    "Since our calssifiers were trained on scaled data, we will need to make a copy of our data that we will scale. This will allow us to test both our non-scaled trained and scaled trained classifiers at the same time"
   ]
  },
  {
   "cell_type": "code",
   "execution_count": 8,
   "metadata": {},
   "outputs": [],
   "source": [
    "# Getting scaled copy of data\n",
    "sc = preprocessing.StandardScaler()\n",
    "sc_train_X = sc.fit_transform(train_X)\n",
    "sc_test_X  = sc.fit_transform(test_X)\n",
    "sc_all_X   = sc.fit_transform(all_X)"
   ]
  },
  {
   "cell_type": "markdown",
   "metadata": {},
   "source": [
    "## Training classifiers\n"
   ]
  },
  {
   "cell_type": "markdown",
   "metadata": {},
   "source": [
    "### Collecting accuracy vs data for classifiers"
   ]
  },
  {
   "cell_type": "code",
   "execution_count": 9,
   "metadata": {},
   "outputs": [
    {
     "name": "stdout",
     "output_type": "stream",
     "text": [
      "Neighbors = 1\n",
      "Neighbors = 3\n",
      "Neighbors = 5\n",
      "Neighbors = 7\n",
      "Neighbors = 9\n",
      "fitting and scoring hidden_layer_sizes=1...\n",
      "fitting and scoring hidden_layer_sizes=6...\n",
      "fitting and scoring hidden_layer_sizes=11...\n",
      "fitting and scoring hidden_layer_sizes=16...\n",
      "fitting and scoring hidden_layer_sizes=21...\n",
      "fitting and scoring hidden_layer_sizes=26...\n",
      "fitting and scoring hidden_layer_sizes=31...\n",
      "fitting and scoring hidden_layer_sizes=36...\n"
     ]
    }
   ],
   "source": [
    "# Collecting scores for KNeighbors,\n",
    "KN_scores = []\n",
    "sc_KN_scores = []\n",
    "for i in range(1, 10, 2):\n",
    "    print(\"Neighbors =\",i)\n",
    "    clf_KN = neighbors.KNeighborsClassifier(n_neighbors=i)\n",
    "    clf_KN.fit(train_X, train_y)\n",
    "    KN_scores.append(clf_KN.score(test_X, test_y))\n",
    "    clf_KN.fit(sc_train_X, train_y)\n",
    "    sc_KN_scores.append(clf_KN.score(sc_test_X, test_y))\n",
    "    \n",
    "# Decision tree,\n",
    "DT_scores = []\n",
    "for i in range(1, 30):\n",
    "    clf_DT = tree.DecisionTreeClassifier(max_depth=i, random_state=42)\n",
    "    clf_DT.fit(train_X, train_y)\n",
    "    DT_scores.append(clf_DT.score(test_X, test_y))\n",
    "    \n",
    "# GaussianNB,\n",
    "clf_GA = naive_bayes.GaussianNB()\n",
    "clf_GA.fit(train_X, train_y)\n",
    "GA_score = clf_GA.score(test_X, test_y)\n",
    "\n",
    "# and Neural Net\n",
    "sc_NN_scores = []\n",
    "NN_scores = []\n",
    "for hid in range(1, 40, 5):\n",
    "    print(f\"fitting and scoring hidden_layer_sizes={hid}...\")\n",
    "    clf_NN = neural_network.MLPClassifier(hidden_layer_sizes=(hid),max_iter=3000, random_state=42)\n",
    "    clf_NN.fit(train_X, train_y)\n",
    "    NN_scores.append(clf_NN.score(test_X, test_y))\n",
    "    \n",
    "    clf_NN.fit(sc_train_X, train_y)\n",
    "    sc_NN_scores.append(clf_NN.score(sc_test_X, test_y))"
   ]
  },
  {
   "cell_type": "markdown",
   "metadata": {},
   "source": [
    "### Comparing Data"
   ]
  },
  {
   "cell_type": "code",
   "execution_count": 10,
   "metadata": {},
   "outputs": [
    {
     "data": {
      "image/png": "[encoded data removed]",
      "text/plain": [
       "<Figure size 1080x720 with 3 Axes>"
      ]
     },
     "metadata": {
      "needs_background": "light"
     },
     "output_type": "display_data"
    }
   ],
   "source": [
    "plt.figure(figsize=(15,10))\n",
    "\n",
    "# First plot\n",
    "plt.subplot(221)\n",
    "plt.ylabel(\"Accuracy\")\n",
    "plt.xlabel(\"hidden_layer_sizes\")\n",
    "plt.plot(NN_scores, color=\"gold\", lw=5, label=\"not scaled\")\n",
    "plt.plot(sc_NN_scores, color=\"cyan\", lw=5, label=\"scaled\")\n",
    "plt.xticks([x for x in range(8)], labels=[hid for hid in range(1, 40, 5)])\n",
    "plt.ylim((0,1))\n",
    "plt.grid(axis=\"x\")\n",
    "plt.title(\"Neural Networks\")\n",
    "plt.legend()\n",
    "\n",
    "# Second plot\n",
    "plt.subplot(222)\n",
    "plt.title(\"KNeighbors\")\n",
    "plt.ylabel(\"Accuracy\")\n",
    "plt.xlabel(\"n_neighbors\")\n",
    "\n",
    "plt.plot(KN_scores, color=\"purple\", lw=5, label=\"not scaled\")\n",
    "plt.plot(sc_KN_scores, color=\"red\", lw=5, label=\"scaled\")\n",
    "\n",
    "plt.xticks([x for x in range(4)], labels=[hid for hid in range(1, 10, 2)])\n",
    "plt.ylim((0,1))\n",
    "plt.grid(axis=\"x\")\n",
    "plt.legend()\n",
    "\n",
    "# Third plot\n",
    "plt.subplot(223)\n",
    "plt.title(\"Decision Tree and GuassianNB\")\n",
    "plt.ylabel(\"Accuracy\")\n",
    "plt.xlabel(\"max_depth\")\n",
    "\n",
    "plt.plot([0,30], [GA_score]*2, color=\"hotpink\", lw=5, label=\"GuassianNB\")\n",
    "plt.plot(DT_scores, color=\"lime\", lw=5, label=\"Decision Tree\")\n",
    "\n",
    "plt.xticks([x for x in range(0, 30, 2)], labels=[hid for hid in range(1, 30, 2)])\n",
    "plt.ylim((0,1))\n",
    "plt.grid(axis=\"x\")\n",
    "\n",
    "plt.legend()\n",
    "plt.show()"
   ]
  },
  {
   "cell_type": "markdown",
   "metadata": {},
   "source": [
    "From the graphs it's pretty apparent that a Neural network trained on scaled data with `hidden_layer_sizes=11` works the best. Given this, this is the classifier we will use for our project."
   ]
  },
  {
   "cell_type": "markdown",
   "metadata": {},
   "source": [
    "### Outputting classifier"
   ]
  },
  {
   "cell_type": "markdown",
   "metadata": {},
   "source": [
    "We will use the pickle library to store our Neural net in a file. This will allow us to just import it into our website, as opposed to retraining the net everytime the server restarts"
   ]
  },
  {
   "cell_type": "code",
   "execution_count": 12,
   "metadata": {},
   "outputs": [],
   "source": [
    "# Putting Neural net into sc\n",
    "sc_clf_NN = neural_network.MLPClassifier(hidden_layer_sizes=(11),max_iter=3000, random_state=42)\n",
    "sc_clf_NN.fit(sc_all_X, all_y)\n",
    "with open('clf.pk', 'wb') as fout:\n",
    "    pickle.dump(sc_clf_NN, fout)"
   ]
  },
  {
   "cell_type": "code",
   "execution_count": 13,
   "metadata": {},
   "outputs": [
    {
     "data": {
      "text/plain": [
       "array([0, 0, 0, ..., 0, 0, 0])"
      ]
     },
     "execution_count": 13,
     "metadata": {},
     "output_type": "execute_result"
    }
   ],
   "source": [
    "plt."
   ]
  }
 ],
 "metadata": {
  "kernelspec": {
   "display_name": "Python 3",
   "language": "python",
   "name": "python3"
  },
  "language_info": {
   "codemirror_mode": {
    "name": "ipython",
    "version": 3
   },
   "file_extension": ".py",
   "mimetype": "text/x-python",
   "name": "python",
   "nbconvert_exporter": "python",
   "pygments_lexer": "ipython3",
   "version": "3.7.4"
  }
 },
 "nbformat": 4,
 "nbformat_minor": 4
}
