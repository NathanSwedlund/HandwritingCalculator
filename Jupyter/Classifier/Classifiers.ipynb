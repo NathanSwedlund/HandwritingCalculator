{
 "cells": [
  {
   "cell_type": "markdown",
   "metadata": {},
   "source": [
    "## Importing libraries/data"
   ]
  },
  {
   "cell_type": "markdown",
   "metadata": {},
   "source": [
    "### Importing Libraries"
   ]
  },
  {
   "cell_type": "code",
   "execution_count": 1,
   "metadata": {},
   "outputs": [],
   "source": [
    "# For general use\n",
    "import matplotlib.pyplot as plt\n",
    "import numpy as np\n",
    "import pandas as pd\n",
    "\n",
    "# For our classifiers\n",
    "from sklearn import neighbors\n",
    "from sklearn import naive_bayes\n",
    "from sklearn import tree\n",
    "from sklearn import neural_network\n",
    "from sklearn import preprocessing\n",
    "\n",
    "# For confusion matrix/data importing\n",
    "from sklearn import metrics  \n",
    "from sklearn.datasets import load_digits \n",
    "\n",
    "from PIL import Image\n"
   ]
  },
  {
   "cell_type": "markdown",
   "metadata": {},
   "source": [
    "### Importing CSV data"
   ]
  },
  {
   "cell_type": "code",
   "execution_count": 2,
   "metadata": {},
   "outputs": [
    {
     "name": "stdout",
     "output_type": "stream",
     "text": [
      "Getting digits\n",
      "Loading 0.CSV...\n",
      "Loading 1.CSV...\n",
      "Loading 2.CSV...\n",
      "Loading 3.CSV...\n",
      "Loading 4.CSV...\n",
      "Loading 5.CSV...\n",
      "Loading 6.CSV...\n",
      "Loading 7.CSV...\n",
      "Loading 8.CSV...\n",
      "Loading 9.CSV...\n",
      "\n",
      "Getting math symbols\n",
      "Loading +.CSV...\n"
     ]
    },
    {
     "name": "stderr",
     "output_type": "stream",
     "text": [
      "/home/mica/anaconda3/lib/python3.7/site-packages/IPython/core/interactiveshell.py:3063: DtypeWarning: Columns (0) have mixed types.Specify dtype option on import or set low_memory=False.\n",
      "  interactivity=interactivity, compiler=compiler, result=result)\n"
     ]
    },
    {
     "name": "stdout",
     "output_type": "stream",
     "text": [
      "Loading ).CSV...\n",
      "Loading (.CSV...\n",
      "Loading ,.CSV...\n",
      "Loading -.CSV...\n",
      "\n",
      "Getting math symbols\n",
      "Loading 0.CSV...\n",
      "Loading 1.CSV...\n",
      "Loading 2.CSV...\n",
      "Loading 3.CSV...\n",
      "Loading 4.CSV...\n",
      "Loading 5.CSV...\n",
      "Loading 6.CSV...\n",
      "Loading 7.CSV...\n",
      "Loading 8.CSV...\n",
      "Loading 9.CSV...\n",
      "Loading +28.CSV...\n",
      "Loading )28.CSV...\n",
      "Loading (28.CSV...\n",
      "Loading ,28.CSV...\n",
      "Loading -28.CSV...\n",
      "Concatenating Data...\n",
      "Done\n"
     ]
    }
   ],
   "source": [
    "file = \"../../Data/CSV/\"\n",
    "\n",
    "print(\"Getting digits\")\n",
    "dfs_digi = []\n",
    "for cls in ['0','1','2','3','4','5','6','7','8','9']:\n",
    "    print(f\"Loading {cls}.CSV...\")\n",
    "    a = pd.read_csv(file+cls+\".csv\", index_col=0)\n",
    "    a['class'] = cls\n",
    "    dfs_digi.append(a)\n",
    "    \n",
    "print(\"\\nGetting math symbols\")\n",
    "dfs_math = []\n",
    "for cls in ['+', ')', '(', ',', '-']:\n",
    "    print(f\"Loading {cls}.CSV...\")\n",
    "    a = pd.read_csv(file+cls+\".csv\", index_col=0)\n",
    "    a['class'] = cls\n",
    "    dfs_math.append(a)\n",
    "\n",
    "print(\"\\nGetting math symbols\")\n",
    "dfs_all = []\n",
    "for cls in ['0','1','2','3','4','5','6','7','8','9','+28', ')28', '(28', ',28', '-28']:\n",
    "    print(f\"Loading {cls}.CSV...\")\n",
    "    a = pd.read_csv(file+cls+\".csv\", index_col=0)\n",
    "    a['class'] = cls[0]\n",
    "    dfs_all.append(a)\n",
    "    \n",
    "print(\"Concatenating Data...\")\n",
    "df_math = pd.concat(dfs_math,ignore_index=True, sort=False)\n",
    "df_digi = pd.concat(dfs_digi,ignore_index=True, sort=False)\n",
    "df_all  = pd.concat(dfs_all, ignore_index=True, sort=False)\n",
    "print(\"Done\")"
   ]
  },
  {
   "cell_type": "markdown",
   "metadata": {},
   "source": [
    "### Test/Train split"
   ]
  },
  {
   "cell_type": "code",
   "execution_count": 3,
   "metadata": {},
   "outputs": [],
   "source": [
    "Dfeatures = [feature for feature in df_digi]\n",
    "Dfeatures.remove(\"class\")\n",
    "\n",
    "Dtrain_X = np.array(df_digi[df_digi.index%2 == 0][Dfeatures])\n",
    "Dtrain_y = df_digi[df_digi.index%2 == 0][\"class\"]\n",
    "Dtest_X = np.array(df_digi[df_digi.index%2 == 1][Dfeatures])\n",
    "Dtest_y = df_digi[df_digi.index%2 == 1][\"class\"]\n",
    "\n",
    "Mfeatures = [feature for feature in df_math]\n",
    "Mfeatures.remove(\"class\")\n",
    "Mtrain_X = np.array(df_math[df_math.index%2 == 0][Mfeatures])\n",
    "Mtrain_y = df_math[df_math.index%2 == 0][\"class\"]\n",
    "Mtest_X = np.array(df_math[df_math.index%2 == 1][Mfeatures])\n",
    "Mtest_y = df_math[df_math.index%2 == 1][\"class\"]\n",
    "\n",
    "Afeatures = [feature for feature in df_all]\n",
    "Afeatures.remove(\"class\")\n",
    "Atrain_X = np.array(df_all[df_all.index%2 == 0][Afeatures])\n",
    "Atrain_y = df_all[df_all.index%2 == 0][\"class\"]\n",
    "Atest_X = np.array(df_all[df_all.index%2 == 1][Afeatures])\n",
    "Atest_y = df_all[df_all.index%2 == 1][\"class\"]"
   ]
  },
  {
   "cell_type": "code",
   "execution_count": 4,
   "metadata": {},
   "outputs": [
    {
     "data": {
      "text/plain": [
       "(4765, 2025)"
      ]
     },
     "execution_count": 4,
     "metadata": {},
     "output_type": "execute_result"
    }
   ],
   "source": [
    "Mtrain_X.shape"
   ]
  },
  {
   "cell_type": "markdown",
   "metadata": {},
   "source": [
    "## Testing classifiers\n",
    "I conducted some \"accuracy vs parameter\" tests and found these to the be the optimal `n_neighbors` and `max_depth` values. In the future I will put those tests here"
   ]
  },
  {
   "cell_type": "code",
   "execution_count": 5,
   "metadata": {},
   "outputs": [],
   "source": [
    "def test_CLF(clf, tests):\n",
    "    print(\"Digit: ------\\nFitting...\")\n",
    "    clf.fit(Dtrain_X, Dtrain_y)\n",
    "    print(\"Scoring...\")\n",
    "    print(\"Score: \", clf.score(Dtest_X[:tests], Dtest_y[:tests]), \"\\n\")\n",
    "\n",
    "    print(\"Math: ------\\nFitting...\")\n",
    "    clf.fit(Mtrain_X, Mtrain_y)\n",
    "    print(\"Scoring...\")\n",
    "    print(\"Score: \", clf.score(Mtest_X[:tests], Mtest_y[:tests]), \"\\n\")\n",
    "\n",
    "    print(\"All: ------\\nFitting...\")\n",
    "    clf.fit(Atrain_X, Atrain_y)\n",
    "    print(\"Scoring...\")\n",
    "    print(\"Score: \", clf.score(Atest_X[:tests], Atest_y[:tests]), \"\\n\")"
   ]
  },
  {
   "cell_type": "code",
   "execution_count": 6,
   "metadata": {},
   "outputs": [
    {
     "name": "stdout",
     "output_type": "stream",
     "text": [
      "Digit: ------\n",
      "Fitting...\n",
      "Scoring...\n",
      "Score:  1.0 \n",
      "\n",
      "Math: ------\n",
      "Fitting...\n",
      "Scoring...\n",
      "Score:  0.28 \n",
      "\n",
      "All: ------\n",
      "Fitting...\n",
      "Scoring...\n",
      "Score:  1.0 \n",
      "\n"
     ]
    }
   ],
   "source": [
    "# Kneighbors\n",
    "clf = neighbors.KNeighborsClassifier(n_neighbors=1)\n",
    "test_CLF(clf, 100)"
   ]
  },
  {
   "cell_type": "code",
   "execution_count": 7,
   "metadata": {},
   "outputs": [
    {
     "name": "stdout",
     "output_type": "stream",
     "text": [
      "Digit: ------\n",
      "Fitting...\n",
      "Scoring...\n",
      "Score:  0.889 \n",
      "\n",
      "Math: ------\n",
      "Fitting...\n",
      "Scoring...\n",
      "Score:  0.295 \n",
      "\n",
      "All: ------\n",
      "Fitting...\n",
      "Scoring...\n",
      "Score:  0.867 \n",
      "\n"
     ]
    }
   ],
   "source": [
    "# Decision Tree\n",
    "clf = tree.DecisionTreeClassifier(random_state=42, max_depth=15)\n",
    "test_CLF(clf, 1000)"
   ]
  },
  {
   "cell_type": "code",
   "execution_count": 8,
   "metadata": {},
   "outputs": [
    {
     "name": "stdout",
     "output_type": "stream",
     "text": [
      "Digit: ------\n",
      "Fitting...\n",
      "Scoring...\n",
      "Score:  0.92 \n",
      "\n",
      "Math: ------\n",
      "Fitting...\n",
      "Scoring...\n",
      "Score:  0.977 \n",
      "\n",
      "All: ------\n",
      "Fitting...\n",
      "Scoring...\n",
      "Score:  0.9085 \n",
      "\n"
     ]
    }
   ],
   "source": [
    "# Gaussian Naive Bayes\n",
    "clf = naive_bayes.GaussianNB()\n",
    "test_CLF(clf, 2000)"
   ]
  },
  {
   "cell_type": "markdown",
   "metadata": {},
   "source": [
    "### Finding most accurate hidden_layer_sizes value"
   ]
  },
  {
   "cell_type": "code",
   "execution_count": 9,
   "metadata": {},
   "outputs": [],
   "source": [
    "# Using a small subset of data for faster results\n",
    "data_portion = 500\n",
    "Dtrain_X2 = np.array(df_digi[df_digi.index%data_portion == 0][Dfeatures])\n",
    "Dtrain_y2 = df_digi[df_digi.index%data_portion == 0][\"class\"]\n",
    "Dtest_X2 = np.array(df_digi[df_digi.index%data_portion == 1][Dfeatures])\n",
    "Dtest_y2 = df_digi[df_digi.index%data_portion == 1][\"class\"]\n",
    "\n",
    "Mtrain_X2 = np.array(df_math[df_math.index%data_portion == 0][Mfeatures])\n",
    "Mtrain_y2 = df_math[df_math.index%data_portion == 0][\"class\"]\n",
    "Mtest_X2 = np.array(df_math[df_math.index%data_portion == 1][Mfeatures])\n",
    "Mtest_y2 = df_math[df_math.index%data_portion == 1][\"class\"]\n",
    "\n",
    "Atrain_X2 = np.array(df_all[df_all.index%data_portion == 0][Afeatures])\n",
    "Atrain_y2 = df_all[df_all.index%data_portion == 0][\"class\"]\n",
    "Atest_X2 = np.array(df_all[df_all.index%data_portion == 1][Afeatures])\n",
    "Atest_y2 = df_all[df_all.index%data_portion == 1][\"class\"]\n",
    "\n",
    "# sc = preprocessing.StandardScaler()\n",
    "# Dtrain_X2 = sc.fit_transform(Dtrain_X2)\n",
    "# Dtest_X2 = sc.fit_transform(Dtest_X2)\n",
    "# Mtrain_X2 = sc.fit_transform(Mtrain_X2)\n",
    "# Mtest_X2 = sc.fit_transform(Mtest_X2)"
   ]
  },
  {
   "cell_type": "code",
   "execution_count": 10,
   "metadata": {},
   "outputs": [
    {
     "name": "stdout",
     "output_type": "stream",
     "text": [
      "fitting and scoring hidden_layer_sizes=20...\n",
      "fitting and scoring hidden_layer_sizes=21...\n",
      "fitting and scoring hidden_layer_sizes=22...\n",
      "fitting and scoring hidden_layer_sizes=23...\n",
      "fitting and scoring hidden_layer_sizes=24...\n",
      "fitting and scoring hidden_layer_sizes=25...\n",
      "fitting and scoring hidden_layer_sizes=26...\n",
      "fitting and scoring hidden_layer_sizes=27...\n",
      "fitting and scoring hidden_layer_sizes=28...\n",
      "fitting and scoring hidden_layer_sizes=29...\n"
     ]
    }
   ],
   "source": [
    "# Recording scores\n",
    "Dscores = []\n",
    "Mscores = []\n",
    "Ascores = []\n",
    "MAX = 30\n",
    "for hid in range(20, MAX):\n",
    "    print(f\"fitting and scoring hidden_layer_sizes={hid}...\")\n",
    "    clf = neural_network.MLPClassifier(hidden_layer_sizes=(hid),max_iter=3000, random_state=42)\n",
    "    \n",
    "    clf.fit(Dtrain_X2, Dtrain_y2)\n",
    "    Dscores.append(clf.score(Dtest_X2, Dtest_y2))\n",
    "    \n",
    "    clf.fit(Mtrain_X2, Mtrain_y2)\n",
    "    Mscores.append(clf.score(Mtest_X2, Mtest_y2))\n",
    "    \n",
    "    clf.fit(Atrain_X2, Atrain_y2)\n",
    "    Ascores.append(clf.score(Atest_X2, Atest_y2))"
   ]
  },
  {
   "cell_type": "code",
   "execution_count": 11,
   "metadata": {},
   "outputs": [
    {
     "name": "stdout",
     "output_type": "stream",
     "text": [
      "hidden_layer_sizes =20  ::  0.513 :: 0.55 :: 0.466\n",
      "hidden_layer_sizes =21  ::  0.436 :: 0.7 :: 0.569\n",
      "hidden_layer_sizes =22  ::  0.41 :: 0.65 :: 0.517\n",
      "hidden_layer_sizes =23  ::  0.59 :: 0.5 :: 0.5\n",
      "hidden_layer_sizes =24  ::  0.513 :: 0.45 :: 0.466\n",
      "hidden_layer_sizes =25  ::  0.487 :: 0.55 :: 0.448\n",
      "hidden_layer_sizes =26  ::  0.41 :: 0.7 :: 0.448\n",
      "hidden_layer_sizes =27  ::  0.487 :: 0.55 :: 0.466\n",
      "hidden_layer_sizes =28  ::  0.487 :: 0.6 :: 0.5\n",
      "hidden_layer_sizes =29  ::  0.538 :: 0.65 :: 0.448\n"
     ]
    }
   ],
   "source": [
    "for i, Dscore, Mscore, Ascore in zip(range(MAX), Dscores, Mscores, Ascores):\n",
    "    print(f\"hidden_layer_sizes ={i+20}  ::  {Dscore:3.3} :: {Mscore:3.3} :: {Ascore:3.3}\" )"
   ]
  },
  {
   "cell_type": "code",
   "execution_count": 12,
   "metadata": {},
   "outputs": [
    {
     "data": {
      "image/png": "[encoded data removed]",
      "text/plain": [
       "<Figure size 432x288 with 1 Axes>"
      ]
     },
     "metadata": {
      "needs_background": "light"
     },
     "output_type": "display_data"
    }
   ],
   "source": [
    "plt.plot(Mscores)\n",
    "plt.plot(Dscores)\n",
    "plt.show()"
   ]
  },
  {
   "cell_type": "code",
   "execution_count": 13,
   "metadata": {},
   "outputs": [
    {
     "name": "stdout",
     "output_type": "stream",
     "text": [
      "hidden_layer_sizes = 1   ::   0.55  ::  0.5128205128205128\n",
      "hidden_layer_sizes = 2   ::   0.7  ::  0.4358974358974359\n",
      "hidden_layer_sizes = 3   ::   0.65  ::  0.41025641025641024\n",
      "hidden_layer_sizes = 4   ::   0.5  ::  0.5897435897435898\n",
      "hidden_layer_sizes = 5   ::   0.45  ::  0.5128205128205128\n",
      "hidden_layer_sizes = 6   ::   0.55  ::  0.48717948717948717\n",
      "hidden_layer_sizes = 7   ::   0.7  ::  0.41025641025641024\n",
      "hidden_layer_sizes = 8   ::   0.55  ::  0.48717948717948717\n",
      "hidden_layer_sizes = 9   ::   0.6  ::  0.48717948717948717\n",
      "hidden_layer_sizes = 10   ::   0.65  ::  0.5384615384615384\n"
     ]
    }
   ],
   "source": [
    "for i, Dscore, Mscore in zip(range(MAX), Dscores, Mscores):\n",
    "    print(\"hidden_layer_sizes =\", i+1, '  ::  ', Mscore, ' :: ', Dscore )"
   ]
  },
  {
   "cell_type": "markdown",
   "metadata": {},
   "source": [
    "Clearly `hidden_layer_sizes=16` is the most accurate value.\n",
    "\n",
    "Using this value, I will conduct accuracy testing with all of the data"
   ]
  },
  {
   "cell_type": "code",
   "execution_count": 14,
   "metadata": {},
   "outputs": [],
   "source": [
    "data_portion = 19\n",
    "Dtrain_X3 = np.array(df_digi[df_digi.index%data_portion != 0][Dfeatures])\n",
    "Dtrain_y3 = df_digi[df_digi.index%data_portion != 0][\"class\"]\n",
    "Dtest_X3 = np.array(df_digi[df_digi.index%data_portion == 0][Dfeatures])\n",
    "Dtest_y3 = df_digi[df_digi.index%data_portion == 0][\"class\"]\n",
    "\n",
    "Mtrain_X3 = np.array(df_math[df_math.index%data_portion != 0][Mfeatures])\n",
    "Mtrain_y3 = df_math[df_math.index%data_portion != 0][\"class\"]\n",
    "Mtest_X3 = np.array(df_math[df_math.index%data_portion == 0][Mfeatures])\n",
    "Mtest_y3 = df_math[df_math.index%data_portion == 0][\"class\"]\n",
    "\n",
    "Atrain_X3 = np.array(df_all[df_all.index%data_portion != 0][Afeatures])\n",
    "Atrain_y3 = df_all[df_all.index%data_portion != 0][\"class\"]\n",
    "Atest_X3 = np.array(df_all[df_all.index%data_portion == 0][Afeatures])\n",
    "Atest_y3 = df_all[df_all.index%data_portion == 0][\"class\"]\n",
    "\n",
    "\n",
    "# sc = preprocessing.StandardScaler()\n",
    "# Dtrain_X3 = sc.fit_transform(Dtrain_X3)\n",
    "# Dtest_X3 = sc.fit_transform(Dtest_X3)\n",
    "# Mtrain_X3 = sc.fit_transform(Mtrain_X3)\n",
    "# Mtest_X3 = sc.fit_transform(Mtest_X3)\n"
   ]
  },
  {
   "cell_type": "code",
   "execution_count": 15,
   "metadata": {},
   "outputs": [
    {
     "name": "stdout",
     "output_type": "stream",
     "text": [
      "fitting...\n",
      "scoring...\n",
      "Digits scored: 0.951195219123506\n",
      "fitting...\n",
      "scoring...\n",
      "Math scored: 0.9820717131474104\n",
      "fitting...\n",
      "scoring...\n",
      "All scored: 0.9408637873754153\n"
     ]
    }
   ],
   "source": [
    "clf_digi = neural_network.MLPClassifier(hidden_layer_sizes=(39),max_iter=8000, random_state=42)\n",
    "print(\"fitting...\")\n",
    "clf_digi.fit(Dtrain_X3, Dtrain_y3)\n",
    "print(\"scoring...\")\n",
    "print(\"Digits scored:\", clf_digi.score(Dtest_X3, Dtest_y3))\n",
    "\n",
    "clf_math = neural_network.MLPClassifier(hidden_layer_sizes=(39),max_iter=8000, random_state=42)\n",
    "print(\"fitting...\")\n",
    "clf_math.fit(Mtrain_X3, Mtrain_y3)\n",
    "print(\"scoring...\")\n",
    "print(\"Math scored:\", clf_math.score(Mtest_X3, Mtest_y3))\n",
    "\n",
    "clf_all = neural_network.MLPClassifier(hidden_layer_sizes=(39),max_iter=8000, random_state=42)\n",
    "print(\"fitting...\")\n",
    "clf_all.fit(Atrain_X3, Atrain_y3)\n",
    "print(\"scoring...\")\n",
    "print(\"All scored:\", clf_all.score(Atest_X3, Atest_y3))"
   ]
  },
  {
   "cell_type": "code",
   "execution_count": 16,
   "metadata": {},
   "outputs": [],
   "source": [
    "import pickle\n",
    "with open('clf_digi.pk', 'wb') as fout:\n",
    "    pickle.dump(clf_digi, fout)\n",
    "with open('clf_math.pk', 'wb') as fout:\n",
    "    pickle.dump(clf_math, fout)\n",
    "with open('clf_all.pk', 'wb') as fout:\n",
    "    pickle.dump(clf_all, fout)"
   ]
  },
  {
   "cell_type": "code",
   "execution_count": 17,
   "metadata": {},
   "outputs": [
    {
     "name": "stdout",
     "output_type": "stream",
     "text": [
      "0.951195219123506\n",
      "0.9820717131474104\n",
      "0.9408637873754153\n"
     ]
    }
   ],
   "source": [
    "clf_digi2 = 10\n",
    "clf_math2 = 10\n",
    "clf_all2 = 10\n",
    "with open('clf_digi.pk', 'rb') as fin:\n",
    "    clf_digi2 = pickle.load(fin)\n",
    "with open('clf_math.pk', 'rb') as fin:\n",
    "    clf_math2 = pickle.load(fin)\n",
    "with open('clf_all.pk', 'rb') as fin:\n",
    "    clf_all2 = pickle.load(fin)  \n",
    "    \n",
    "print(clf_digi2.score(Dtest_X3, Dtest_y3))\n",
    "print(clf_math2.score(Mtest_X3, Mtest_y3))\n",
    "print(clf_all2.score(Atest_X3, Atest_y3))"
   ]
  },
  {
   "cell_type": "markdown",
   "metadata": {},
   "source": [
    "### Testing time"
   ]
  },
  {
   "cell_type": "code",
   "execution_count": 82,
   "metadata": {},
   "outputs": [],
   "source": [
    "# functions for testing\n",
    "def compress_array(A, initx, inity, endx, endy):\n",
    "    arr = (A.reshape(initx,inity)).astype('uint8') # sample array\n",
    "    im = Image.fromarray(arr) # monochromatic image\n",
    "    im = im.resize((endx,endy))\n",
    "    return np.array(im)\n",
    "\n",
    "def testImg(arr):\n",
    "    initx = int(np.sqrt(len(arr)))\n",
    "    inity = initx\n",
    "\n",
    "    arrM = compress_array(arr, initx, inity, 45, 45).reshape(1,-1)\n",
    "    arrD = compress_array(arr, initx, inity, 28, 28).reshape(1,-1)\n",
    "\n",
    "    probM = clf_math.predict_proba(arrM)[0]\n",
    "    probD = clf_digi.predict_proba(arrD)[0]\n",
    "    probA = clf_all.predict_proba(arrD)[0]\n",
    "\n",
    "    print(\"Math: ------------------------------\")\n",
    "    plt.imshow(arrM.reshape(45,45), cmap=plt.cm.binary)\n",
    "    plt.title(clf_math.predict(arrM)[0])\n",
    "    plt.show()\n",
    "    for p, c in sorted(zip(probM, clf_math.classes_)):\n",
    "        print(c, \"  ::  \", p)\n",
    "\n",
    "    print(\"\\nDigit: ---------------------------\")\n",
    "    plt.imshow(arrD.reshape(28,28), cmap=plt.cm.binary)\n",
    "    plt.title(clf_digi.predict(arrD)[0])\n",
    "    plt.show()\n",
    "    for p, c in sorted(zip(probD, clf_digi.classes_)):\n",
    "        print(c, \"  ::  \", p)\n",
    "\n",
    "    print(\"\\nAll: ------------------------------\")\n",
    "    plt.imshow(arrD.reshape(28,28), cmap=plt.cm.binary)\n",
    "    plt.title(clf_all.predict(arrD)[0])\n",
    "    plt.show()\n",
    "    for p, c in sorted(zip(probA, clf_all.classes_)):\n",
    "        print(c, \"  ::  \", p)"
   ]
  },
  {
   "cell_type": "code",
   "execution_count": 87,
   "metadata": {},
   "outputs": [],
   "source": [
    "# Functions for finding combined classification\n",
    "def predict_as_dictionary(clf, arr, num):\n",
    "    initx = int(np.sqrt(len(arr)))\n",
    "    inity = initx\n",
    "    arr2 = compress_array(arr, initx, inity, num, num).reshape(1,-1)\n",
    "    return dict(zip(clf.classes_, clf.predict_proba(arr2)[0]))\n",
    "def classify(arr):\n",
    "    probM = predict_as_dictionary(clf_math, arr, 45)\n",
    "    probD = predict_as_dictionary(clf_digi, arr, 28)\n",
    "    probAll = predict_as_dictionary(clf_all, arr, 28)\n",
    "    \n",
    "    prob_M_D = {**probM, **probD}\n",
    "    \n",
    "    prob_true = {}\n",
    "    for symbol in math_symbols+digit_symbols:\n",
    "        prob_true[symbol] = probAll[symbol]*prob_M_D[symbol]\n",
    "\n",
    "    print(\"\\n\\nCombined prediction ------------------------------------------\")\n",
    "    for i in sorted(zip(prob_true.values(), prob_true)):\n",
    "        print(i)"
   ]
  },
  {
   "cell_type": "code",
   "execution_count": 89,
   "metadata": {},
   "outputs": [
    {
     "name": "stdout",
     "output_type": "stream",
     "text": [
      "Math: ------------------------------\n"
     ]
    },
    {
     "data": {
      "image/png": "[encoded data removed]",
      "text/plain": [
       "<Figure size 432x288 with 1 Axes>"
      ]
     },
     "metadata": {
      "needs_background": "light"
     },
     "output_type": "display_data"
    },
    {
     "name": "stdout",
     "output_type": "stream",
     "text": [
      "-   ::   1.0518185692350958e-11\n",
      ")   ::   4.637835999579887e-07\n",
      "(   ::   3.0919728384470506e-06\n",
      "+   ::   4.381739937307768e-06\n",
      ",   ::   0.999992062493106\n",
      "\n",
      "Digit: ---------------------------\n"
     ]
    },
    {
     "data": {
      "image/png": "[encoded data removed]",
      "text/plain": [
       "<Figure size 432x288 with 1 Axes>"
      ]
     },
     "metadata": {
      "needs_background": "light"
     },
     "output_type": "display_data"
    },
    {
     "name": "stdout",
     "output_type": "stream",
     "text": [
      "0   ::   0.061222929912726584\n",
      "9   ::   0.06616381768399081\n",
      "6   ::   0.080582482052169\n",
      "7   ::   0.09588508850810859\n",
      "2   ::   0.10419976216517278\n",
      "3   ::   0.10519176652603686\n",
      "8   ::   0.10736411224516709\n",
      "4   ::   0.11638733634419388\n",
      "1   ::   0.12010799317494093\n",
      "5   ::   0.1428947113874935\n",
      "\n",
      "All: ------------------------------\n"
     ]
    },
    {
     "data": {
      "image/png": "[encoded data removed]",
      "text/plain": [
       "<Figure size 432x288 with 1 Axes>"
      ]
     },
     "metadata": {
      "needs_background": "light"
     },
     "output_type": "display_data"
    },
    {
     "name": "stdout",
     "output_type": "stream",
     "text": [
      "5   ::   3.63239176996361e-05\n",
      "0   ::   4.524963120586473e-05\n",
      ")   ::   4.681299223020507e-05\n",
      "9   ::   5.426159310407193e-05\n",
      "3   ::   6.569889298994256e-05\n",
      "1   ::   6.977650004856624e-05\n",
      "6   ::   8.522639970537478e-05\n",
      "8   ::   0.00022914498486136913\n",
      "7   ::   0.00023012243111571092\n",
      "2   ::   0.0003419741077721281\n",
      "(   ::   0.00044644111952751777\n",
      "4   ::   0.0005225571940885115\n",
      "+   ::   0.004531187017102135\n",
      ",   ::   0.23844934325036038\n",
      "-   ::   0.7548458799681887\n",
      "\n",
      "\n",
      "Combined prediction ------------------------------------------\n",
      "(7.939609134611472e-12, '-')\n",
      "(2.171109806132986e-11, ')')\n",
      "(1.380383815544978e-09, '(')\n",
      "(1.985448311624688e-08, '+')\n",
      "(2.770314999893382e-06, '0')\n",
      "(3.5901541533807082e-06, '9')\n",
      "(5.190495736152567e-06, '5')\n",
      "(6.867754824629345e-06, '6')\n",
      "(6.910982612417118e-06, '3')\n",
      "(8.38071539160446e-06, '1')\n",
      "(2.2065309675231065e-05, '7')\n",
      "(2.460194787507315e-05, '8')\n",
      "(3.563362069650291e-05, '2')\n",
      "(6.081903990745779e-05, '4')\n",
      "(0.23844745055705446, ',')\n"
     ]
    }
   ],
   "source": [
    "# Getting test data\n",
    "num = 390\n",
    "arr = Mtest_X3[num]\n",
    "\n",
    "# Printing preliminary classifications\n",
    "testImg(arr)\n",
    "\n",
    "# Getting combined scores\n",
    "classify(arr)"
   ]
  }
 ],
 "metadata": {
  "kernelspec": {
   "display_name": "Python 3",
   "language": "python",
   "name": "python3"
  },
  "language_info": {
   "codemirror_mode": {
    "name": "ipython",
    "version": 3
   },
   "file_extension": ".py",
   "mimetype": "text/x-python",
   "name": "python",
   "nbconvert_exporter": "python",
   "pygments_lexer": "ipython3",
   "version": "3.7.6"
  }
 },
 "nbformat": 4,
 "nbformat_minor": 4
}
