{
 "cells": [
  {
   "cell_type": "markdown",
   "metadata": {},
   "source": [
    "## Importing libraries/data"
   ]
  },
  {
   "cell_type": "markdown",
   "metadata": {},
   "source": [
    "### Importing Libraries"
   ]
  },
  {
   "cell_type": "code",
   "execution_count": 1,
   "metadata": {},
   "outputs": [],
   "source": [
    "# For general use\n",
    "import matplotlib.pyplot as plt\n",
    "import numpy as np\n",
    "import pandas as pd\n",
    "\n",
    "# For our classifiers\n",
    "from sklearn import neighbors\n",
    "from sklearn import naive_bayes\n",
    "from sklearn import tree\n",
    "from sklearn import neural_network\n",
    "from sklearn import preprocessing\n",
    "\n",
    "# For confusion matrix/data importing\n",
    "from sklearn import metrics  \n",
    "from sklearn.datasets import load_digits  "
   ]
  },
  {
   "cell_type": "code",
   "execution_count": null,
   "metadata": {},
   "outputs": [],
   "source": []
  },
  {
   "cell_type": "markdown",
   "metadata": {},
   "source": [
    "### Importing CSV data"
   ]
  },
  {
   "cell_type": "code",
   "execution_count": 2,
   "metadata": {},
   "outputs": [
    {
     "name": "stdout",
     "output_type": "stream",
     "text": [
      "Getting digits\n",
      "Loading 0.CSV...\n",
      "Loading 1.CSV...\n",
      "Loading 2.CSV...\n",
      "Loading 3.CSV...\n",
      "Loading 4.CSV...\n",
      "Loading 5.CSV...\n",
      "Loading 6.CSV...\n",
      "Loading 7.CSV...\n",
      "Loading 8.CSV...\n",
      "Loading 9.CSV...\n",
      "\n",
      "Getting math symbols\n",
      "Loading +.CSV...\n",
      "Loading ).CSV...\n",
      "Loading (.CSV...\n",
      "Loading ,.CSV...\n",
      "Loading -.CSV...\n",
      "Concatenating Data...\n",
      "Done\n"
     ]
    }
   ],
   "source": [
    "file = \"../../Data/CSV/\"\n",
    "\n",
    "print(\"Getting digits\")\n",
    "dfs_digi = []\n",
    "for cls in ['0','1','2','3','4','5','6','7','8','9']:\n",
    "    print(f\"Loading {cls}.CSV...\")\n",
    "    a = pd.read_csv(file+cls+\".csv\", index_col=0)\n",
    "    a['class'] = cls\n",
    "    dfs_digi.append(a)\n",
    "    \n",
    "print(\"\\nGetting math symbols\")\n",
    "dfs_math = []\n",
    "for cls in ['+', ')', '(', ',', '-']:\n",
    "    print(f\"Loading {cls}.CSV...\")\n",
    "    a = pd.read_csv(file+cls+\".csv\", index_col=0)\n",
    "    a['class'] = cls\n",
    "    dfs_math.append(a)\n",
    "\n",
    "print(\"Concatenating Data...\")\n",
    "df_math = pd.concat(dfs_math,ignore_index=True, sort=False)\n",
    "df_digi = pd.concat(dfs_digi,ignore_index=True, sort=False)\n",
    "print(\"Done\")"
   ]
  },
  {
   "cell_type": "markdown",
   "metadata": {},
   "source": [
    "### Test/Train split"
   ]
  },
  {
   "cell_type": "code",
   "execution_count": 3,
   "metadata": {},
   "outputs": [],
   "source": [
    "Dfeatures = [feature for feature in df_digi]\n",
    "Dfeatures.remove(\"class\")\n",
    "\n",
    "Dtrain_X = np.array(df_digi[df_digi.index%2 == 0][Dfeatures])\n",
    "Dtrain_y = df_digi[df_digi.index%2 == 0][\"class\"]\n",
    "Dtest_X = np.array(df_digi[df_digi.index%2 == 1][Dfeatures])\n",
    "Dtest_y = df_digi[df_digi.index%2 == 1][\"class\"]\n",
    "\n",
    "Mfeatures = [feature for feature in df_math]\n",
    "Mfeatures.remove(\"class\")\n",
    "\n",
    "Mtrain_X = np.array(df_math[df_math.index%2 == 0][Mfeatures])\n",
    "Mtrain_y = df_math[df_math.index%2 == 0][\"class\"]\n",
    "Mtest_X = np.array(df_math[df_math.index%2 == 1][Mfeatures])\n",
    "Mtest_y = df_math[df_math.index%2 == 1][\"class\"]\n"
   ]
  },
  {
   "cell_type": "markdown",
   "metadata": {},
   "source": [
    "## Testing classifiers\n",
    "I conducted some \"accuracy vs parameter\" tests and found these to the be the optimal `n_neighbors` and `max_depth` values. In the future I will put those tests here"
   ]
  },
  {
   "cell_type": "code",
   "execution_count": 4,
   "metadata": {},
   "outputs": [
    {
     "name": "stdout",
     "output_type": "stream",
     "text": [
      "Fitting...\n",
      "Scoring...\n",
      "Digit score:  1.0 \n",
      "\n",
      "Fitting...\n",
      "Scoring...\n",
      "Math score:  0.36 \n",
      "\n"
     ]
    }
   ],
   "source": [
    "# Kneighbors\n",
    "clf = neighbors.KNeighborsClassifier(n_neighbors=1)\n",
    "print(\"Fitting...\")\n",
    "clf.fit(Dtrain_X, Dtrain_y)\n",
    "print(\"Scoring...\")\n",
    "print(\"Digit score: \", clf.score(Dtest_X[:100], Dtest_y[:100]), \"\\n\")\n",
    "\n",
    "print(\"Fitting...\")\n",
    "clf.fit(Mtrain_X, Mtrain_y)\n",
    "print(\"Scoring...\")\n",
    "print(\"Math score: \", clf.score(Mtest_X[:100], Mtest_y[:100]), \"\\n\")\n"
   ]
  },
  {
   "cell_type": "code",
   "execution_count": 5,
   "metadata": {},
   "outputs": [
    {
     "name": "stdout",
     "output_type": "stream",
     "text": [
      "Fitting...\n",
      "Scoring...\n",
      "Digit score:  0.9 \n",
      "\n",
      "Fitting...\n",
      "Scoring...\n",
      "Math score:  0.74 \n",
      "\n"
     ]
    }
   ],
   "source": [
    "# Decision Tree\n",
    "clf = tree.DecisionTreeClassifier(random_state=10)\n",
    "\n",
    "print(\"Fitting...\")\n",
    "clf.fit(Dtrain_X, Dtrain_y)\n",
    "print(\"Scoring...\")\n",
    "print(\"Digit score: \", clf.score(Dtest_X[:100], Dtest_y[:100]), \"\\n\")\n",
    "\n",
    "print(\"Fitting...\")\n",
    "clf.fit(Mtrain_X, Mtrain_y)\n",
    "print(\"Scoring...\")\n",
    "print(\"Math score: \", clf.score(Mtest_X[:100], Mtest_y[:100]), \"\\n\")"
   ]
  },
  {
   "cell_type": "code",
   "execution_count": 6,
   "metadata": {},
   "outputs": [
    {
     "name": "stdout",
     "output_type": "stream",
     "text": [
      "Fitting...\n",
      "Scoring...\n",
      "Digit score:  0.582791185729276 \n",
      "\n",
      "Fitting...\n",
      "Scoring...\n",
      "Math score:  0.9034627492130115 \n",
      "\n"
     ]
    }
   ],
   "source": [
    "# Gaussian Naive Bayes\n",
    "clf = naive_bayes.GaussianNB()\n",
    "\n",
    "print(\"Fitting...\")\n",
    "clf.fit(Dtrain_X, Dtrain_y)\n",
    "print(\"Scoring...\")\n",
    "print(\"Digit score: \", clf.score(Dtest_X, Dtest_y), \"\\n\")\n",
    "\n",
    "print(\"Fitting...\")\n",
    "clf.fit(Mtrain_X, Mtrain_y)\n",
    "print(\"Scoring...\")\n",
    "print(\"Math score: \", clf.score(Mtest_X, Mtest_y), \"\\n\")"
   ]
  },
  {
   "cell_type": "markdown",
   "metadata": {},
   "source": [
    "### Finding most accurate hidden_layer_sizes value"
   ]
  },
  {
   "cell_type": "code",
   "execution_count": 7,
   "metadata": {},
   "outputs": [],
   "source": [
    "# Using a small subset of data for faster results\n",
    "data_portion = 500\n",
    "Dtrain_X2 = np.array(df_digi[df_digi.index%data_portion == 0][Dfeatures])\n",
    "Dtrain_y2 = df_digi[df_digi.index%data_portion == 0][\"class\"]\n",
    "Dtest_X2 = np.array(df_digi[df_digi.index%data_portion == 1][Dfeatures])\n",
    "Dtest_y2 = df_digi[df_digi.index%data_portion == 1][\"class\"]\n",
    "\n",
    "Mtrain_X2 = np.array(df_math[df_math.index%data_portion == 0][Mfeatures])\n",
    "Mtrain_y2 = df_math[df_math.index%data_portion == 0][\"class\"]\n",
    "Mtest_X2 = np.array(df_math[df_math.index%data_portion == 1][Mfeatures])\n",
    "Mtest_y2 = df_math[df_math.index%data_portion == 1][\"class\"]\n",
    "\n",
    "sc = preprocessing.StandardScaler()\n",
    "Dtrain_X2 = sc.fit_transform(Dtrain_X2)\n",
    "Dtest_X2 = sc.fit_transform(Dtest_X2)\n",
    "Mtrain_X2 = sc.fit_transform(Mtrain_X2)\n",
    "Mtest_X2 = sc.fit_transform(Mtest_X2)"
   ]
  },
  {
   "cell_type": "code",
   "execution_count": 8,
   "metadata": {},
   "outputs": [
    {
     "data": {
      "text/plain": [
       "4.358898943540674"
      ]
     },
     "execution_count": 8,
     "metadata": {},
     "output_type": "execute_result"
    }
   ],
   "source": [
    "max(Mtest_X2[0])"
   ]
  },
  {
   "cell_type": "code",
   "execution_count": 9,
   "metadata": {},
   "outputs": [
    {
     "name": "stdout",
     "output_type": "stream",
     "text": [
      "fitting and scoring hidden_layer_sizes=1...\n",
      "fitting and scoring hidden_layer_sizes=2...\n",
      "fitting and scoring hidden_layer_sizes=3...\n",
      "fitting and scoring hidden_layer_sizes=4...\n",
      "fitting and scoring hidden_layer_sizes=5...\n",
      "fitting and scoring hidden_layer_sizes=6...\n",
      "fitting and scoring hidden_layer_sizes=7...\n",
      "fitting and scoring hidden_layer_sizes=8...\n",
      "fitting and scoring hidden_layer_sizes=9...\n",
      "fitting and scoring hidden_layer_sizes=10...\n",
      "fitting and scoring hidden_layer_sizes=11...\n",
      "fitting and scoring hidden_layer_sizes=12...\n",
      "fitting and scoring hidden_layer_sizes=13...\n",
      "fitting and scoring hidden_layer_sizes=14...\n",
      "fitting and scoring hidden_layer_sizes=15...\n",
      "fitting and scoring hidden_layer_sizes=16...\n",
      "fitting and scoring hidden_layer_sizes=17...\n",
      "fitting and scoring hidden_layer_sizes=18...\n",
      "fitting and scoring hidden_layer_sizes=19...\n",
      "fitting and scoring hidden_layer_sizes=20...\n",
      "fitting and scoring hidden_layer_sizes=21...\n",
      "fitting and scoring hidden_layer_sizes=22...\n",
      "fitting and scoring hidden_layer_sizes=23...\n",
      "fitting and scoring hidden_layer_sizes=24...\n",
      "fitting and scoring hidden_layer_sizes=25...\n",
      "fitting and scoring hidden_layer_sizes=26...\n",
      "fitting and scoring hidden_layer_sizes=27...\n",
      "fitting and scoring hidden_layer_sizes=28...\n",
      "fitting and scoring hidden_layer_sizes=29...\n",
      "fitting and scoring hidden_layer_sizes=30...\n",
      "fitting and scoring hidden_layer_sizes=31...\n",
      "fitting and scoring hidden_layer_sizes=32...\n",
      "fitting and scoring hidden_layer_sizes=33...\n",
      "fitting and scoring hidden_layer_sizes=34...\n",
      "fitting and scoring hidden_layer_sizes=35...\n",
      "fitting and scoring hidden_layer_sizes=36...\n",
      "fitting and scoring hidden_layer_sizes=37...\n",
      "fitting and scoring hidden_layer_sizes=38...\n",
      "fitting and scoring hidden_layer_sizes=39...\n",
      "fitting and scoring hidden_layer_sizes=40...\n",
      "fitting and scoring hidden_layer_sizes=41...\n",
      "fitting and scoring hidden_layer_sizes=42...\n",
      "fitting and scoring hidden_layer_sizes=43...\n",
      "fitting and scoring hidden_layer_sizes=44...\n"
     ]
    }
   ],
   "source": [
    "# Recording scores\n",
    "Dscores = []\n",
    "Mscores = []\n",
    "MAX = 45\n",
    "for hid in range(1, MAX):\n",
    "    print(f\"fitting and scoring hidden_layer_sizes={hid}...\")\n",
    "    clf = neural_network.MLPClassifier(hidden_layer_sizes=(hid),max_iter=3000, random_state=42)\n",
    "    \n",
    "    clf.fit(Dtrain_X2, Dtrain_y2)\n",
    "    Dscores.append(clf.score(Dtest_X2, Dtest_y2))\n",
    "    \n",
    "    clf.fit(Mtrain_X2, Mtrain_y2)\n",
    "    Mscores.append(clf.score(Mtest_X2, Mtest_y2))"
   ]
  },
  {
   "cell_type": "code",
   "execution_count": 10,
   "metadata": {},
   "outputs": [
    {
     "name": "stdout",
     "output_type": "stream",
     "text": [
      "hidden_layer_sizes = 10   ::   0.25  ::  0.1282051282051282\n",
      "hidden_layer_sizes = 11   ::   0.35  ::  0.2564102564102564\n",
      "hidden_layer_sizes = 12   ::   0.3  ::  0.20512820512820512\n",
      "hidden_layer_sizes = 13   ::   0.3  ::  0.48717948717948717\n",
      "hidden_layer_sizes = 14   ::   0.5  ::  0.3333333333333333\n",
      "hidden_layer_sizes = 15   ::   0.6  ::  0.5128205128205128\n",
      "hidden_layer_sizes = 16   ::   0.55  ::  0.4358974358974359\n",
      "hidden_layer_sizes = 17   ::   0.5  ::  0.5128205128205128\n",
      "hidden_layer_sizes = 18   ::   0.5  ::  0.46153846153846156\n",
      "hidden_layer_sizes = 19   ::   0.55  ::  0.5128205128205128\n",
      "hidden_layer_sizes = 20   ::   0.5  ::  0.5641025641025641\n",
      "hidden_layer_sizes = 21   ::   0.5  ::  0.4358974358974359\n",
      "hidden_layer_sizes = 22   ::   0.6  ::  0.46153846153846156\n",
      "hidden_layer_sizes = 23   ::   0.6  ::  0.6410256410256411\n",
      "hidden_layer_sizes = 24   ::   0.4  ::  0.48717948717948717\n",
      "hidden_layer_sizes = 25   ::   0.5  ::  0.5128205128205128\n",
      "hidden_layer_sizes = 26   ::   0.6  ::  0.5128205128205128\n",
      "hidden_layer_sizes = 27   ::   0.55  ::  0.6153846153846154\n",
      "hidden_layer_sizes = 28   ::   0.5  ::  0.4358974358974359\n",
      "hidden_layer_sizes = 29   ::   0.55  ::  0.5897435897435898\n",
      "hidden_layer_sizes = 30   ::   0.55  ::  0.48717948717948717\n",
      "hidden_layer_sizes = 31   ::   0.45  ::  0.5897435897435898\n",
      "hidden_layer_sizes = 32   ::   0.45  ::  0.48717948717948717\n",
      "hidden_layer_sizes = 33   ::   0.45  ::  0.5128205128205128\n",
      "hidden_layer_sizes = 34   ::   0.55  ::  0.5897435897435898\n",
      "hidden_layer_sizes = 35   ::   0.65  ::  0.5384615384615384\n",
      "hidden_layer_sizes = 36   ::   0.5  ::  0.5128205128205128\n",
      "hidden_layer_sizes = 37   ::   0.45  ::  0.5641025641025641\n",
      "hidden_layer_sizes = 38   ::   0.5  ::  0.5641025641025641\n",
      "hidden_layer_sizes = 39   ::   0.45  ::  0.5128205128205128\n",
      "hidden_layer_sizes = 40   ::   0.8  ::  0.5384615384615384\n",
      "hidden_layer_sizes = 41   ::   0.55  ::  0.5384615384615384\n",
      "hidden_layer_sizes = 42   ::   0.5  ::  0.5897435897435898\n",
      "hidden_layer_sizes = 43   ::   0.5  ::  0.5384615384615384\n",
      "hidden_layer_sizes = 44   ::   0.55  ::  0.5897435897435898\n",
      "hidden_layer_sizes = 45   ::   0.5  ::  0.5897435897435898\n",
      "hidden_layer_sizes = 46   ::   0.55  ::  0.5384615384615384\n",
      "hidden_layer_sizes = 47   ::   0.5  ::  0.5128205128205128\n",
      "hidden_layer_sizes = 48   ::   0.4  ::  0.6410256410256411\n",
      "hidden_layer_sizes = 49   ::   0.4  ::  0.46153846153846156\n",
      "hidden_layer_sizes = 50   ::   0.6  ::  0.5897435897435898\n",
      "hidden_layer_sizes = 51   ::   0.55  ::  0.5897435897435898\n",
      "hidden_layer_sizes = 52   ::   0.55  ::  0.5384615384615384\n",
      "hidden_layer_sizes = 53   ::   0.5  ::  0.6410256410256411\n"
     ]
    }
   ],
   "source": [
    "for i, Dscore, Mscore in zip(range(MAX), Dscores, Mscores):\n",
    "    print(\"hidden_layer_sizes =\", i+10, '  ::  ', Mscore, ' :: ', Dscore )"
   ]
  },
  {
   "cell_type": "code",
   "execution_count": 11,
   "metadata": {},
   "outputs": [
    {
     "data": {
      "image/png": "[encoded data removed]",
      "text/plain": [
       "<Figure size 432x288 with 1 Axes>"
      ]
     },
     "metadata": {
      "needs_background": "light"
     },
     "output_type": "display_data"
    }
   ],
   "source": [
    "plt.plot(Mscores)\n",
    "plt.plot(Dscores)\n",
    "plt.show()"
   ]
  },
  {
   "cell_type": "code",
   "execution_count": 12,
   "metadata": {},
   "outputs": [
    {
     "name": "stdout",
     "output_type": "stream",
     "text": [
      "hidden_layer_sizes = 1   ::   0.25  ::  0.1282051282051282\n",
      "hidden_layer_sizes = 2   ::   0.35  ::  0.2564102564102564\n",
      "hidden_layer_sizes = 3   ::   0.3  ::  0.20512820512820512\n",
      "hidden_layer_sizes = 4   ::   0.3  ::  0.48717948717948717\n",
      "hidden_layer_sizes = 5   ::   0.5  ::  0.3333333333333333\n",
      "hidden_layer_sizes = 6   ::   0.6  ::  0.5128205128205128\n",
      "hidden_layer_sizes = 7   ::   0.55  ::  0.4358974358974359\n",
      "hidden_layer_sizes = 8   ::   0.5  ::  0.5128205128205128\n",
      "hidden_layer_sizes = 9   ::   0.5  ::  0.46153846153846156\n",
      "hidden_layer_sizes = 10   ::   0.55  ::  0.5128205128205128\n",
      "hidden_layer_sizes = 11   ::   0.5  ::  0.5641025641025641\n",
      "hidden_layer_sizes = 12   ::   0.5  ::  0.4358974358974359\n",
      "hidden_layer_sizes = 13   ::   0.6  ::  0.46153846153846156\n",
      "hidden_layer_sizes = 14   ::   0.6  ::  0.6410256410256411\n",
      "hidden_layer_sizes = 15   ::   0.4  ::  0.48717948717948717\n",
      "hidden_layer_sizes = 16   ::   0.5  ::  0.5128205128205128\n",
      "hidden_layer_sizes = 17   ::   0.6  ::  0.5128205128205128\n",
      "hidden_layer_sizes = 18   ::   0.55  ::  0.6153846153846154\n",
      "hidden_layer_sizes = 19   ::   0.5  ::  0.4358974358974359\n",
      "hidden_layer_sizes = 20   ::   0.55  ::  0.5897435897435898\n",
      "hidden_layer_sizes = 21   ::   0.55  ::  0.48717948717948717\n",
      "hidden_layer_sizes = 22   ::   0.45  ::  0.5897435897435898\n",
      "hidden_layer_sizes = 23   ::   0.45  ::  0.48717948717948717\n",
      "hidden_layer_sizes = 24   ::   0.45  ::  0.5128205128205128\n",
      "hidden_layer_sizes = 25   ::   0.55  ::  0.5897435897435898\n",
      "hidden_layer_sizes = 26   ::   0.65  ::  0.5384615384615384\n",
      "hidden_layer_sizes = 27   ::   0.5  ::  0.5128205128205128\n",
      "hidden_layer_sizes = 28   ::   0.45  ::  0.5641025641025641\n",
      "hidden_layer_sizes = 29   ::   0.5  ::  0.5641025641025641\n",
      "hidden_layer_sizes = 30   ::   0.45  ::  0.5128205128205128\n",
      "hidden_layer_sizes = 31   ::   0.8  ::  0.5384615384615384\n",
      "hidden_layer_sizes = 32   ::   0.55  ::  0.5384615384615384\n",
      "hidden_layer_sizes = 33   ::   0.5  ::  0.5897435897435898\n",
      "hidden_layer_sizes = 34   ::   0.5  ::  0.5384615384615384\n",
      "hidden_layer_sizes = 35   ::   0.55  ::  0.5897435897435898\n",
      "hidden_layer_sizes = 36   ::   0.5  ::  0.5897435897435898\n",
      "hidden_layer_sizes = 37   ::   0.55  ::  0.5384615384615384\n",
      "hidden_layer_sizes = 38   ::   0.5  ::  0.5128205128205128\n",
      "hidden_layer_sizes = 39   ::   0.4  ::  0.6410256410256411\n",
      "hidden_layer_sizes = 40   ::   0.4  ::  0.46153846153846156\n",
      "hidden_layer_sizes = 41   ::   0.6  ::  0.5897435897435898\n",
      "hidden_layer_sizes = 42   ::   0.55  ::  0.5897435897435898\n",
      "hidden_layer_sizes = 43   ::   0.55  ::  0.5384615384615384\n",
      "hidden_layer_sizes = 44   ::   0.5  ::  0.6410256410256411\n"
     ]
    }
   ],
   "source": [
    "for i, Dscore, Mscore in zip(range(MAX), Dscores, Mscores):\n",
    "    print(\"hidden_layer_sizes =\", i+1, '  ::  ', Mscore, ' :: ', Dscore )"
   ]
  },
  {
   "cell_type": "markdown",
   "metadata": {},
   "source": [
    "Clearly `hidden_layer_sizes=16` is the most accurate value.\n",
    "\n",
    "Using this value, I will conduct accuracy testing with all of the data"
   ]
  },
  {
   "cell_type": "code",
   "execution_count": 13,
   "metadata": {},
   "outputs": [],
   "source": [
    "data_portion = 19\n",
    "Dtrain_X3 = np.array(df_digi[df_digi.index%data_portion != 0][Dfeatures])\n",
    "Dtrain_y3 = df_digi[df_digi.index%data_portion != 0][\"class\"]\n",
    "Dtest_X3 = np.array(df_digi[df_digi.index%data_portion == 0][Dfeatures])\n",
    "Dtest_y3 = df_digi[df_digi.index%data_portion == 0][\"class\"]\n",
    "\n",
    "Mtrain_X3 = np.array(df_math[df_math.index%data_portion != 0][Mfeatures])\n",
    "Mtrain_y3 = df_math[df_math.index%data_portion != 0][\"class\"]\n",
    "Mtest_X3 = np.array(df_math[df_math.index%data_portion == 0][Mfeatures])\n",
    "Mtest_y3 = df_math[df_math.index%data_portion == 0][\"class\"]\n",
    "\n",
    "sc = preprocessing.StandardScaler()\n",
    "Dtrain_X3 = sc.fit_transform(Dtrain_X3)\n",
    "Dtest_X3 = sc.fit_transform(Dtest_X3)\n",
    "Mtrain_X3 = sc.fit_transform(Mtrain_X3)\n",
    "Mtest_X3 = sc.fit_transform(Mtest_X3)\n"
   ]
  },
  {
   "cell_type": "code",
   "execution_count": 14,
   "metadata": {},
   "outputs": [
    {
     "name": "stdout",
     "output_type": "stream",
     "text": [
      "fitting...\n",
      "scoring...\n",
      "Digits scored: 0.9412350597609562\n",
      "fitting...\n",
      "scoring...\n",
      "Math scored: 0.9860557768924303\n"
     ]
    }
   ],
   "source": [
    "clf_digi = neural_network.MLPClassifier(hidden_layer_sizes=(39),max_iter=8000, random_state=42)\n",
    "print(\"fitting...\")\n",
    "clf_digi.fit(Dtrain_X3, Dtrain_y3)\n",
    "print(\"scoring...\")\n",
    "print(\"Digits scored:\", clf_digi.score(Dtest_X3, Dtest_y3))\n",
    "\n",
    "clf_math = neural_network.MLPClassifier(hidden_layer_sizes=(39),max_iter=8000, random_state=42)\n",
    "print(\"fitting...\")\n",
    "clf_math.fit(Mtrain_X3, Mtrain_y3)\n",
    "print(\"scoring...\")\n",
    "print(\"Math scored:\", clf_math.score(Mtest_X3, Mtest_y3))"
   ]
  },
  {
   "cell_type": "code",
   "execution_count": 15,
   "metadata": {},
   "outputs": [],
   "source": [
    "import pickle\n",
    "with open('clf_digi.pk', 'wb') as fout:\n",
    "    pickle.dump(clf_digi, fout)\n",
    "with open('clf_math.pk', 'wb') as fout:\n",
    "    pickle.dump(clf_math, fout)"
   ]
  },
  {
   "cell_type": "code",
   "execution_count": 16,
   "metadata": {},
   "outputs": [
    {
     "name": "stdout",
     "output_type": "stream",
     "text": [
      "0.9412350597609562\n",
      "0.9860557768924303\n"
     ]
    }
   ],
   "source": [
    "clf_digi2 = 10\n",
    "clf_math2 = 10\n",
    "with open('clf_digi.pk', 'rb') as fin:\n",
    "    clf_digi2 = pickle.load(fin)\n",
    "with open('clf_math.pk', 'rb') as fin:\n",
    "    clf_math2 = pickle.load(fin)\n",
    "    \n",
    "print(clf_digi2.score(Dtest_X3, Dtest_y3))\n",
    "print(clf_math2.score(Mtest_X3, Mtest_y3))"
   ]
  }
 ],
 "metadata": {
  "kernelspec": {
   "display_name": "Python 3",
   "language": "python",
   "name": "python3"
  },
  "language_info": {
   "codemirror_mode": {
    "name": "ipython",
    "version": 3
   },
   "file_extension": ".py",
   "mimetype": "text/x-python",
   "name": "python",
   "nbconvert_exporter": "python",
   "pygments_lexer": "ipython3",
   "version": "3.7.6"
  }
 },
 "nbformat": 4,
 "nbformat_minor": 4
}
