{
 "cells": [
  {
   "cell_type": "code",
   "execution_count": 1,
   "metadata": {},
   "outputs": [],
   "source": [
    "import matplotlib.pyplot as plt\n",
    "import numpy as np\n",
    "import pandas as pd\n",
    "\n",
    "from os import listdir\n",
    "from os.path import isfile, join\n",
    "\n",
    "from sklearn.datasets import load_digits  \n",
    "\n",
    "# For picture manipulation\n",
    "from PIL import Image\n",
    "\n",
    "# For creating directories\n",
    "import os"
   ]
  },
  {
   "cell_type": "markdown",
   "metadata": {},
   "source": [
    "---\n",
    "# Math Symbols\n",
    "---\n",
    "\n",
    "### Getting list of files in dir"
   ]
  },
  {
   "cell_type": "code",
   "execution_count": 2,
   "metadata": {},
   "outputs": [
    {
     "ename": "FileNotFoundError",
     "evalue": "[Errno 2] No such file or directory: '../../Data/raw_datasets/handwrittenmathsymbols/+'",
     "output_type": "error",
     "traceback": [
      "\u001b[0;31m---------------------------------------------------------------------------\u001b[0m",
      "\u001b[0;31mFileNotFoundError\u001b[0m                         Traceback (most recent call last)",
      "\u001b[0;32m<ipython-input-2-ebbc54259d4c>\u001b[0m in \u001b[0;36m<module>\u001b[0;34m\u001b[0m\n\u001b[1;32m      5\u001b[0m \u001b[0;32mfor\u001b[0m \u001b[0msub_folder\u001b[0m \u001b[0;32min\u001b[0m \u001b[0msub_folders\u001b[0m\u001b[0;34m:\u001b[0m\u001b[0;34m\u001b[0m\u001b[0;34m\u001b[0m\u001b[0m\n\u001b[1;32m      6\u001b[0m     \u001b[0mmypath\u001b[0m \u001b[0;34m=\u001b[0m \u001b[0mfolder\u001b[0m \u001b[0;34m+\u001b[0m\u001b[0;34m\"/\"\u001b[0m\u001b[0;34m+\u001b[0m \u001b[0msub_folder\u001b[0m\u001b[0;34m\u001b[0m\u001b[0;34m\u001b[0m\u001b[0m\n\u001b[0;32m----> 7\u001b[0;31m     \u001b[0mfile_lists\u001b[0m\u001b[0;34m[\u001b[0m\u001b[0msub_folder\u001b[0m\u001b[0;34m]\u001b[0m \u001b[0;34m=\u001b[0m \u001b[0;34m[\u001b[0m\u001b[0mf\u001b[0m \u001b[0;32mfor\u001b[0m \u001b[0mf\u001b[0m \u001b[0;32min\u001b[0m \u001b[0mlistdir\u001b[0m\u001b[0;34m(\u001b[0m\u001b[0mmypath\u001b[0m\u001b[0;34m)\u001b[0m \u001b[0;32mif\u001b[0m \u001b[0misfile\u001b[0m\u001b[0;34m(\u001b[0m\u001b[0mjoin\u001b[0m\u001b[0;34m(\u001b[0m\u001b[0mmypath\u001b[0m\u001b[0;34m,\u001b[0m \u001b[0mf\u001b[0m\u001b[0;34m)\u001b[0m\u001b[0;34m)\u001b[0m\u001b[0;34m]\u001b[0m\u001b[0;34m\u001b[0m\u001b[0;34m\u001b[0m\u001b[0m\n\u001b[0m",
      "\u001b[0;31mFileNotFoundError\u001b[0m: [Errno 2] No such file or directory: '../../Data/raw_datasets/handwrittenmathsymbols/+'"
     ]
    }
   ],
   "source": [
    "folder = \"../../Data/raw_datasets/handwrittenmathsymbols\"\n",
    "sub_folders = ['+', ')', '(', ',', '-']\n",
    "file_lists = {'+':[], ')':[], '(':[], ',':[], '-':[]}\n",
    "\n",
    "for sub_folder in sub_folders:\n",
    "    mypath = folder +\"/\"+ sub_folder\n",
    "    file_lists[sub_folder] = [f for f in listdir(mypath) if isfile(join(mypath, f))]"
   ]
  },
  {
   "cell_type": "markdown",
   "metadata": {},
   "source": [
    "### Reading in images"
   ]
  },
  {
   "cell_type": "code",
   "execution_count": null,
   "metadata": {},
   "outputs": [],
   "source": [
    "# Only reads in up to K images from each class (+, -, ),etc)\n",
    "K = 1906\n",
    "\n",
    "# CHANGE THIS FOR DIFFERENT IMAGE SIZES\n",
    "math_dimensions = 28\n",
    "\n",
    "# Getting images\n",
    "images_scaled = {'+':[], ')':[], '(':[], ',':[], '-':[]}\n",
    "for sub_folder in sub_folders:\n",
    "    print(\"Reading \"+sub_folder+\" Images\")\n",
    "    for file in file_lists[sub_folder][:K]:\n",
    "        mypath = folder + \"/\" + sub_folder + \"/\" + file\n",
    "        # Getting original file\n",
    "        image = Image.open(mypath)\n",
    "        # Scaling image down\n",
    "        images_scaled[sub_folder].append(image.resize((math_dimensions, math_dimensions)))\n",
    "\n",
    "print(\"Done.\")"
   ]
  },
  {
   "cell_type": "markdown",
   "metadata": {},
   "source": [
    "### Converting the RGB images to Monochrome\n",
    "So each pixel will be represented with a single number"
   ]
  },
  {
   "cell_type": "code",
   "execution_count": null,
   "metadata": {},
   "outputs": [],
   "source": [
    "digits_mono = {'+':[], ')':[], '(':[], ',':[], '-':[]}\n",
    "# Turning images into numerical values representing\n",
    "#  brightness of each pixel\n",
    "digit_mono = []\n",
    "for sub_folder in sub_folders:\n",
    "    for i in images_scaled[sub_folder]:\n",
    "        digits_mono[sub_folder].append(np.asarray( i, dtype=\"int32\" ))"
   ]
  },
  {
   "cell_type": "markdown",
   "metadata": {},
   "source": [
    "### Reshaping the digits"
   ]
  },
  {
   "cell_type": "code",
   "execution_count": null,
   "metadata": {},
   "outputs": [],
   "source": [
    "# Reshaping digits\n",
    "digits_shaped = digits_mono.copy()\n",
    "\n",
    "for sub_folder in sub_folders:\n",
    "    for digit in range(len(digits_shaped[sub_folder])):\n",
    "        digits_shaped[sub_folder][digit] = digits_shaped[sub_folder][digit].reshape(-1,math_dimensions**2)"
   ]
  },
  {
   "cell_type": "markdown",
   "metadata": {},
   "source": [
    "### Converting the pixel values\n",
    "Currently the numbers are stored in the form `(0->255, dark->bright)`. For storage purposes, I want the pixels to be represented as `(0->8, bright->dark)`. So, that's what I'm doing here."
   ]
  },
  {
   "cell_type": "code",
   "execution_count": null,
   "metadata": {},
   "outputs": [],
   "source": [
    "dfs = {}\n",
    "for sub_folder in sub_folders:\n",
    "    print(\"Math Symbol: \"+sub_folder)\n",
    "    print(\"Creating DF\")\n",
    "    dfs[sub_folder] = pd.DataFrame([digits_shaped[sub_folder][i][0] for i in range(len(digits_shaped[sub_folder]))])\n",
    "    print(\"Converting...\")\n",
    "    dfs[sub_folder] = dfs[sub_folder].apply(lambda x : ((x*-1 + 256)/32).astype(int) )\n",
    "    print(\"\")"
   ]
  },
  {
   "cell_type": "markdown",
   "metadata": {},
   "source": [
    "### Putting the pixel values into a CSV file"
   ]
  },
  {
   "cell_type": "code",
   "execution_count": null,
   "metadata": {},
   "outputs": [],
   "source": [
    " for sub_folder in sub_folders:\n",
    "    print(\"\\\"\"+sub_folder+\"\\\" -> CSV...\\n\")\n",
    "    dfs[sub_folder].to_csv(\"../../Data/CSV/\"+sub_folder+\"28.csv\")\n",
    "print(\"done\")"
   ]
  },
  {
   "cell_type": "markdown",
   "metadata": {},
   "source": [
    "### Checking counts"
   ]
  },
  {
   "cell_type": "code",
   "execution_count": null,
   "metadata": {},
   "outputs": [],
   "source": [
    "df_list_math = []\n",
    "for sub_folder in sub_folders:\n",
    "    df_temp = dfs[sub_folder]\n",
    "    df_temp[\"class\"] = sub_folder\n",
    "    df_list_math.append(df_temp)\n",
    "    \n",
    "df_concat_math = pd.concat(df_list_math)\n",
    "df_concat_math.groupby(\"class\").count()"
   ]
  },
  {
   "cell_type": "markdown",
   "metadata": {},
   "source": [
    "---\n",
    "# Digits\n",
    "---\n",
    "\n",
    "### Reading in the dataset"
   ]
  },
  {
   "cell_type": "code",
   "execution_count": null,
   "metadata": {},
   "outputs": [],
   "source": [
    "digits_df = pd.read_csv(\"../../Data/raw_datasets/mnist_train.csv\")\n",
    "digits_df.columns"
   ]
  },
  {
   "cell_type": "markdown",
   "metadata": {},
   "source": [
    "### Changing column names"
   ]
  },
  {
   "cell_type": "code",
   "execution_count": null,
   "metadata": {},
   "outputs": [],
   "source": [
    "column_change = {\"label\":\"class\"}\n",
    "\n",
    "# Changing column names (excluding class id) to numerical values\n",
    "for old_name, new_name in zip(digits_df.columns[1:], range(len(digits_df.columns[1:]))):\n",
    "    column_change[old_name] = str(new_name)\n",
    "    \n",
    "digits_df = digits_df.rename(columns=column_change )\n",
    "digits_df.columns"
   ]
  },
  {
   "cell_type": "markdown",
   "metadata": {},
   "source": [
    "#### Changing type of class variable"
   ]
  },
  {
   "cell_type": "code",
   "execution_count": null,
   "metadata": {},
   "outputs": [],
   "source": [
    "# changing class from int to string values\n",
    "digits_df[\"class\"] = digits_df[\"class\"].astype(str)"
   ]
  },
  {
   "cell_type": "markdown",
   "metadata": {},
   "source": [
    "### Converting to same numerical representation as math symbols"
   ]
  },
  {
   "cell_type": "code",
   "execution_count": null,
   "metadata": {},
   "outputs": [],
   "source": [
    "# Exporting to CSVs and dropping class column\n",
    "class_names = ['0','1','2','3','4','5','6','7','8','9']\n",
    "dfs = {}\n",
    "for class_name in class_names:\n",
    "    print(\"\\nDigit: \"+class_name)\n",
    "    # Dropping class because that will be signified by the file name\n",
    "    print(\"Seperating and dropping\")\n",
    "    dfs[class_name] = digits_df[digits_df[\"class\"] == class_name]\n",
    "    dfs[class_name] = dfs[class_name].drop(columns=[\"class\"])\n",
    "    print(\"Converting...\")\n",
    "    dfs[class_name] = dfs[class_name].apply(lambda x: ((x+1)/32).astype(int))"
   ]
  },
  {
   "cell_type": "code",
   "execution_count": null,
   "metadata": {},
   "outputs": [],
   "source": [
    "dfs2 = {}\n",
    "for class_name in class_names:\n",
    "    temp = dfs[class_name]\n",
    "    temp = pd.DataFrame(temp.head(1906))\n",
    "    dfs2[class_name] = temp"
   ]
  },
  {
   "cell_type": "code",
   "execution_count": null,
   "metadata": {},
   "outputs": [],
   "source": [
    "df_list_digits = []\n",
    "for cls in class_names:\n",
    "    df_temp = dfs2[cls]\n",
    "    df_temp[\"class\"] = cls\n",
    "    df_list_digits.append(df_temp)\n",
    "    \n",
    "df_concat_digits = pd.concat(df_list_digits)\n",
    "df_concat_digits.groupby(\"class\").count()"
   ]
  },
  {
   "cell_type": "code",
   "execution_count": null,
   "metadata": {},
   "outputs": [],
   "source": [
    "# Exporting to CSVs and dropping class column\n",
    "for class_name in class_names:\n",
    "    print(\"\\\"\"+class_name+\"\\\" -> CSV...\")\n",
    "    dfs2[class_name].to_csv(\"../../Data/CSV/\"+class_name+\".csv\")"
   ]
  },
  {
   "cell_type": "code",
   "execution_count": null,
   "metadata": {},
   "outputs": [],
   "source": []
  }
 ],
 "metadata": {
  "kernelspec": {
   "display_name": "Python 3",
   "language": "python",
   "name": "python3"
  },
  "language_info": {
   "codemirror_mode": {
    "name": "ipython",
    "version": 3
   },
   "file_extension": ".py",
   "mimetype": "text/x-python",
   "name": "python",
   "nbconvert_exporter": "python",
   "pygments_lexer": "ipython3",
   "version": "3.7.6"
  }
 },
 "nbformat": 4,
 "nbformat_minor": 4
}
