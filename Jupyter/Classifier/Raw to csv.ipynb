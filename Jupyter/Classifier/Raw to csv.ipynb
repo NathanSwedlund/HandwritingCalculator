{
 "cells": [
  {
   "cell_type": "code",
   "execution_count": 1,
   "metadata": {},
   "outputs": [],
   "source": [
    "import matplotlib.pyplot as plt\n",
    "import numpy as np\n",
    "import pandas as pd\n",
    "\n",
    "from os import listdir\n",
    "from os.path import isfile, join\n",
    "\n",
    "from sklearn.datasets import load_digits  \n",
    "\n",
    "# For picture manipulation\n",
    "from PIL import Image\n",
    "\n",
    "# For creating directories\n",
    "import os"
   ]
  },
  {
   "cell_type": "markdown",
   "metadata": {},
   "source": [
    "---\n",
    "# Math Symbols\n",
    "---\n",
    "\n",
    "### Getting list of files in dir"
   ]
  },
  {
   "cell_type": "code",
   "execution_count": 2,
   "metadata": {},
   "outputs": [],
   "source": [
    "folder = \"../../Data/raw_datasets/handwrittenmathsymbols\"\n",
    "sub_folders = ['+', ')', '(', ',', '-']\n",
    "file_lists = {'+':[], ')':[], '(':[], ',':[], '-':[]}\n",
    "\n",
    "for sub_folder in sub_folders:\n",
    "    mypath = folder +\"/\"+ sub_folder\n",
    "    file_lists[sub_folder] = [f for f in listdir(mypath) if isfile(join(mypath, f))]"
   ]
  },
  {
   "cell_type": "markdown",
   "metadata": {},
   "source": [
    "### Reading in images"
   ]
  },
  {
   "cell_type": "code",
   "execution_count": 3,
   "metadata": {},
   "outputs": [
    {
     "name": "stdout",
     "output_type": "stream",
     "text": [
      "Reading + Images\n",
      "Reading ) Images\n",
      "Reading ( Images\n",
      "Reading , Images\n",
      "Reading - Images\n",
      "Done.\n"
     ]
    }
   ],
   "source": [
    "# Only reads in up to K images from each class (+, -, ),etc)\n",
    "K = 8000\n",
    "\n",
    "# Getting images\n",
    "images_scaled = {'+':[], ')':[], '(':[], ',':[], '-':[]}\n",
    "for sub_folder in sub_folders:\n",
    "    print(\"Reading \"+sub_folder+\" Images\")\n",
    "    for file in file_lists[sub_folder][:K]:\n",
    "        mypath = folder + \"/\" + sub_folder + \"/\" + file\n",
    "        # Getting original file\n",
    "        image = Image.open(mypath)\n",
    "        # Scaling image down\n",
    "        images_scaled[sub_folder].append(image.resize((45, 45)))\n",
    "\n",
    "print(\"Done.\")"
   ]
  },
  {
   "cell_type": "markdown",
   "metadata": {},
   "source": [
    "### Converting the RGB images to Monochrome\n",
    "So each pixel will be represented with a single number"
   ]
  },
  {
   "cell_type": "code",
   "execution_count": 4,
   "metadata": {},
   "outputs": [],
   "source": [
    "digits_mono = {'+':[], ')':[], '(':[], ',':[], '-':[]}\n",
    "# Turning images into numerical values representing\n",
    "#  brightness of each pixel\n",
    "digit_mono = []\n",
    "for sub_folder in sub_folders:\n",
    "    for i in images_scaled[sub_folder]:\n",
    "        digits_mono[sub_folder].append(np.asarray( i, dtype=\"int32\" ))"
   ]
  },
  {
   "cell_type": "markdown",
   "metadata": {},
   "source": [
    "### Reshaping the digits"
   ]
  },
  {
   "cell_type": "code",
   "execution_count": 5,
   "metadata": {},
   "outputs": [],
   "source": [
    "# Reshaping digits\n",
    "digits_shaped = digits_mono.copy()\n",
    "\n",
    "for sub_folder in sub_folders:\n",
    "    for digit in range(len(digits_shaped[sub_folder])):\n",
    "        digits_shaped[sub_folder][digit] = digits_shaped[sub_folder][digit].reshape(-1,45*45)"
   ]
  },
  {
   "cell_type": "markdown",
   "metadata": {},
   "source": [
    "### Converting the pixel values\n",
    "Currently the numbers are stored in the form `(0->255, dark->bright)`. For storage purposes, I want the pixels to be represented as `(0->8, bright->dark)`. So, that's what I'm doing here."
   ]
  },
  {
   "cell_type": "code",
   "execution_count": 6,
   "metadata": {},
   "outputs": [
    {
     "name": "stdout",
     "output_type": "stream",
     "text": [
      "Math Symbol: +\n",
      "Creating DF\n",
      "Converting...\n",
      "\n",
      "Math Symbol: )\n",
      "Creating DF\n",
      "Converting...\n",
      "\n",
      "Math Symbol: (\n",
      "Creating DF\n",
      "Converting...\n",
      "\n",
      "Math Symbol: ,\n",
      "Creating DF\n",
      "Converting...\n",
      "\n",
      "Math Symbol: -\n",
      "Creating DF\n",
      "Converting...\n",
      "\n"
     ]
    }
   ],
   "source": [
    "dfs = {}\n",
    "for sub_folder in sub_folders:\n",
    "    print(\"Math Symbol: \"+sub_folder)\n",
    "    print(\"Creating DF\")\n",
    "    dfs[sub_folder] = pd.DataFrame([digits_shaped[sub_folder][i][0] for i in range(len(digits_shaped[sub_folder]))])\n",
    "    print(\"Converting...\")\n",
    "    dfs[sub_folder] = dfs[sub_folder].apply(lambda x : ((x*-1 + 256)/32).astype(int) )\n",
    "    print(\"\")"
   ]
  },
  {
   "cell_type": "markdown",
   "metadata": {},
   "source": [
    "### Putting the pixel values into a CSV file"
   ]
  },
  {
   "cell_type": "code",
   "execution_count": 7,
   "metadata": {},
   "outputs": [
    {
     "name": "stdout",
     "output_type": "stream",
     "text": [
      "\"+\" -> CSV...\n",
      "\n",
      "\")\" -> CSV...\n",
      "\n",
      "\"(\" -> CSV...\n",
      "\n",
      "\",\" -> CSV...\n",
      "\n",
      "\"-\" -> CSV...\n",
      "\n",
      "done\n"
     ]
    }
   ],
   "source": [
    " for sub_folder in sub_folders:\n",
    "    print(\"\\\"\"+sub_folder+\"\\\" -> CSV...\\n\")\n",
    "    dfs[sub_folder].to_csv(sub_folder+\".csv\")\n",
    "print(\"done\")"
   ]
  },
  {
   "cell_type": "markdown",
   "metadata": {},
   "source": [
    "---\n",
    "# Digits\n",
    "---\n",
    "\n",
    "### Reading in the dataset"
   ]
  },
  {
   "cell_type": "code",
   "execution_count": 8,
   "metadata": {},
   "outputs": [
    {
     "data": {
      "text/plain": [
       "Index(['label', '1x1', '1x2', '1x3', '1x4', '1x5', '1x6', '1x7', '1x8', '1x9',\n",
       "       ...\n",
       "       '28x19', '28x20', '28x21', '28x22', '28x23', '28x24', '28x25', '28x26',\n",
       "       '28x27', '28x28'],\n",
       "      dtype='object', length=785)"
      ]
     },
     "execution_count": 8,
     "metadata": {},
     "output_type": "execute_result"
    }
   ],
   "source": [
    "digits_df = pd.read_csv(\"../../Data/raw_datasets/mnist_train.csv\")\n",
    "digits_df.columns"
   ]
  },
  {
   "cell_type": "markdown",
   "metadata": {},
   "source": [
    "### Changing column names"
   ]
  },
  {
   "cell_type": "code",
   "execution_count": 9,
   "metadata": {},
   "outputs": [
    {
     "data": {
      "text/plain": [
       "Index(['class', '0', '1', '2', '3', '4', '5', '6', '7', '8',\n",
       "       ...\n",
       "       '774', '775', '776', '777', '778', '779', '780', '781', '782', '783'],\n",
       "      dtype='object', length=785)"
      ]
     },
     "execution_count": 9,
     "metadata": {},
     "output_type": "execute_result"
    }
   ],
   "source": [
    "column_change = {\"label\":\"class\"}\n",
    "\n",
    "# Changing column names (excluding class id) to numerical values\n",
    "for old_name, new_name in zip(digits_df.columns[1:], range(len(digits_df.columns[1:]))):\n",
    "    column_change[old_name] = str(new_name)\n",
    "    \n",
    "digits_df = digits_df.rename(columns=column_change )\n",
    "digits_df.columns"
   ]
  },
  {
   "cell_type": "markdown",
   "metadata": {},
   "source": [
    "#### Changing type of class variable"
   ]
  },
  {
   "cell_type": "code",
   "execution_count": 10,
   "metadata": {},
   "outputs": [],
   "source": [
    "# changing class from int to string values\n",
    "digits_df[\"class\"] = digits_df[\"class\"].astype(str)"
   ]
  },
  {
   "cell_type": "markdown",
   "metadata": {},
   "source": [
    "### Converting to same numerical representation as math symbols"
   ]
  },
  {
   "cell_type": "code",
   "execution_count": 15,
   "metadata": {},
   "outputs": [
    {
     "name": "stdout",
     "output_type": "stream",
     "text": [
      "\n",
      "Digit: 0\n",
      "Seperating and dropping\n",
      "Converting\n",
      "\n",
      "Digit: 1\n",
      "Seperating and dropping\n",
      "Converting\n",
      "\n",
      "Digit: 2\n",
      "Seperating and dropping\n",
      "Converting\n",
      "\n",
      "Digit: 3\n",
      "Seperating and dropping\n",
      "Converting\n",
      "\n",
      "Digit: 4\n",
      "Seperating and dropping\n",
      "Converting\n",
      "\n",
      "Digit: 5\n",
      "Seperating and dropping\n",
      "Converting\n",
      "\n",
      "Digit: 6\n",
      "Seperating and dropping\n",
      "Converting\n",
      "\n",
      "Digit: 7\n",
      "Seperating and dropping\n",
      "Converting\n",
      "\n",
      "Digit: 8\n",
      "Seperating and dropping\n",
      "Converting\n",
      "\n",
      "Digit: 9\n",
      "Seperating and dropping\n",
      "Converting\n"
     ]
    }
   ],
   "source": [
    "# Exporting to CSVs and dropping class column\n",
    "class_names = ['0','1','2','3','4','5','6','7','8','9']\n",
    "dfs = {}\n",
    "for class_name in class_names:\n",
    "    print(\"\\nDigit: \"+class_name)\n",
    "    # Dropping class because that will be signified by the file name\n",
    "    print(\"Seperating and dropping\")\n",
    "    dfs[class_name] = digits_df[digits_df[\"class\"] == class_name]\n",
    "    dfs[class_name] = dfs[class_name].drop(columns=[\"class\"])\n",
    "    print(\"Converting...\")\n",
    "    dfs[class_name] = dfs[class_name].apply(lambda x: ((x+1)/32).astype(int))"
   ]
  },
  {
   "cell_type": "code",
   "execution_count": 17,
   "metadata": {},
   "outputs": [
    {
     "name": "stdout",
     "output_type": "stream",
     "text": [
      "\"0\" -> CSV...\n",
      "\"1\" -> CSV...\n",
      "\"2\" -> CSV...\n",
      "\"3\" -> CSV...\n",
      "\"4\" -> CSV...\n",
      "\"5\" -> CSV...\n",
      "\"6\" -> CSV...\n",
      "\"7\" -> CSV...\n",
      "\"8\" -> CSV...\n",
      "\"9\" -> CSV...\n"
     ]
    }
   ],
   "source": [
    "# Exporting to CSVs and dropping class column\n",
    "for class_name in class_names:\n",
    "    print(\"\\\"\"+class_name+\"\\\" -> CSV...\")\n",
    "    dfs[class_name].to_csv(\"\"+class_name+\".csv\")"
   ]
  }
 ],
 "metadata": {
  "kernelspec": {
   "display_name": "Python 3",
   "language": "python",
   "name": "python3"
  },
  "language_info": {
   "codemirror_mode": {
    "name": "ipython",
    "version": 3
   },
   "file_extension": ".py",
   "mimetype": "text/x-python",
   "name": "python",
   "nbconvert_exporter": "python",
   "pygments_lexer": "ipython3",
   "version": "3.7.4"
  }
 },
 "nbformat": 4,
 "nbformat_minor": 2
}
