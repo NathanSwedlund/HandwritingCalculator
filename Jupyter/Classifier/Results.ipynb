{
 "cells": [
  {
   "cell_type": "markdown",
   "metadata": {},
   "source": [
    "# **Results**"
   ]
  },
  {
   "cell_type": "code",
   "execution_count": 1,
   "metadata": {},
   "outputs": [],
   "source": [
    "import matplotlib.pyplot as plt\n",
    "import pickle\n",
    "# import cv2\n",
    "\n",
    "# For general use\n",
    "import matplotlib.pyplot as plt\n",
    "import numpy as np\n",
    "import pandas as pd\n",
    "\n",
    "# For our classifiers\n",
    "from sklearn import neighbors\n",
    "from sklearn import naive_bayes\n",
    "from sklearn import tree\n",
    "from sklearn import neural_network\n",
    "from sklearn import preprocessing\n",
    "\n",
    "from os import listdir\n",
    "from os.path import isfile, join\n",
    "\n",
    "# For confusion matrix/data importing\n",
    "from sklearn import metrics  \n",
    "from sklearn.datasets import load_digits \n",
    "\n",
    "from PIL import Image\n",
    "\n",
    "# For confusion matrix/data importing\n",
    "from sklearn import metrics  \n",
    "from sklearn.datasets import load_digits "
   ]
  },
  {
   "cell_type": "markdown",
   "metadata": {},
   "source": [
    "### Load Classifiers"
   ]
  },
  {
   "cell_type": "code",
   "execution_count": 2,
   "metadata": {},
   "outputs": [
    {
     "name": "stderr",
     "output_type": "stream",
     "text": [
      "/opt/anaconda3/lib/python3.7/site-packages/sklearn/base.py:318: UserWarning: Trying to unpickle estimator LabelBinarizer from version 0.22.1 when using version 0.22.2.post1. This might lead to breaking code or invalid results. Use at your own risk.\n",
      "  UserWarning)\n",
      "/opt/anaconda3/lib/python3.7/site-packages/sklearn/base.py:318: UserWarning: Trying to unpickle estimator MLPClassifier from version 0.22.1 when using version 0.22.2.post1. This might lead to breaking code or invalid results. Use at your own risk.\n",
      "  UserWarning)\n",
      "/opt/anaconda3/lib/python3.7/site-packages/sklearn/utils/deprecation.py:144: FutureWarning: The sklearn.neural_network.multilayer_perceptron module is  deprecated in version 0.22 and will be removed in version 0.24. The corresponding classes / functions should instead be imported from sklearn.neural_network. Anything that cannot be imported from sklearn.neural_network is now part of the private API.\n",
      "  warnings.warn(message, FutureWarning)\n",
      "/opt/anaconda3/lib/python3.7/site-packages/sklearn/utils/deprecation.py:144: FutureWarning: The sklearn.preprocessing.label module is  deprecated in version 0.22 and will be removed in version 0.24. The corresponding classes / functions should instead be imported from sklearn.preprocessing. Anything that cannot be imported from sklearn.preprocessing is now part of the private API.\n",
      "  warnings.warn(message, FutureWarning)\n",
      "/opt/anaconda3/lib/python3.7/site-packages/sklearn/base.py:318: UserWarning: Trying to unpickle estimator LabelBinarizer from version 0.21.3 when using version 0.22.2.post1. This might lead to breaking code or invalid results. Use at your own risk.\n",
      "  UserWarning)\n",
      "/opt/anaconda3/lib/python3.7/site-packages/sklearn/base.py:318: UserWarning: Trying to unpickle estimator MLPClassifier from version 0.21.3 when using version 0.22.2.post1. This might lead to breaking code or invalid results. Use at your own risk.\n",
      "  UserWarning)\n"
     ]
    }
   ],
   "source": [
    "with open('clf_digi.pk', 'rb') as fin:\n",
    "    clf_digi = pickle.load(fin)\n",
    "with open('clf_math.pk', 'rb') as fin:\n",
    "    clf_math = pickle.load(fin)\n",
    "with open('clf_all.pk', 'rb') as fin:\n",
    "    clf_all = pickle.load(fin) "
   ]
  },
  {
   "cell_type": "markdown",
   "metadata": {},
   "source": [
    "### get list of images"
   ]
  },
  {
   "cell_type": "code",
   "execution_count": 3,
   "metadata": {},
   "outputs": [],
   "source": [
    "symbols = [str(x) for x in range(10)]+[\"+\",\"-\",\",\",\"(\",\")\",]\n",
    "\n",
    "file_lists = {}\n",
    "for symbol in symbols:\n",
    "    mypath =  \"img/\"+symbol+\"s\"\n",
    "    file_lists[symbol] = [f for f in listdir(mypath) if isfile(join(mypath, f))]\n",
    "    if(\".DS_Store\" in file_lists[symbol]):\n",
    "        file_lists[symbol].remove(\".DS_Store\")"
   ]
  },
  {
   "cell_type": "code",
   "execution_count": 5,
   "metadata": {},
   "outputs": [
    {
     "data": {
      "text/plain": [
       "['8.png',\n",
       " '4.png',\n",
       " '5.png',\n",
       " '7.png',\n",
       " '6.png',\n",
       " '2.png',\n",
       " '3.png',\n",
       " '1.png',\n",
       " '0.png']"
      ]
     },
     "execution_count": 5,
     "metadata": {},
     "output_type": "execute_result"
    }
   ],
   "source": [
    "file_lists[\")\"]"
   ]
  },
  {
   "cell_type": "markdown",
   "metadata": {},
   "source": [
    "### Load Images"
   ]
  },
  {
   "cell_type": "code",
   "execution_count": 6,
   "metadata": {},
   "outputs": [
    {
     "name": "stdout",
     "output_type": "stream",
     "text": [
      "img/0s/8.png\n",
      "img/0s/9.png\n",
      "img/0s/11.png\n",
      "img/0s/10.png\n",
      "img/0s/4.png\n",
      "img/0s/5.png\n",
      "img/0s/7.png\n",
      "img/0s/6.png\n",
      "img/0s/2.png\n",
      "img/0s/3.png\n",
      "img/0s/1.png\n",
      "img/0s/0.png\n",
      "img/1s/48.png\n",
      "img/1s/49.png\n",
      "img/1s/8.png\n",
      "img/1s/9.png\n",
      "img/1s/14.png\n",
      "img/1s/12.png\n",
      "img/1s/13.png\n",
      "img/1s/11.png\n",
      "img/1s/10.png\n",
      "img/1s/4.png\n",
      "img/1s/5.png\n",
      "img/1s/7.png\n",
      "img/1s/6.png\n",
      "img/1s/2.png\n",
      "img/1s/50.png\n",
      "img/1s/3.png\n",
      "img/1s/1.png\n",
      "img/1s/47.png\n",
      "img/1s/46.png\n",
      "img/1s/0.png\n",
      "img/2s/8.png\n",
      "img/2s/9.png\n",
      "img/2s/12.png\n",
      "img/2s/13.png\n",
      "img/2s/11.png\n",
      "img/2s/10.png\n",
      "img/2s/4.png\n",
      "img/2s/56.png\n",
      "img/2s/5.png\n",
      "img/2s/55.png\n",
      "img/2s/7.png\n",
      "img/2s/54.png\n",
      "img/2s/6.png\n",
      "img/2s/2.png\n",
      "img/2s/3.png\n",
      "img/2s/53.png\n",
      "img/2s/1.png\n",
      "img/2s/52.png\n",
      "img/2s/0.png\n",
      "img/3s/8.png\n",
      "img/3s/9.png\n",
      "img/3s/12.png\n",
      "img/3s/39.png\n",
      "img/3s/11.png\n",
      "img/3s/10.png\n",
      "img/3s/38.png\n",
      "img/3s/37.png\n",
      "img/3s/4.png\n",
      "img/3s/5.png\n",
      "img/3s/41.png\n",
      "img/3s/7.png\n",
      "img/3s/6.png\n",
      "img/3s/40.png\n",
      "img/3s/2.png\n",
      "img/3s/3.png\n",
      "img/3s/1.png\n",
      "img/3s/0.png\n",
      "img/4s/8.png\n",
      "img/4s/9.png\n",
      "img/4s/12.png\n",
      "img/4s/13.png\n",
      "img/4s/11.png\n",
      "img/4s/10.png\n",
      "img/4s/4.png\n",
      "img/4s/7.png\n",
      "img/4s/54.png\n",
      "img/4s/6.png\n",
      "img/4s/2.png\n",
      "img/4s/50.png\n",
      "img/4s/3.png\n",
      "img/4s/51.png\n",
      "img/4s/53.png\n",
      "img/4s/1.png\n",
      "img/4s/52.png\n",
      "img/4s/0.png\n",
      "img/5s/60.png\n",
      "img/5s/61.png\n",
      "img/5s/59.png\n",
      "img/5s/58.png\n",
      "img/5s/8.png\n",
      "img/5s/9.png\n",
      "img/5s/14.png\n",
      "img/5s/15.png\n",
      "img/5s/12.png\n",
      "img/5s/13.png\n",
      "img/5s/11.png\n",
      "img/5s/10.png\n",
      "img/5s/4.png\n",
      "img/5s/5.png\n",
      "img/5s/57.png\n",
      "img/5s/7.png\n",
      "img/5s/6.png\n",
      "img/5s/2.png\n",
      "img/5s/3.png\n",
      "img/5s/1.png\n",
      "img/5s/0.png\n",
      "img/6s/8.png\n",
      "img/6s/9.png\n",
      "img/6s/12.png\n",
      "img/6s/11.png\n",
      "img/6s/10.png\n",
      "img/6s/4.png\n",
      "img/6s/56.png\n",
      "img/6s/5.png\n",
      "img/6s/55.png\n",
      "img/6s/7.png\n",
      "img/6s/54.png\n",
      "img/6s/6.png\n",
      "img/6s/2.png\n",
      "img/6s/3.png\n",
      "img/6s/51.png\n",
      "img/6s/1.png\n",
      "img/6s/52.png\n",
      "img/6s/0.png\n",
      "img/7s/48.png\n",
      "img/7s/49.png\n",
      "img/7s/8.png\n",
      "img/7s/9.png\n",
      "img/7s/10.png\n",
      "img/7s/4.png\n",
      "img/7s/5.png\n",
      "img/7s/7.png\n",
      "img/7s/6.png\n",
      "img/7s/2.png\n",
      "img/7s/50.png\n",
      "img/7s/3.png\n",
      "img/7s/1.png\n",
      "img/7s/47.png\n",
      "img/7s/46.png\n",
      "img/7s/0.png\n",
      "img/8s/48.png\n",
      "img/8s/49.png\n",
      "img/8s/4.png\n",
      "img/8s/5.png\n",
      "img/8s/6.png\n",
      "img/8s/2.png\n",
      "img/8s/50.png\n",
      "img/8s/3.png\n",
      "img/8s/45.png\n",
      "img/8s/1.png\n",
      "img/8s/47.png\n",
      "img/8s/46.png\n",
      "img/8s/0.png\n",
      "img/9s/48.png\n",
      "img/9s/49.png\n",
      "img/9s/8.png\n",
      "img/9s/9.png\n",
      "img/9s/12.png\n",
      "img/9s/11.png\n",
      "img/9s/10.png\n",
      "img/9s/4.png\n",
      "img/9s/5.png\n",
      "img/9s/7.png\n",
      "img/9s/6.png\n",
      "img/9s/2.png\n",
      "img/9s/50.png\n",
      "img/9s/3.png\n",
      "img/9s/51.png\n",
      "img/9s/1.png\n",
      "img/9s/52.png\n",
      "img/9s/0.png\n",
      "img/+s/4.png\n",
      "img/+s/5.png\n",
      "img/+s/7.png\n",
      "img/+s/6.png\n",
      "img/+s/2.png\n",
      "img/+s/3.png\n",
      "img/+s/1.png\n",
      "img/+s/0.png\n",
      "img/-s/8.png\n",
      "img/-s/9.png\n",
      "img/-s/4.png\n",
      "img/-s/5.png\n",
      "img/-s/7.png\n",
      "img/-s/6.png\n",
      "img/-s/2.png\n",
      "img/-s/3.png\n",
      "img/-s/1.png\n",
      "img/-s/0.png\n",
      "img/,s/8.png\n",
      "img/,s/9.png\n",
      "img/,s/4.png\n",
      "img/,s/5.png\n",
      "img/,s/7.png\n",
      "img/,s/6.png\n",
      "img/,s/2.png\n",
      "img/,s/3.png\n",
      "img/,s/1.png\n",
      "img/,s/0.png\n",
      "img/(s/8.png\n",
      "img/(s/9.png\n",
      "img/(s/10.png\n",
      "img/(s/4.png\n",
      "img/(s/5.png\n",
      "img/(s/7.png\n",
      "img/(s/6.png\n",
      "img/(s/2.png\n",
      "img/(s/3.png\n",
      "img/(s/1.png\n",
      "img/(s/0.png\n",
      "img/)s/8.png\n",
      "img/)s/4.png\n",
      "img/)s/5.png\n",
      "img/)s/7.png\n",
      "img/)s/6.png\n",
      "img/)s/2.png\n",
      "img/)s/3.png\n",
      "img/)s/1.png\n",
      "img/)s/0.png\n"
     ]
    }
   ],
   "source": [
    "\n",
    "images = {}\n",
    "for symbol in symbols:\n",
    "    images[symbol] = []\n",
    "    for file in file_lists[symbol]:\n",
    "        path = \"img/\"+symbol+\"s/\"+file\n",
    "        print(path)\n",
    "        \n",
    "        image = Image.open(path)\n",
    "        # Scaling image down\n",
    "        images[symbol].append(image.resize((45, 45)))\n",
    "\n",
    "#         images[symbol].append(cv2.imread(path))\n",
    "        \n",
    "#         plt.figure(figsize=(0.5,0.5))\n",
    "#         plt.imshow(cv2.imread(path))\n",
    "#         plt.show()\n",
    "    "
   ]
  },
  {
   "cell_type": "code",
   "execution_count": 7,
   "metadata": {},
   "outputs": [
    {
     "name": "stdout",
     "output_type": "stream",
     "text": [
      "0\n",
      "1\n",
      "2\n",
      "3\n",
      "4\n",
      "5\n",
      "6\n",
      "7\n",
      "8\n",
      "9\n",
      "+\n",
      "-\n",
      ",\n",
      "(\n",
      ")\n"
     ]
    }
   ],
   "source": [
    "images_mono = {}\n",
    "# Turning images into numerical values representing\n",
    "#  brightness of each pixel\n",
    "for symbol in symbols:\n",
    "    print(symbol)\n",
    "    images_mono[symbol] = []\n",
    "    for i in images[symbol]:\n",
    "        images_mono[symbol].append(np.asarray( i, dtype=\"int32\" ))"
   ]
  },
  {
   "cell_type": "code",
   "execution_count": null,
   "metadata": {},
   "outputs": [],
   "source": []
  },
  {
   "cell_type": "code",
   "execution_count": 8,
   "metadata": {},
   "outputs": [
    {
     "name": "stdout",
     "output_type": "stream",
     "text": [
      "0\n",
      "1\n",
      "2\n",
      "3\n",
      "4\n",
      "5\n",
      "6\n",
      "7\n",
      "8\n",
      "9\n",
      "+\n",
      "-\n",
      ",\n",
      "(\n",
      ")\n"
     ]
    }
   ],
   "source": [
    "# Reshaping digits\n",
    "images_shaped = images_mono.copy()\n",
    "\n",
    "for symbol in symbols:\n",
    "    print(symbol)\n",
    "    for image in range(len(images_shaped[symbol])):\n",
    "        images_shaped[symbol][image] = images_shaped[symbol][image].reshape(-1, 45**2)"
   ]
  },
  {
   "cell_type": "code",
   "execution_count": 9,
   "metadata": {},
   "outputs": [
    {
     "data": {
      "text/plain": [
       "[array([[0, 0, 0, ..., 0, 0, 0]], dtype=int32),\n",
       " array([[0, 0, 0, ..., 0, 0, 0]], dtype=int32),\n",
       " array([[0, 0, 0, ..., 0, 0, 0]], dtype=int32),\n",
       " array([[0, 0, 0, ..., 0, 0, 0]], dtype=int32),\n",
       " array([[0, 0, 0, ..., 0, 0, 0]], dtype=int32),\n",
       " array([[0, 0, 0, ..., 0, 0, 0]], dtype=int32),\n",
       " array([[0, 0, 0, ..., 0, 0, 0]], dtype=int32),\n",
       " array([[0, 0, 0, ..., 0, 0, 0]], dtype=int32)]"
      ]
     },
     "execution_count": 9,
     "metadata": {},
     "output_type": "execute_result"
    }
   ],
   "source": [
    "# images_shaped[\"0\"][0].shape\n",
    "images_shaped[\"+\"]"
   ]
  },
  {
   "cell_type": "markdown",
   "metadata": {},
   "source": [
    "### Converting the pixel values\n"
   ]
  },
  {
   "cell_type": "code",
   "execution_count": 10,
   "metadata": {},
   "outputs": [
    {
     "name": "stdout",
     "output_type": "stream",
     "text": [
      "Math Symbol: 0\n",
      "Creating DF\n",
      "\n",
      "Math Symbol: 1\n",
      "Creating DF\n",
      "\n",
      "Math Symbol: 2\n",
      "Creating DF\n",
      "\n",
      "Math Symbol: 3\n",
      "Creating DF\n",
      "\n",
      "Math Symbol: 4\n",
      "Creating DF\n",
      "\n",
      "Math Symbol: 5\n",
      "Creating DF\n",
      "\n",
      "Math Symbol: 6\n",
      "Creating DF\n",
      "\n",
      "Math Symbol: 7\n",
      "Creating DF\n",
      "\n",
      "Math Symbol: 8\n",
      "Creating DF\n",
      "\n",
      "Math Symbol: 9\n",
      "Creating DF\n",
      "\n",
      "Math Symbol: +\n",
      "Creating DF\n",
      "\n",
      "Math Symbol: -\n",
      "Creating DF\n",
      "\n",
      "Math Symbol: ,\n",
      "Creating DF\n",
      "\n",
      "Math Symbol: (\n",
      "Creating DF\n",
      "\n",
      "Math Symbol: )\n",
      "Creating DF\n",
      "\n"
     ]
    }
   ],
   "source": [
    "dfs = {}\n",
    "for symbol in symbols:\n",
    "    print(\"Math Symbol: \"+symbol)\n",
    "    print(\"Creating DF\")\n",
    "    dfs[symbol] = pd.DataFrame([images_shaped[symbol][i][0] for i in range(len(images_shaped[symbol]))])\n",
    "#     print(\"Converting...\")\n",
    "#     dfs[symbol] = dfs[symbol].apply(lambda x : (x/32).astype(int) )\n",
    "    print(\"\")"
   ]
  },
  {
   "cell_type": "code",
   "execution_count": null,
   "metadata": {},
   "outputs": [],
   "source": []
  },
  {
   "cell_type": "markdown",
   "metadata": {},
   "source": [
    "The classifiers accept a 28x28 greyscale img. We need to convert our images to a format that the classifiers accept. The images come with varying sizes and are encoded using RGB."
   ]
  },
  {
   "cell_type": "markdown",
   "metadata": {},
   "source": [
    "#### Grayscale/Thresholding"
   ]
  },
  {
   "cell_type": "code",
   "execution_count": 11,
   "metadata": {},
   "outputs": [],
   "source": [
    "# fig, axs = plt.subplots(1,3, figsize=(4, 4))\n",
    "# fig.tight_layout(pad=0.25)\n",
    "\n",
    "\n",
    "# axs[0].imshow(img)\n",
    "# axs[0].set_title(\"Default\")\n",
    "\n",
    "# # Grayscale\n",
    "# img_gray = cv2.cvtColor(img, cv2.COLOR_BGR2GRAY)\n",
    "# axs[1].imshow(img_gray, cmap=\"Greys_r\")\n",
    "# axs[1].set_title(\"Grayscale\")\n",
    "\n",
    "# # Threshold\n",
    "# _, img_thresh = cv2.threshold(img_gray, 120, 255, cv2.THRESH_BINARY_INV)\n",
    "# axs[2].imshow(img_thresh, cmap=\"Greys_r\")\n",
    "# axs[2].set_title(\"Threshold\")\n",
    "\n",
    "# plt.show()"
   ]
  },
  {
   "cell_type": "markdown",
   "metadata": {},
   "source": [
    "#### Resizing"
   ]
  },
  {
   "cell_type": "code",
   "execution_count": 11,
   "metadata": {},
   "outputs": [],
   "source": [
    "# print(\"Img shape before resizing:\", img_thresh.shape)\n",
    "# resized_img_28 = cv2.resize(img_thresh, (28, 28))\n",
    "# resized_img_45 = cv2.resize(img_thresh, (45, 45))\n",
    "# print(\"Img shape after resizing:\", resized_img_28.shape)\n",
    "# print(\"Img shape after resizing:\", resized_img_45.shape)\n",
    "\n",
    "# fig, axs = plt.subplots(1,3, figsize=(4, 4))\n",
    "# fig.tight_layout(pad=0.25)\n",
    "\n",
    "# axs[0].imshow(img_thresh)\n",
    "# axs[0].set_title(\"Default\")\n",
    "\n",
    "# axs[1].imshow(resized_img_28)\n",
    "# axs[1].set_title(\"Default\")\n",
    "\n",
    "# axs[2].imshow(resized_img_45)\n",
    "# axs[2].set_title(\"Default\")\n",
    "\n",
    "# plt.show()"
   ]
  },
  {
   "cell_type": "markdown",
   "metadata": {},
   "source": [
    "### Classification"
   ]
  },
  {
   "cell_type": "code",
   "execution_count": 12,
   "metadata": {},
   "outputs": [],
   "source": [
    "# lookup = {\n",
    "#     \"0\" : 0,\n",
    "#     \"1\" : 1,\n",
    "#     \"2\" : 2,   \n",
    "#     \"3\" : 3,\n",
    "#     \"4\" : 4,\n",
    "#     \"5\" : 5,\n",
    "#     \"6\" : 6,\n",
    "#     \"7\" : 7,\n",
    "#     \"8\" : 8,\n",
    "#     \"9\" : 9,\n",
    "#     \"(\" : 0,\n",
    "#     \")\" : 1,\n",
    "#     \"+\" : 2,\n",
    "#     \"-\" : 3,\n",
    "#     \"/\" : 4,\n",
    "# }"
   ]
  },
  {
   "cell_type": "code",
   "execution_count": 13,
   "metadata": {},
   "outputs": [],
   "source": [
    "# symbol = lookup[clf_digit.predict([resized_img_28.ravel()])[0]]\n",
    "# print(\"Digit Classification:\")\n",
    "# print(\"\\tSymbol\",symbol)\n",
    "# print(\"\\tConfidence\",clf_digit.predict_proba([resized_img_28.ravel()])[0][symbol])\n",
    "\n",
    "# symbol = clf_math.predict([resized_img_45.ravel()])[0]\n",
    "# print(\"Math Classification:\")\n",
    "# print(\"\\tSymbol\",symbol)\n",
    "# print(\"\\tConfidence\",clf_math.predict_proba([resized_img_45.ravel()])[0][lookup[symbol]])\n",
    "\n",
    "# symbol = clf.predict([resized_img_28.ravel()])[0]\n",
    "# print(\"General Classification:\")\n",
    "# print(\"\\tSymbol\",symbol)\n",
    "# print(\"\\tConfidence\",clf.predict_proba([resized_img_28.ravel()])[0][lookup[symbol]])"
   ]
  },
  {
   "cell_type": "code",
   "execution_count": null,
   "metadata": {},
   "outputs": [],
   "source": []
  },
  {
   "cell_type": "code",
   "execution_count": 12,
   "metadata": {},
   "outputs": [],
   "source": [
    "# functions for testing\n",
    "def compress_array(A, initx, inity, endx, endy):\n",
    "    arr = (A.reshape(initx,inity)).astype('uint8') # sample array\n",
    "    im = Image.fromarray(arr) # monochromatic image\n",
    "    im = im.resize((endx,endy))\n",
    "    return np.array(im)\n",
    "\n",
    "def testImg(arr):\n",
    "    initx = int(np.sqrt(len(arr)))\n",
    "    inity = initx\n",
    "\n",
    "    arrM = compress_array(arr, initx, inity, 45, 45).reshape(1,-1)\n",
    "    arrD = compress_array(arr, initx, inity, 28, 28).reshape(1,-1)\n",
    "\n",
    "    probM = clf_math.predict_proba(arrM)[0]\n",
    "    probD = clf_digi.predict_proba(arrD)[0]\n",
    "    probA = clf_all.predict_proba(arrD)[0]\n",
    "\n",
    "    print(\"Math: ------------------------------\")\n",
    "    plt.imshow(arrM.reshape(45,45), cmap=plt.cm.binary)\n",
    "    plt.title(clf_math.predict(arrM)[0])\n",
    "    plt.show()\n",
    "    for p, c in sorted(zip(probM, clf_math.classes_)):\n",
    "        print(c, \"  ::  \", p)\n",
    "\n",
    "    print(\"\\nDigit: ---------------------------\")\n",
    "    plt.imshow(arrD.reshape(28,28), cmap=plt.cm.binary)\n",
    "    plt.title(clf_digi.predict(arrD)[0])\n",
    "    plt.show()\n",
    "    for p, c in sorted(zip(probD, clf_digi.classes_)):\n",
    "        print(c, \"  ::  \", p)\n",
    "\n",
    "    print(\"\\nAll: ------------------------------\")\n",
    "    plt.imshow(arrD.reshape(28,28), cmap=plt.cm.binary)\n",
    "    plt.title(clf_all.predict(arrD)[0])\n",
    "    plt.show()\n",
    "    for p, c in sorted(zip(probA, clf_all.classes_)):\n",
    "        print(c, \"  ::  \", p)\n",
    "        \n",
    "# Functions for finding combined classification\n",
    "def predict_as_dictionary(clf, arr, num):\n",
    "    initx = int(np.sqrt(len(arr)))\n",
    "    inity = initx\n",
    "    arr2 = compress_array(arr, initx, inity, num, num).reshape(1,-1)\n",
    "    return dict(zip(clf.classes_, clf.predict_proba(arr2)[0]))\n",
    "\n",
    "def classify(arr):\n",
    "    probM = predict_as_dictionary(clf_math, arr, 45)\n",
    "    probD = predict_as_dictionary(clf_digi, arr, 28)\n",
    "    probAll = predict_as_dictionary(clf_all, arr, 28)\n",
    "    \n",
    "    prob_M_D = {**probM, **probD}\n",
    "    \n",
    "    prob_true = {}\n",
    "    for symbol in symbols:\n",
    "        prob_true[symbol] = probAll[symbol]*prob_M_D[symbol]\n",
    "\n",
    "    print(\"\\n\\nCombined prediction ------------------------------------------\")\n",
    "    for i in sorted(zip(prob_true.values(), symbols)):\n",
    "        print(i)"
   ]
  },
  {
   "cell_type": "markdown",
   "metadata": {},
   "source": [
    "### Making a scaled copy of the data"
   ]
  },
  {
   "cell_type": "code",
   "execution_count": 13,
   "metadata": {},
   "outputs": [],
   "source": [
    "sc_list = []\n",
    "for symbol in symbols:\n",
    "    temp = dfs[symbol].copy()\n",
    "    temp[\"class\"] = symbol\n",
    "    sc_list.append(temp)\n",
    "    \n",
    "sc_df = pd.concat(sc_list)\n",
    "features = [x for x in sc_df]\n",
    "features.remove(\"class\")\n",
    "# sc_df\n",
    "\n",
    "X = np.array(sc_df[features].values)\n",
    "y = sc_df[\"class\"].values\n",
    "\n",
    "sc = preprocessing.StandardScaler()\n",
    "sc_X = sc.fit_transform(X)\n",
    "\n",
    "sc_dict = {}\n",
    "for symbol in symbols:\n",
    "    sc_dict[symbol] = []\n",
    "\n",
    "for i in range(len(sc_X)):\n",
    "    sc_dict[y[i]].append(sc_X[i])\n",
    "\n",
    "\n",
    "\n",
    "# sc_X = sc.fit_transform(sc_df[features].values)\n",
    "# sc_y = sc_df[\"class\"]\n",
    "\n",
    "# sc_dict = {}\n",
    "# for symbol in symbols:\n",
    "#     sc_dict[symbol] = pd[pd[\"class\"] == symbol]\n",
    "    \n",
    "# sc_dict[\"0\"]\n",
    "\n",
    "# sc_dict = {}\n",
    "# for symbol in symbols"
   ]
  },
  {
   "cell_type": "code",
   "execution_count": 16,
   "metadata": {},
   "outputs": [
    {
     "data": {
      "text/plain": [
       "(2025,)"
      ]
     },
     "execution_count": 16,
     "metadata": {},
     "output_type": "execute_result"
    }
   ],
   "source": [
    "sc_dict[\"0\"][0].shape"
   ]
  },
  {
   "cell_type": "code",
   "execution_count": 22,
   "metadata": {
    "scrolled": true
   },
   "outputs": [
    {
     "name": "stdout",
     "output_type": "stream",
     "text": [
      "0\n",
      "1\n",
      "2\n",
      "3\n",
      "4\n",
      "5\n",
      "6\n",
      "7\n",
      "8\n",
      "9\n",
      "+\n",
      "-\n",
      ",\n",
      "(\n",
      ")\n",
      "DT:  101\n",
      "KN:  161\n",
      "GA:  148\n",
      "NN:  155\n",
      "sc_NN:  183\n",
      "sc_KN:  148\n",
      "comb:  171\n",
      "count:  221\n"
     ]
    }
   ],
   "source": [
    "with open('DT.pk', 'rb') as fin:\n",
    "    clf_DT = pickle.load(fin)\n",
    "with open('KN.pk', 'rb') as fin:\n",
    "    clf_KN = pickle.load(fin)\n",
    "with open('GA.pk', 'rb') as fin:\n",
    "    clf_GA = pickle.load(fin)\n",
    "with open('NN.pk', 'rb') as fin:\n",
    "    clf_NN = pickle.load(fin)\n",
    "with open('sc_NN.pk', 'rb') as fin:\n",
    "    sc_clf_NN = pickle.load(fin)\n",
    "with open('sc_KN.pk', 'rb') as fin:\n",
    "    sc_clf_KN = pickle.load(fin)\n",
    "\n",
    "correct_DT = 0\n",
    "correct_KN = 0\n",
    "correct_GA = 0\n",
    "correct_NN = 0\n",
    "correct_sc_NN = 0\n",
    "correct_sc_KN = 0\n",
    "count = 0\n",
    "\n",
    "comb = 0\n",
    "misclassified = []\n",
    "for symbol in symbols:\n",
    "    print(symbol)\n",
    "    \n",
    "    for image, sc_image in zip(dfs[symbol].values, sc_dict[symbol]):\n",
    "#         print(image.shape)\n",
    "#         print(sc_image.shape)\n",
    "        count += 1\n",
    "        image = image.reshape(1, -1)\n",
    "        sc_image = sc_image.reshape(1, -1)\n",
    "\n",
    "#         print(symbol)\n",
    "#         print(clf_KN.predict(image)[0])\n",
    "#         print(clf_DT.predict(image)[0])\n",
    "#         print(clf_GA.predict(image)[0])\n",
    "#         print(clf_NN.predict(image)[0])\n",
    "#         print(sc_clf_NN.predict(image)[0])\n",
    "#         print(sc_clf_KN.predict(image)[0])\n",
    "#         print(\"-----------------------\\n\\n\")\n",
    "\n",
    "        if(clf_DT.predict(image)[0] == symbol):\n",
    "            correct_DT += 1\n",
    "        if(clf_KN.predict(image)[0] == symbol):\n",
    "            correct_KN += 1\n",
    "        if(clf_GA.predict(image)[0] == symbol):\n",
    "            correct_GA += 1\n",
    "        if(clf_NN.predict(image)[0] == symbol):\n",
    "            correct_NN += 1        \n",
    "\n",
    "        if(sc_clf_NN.predict(sc_image)[0] == symbol):\n",
    "            correct_sc_NN += 1\n",
    "        if(sc_clf_KN.predict(sc_image)[0] == symbol):\n",
    "            correct_sc_KN += 1\n",
    "            \n",
    "        # Testing combined goodness\n",
    "        c = combinedClassification([sc_clf_NN, sc_clf_KN], sc_image)[-1:][0][1]\n",
    "        if(c == symbol):\n",
    "            comb += 1\n",
    "            \n",
    "            \n",
    "        if(sc_clf_NN.predict(sc_image)[0] != symbol):\n",
    "            misclassified.append([image, sc_image])\n",
    "            \n",
    "            \n",
    "\n",
    "print(\"DT: \", correct_DT)\n",
    "print(\"KN: \", correct_KN)\n",
    "print(\"GA: \", correct_GA)\n",
    "print(\"NN: \", correct_NN)\n",
    "print(\"sc_NN: \", correct_sc_NN)\n",
    "print(\"sc_KN: \", correct_sc_KN)\n",
    "print(\"comb: \", comb)\n",
    "print(\"count: \", count)"
   ]
  },
  {
   "cell_type": "code",
   "execution_count": 19,
   "metadata": {},
   "outputs": [
    {
     "ename": "NameError",
     "evalue": "name 'combinedCLassification' is not defined",
     "output_type": "error",
     "traceback": [
      "\u001b[0;31m---------------------------------------------------------------------------\u001b[0m",
      "\u001b[0;31mNameError\u001b[0m                                 Traceback (most recent call last)",
      "\u001b[0;32m<ipython-input-19-fcf5693f4ef9>\u001b[0m in \u001b[0;36m<module>\u001b[0;34m\u001b[0m\n\u001b[1;32m     10\u001b[0m \u001b[0;31m#     plt.show()\u001b[0m\u001b[0;34m\u001b[0m\u001b[0;34m\u001b[0m\u001b[0;34m\u001b[0m\u001b[0m\n\u001b[1;32m     11\u001b[0m \u001b[0;34m\u001b[0m\u001b[0m\n\u001b[0;32m---> 12\u001b[0;31m \u001b[0mc\u001b[0m \u001b[0;34m=\u001b[0m \u001b[0mcombinedCLassification\u001b[0m\u001b[0;34m(\u001b[0m\u001b[0;34m[\u001b[0m\u001b[0msc_clf_NN\u001b[0m\u001b[0;34m,\u001b[0m \u001b[0msc_clf_KN\u001b[0m\u001b[0;34m]\u001b[0m\u001b[0;34m,\u001b[0m \u001b[0msc_image\u001b[0m\u001b[0;34m)\u001b[0m\u001b[0;34m[\u001b[0m\u001b[0;34m-\u001b[0m\u001b[0;36m1\u001b[0m\u001b[0;34m:\u001b[0m\u001b[0;34m]\u001b[0m\u001b[0;34m[\u001b[0m\u001b[0;36m0\u001b[0m\u001b[0;34m]\u001b[0m\u001b[0;34m[\u001b[0m\u001b[0;36m1\u001b[0m\u001b[0;34m]\u001b[0m\u001b[0;34m\u001b[0m\u001b[0;34m\u001b[0m\u001b[0m\n\u001b[0m\u001b[1;32m     13\u001b[0m \u001b[0mc\u001b[0m\u001b[0;34m\u001b[0m\u001b[0;34m\u001b[0m\u001b[0m\n",
      "\u001b[0;31mNameError\u001b[0m: name 'combinedCLassification' is not defined"
     ]
    }
   ],
   "source": [
    "# for image in misclassified:\n",
    "#     NN_pred = sc_clf_NN.predict(image[1])[0]\n",
    "#     KN_pred = sc_clf_KN.predict(image[1])[0]\n",
    "    \n",
    "#     print(sc_clf_NN.predict_proba(image[0]))\n",
    "#     print(sc_clf_KN.predict_proba(image[0]))\n",
    "#     print(\"------------------------------------\")\n",
    "#     plt.title(f\"NN: {NN_pred}.  KN: {KN_pred}\")\n",
    "#     plt.imshow(image[0].reshape(45,45))\n",
    "#     plt.show()\n",
    "\n",
    "c = combinedCLassification([sc_clf_NN, sc_clf_KN], sc_image)[-1:][0][1]\n",
    "c"
   ]
  },
  {
   "cell_type": "code",
   "execution_count": 18,
   "metadata": {},
   "outputs": [],
   "source": [
    "def combinedClassification(clfs, sample):\n",
    "    pred_probs = []\n",
    "    for clf in clfs:\n",
    "        probs = clf.predict_proba(sample)[0]\n",
    "        classes = clf.classes_\n",
    "        pred_probs.append(sorted(zip(classes, probs)))\n",
    "\n",
    "    symbols = [x[0] for x in pred_probs[0]]\n",
    "\n",
    "\n",
    "    pred_probs[0][0][0]\n",
    "    symbols\n",
    "    comb_dict = {}\n",
    "    for symbol in symbols:\n",
    "        comb_dict[symbol] = 1\n",
    "\n",
    "    for pred_prob in pred_probs:\n",
    "        for prob in pred_prob:\n",
    "            comb_dict[prob[0]] *= prob[1]\n",
    "        \n",
    "# for prob, symbol in sorted(zip(comb_dict.values(), comb_dict.keys())):\n",
    "#     print(symbol, \"  :: \", prob)\n",
    "    return sorted(zip(comb_dict.values(), comb_dict.keys()))"
   ]
  },
  {
   "cell_type": "code",
   "execution_count": 25,
   "metadata": {},
   "outputs": [
    {
     "name": "stdout",
     "output_type": "stream",
     "text": [
      "(   ::  0.01809662558182463\n"
     ]
    },
    {
     "data": {
      "image/png": "[encoded data removed]",
      "text/plain": [
       "<Figure size 432x288 with 1 Axes>"
      ]
     },
     "metadata": {
      "needs_background": "light"
     },
     "output_type": "display_data"
    },
    {
     "data": {
      "text/plain": [
       "<Figure size 72x72 with 0 Axes>"
      ]
     },
     "metadata": {},
     "output_type": "display_data"
    },
    {
     "name": "stdout",
     "output_type": "stream",
     "text": [
      "1   ::  0.08844171536150408\n"
     ]
    },
    {
     "data": {
      "image/png": "[encoded data removed]",
      "text/plain": [
       "<Figure size 432x288 with 1 Axes>"
      ]
     },
     "metadata": {
      "needs_background": "light"
     },
     "output_type": "display_data"
    },
    {
     "data": {
      "text/plain": [
       "<Figure size 72x72 with 0 Axes>"
      ]
     },
     "metadata": {},
     "output_type": "display_data"
    },
    {
     "name": "stdout",
     "output_type": "stream",
     "text": [
      ")   ::  7.842071497764813e-06\n"
     ]
    },
    {
     "data": {
      "image/png": "[encoded data removed]",
      "text/plain": [
       "<Figure size 432x288 with 1 Axes>"
      ]
     },
     "metadata": {
      "needs_background": "light"
     },
     "output_type": "display_data"
    },
    {
     "data": {
      "text/plain": [
       "<Figure size 72x72 with 0 Axes>"
      ]
     },
     "metadata": {},
     "output_type": "display_data"
    },
    {
     "name": "stdout",
     "output_type": "stream",
     "text": [
      "1   ::  7.516509166017984e-05\n"
     ]
    },
    {
     "data": {
      "image/png": "[encoded data removed]",
      "text/plain": [
       "<Figure size 432x288 with 1 Axes>"
      ]
     },
     "metadata": {
      "needs_background": "light"
     },
     "output_type": "display_data"
    },
    {
     "data": {
      "text/plain": [
       "<Figure size 72x72 with 0 Axes>"
      ]
     },
     "metadata": {},
     "output_type": "display_data"
    },
    {
     "name": "stdout",
     "output_type": "stream",
     "text": [
      "(   ::  0.19114419089816817\n"
     ]
    },
    {
     "data": {
      "image/png": "[encoded data removed]",
      "text/plain": [
       "<Figure size 432x288 with 1 Axes>"
      ]
     },
     "metadata": {
      "needs_background": "light"
     },
     "output_type": "display_data"
    },
    {
     "data": {
      "text/plain": [
       "<Figure size 72x72 with 0 Axes>"
      ]
     },
     "metadata": {},
     "output_type": "display_data"
    },
    {
     "name": "stdout",
     "output_type": "stream",
     "text": [
      "1   ::  9.654737999496847e-05\n"
     ]
    },
    {
     "data": {
      "image/png": "[encoded data removed]",
      "text/plain": [
       "<Figure size 432x288 with 1 Axes>"
      ]
     },
     "metadata": {
      "needs_background": "light"
     },
     "output_type": "display_data"
    },
    {
     "data": {
      "text/plain": [
       "<Figure size 72x72 with 0 Axes>"
      ]
     },
     "metadata": {},
     "output_type": "display_data"
    },
    {
     "name": "stdout",
     "output_type": "stream",
     "text": [
      "1   ::  0.12850777918939715\n"
     ]
    },
    {
     "data": {
      "image/png": "[encoded data removed]",
      "text/plain": [
       "<Figure size 432x288 with 1 Axes>"
      ]
     },
     "metadata": {
      "needs_background": "light"
     },
     "output_type": "display_data"
    },
    {
     "data": {
      "text/plain": [
       "<Figure size 72x72 with 0 Axes>"
      ]
     },
     "metadata": {},
     "output_type": "display_data"
    },
    {
     "name": "stdout",
     "output_type": "stream",
     "text": [
      "(   ::  0.03914381590173691\n"
     ]
    },
    {
     "data": {
      "image/png": "[encoded data removed]",
      "text/plain": [
       "<Figure size 432x288 with 1 Axes>"
      ]
     },
     "metadata": {
      "needs_background": "light"
     },
     "output_type": "display_data"
    },
    {
     "data": {
      "text/plain": [
       "<Figure size 72x72 with 0 Axes>"
      ]
     },
     "metadata": {},
     "output_type": "display_data"
    },
    {
     "name": "stdout",
     "output_type": "stream",
     "text": [
      "(   ::  0.746763512995295\n"
     ]
    },
    {
     "data": {
      "image/png": "[encoded data removed]",
      "text/plain": [
       "<Figure size 432x288 with 1 Axes>"
      ]
     },
     "metadata": {
      "needs_background": "light"
     },
     "output_type": "display_data"
    },
    {
     "data": {
      "text/plain": [
       "<Figure size 72x72 with 0 Axes>"
      ]
     },
     "metadata": {},
     "output_type": "display_data"
    },
    {
     "name": "stdout",
     "output_type": "stream",
     "text": [
      ",   ::  0.0005925027243869283\n"
     ]
    },
    {
     "data": {
      "image/png": "[encoded data removed]",
      "text/plain": [
       "<Figure size 432x288 with 1 Axes>"
      ]
     },
     "metadata": {
      "needs_background": "light"
     },
     "output_type": "display_data"
    },
    {
     "data": {
      "text/plain": [
       "<Figure size 72x72 with 0 Axes>"
      ]
     },
     "metadata": {},
     "output_type": "display_data"
    },
    {
     "name": "stdout",
     "output_type": "stream",
     "text": [
      "(   ::  0.006037004188175357\n"
     ]
    },
    {
     "data": {
      "image/png": "[encoded data removed]",
      "text/plain": [
       "<Figure size 432x288 with 1 Axes>"
      ]
     },
     "metadata": {
      "needs_background": "light"
     },
     "output_type": "display_data"
    },
    {
     "data": {
      "text/plain": [
       "<Figure size 72x72 with 0 Axes>"
      ]
     },
     "metadata": {},
     "output_type": "display_data"
    },
    {
     "name": "stdout",
     "output_type": "stream",
     "text": [
      "(   ::  0.02267147450178922\n"
     ]
    },
    {
     "data": {
      "image/png": "[encoded data removed]",
      "text/plain": [
       "<Figure size 432x288 with 1 Axes>"
      ]
     },
     "metadata": {
      "needs_background": "light"
     },
     "output_type": "display_data"
    },
    {
     "data": {
      "text/plain": [
       "<Figure size 72x72 with 0 Axes>"
      ]
     },
     "metadata": {},
     "output_type": "display_data"
    },
    {
     "name": "stdout",
     "output_type": "stream",
     "text": [
      "+   ::  0.4504627002054591\n"
     ]
    },
    {
     "data": {
      "image/png": "[encoded data removed]",
      "text/plain": [
       "<Figure size 432x288 with 1 Axes>"
      ]
     },
     "metadata": {
      "needs_background": "light"
     },
     "output_type": "display_data"
    },
    {
     "data": {
      "text/plain": [
       "<Figure size 72x72 with 0 Axes>"
      ]
     },
     "metadata": {},
     "output_type": "display_data"
    },
    {
     "name": "stdout",
     "output_type": "stream",
     "text": [
      "2   ::  0.11875962918009181\n"
     ]
    },
    {
     "data": {
      "image/png": "[encoded data removed]",
      "text/plain": [
       "<Figure size 432x288 with 1 Axes>"
      ]
     },
     "metadata": {
      "needs_background": "light"
     },
     "output_type": "display_data"
    },
    {
     "data": {
      "text/plain": [
       "<Figure size 72x72 with 0 Axes>"
      ]
     },
     "metadata": {},
     "output_type": "display_data"
    },
    {
     "name": "stdout",
     "output_type": "stream",
     "text": [
      "1   ::  0.5782169552483936\n"
     ]
    },
    {
     "data": {
      "image/png": "[encoded data removed]",
      "text/plain": [
       "<Figure size 432x288 with 1 Axes>"
      ]
     },
     "metadata": {
      "needs_background": "light"
     },
     "output_type": "display_data"
    },
    {
     "data": {
      "text/plain": [
       "<Figure size 72x72 with 0 Axes>"
      ]
     },
     "metadata": {},
     "output_type": "display_data"
    },
    {
     "name": "stdout",
     "output_type": "stream",
     "text": [
      "1   ::  0.014844823845719748\n"
     ]
    },
    {
     "data": {
      "image/png": "[encoded data removed]",
      "text/plain": [
       "<Figure size 432x288 with 1 Axes>"
      ]
     },
     "metadata": {
      "needs_background": "light"
     },
     "output_type": "display_data"
    },
    {
     "data": {
      "text/plain": [
       "<Figure size 72x72 with 0 Axes>"
      ]
     },
     "metadata": {},
     "output_type": "display_data"
    },
    {
     "name": "stdout",
     "output_type": "stream",
     "text": [
      ")   ::  0.0029781934961647266\n"
     ]
    },
    {
     "data": {
      "image/png": "[encoded data removed]",
      "text/plain": [
       "<Figure size 432x288 with 1 Axes>"
      ]
     },
     "metadata": {
      "needs_background": "light"
     },
     "output_type": "display_data"
    },
    {
     "data": {
      "text/plain": [
       "<Figure size 72x72 with 0 Axes>"
      ]
     },
     "metadata": {},
     "output_type": "display_data"
    },
    {
     "name": "stdout",
     "output_type": "stream",
     "text": [
      "(   ::  0.6405887584889923\n"
     ]
    },
    {
     "data": {
      "image/png": "[encoded data removed]",
      "text/plain": [
       "<Figure size 432x288 with 1 Axes>"
      ]
     },
     "metadata": {
      "needs_background": "light"
     },
     "output_type": "display_data"
    },
    {
     "data": {
      "text/plain": [
       "<Figure size 72x72 with 0 Axes>"
      ]
     },
     "metadata": {},
     "output_type": "display_data"
    },
    {
     "name": "stdout",
     "output_type": "stream",
     "text": [
      ")   ::  0.0013080498089173887\n"
     ]
    },
    {
     "data": {
      "image/png": "[encoded data removed]",
      "text/plain": [
       "<Figure size 432x288 with 1 Axes>"
      ]
     },
     "metadata": {
      "needs_background": "light"
     },
     "output_type": "display_data"
    },
    {
     "data": {
      "text/plain": [
       "<Figure size 72x72 with 0 Axes>"
      ]
     },
     "metadata": {},
     "output_type": "display_data"
    },
    {
     "name": "stdout",
     "output_type": "stream",
     "text": [
      "7   ::  0.0013741873875237486\n"
     ]
    },
    {
     "data": {
      "image/png": "[encoded data removed]",
      "text/plain": [
       "<Figure size 432x288 with 1 Axes>"
      ]
     },
     "metadata": {
      "needs_background": "light"
     },
     "output_type": "display_data"
    },
    {
     "data": {
      "text/plain": [
       "<Figure size 72x72 with 0 Axes>"
      ]
     },
     "metadata": {},
     "output_type": "display_data"
    },
    {
     "name": "stdout",
     "output_type": "stream",
     "text": [
      "1   ::  0.9620985572652113\n"
     ]
    },
    {
     "data": {
      "image/png": "[encoded data removed]",
      "text/plain": [
       "<Figure size 432x288 with 1 Axes>"
      ]
     },
     "metadata": {
      "needs_background": "light"
     },
     "output_type": "display_data"
    },
    {
     "data": {
      "text/plain": [
       "<Figure size 72x72 with 0 Axes>"
      ]
     },
     "metadata": {},
     "output_type": "display_data"
    },
    {
     "name": "stdout",
     "output_type": "stream",
     "text": [
      "9   ::  0.45866460262249475\n"
     ]
    },
    {
     "data": {
      "image/png": "[encoded data removed]",
      "text/plain": [
       "<Figure size 432x288 with 1 Axes>"
      ]
     },
     "metadata": {
      "needs_background": "light"
     },
     "output_type": "display_data"
    },
    {
     "data": {
      "text/plain": [
       "<Figure size 72x72 with 0 Axes>"
      ]
     },
     "metadata": {},
     "output_type": "display_data"
    },
    {
     "name": "stdout",
     "output_type": "stream",
     "text": [
      "7   ::  0.009631773940270691\n"
     ]
    },
    {
     "data": {
      "image/png": "[encoded data removed]",
      "text/plain": [
       "<Figure size 432x288 with 1 Axes>"
      ]
     },
     "metadata": {
      "needs_background": "light"
     },
     "output_type": "display_data"
    },
    {
     "data": {
      "text/plain": [
       "<Figure size 72x72 with 0 Axes>"
      ]
     },
     "metadata": {},
     "output_type": "display_data"
    },
    {
     "name": "stdout",
     "output_type": "stream",
     "text": [
      "1   ::  0.0016538539811948446\n"
     ]
    },
    {
     "data": {
      "image/png": "[encoded data removed]",
      "text/plain": [
       "<Figure size 432x288 with 1 Axes>"
      ]
     },
     "metadata": {
      "needs_background": "light"
     },
     "output_type": "display_data"
    },
    {
     "data": {
      "text/plain": [
       "<Figure size 72x72 with 0 Axes>"
      ]
     },
     "metadata": {},
     "output_type": "display_data"
    },
    {
     "name": "stdout",
     "output_type": "stream",
     "text": [
      "0   ::  0.1715869928679105\n"
     ]
    },
    {
     "data": {
      "image/png": "[encoded data removed]",
      "text/plain": [
       "<Figure size 432x288 with 1 Axes>"
      ]
     },
     "metadata": {
      "needs_background": "light"
     },
     "output_type": "display_data"
    },
    {
     "data": {
      "text/plain": [
       "<Figure size 72x72 with 0 Axes>"
      ]
     },
     "metadata": {},
     "output_type": "display_data"
    },
    {
     "name": "stdout",
     "output_type": "stream",
     "text": [
      "1   ::  0.018320311203772838\n"
     ]
    },
    {
     "data": {
      "image/png": "[encoded data removed]",
      "text/plain": [
       "<Figure size 432x288 with 1 Axes>"
      ]
     },
     "metadata": {
      "needs_background": "light"
     },
     "output_type": "display_data"
    },
    {
     "data": {
      "text/plain": [
       "<Figure size 72x72 with 0 Axes>"
      ]
     },
     "metadata": {},
     "output_type": "display_data"
    },
    {
     "name": "stdout",
     "output_type": "stream",
     "text": [
      "1   ::  0.08058446209584165\n"
     ]
    },
    {
     "data": {
      "image/png": "[encoded data removed]",
      "text/plain": [
       "<Figure size 432x288 with 1 Axes>"
      ]
     },
     "metadata": {
      "needs_background": "light"
     },
     "output_type": "display_data"
    },
    {
     "data": {
      "text/plain": [
       "<Figure size 72x72 with 0 Axes>"
      ]
     },
     "metadata": {},
     "output_type": "display_data"
    },
    {
     "name": "stdout",
     "output_type": "stream",
     "text": [
      "2   ::  0.20912481048289436\n"
     ]
    },
    {
     "data": {
      "image/png": "[encoded data removed]",
      "text/plain": [
       "<Figure size 432x288 with 1 Axes>"
      ]
     },
     "metadata": {
      "needs_background": "light"
     },
     "output_type": "display_data"
    },
    {
     "data": {
      "text/plain": [
       "<Figure size 72x72 with 0 Axes>"
      ]
     },
     "metadata": {},
     "output_type": "display_data"
    },
    {
     "name": "stdout",
     "output_type": "stream",
     "text": [
      "+   ::  0.020522926744280717\n"
     ]
    },
    {
     "data": {
      "image/png": "[encoded data removed]",
      "text/plain": [
       "<Figure size 432x288 with 1 Axes>"
      ]
     },
     "metadata": {
      "needs_background": "light"
     },
     "output_type": "display_data"
    },
    {
     "data": {
      "text/plain": [
       "<Figure size 72x72 with 0 Axes>"
      ]
     },
     "metadata": {},
     "output_type": "display_data"
    },
    {
     "name": "stdout",
     "output_type": "stream",
     "text": [
      "3   ::  0.0004574471526139657\n"
     ]
    },
    {
     "data": {
      "image/png": "[encoded data removed]",
      "text/plain": [
       "<Figure size 432x288 with 1 Axes>"
      ]
     },
     "metadata": {
      "needs_background": "light"
     },
     "output_type": "display_data"
    },
    {
     "data": {
      "text/plain": [
       "<Figure size 72x72 with 0 Axes>"
      ]
     },
     "metadata": {},
     "output_type": "display_data"
    },
    {
     "name": "stdout",
     "output_type": "stream",
     "text": [
      "3   ::  0.0005764983181172029\n"
     ]
    },
    {
     "data": {
      "image/png": "[encoded data removed]",
      "text/plain": [
       "<Figure size 432x288 with 1 Axes>"
      ]
     },
     "metadata": {
      "needs_background": "light"
     },
     "output_type": "display_data"
    },
    {
     "data": {
      "text/plain": [
       "<Figure size 72x72 with 0 Axes>"
      ]
     },
     "metadata": {},
     "output_type": "display_data"
    },
    {
     "name": "stdout",
     "output_type": "stream",
     "text": [
      "6   ::  0.6179727556863641\n"
     ]
    },
    {
     "data": {
      "image/png": "[encoded data removed]",
      "text/plain": [
       "<Figure size 432x288 with 1 Axes>"
      ]
     },
     "metadata": {
      "needs_background": "light"
     },
     "output_type": "display_data"
    },
    {
     "data": {
      "text/plain": [
       "<Figure size 72x72 with 0 Axes>"
      ]
     },
     "metadata": {},
     "output_type": "display_data"
    },
    {
     "name": "stdout",
     "output_type": "stream",
     "text": [
      "-   ::  0.10060428031515782\n"
     ]
    },
    {
     "data": {
      "image/png": "[encoded data removed]",
      "text/plain": [
       "<Figure size 432x288 with 1 Axes>"
      ]
     },
     "metadata": {
      "needs_background": "light"
     },
     "output_type": "display_data"
    },
    {
     "data": {
      "text/plain": [
       "<Figure size 72x72 with 0 Axes>"
      ]
     },
     "metadata": {},
     "output_type": "display_data"
    },
    {
     "name": "stdout",
     "output_type": "stream",
     "text": [
      "9   ::  0.15328242991493804\n"
     ]
    },
    {
     "data": {
      "image/png": "[encoded data removed]",
      "text/plain": [
       "<Figure size 432x288 with 1 Axes>"
      ]
     },
     "metadata": {
      "needs_background": "light"
     },
     "output_type": "display_data"
    },
    {
     "data": {
      "text/plain": [
       "<Figure size 72x72 with 0 Axes>"
      ]
     },
     "metadata": {},
     "output_type": "display_data"
    },
    {
     "name": "stdout",
     "output_type": "stream",
     "text": [
      ")   ::  0.005334451409438705\n"
     ]
    },
    {
     "data": {
      "image/png": "[encoded data removed]",
      "text/plain": [
       "<Figure size 432x288 with 1 Axes>"
      ]
     },
     "metadata": {
      "needs_background": "light"
     },
     "output_type": "display_data"
    },
    {
     "data": {
      "text/plain": [
       "<Figure size 72x72 with 0 Axes>"
      ]
     },
     "metadata": {},
     "output_type": "display_data"
    },
    {
     "name": "stdout",
     "output_type": "stream",
     "text": [
      "+   ::  0.058165763113122076\n"
     ]
    },
    {
     "data": {
      "image/png": "[encoded data removed]",
      "text/plain": [
       "<Figure size 432x288 with 1 Axes>"
      ]
     },
     "metadata": {
      "needs_background": "light"
     },
     "output_type": "display_data"
    },
    {
     "data": {
      "text/plain": [
       "<Figure size 72x72 with 0 Axes>"
      ]
     },
     "metadata": {},
     "output_type": "display_data"
    },
    {
     "name": "stdout",
     "output_type": "stream",
     "text": [
      "1   ::  0.7031341656546478\n"
     ]
    },
    {
     "data": {
      "image/png": "[encoded data removed]",
      "text/plain": [
       "<Figure size 432x288 with 1 Axes>"
      ]
     },
     "metadata": {
      "needs_background": "light"
     },
     "output_type": "display_data"
    },
    {
     "data": {
      "text/plain": [
       "<Figure size 72x72 with 0 Axes>"
      ]
     },
     "metadata": {},
     "output_type": "display_data"
    },
    {
     "name": "stdout",
     "output_type": "stream",
     "text": [
      "-   ::  0.72755653213942\n"
     ]
    },
    {
     "data": {
      "image/png": "[encoded data removed]",
      "text/plain": [
       "<Figure size 432x288 with 1 Axes>"
      ]
     },
     "metadata": {
      "needs_background": "light"
     },
     "output_type": "display_data"
    },
    {
     "data": {
      "text/plain": [
       "<Figure size 72x72 with 0 Axes>"
      ]
     },
     "metadata": {},
     "output_type": "display_data"
    }
   ],
   "source": [
    "for mis in misclassified:\n",
    "    t = combinedClassification([sc_clf_NN, sc_clf_KN], mis[1])\n",
    "\n",
    "    for prob, symbol in t[-1:]:\n",
    "        print(symbol, \"  :: \", prob)\n",
    "\n",
    "    plt.imshow(mis[0].reshape(45,45))\n",
    "    plt.figure(figsize=(1,1))\n",
    "    plt.show()"
   ]
  },
  {
   "cell_type": "code",
   "execution_count": 103,
   "metadata": {},
   "outputs": [
    {
     "name": "stdout",
     "output_type": "stream",
     "text": [
      "['1']\n",
      "[122 167 124 162 186 195 172 143 905]\n"
     ]
    },
    {
     "data": {
      "image/png": "[encoded data removed]",
      "text/plain": [
       "<Figure size 432x288 with 1 Axes>"
      ]
     },
     "metadata": {
      "needs_background": "light"
     },
     "output_type": "display_data"
    },
    {
     "name": "stdout",
     "output_type": "stream",
     "text": [
      "['1']\n",
      "[122 167 124 186 143 195 172 162 905]\n"
     ]
    },
    {
     "data": {
      "image/png": "[encoded data removed]",
      "text/plain": [
       "<Figure size 432x288 with 1 Axes>"
      ]
     },
     "metadata": {
      "needs_background": "light"
     },
     "output_type": "display_data"
    },
    {
     "name": "stdout",
     "output_type": "stream",
     "text": [
      "['1']\n",
      "[122 167 124 162 186 143 195 172 905]\n"
     ]
    },
    {
     "data": {
      "image/png": "[encoded data removed]",
      "text/plain": [
       "<Figure size 432x288 with 1 Axes>"
      ]
     },
     "metadata": {
      "needs_background": "light"
     },
     "output_type": "display_data"
    },
    {
     "name": "stdout",
     "output_type": "stream",
     "text": [
      "['1']\n",
      "[122 167 124 162 186 195 143 172 905]\n"
     ]
    },
    {
     "data": {
      "image/png": "[encoded data removed]",
      "text/plain": [
       "<Figure size 432x288 with 1 Axes>"
      ]
     },
     "metadata": {
      "needs_background": "light"
     },
     "output_type": "display_data"
    },
    {
     "name": "stdout",
     "output_type": "stream",
     "text": [
      "['1']\n",
      "[122 167 124 162 186 195 172 143 905]\n"
     ]
    },
    {
     "data": {
      "image/png": "[encoded data removed]",
      "text/plain": [
       "<Figure size 432x288 with 1 Axes>"
      ]
     },
     "metadata": {
      "needs_background": "light"
     },
     "output_type": "display_data"
    },
    {
     "name": "stdout",
     "output_type": "stream",
     "text": [
      "['1']\n",
      "[122 167 124 162 186 143 195 172 905]\n"
     ]
    },
    {
     "data": {
      "image/png": "[encoded data removed]",
      "text/plain": [
       "<Figure size 432x288 with 1 Axes>"
      ]
     },
     "metadata": {
      "needs_background": "light"
     },
     "output_type": "display_data"
    },
    {
     "name": "stdout",
     "output_type": "stream",
     "text": [
      "['1']\n",
      "[122 167 124 162 186 195 172 143 905]\n"
     ]
    },
    {
     "data": {
      "image/png": "[encoded data removed]",
      "text/plain": [
       "<Figure size 432x288 with 1 Axes>"
      ]
     },
     "metadata": {
      "needs_background": "light"
     },
     "output_type": "display_data"
    },
    {
     "name": "stdout",
     "output_type": "stream",
     "text": [
      "['1']\n",
      "[122 167 124 186 162 195 172 143 905]\n"
     ]
    },
    {
     "data": {
      "image/png": "[encoded data removed]",
      "text/plain": [
       "<Figure size 432x288 with 1 Axes>"
      ]
     },
     "metadata": {
      "needs_background": "light"
     },
     "output_type": "display_data"
    },
    {
     "name": "stdout",
     "output_type": "stream",
     "text": [
      "['1']\n",
      "[122 167 124 186 162 143 195 172 905]\n"
     ]
    },
    {
     "data": {
      "image/png": "[encoded data removed]",
      "text/plain": [
       "<Figure size 432x288 with 1 Axes>"
      ]
     },
     "metadata": {
      "needs_background": "light"
     },
     "output_type": "display_data"
    },
    {
     "name": "stdout",
     "output_type": "stream",
     "text": [
      "['1']\n",
      "[122 167 124 162 186 172 195 143 905]\n"
     ]
    },
    {
     "data": {
      "image/png": "[encoded data removed]",
      "text/plain": [
       "<Figure size 432x288 with 1 Axes>"
      ]
     },
     "metadata": {
      "needs_background": "light"
     },
     "output_type": "display_data"
    },
    {
     "name": "stdout",
     "output_type": "stream",
     "text": [
      "['7']\n",
      "[757 753 773 796 122 121 167 783 777]\n"
     ]
    },
    {
     "data": {
      "image/png": "[encoded data removed]",
      "text/plain": [
       "<Figure size 432x288 with 1 Axes>"
      ]
     },
     "metadata": {
      "needs_background": "light"
     },
     "output_type": "display_data"
    },
    {
     "name": "stdout",
     "output_type": "stream",
     "text": [
      "['7']\n",
      "[780 122 167 124 121 162 186 905 195]\n"
     ]
    },
    {
     "data": {
      "image/png": "[encoded data removed]",
      "text/plain": [
       "<Figure size 432x288 with 1 Axes>"
      ]
     },
     "metadata": {
      "needs_background": "light"
     },
     "output_type": "display_data"
    },
    {
     "name": "stdout",
     "output_type": "stream",
     "text": [
      "['7']\n",
      "[773 757 753 751 121 122 167 777 126]\n"
     ]
    },
    {
     "data": {
      "image/png": "[encoded data removed]",
      "text/plain": [
       "<Figure size 432x288 with 1 Axes>"
      ]
     },
     "metadata": {
      "needs_background": "light"
     },
     "output_type": "display_data"
    },
    {
     "name": "stdout",
     "output_type": "stream",
     "text": [
      "['7']\n",
      "[709 773 122 167 121 162 115 905 182]\n"
     ]
    },
    {
     "data": {
      "image/png": "[encoded data removed]",
      "text/plain": [
       "<Figure size 432x288 with 1 Axes>"
      ]
     },
     "metadata": {
      "needs_background": "light"
     },
     "output_type": "display_data"
    },
    {
     "name": "stdout",
     "output_type": "stream",
     "text": [
      "['7']\n",
      "[780 689 122 121 698 167 162 124 905]\n"
     ]
    },
    {
     "data": {
      "image/png": "[encoded data removed]",
      "text/plain": [
       "<Figure size 432x288 with 1 Axes>"
      ]
     },
     "metadata": {
      "needs_background": "light"
     },
     "output_type": "display_data"
    },
    {
     "name": "stdout",
     "output_type": "stream",
     "text": [
      "['7']\n",
      "[753 757 777 167 122 162 124 133 115]\n"
     ]
    },
    {
     "data": {
      "image/png": "[encoded data removed]",
      "text/plain": [
       "<Figure size 432x288 with 1 Axes>"
      ]
     },
     "metadata": {
      "needs_background": "light"
     },
     "output_type": "display_data"
    },
    {
     "name": "stdout",
     "output_type": "stream",
     "text": [
      "['7']\n",
      "[751 742 771 757 773 121 115 122 126]\n"
     ]
    },
    {
     "data": {
      "image/png": "[encoded data removed]",
      "text/plain": [
       "<Figure size 432x288 with 1 Axes>"
      ]
     },
     "metadata": {
      "needs_background": "light"
     },
     "output_type": "display_data"
    },
    {
     "name": "stdout",
     "output_type": "stream",
     "text": [
      "['7']\n",
      "[783 773 796 771 742 121 122 709 126]\n"
     ]
    },
    {
     "data": {
      "image/png": "[encoded data removed]",
      "text/plain": [
       "<Figure size 432x288 with 1 Axes>"
      ]
     },
     "metadata": {
      "needs_background": "light"
     },
     "output_type": "display_data"
    },
    {
     "name": "stdout",
     "output_type": "stream",
     "text": [
      "['7']\n",
      "[751 757 753 167 109 742 115 771 145]\n"
     ]
    },
    {
     "data": {
      "image/png": "[encoded data removed]",
      "text/plain": [
       "<Figure size 432x288 with 1 Axes>"
      ]
     },
     "metadata": {
      "needs_background": "light"
     },
     "output_type": "display_data"
    },
    {
     "name": "stdout",
     "output_type": "stream",
     "text": [
      "['7']\n",
      "[751 757 753 133 122 115 167 109 124]\n"
     ]
    },
    {
     "data": {
      "image/png": "[encoded data removed]",
      "text/plain": [
       "<Figure size 432x288 with 1 Axes>"
      ]
     },
     "metadata": {
      "needs_background": "light"
     },
     "output_type": "display_data"
    }
   ],
   "source": [
    "# clf_KN.predict()\n",
    "for i in misclassified[-40:-20]:\n",
    "    print(clf_KN.predict(i[0]))\n",
    "    print(clf_KN.kneighbors(i[0], n_neighbors=9)[1][0])\n",
    "    plt.imshow(i[0].reshape(45,45))\n",
    "    plt.show()\n"
   ]
  },
  {
   "cell_type": "code",
   "execution_count": 105,
   "metadata": {},
   "outputs": [],
   "source": [
    "with open('mis.pk', 'wb') as fout:\n",
    "    pickle.dump(misclassified, fout)"
   ]
  }
 ],
 "metadata": {
  "kernelspec": {
   "display_name": "Python 3",
   "language": "python",
   "name": "python3"
  },
  "language_info": {
   "codemirror_mode": {
    "name": "ipython",
    "version": 3
   },
   "file_extension": ".py",
   "mimetype": "text/x-python",
   "name": "python",
   "nbconvert_exporter": "python",
   "pygments_lexer": "ipython3",
   "version": "3.7.4"
  }
 },
 "nbformat": 4,
 "nbformat_minor": 4
}
