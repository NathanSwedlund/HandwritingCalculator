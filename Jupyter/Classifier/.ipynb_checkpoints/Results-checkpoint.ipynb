{
 "cells": [
  {
   "cell_type": "markdown",
   "metadata": {},
   "source": [
    "# **Results**"
   ]
  },
  {
   "cell_type": "code",
   "execution_count": 16,
   "metadata": {},
   "outputs": [],
   "source": [
    "import matplotlib.pyplot as plt\n",
    "import pickle\n",
    "import cv2\n",
    "\n",
    "import numpy as np\n",
    "import pandas as pd\n",
    "\n",
    "# For our classifiers\n",
    "from sklearn import neural_network\n",
    "from sklearn import preprocessing\n",
    "\n",
    "# For confusion matrix/data importing\n",
    "from sklearn import metrics  \n",
    "from sklearn.datasets import load_digits "
   ]
  },
  {
   "cell_type": "markdown",
   "metadata": {},
   "source": [
    "### Load Classifiers"
   ]
  },
  {
   "cell_type": "code",
   "execution_count": 17,
   "metadata": {},
   "outputs": [
    {
     "name": "stderr",
     "output_type": "stream",
     "text": [
      "/opt/anaconda3/lib/python3.7/site-packages/sklearn/base.py:306: UserWarning: Trying to unpickle estimator LabelBinarizer from version 0.22.1 when using version 0.21.3. This might lead to breaking code or invalid results. Use at your own risk.\n",
      "  else:\n",
      "/opt/anaconda3/lib/python3.7/site-packages/sklearn/base.py:306: UserWarning: Trying to unpickle estimator MLPClassifier from version 0.22.1 when using version 0.21.3. This might lead to breaking code or invalid results. Use at your own risk.\n",
      "  else:\n"
     ]
    }
   ],
   "source": [
    "with open('clf_digi.pk', 'rb') as fin:\n",
    "    clf_digi = pickle.load(fin)\n",
    "with open('clf_math.pk', 'rb') as fin:\n",
    "    clf_math = pickle.load(fin)\n",
    "with open('clf_all.pk', 'rb') as fin:\n",
    "    clf_all = pickle.load(fin) \n"
   ]
  },
  {
   "cell_type": "markdown",
   "metadata": {},
   "source": [
    "### Load Image"
   ]
  },
  {
   "cell_type": "code",
   "execution_count": null,
   "metadata": {},
   "outputs": [],
   "source": [
    "img = cv2.imread(\"img/0/test_img_0_0.png\")\n",
    "plt.figure(figsize=(1,1))\n",
    "plt.imshow(img)\n",
    "plt.show()"
   ]
  },
  {
   "cell_type": "markdown",
   "metadata": {},
   "source": [
    "The classifiers accept a 28x28 greyscale img. We need to convert our images to a format that the classifiers accept. The images come with varying sizes and are encoded using RGB."
   ]
  },
  {
   "cell_type": "markdown",
   "metadata": {},
   "source": [
    "#### Grayscale/Thresholding"
   ]
  },
  {
   "cell_type": "code",
   "execution_count": null,
   "metadata": {},
   "outputs": [],
   "source": [
    "fig, axs = plt.subplots(1,3, figsize=(4, 4))\n",
    "fig.tight_layout(pad=0.25)\n",
    "\n",
    "\n",
    "axs[0].imshow(img)\n",
    "axs[0].set_title(\"Default\")\n",
    "\n",
    "# Grayscale\n",
    "img_gray = cv2.cvtColor(img, cv2.COLOR_BGR2GRAY)\n",
    "axs[1].imshow(img_gray, cmap=\"Greys_r\")\n",
    "axs[1].set_title(\"Grayscale\")\n",
    "\n",
    "# Threshold\n",
    "_, img_thresh = cv2.threshold(img_gray, 120, 255, cv2.THRESH_BINARY_INV)\n",
    "axs[2].imshow(img_thresh, cmap=\"Greys_r\")\n",
    "axs[2].set_title(\"Threshold\")\n",
    "\n",
    "plt.show()"
   ]
  },
  {
   "cell_type": "markdown",
   "metadata": {},
   "source": [
    "#### Resizing"
   ]
  },
  {
   "cell_type": "code",
   "execution_count": null,
   "metadata": {},
   "outputs": [],
   "source": [
    "print(\"Img shape before resizing:\", img_thresh.shape)\n",
    "resized_img_28 = cv2.resize(img_thresh, (28, 28))\n",
    "resized_img_45 = cv2.resize(img_thresh, (45, 45))\n",
    "print(\"Img shape after resizing:\", resized_img_28.shape)\n",
    "print(\"Img shape after resizing:\", resized_img_45.shape)\n",
    "\n",
    "fig, axs = plt.subplots(1,3, figsize=(4, 4))\n",
    "fig.tight_layout(pad=0.25)\n",
    "\n",
    "axs[0].imshow(img_thresh)\n",
    "axs[0].set_title(\"Default\")\n",
    "\n",
    "axs[1].imshow(resized_img_28)\n",
    "axs[1].set_title(\"Default\")\n",
    "\n",
    "axs[2].imshow(resized_img_45)\n",
    "axs[2].set_title(\"Default\")\n",
    "\n",
    "plt.show()"
   ]
  },
  {
   "cell_type": "markdown",
   "metadata": {},
   "source": [
    "### Classification"
   ]
  },
  {
   "cell_type": "code",
   "execution_count": null,
   "metadata": {},
   "outputs": [],
   "source": [
    "lookup = {\n",
    "    \"0\" : 0,\n",
    "    \"1\" : 1,\n",
    "    \"2\" : 2,   \n",
    "    \"3\" : 3,\n",
    "    \"4\" : 4,\n",
    "    \"5\" : 5,\n",
    "    \"6\" : 6,\n",
    "    \"7\" : 7,\n",
    "    \"8\" : 8,\n",
    "    \"9\" : 9,\n",
    "    \"(\" : 0,\n",
    "    \")\" : 1,\n",
    "    \"+\" : 2,\n",
    "    \"-\" : 3,\n",
    "    \"/\" : 4,\n",
    "}"
   ]
  },
  {
   "cell_type": "code",
   "execution_count": null,
   "metadata": {},
   "outputs": [],
   "source": [
    "symbol = lookup[clf_digit.predict([resized_img_28.ravel()])[0]]\n",
    "print(\"Digit Classification:\")\n",
    "print(\"\\tSymbol\",symbol)\n",
    "print(\"\\tConfidence\",clf_digit.predict_proba([resized_img_28.ravel()])[0][symbol])\n",
    "\n",
    "symbol = clf_math.predict([resized_img_45.ravel()])[0]\n",
    "print(\"Math Classification:\")\n",
    "print(\"\\tSymbol\",symbol)\n",
    "print(\"\\tConfidence\",clf_math.predict_proba([resized_img_45.ravel()])[0][lookup[symbol]])\n",
    "\n",
    "symbol = clf.predict([resized_img_28.ravel()])[0]\n",
    "print(\"General Classification:\")\n",
    "print(\"\\tSymbol\",symbol)\n",
    "print(\"\\tConfidence\",clf.predict_proba([resized_img_28.ravel()])[0][lookup[symbol]])"
   ]
  },
  {
   "cell_type": "code",
   "execution_count": null,
   "metadata": {},
   "outputs": [],
   "source": []
  },
  {
   "cell_type": "code",
   "execution_count": null,
   "metadata": {},
   "outputs": [],
   "source": [
    "# functions for testing\n",
    "def compress_array(A, initx, inity, endx, endy):\n",
    "    arr = (A.reshape(initx,inity)).astype('uint8') # sample array\n",
    "    im = Image.fromarray(arr) # monochromatic image\n",
    "    im = im.resize((endx,endy))\n",
    "    return np.array(im)\n",
    "\n",
    "def testImg(arr):\n",
    "    initx = int(np.sqrt(len(arr)))\n",
    "    inity = initx\n",
    "\n",
    "    arrM = compress_array(arr, initx, inity, 45, 45).reshape(1,-1)\n",
    "    arrD = compress_array(arr, initx, inity, 28, 28).reshape(1,-1)\n",
    "\n",
    "    probM = clf_math.predict_proba(arrM)[0]\n",
    "    probD = clf_digi.predict_proba(arrD)[0]\n",
    "    probA = clf_all.predict_proba(arrD)[0]\n",
    "\n",
    "    print(\"Math: ------------------------------\")\n",
    "    plt.imshow(arrM.reshape(45,45), cmap=plt.cm.binary)\n",
    "    plt.title(clf_math.predict(arrM)[0])\n",
    "    plt.show()\n",
    "    for p, c in sorted(zip(probM, clf_math.classes_)):\n",
    "        print(c, \"  ::  \", p)\n",
    "\n",
    "    print(\"\\nDigit: ---------------------------\")\n",
    "    plt.imshow(arrD.reshape(28,28), cmap=plt.cm.binary)\n",
    "    plt.title(clf_digi.predict(arrD)[0])\n",
    "    plt.show()\n",
    "    for p, c in sorted(zip(probD, clf_digi.classes_)):\n",
    "        print(c, \"  ::  \", p)\n",
    "\n",
    "    print(\"\\nAll: ------------------------------\")\n",
    "    plt.imshow(arrD.reshape(28,28), cmap=plt.cm.binary)\n",
    "    plt.title(clf_all.predict(arrD)[0])\n",
    "    plt.show()\n",
    "    for p, c in sorted(zip(probA, clf_all.classes_)):\n",
    "        print(c, \"  ::  \", p)\n",
    "        \n",
    "# Functions for finding combined classification\n",
    "def predict_as_dictionary(clf, arr, num):\n",
    "    initx = int(np.sqrt(len(arr)))\n",
    "    inity = initx\n",
    "    arr2 = compress_array(arr, initx, inity, num, num).reshape(1,-1)\n",
    "    return dict(zip(clf.classes_, clf.predict_proba(arr2)[0]))\n",
    "def classify(arr):\n",
    "    probM = predict_as_dictionary(clf_math, arr, 45)\n",
    "    probD = predict_as_dictionary(clf_digi, arr, 28)\n",
    "    probAll = predict_as_dictionary(clf_all, arr, 28)\n",
    "    \n",
    "    prob_M_D = {**probM, **probD}\n",
    "    \n",
    "    prob_true = {}\n",
    "    for symbol in math_symbols+digit_symbols:\n",
    "        prob_true[symbol] = probAll[symbol]*prob_M_D[symbol]\n",
    "\n",
    "    print(\"\\n\\nCombined prediction ------------------------------------------\")\n",
    "    for i in sorted(zip(prob_true.values(), prob_true)):\n",
    "        print(i)"
   ]
  },
  {
   "cell_type": "code",
   "execution_count": null,
   "metadata": {},
   "outputs": [],
   "source": []
  }
 ],
 "metadata": {
  "kernelspec": {
   "display_name": "Python 3",
   "language": "python",
   "name": "python3"
  },
  "language_info": {
   "codemirror_mode": {
    "name": "ipython",
    "version": 3
   },
   "file_extension": ".py",
   "mimetype": "text/x-python",
   "name": "python",
   "nbconvert_exporter": "python",
   "pygments_lexer": "ipython3",
   "version": "3.7.4"
  }
 },
 "nbformat": 4,
 "nbformat_minor": 4
}
