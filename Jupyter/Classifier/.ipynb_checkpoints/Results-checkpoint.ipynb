{
 "cells": [
  {
   "cell_type": "markdown",
   "metadata": {},
   "source": [
    "# **Segmenter**"
   ]
  },
  {
   "cell_type": "code",
   "execution_count": 1,
   "metadata": {},
   "outputs": [],
   "source": [
    "import matplotlib.pyplot as plt\n",
    "import pickle\n",
    "import cv2"
   ]
  },
  {
   "cell_type": "markdown",
   "metadata": {},
   "source": [
    "### Load Classifiers"
   ]
  },
  {
   "cell_type": "code",
   "execution_count": 2,
   "metadata": {},
   "outputs": [],
   "source": [
    "f = open(\"../Classifier/clf_digi.pk\", \"rb\")\n",
    "clf_digit = pickle.load(f)\n",
    "f.close()\n",
    "\n",
    "f = open(\"../Classifier/clf_math.pk\", \"rb\")\n",
    "clf_math = pickle.load(f)\n",
    "f.close()"
   ]
  },
  {
   "cell_type": "markdown",
   "metadata": {},
   "source": [
    "### Load Image"
   ]
  },
  {
   "cell_type": "code",
   "execution_count": 3,
   "metadata": {},
   "outputs": [
    {
     "data": {
      "image/png": "[encoded data removed]",
      "text/plain": [
       "<Figure size 72x72 with 1 Axes>"
      ]
     },
     "metadata": {
      "needs_background": "light"
     },
     "output_type": "display_data"
    }
   ],
   "source": [
    "img = cv2.imread(\"img/image_13.png\")\n",
    "plt.figure(figsize=(1,1))\n",
    "plt.imshow(img)\n",
    "plt.show()"
   ]
  },
  {
   "cell_type": "markdown",
   "metadata": {},
   "source": [
    "The classifiers accept a 28x28 greyscale img. We need to convert our images to a format that the classifiers accept. The images come with varying sizes and are encoded using RGB."
   ]
  },
  {
   "cell_type": "markdown",
   "metadata": {},
   "source": [
    "#### Grayscale/Thresholding"
   ]
  },
  {
   "cell_type": "code",
   "execution_count": 4,
   "metadata": {},
   "outputs": [
    {
     "data": {
      "image/png": "[encoded data removed]",
      "text/plain": [
       "<Figure size 288x288 with 3 Axes>"
      ]
     },
     "metadata": {
      "needs_background": "light"
     },
     "output_type": "display_data"
    }
   ],
   "source": [
    "fig, axs = plt.subplots(1,3, figsize=(4, 4))\n",
    "fig.tight_layout(pad=0.25)\n",
    "\n",
    "\n",
    "axs[0].imshow(img)\n",
    "axs[0].set_title(\"Default\")\n",
    "\n",
    "# Grayscale\n",
    "img_gray = cv2.cvtColor(img, cv2.COLOR_BGR2GRAY)\n",
    "axs[1].imshow(img_gray, cmap=\"Greys_r\")\n",
    "axs[1].set_title(\"Grayscale\")\n",
    "\n",
    "# Threshold\n",
    "_, img_thresh = cv2.threshold(img_gray, 120, 255, cv2.THRESH_BINARY_INV)\n",
    "axs[2].imshow(img_thresh, cmap=\"Greys_r\")\n",
    "axs[2].set_title(\"Threshold\")\n",
    "\n",
    "plt.show()"
   ]
  },
  {
   "cell_type": "markdown",
   "metadata": {},
   "source": [
    "#### Resizing"
   ]
  },
  {
   "cell_type": "code",
   "execution_count": 5,
   "metadata": {},
   "outputs": [
    {
     "name": "stdout",
     "output_type": "stream",
     "text": [
      "Img shape before resizing: (100, 100)\n",
      "Img shape after resizing: (28, 28)\n",
      "Img shape after resizing: (45, 45)\n"
     ]
    },
    {
     "data": {
      "text/plain": [
       "Text(0.5, 1, 'Default')"
      ]
     },
     "execution_count": 5,
     "metadata": {},
     "output_type": "execute_result"
    },
    {
     "data": {
      "image/png": "[encoded data removed]",
      "text/plain": [
       "<Figure size 288x288 with 3 Axes>"
      ]
     },
     "metadata": {
      "needs_background": "light"
     },
     "output_type": "display_data"
    }
   ],
   "source": [
    "print(\"Img shape before resizing:\", img_thresh.shape)\n",
    "resized_img_28 = cv2.resize(img_thresh, (28, 28))\n",
    "resized_img_45 = cv2.resize(img_thresh, (45, 45))\n",
    "print(\"Img shape after resizing:\", resized_img_28.shape)\n",
    "print(\"Img shape after resizing:\", resized_img_45.shape)\n",
    "\n",
    "fig, axs = plt.subplots(1,3, figsize=(4, 4))\n",
    "fig.tight_layout(pad=0.25)\n",
    "\n",
    "axs[0].imshow(img_thresh)\n",
    "axs[0].set_title(\"Default\")\n",
    "\n",
    "axs[1].imshow(resized_img_28)\n",
    "axs[1].set_title(\"Default\")\n",
    "\n",
    "axs[0].imshow(img_thresh)\n",
    "axs[0].set_title(\"Default\")"
   ]
  },
  {
   "cell_type": "markdown",
   "metadata": {},
   "source": [
    "#### Center"
   ]
  },
  {
   "cell_type": "code",
   "execution_count": null,
   "metadata": {},
   "outputs": [],
   "source": []
  },
  {
   "cell_type": "markdown",
   "metadata": {},
   "source": [
    "### Classification"
   ]
  },
  {
   "cell_type": "code",
   "execution_count": 6,
   "metadata": {},
   "outputs": [],
   "source": [
    "lookup = {\n",
    "    \"0\" : 0,\n",
    "    \"1\" : 1,\n",
    "    \"2\" : 2,   \n",
    "    \"3\" : 3,\n",
    "    \"4\" : 4,\n",
    "    \"5\" : 5,\n",
    "    \"6\" : 6,\n",
    "    \"7\" : 7,\n",
    "    \"8\" : 8,\n",
    "    \"9\" : 9,\n",
    "    \"(\" : 0,\n",
    "    \")\" : 1,\n",
    "    \"+\" : 2,\n",
    "    \"-\" : 3,\n",
    "    \"/\" : 4,\n",
    "}"
   ]
  },
  {
   "cell_type": "code",
   "execution_count": 8,
   "metadata": {},
   "outputs": [
    {
     "name": "stdout",
     "output_type": "stream",
     "text": [
      "Digit Classification:\n",
      "\tSymbol: 3\n",
      "\tConfidence: 1.0\n"
     ]
    }
   ],
   "source": [
    "symbol = lookup[clf_digit.predict([resized_img_28.ravel()])[0]]\n",
    "print(\"Digit Classification:\")\n",
    "print(\"\\tSymbol:\",symbol)\n",
    "print(\"\\tConfidence:\",clf_digit.predict_proba([resized_img_28.ravel()])[0][symbol])\n",
    "\n",
    "symbol = clf_math.predict([resized_img_28.ravel()])[0]\n",
    "# print(\"Math Classification:\")\n",
    "# print(\"\\tSymbol:\",symbol)\n",
    "# print(\"\\tConfidence\",clf_math.predict_proba([resized_img_45.ravel()])[0][lookup[symbol]])"
   ]
  },
  {
   "cell_type": "code",
   "execution_count": null,
   "metadata": {},
   "outputs": [],
   "source": []
  },
  {
   "cell_type": "code",
   "execution_count": null,
   "metadata": {},
   "outputs": [],
   "source": []
  }
 ],
 "metadata": {
  "kernelspec": {
   "display_name": "Python 3",
   "language": "python",
   "name": "python3"
  },
  "language_info": {
   "codemirror_mode": {
    "name": "ipython",
    "version": 3
   },
   "file_extension": ".py",
   "mimetype": "text/x-python",
   "name": "python",
   "nbconvert_exporter": "python",
   "pygments_lexer": "ipython3",
   "version": "3.7.6"
  }
 },
 "nbformat": 4,
 "nbformat_minor": 4
}
