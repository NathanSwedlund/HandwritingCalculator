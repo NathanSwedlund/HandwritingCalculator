{
 "cells": [
  {
   "cell_type": "markdown",
   "metadata": {},
   "source": [
    "## Importing libraries/data"
   ]
  },
  {
   "cell_type": "markdown",
   "metadata": {},
   "source": [
    "### Importing Libraries"
   ]
  },
  {
   "cell_type": "code",
<<<<<<< HEAD
   "execution_count": 56,
=======
   "execution_count": 1,
>>>>>>> 7f90256751ab0e8fe43609e4b068584294930628
   "metadata": {},
   "outputs": [],
   "source": [
    "# For general use\n",
    "import matplotlib.pyplot as plt\n",
    "import numpy as np\n",
    "import pandas as pd\n",
    "\n",
    "# For our classifiers\n",
    "from sklearn import neighbors\n",
    "from sklearn import naive_bayes\n",
    "from sklearn import tree\n",
    "from sklearn import neural_network\n",
    "from sklearn import preprocessing\n",
    "\n",
    "# For confusion matrix/data importing\n",
    "from sklearn import metrics  \n",
<<<<<<< HEAD
    "from sklearn.datasets import load_digits  "
   ]
  },
  {
   "cell_type": "code",
   "execution_count": null,
   "metadata": {},
   "outputs": [],
   "source": []
  },
  {
=======
    "from sklearn.datasets import load_digits \n",
    "\n",
    "from PIL import Image\n"
   ]
  },
  {
>>>>>>> 7f90256751ab0e8fe43609e4b068584294930628
   "cell_type": "markdown",
   "metadata": {},
   "source": [
    "### Importing CSV data"
   ]
  },
  {
   "cell_type": "code",
<<<<<<< HEAD
   "execution_count": 24,
=======
   "execution_count": 2,
>>>>>>> 7f90256751ab0e8fe43609e4b068584294930628
   "metadata": {},
   "outputs": [
    {
     "name": "stdout",
     "output_type": "stream",
     "text": [
      "Getting digits\n",
      "Loading 0.CSV...\n",
      "Loading 1.CSV...\n",
      "Loading 2.CSV...\n",
      "Loading 3.CSV...\n",
      "Loading 4.CSV...\n",
      "Loading 5.CSV...\n",
      "Loading 6.CSV...\n",
      "Loading 7.CSV...\n",
      "Loading 8.CSV...\n",
      "Loading 9.CSV...\n",
      "\n",
      "Getting math symbols\n",
      "Loading +.CSV...\n",
      "Loading ).CSV...\n",
      "Loading (.CSV...\n",
      "Loading ,.CSV...\n",
      "Loading -.CSV...\n",
<<<<<<< HEAD
=======
      "\n",
      "Getting math symbols\n",
      "Loading 0.CSV...\n",
      "Loading 1.CSV...\n",
      "Loading 2.CSV...\n",
      "Loading 3.CSV...\n",
      "Loading 4.CSV...\n",
      "Loading 5.CSV...\n",
      "Loading 6.CSV...\n",
      "Loading 7.CSV...\n",
      "Loading 8.CSV...\n",
      "Loading 9.CSV...\n",
      "Loading +28.CSV...\n",
      "Loading )28.CSV...\n",
      "Loading (28.CSV...\n",
      "Loading ,28.CSV...\n",
      "Loading -28.CSV...\n",
>>>>>>> 7f90256751ab0e8fe43609e4b068584294930628
      "Concatenating Data...\n",
      "Done\n"
     ]
    }
   ],
   "source": [
    "file = \"../../Data/CSV/\"\n",
    "\n",
    "print(\"Getting digits\")\n",
    "dfs_digi = []\n",
    "for cls in ['0','1','2','3','4','5','6','7','8','9']:\n",
    "    print(f\"Loading {cls}.CSV...\")\n",
    "    a = pd.read_csv(file+cls+\".csv\", index_col=0)\n",
    "    a['class'] = cls\n",
    "    dfs_digi.append(a)\n",
    "    \n",
    "print(\"\\nGetting math symbols\")\n",
    "dfs_math = []\n",
    "for cls in ['+', ')', '(', ',', '-']:\n",
    "    print(f\"Loading {cls}.CSV...\")\n",
    "    a = pd.read_csv(file+cls+\".csv\", index_col=0)\n",
    "    a['class'] = cls\n",
    "    dfs_math.append(a)\n",
    "\n",
<<<<<<< HEAD
    "print(\"Concatenating Data...\")\n",
    "df_math = pd.concat(dfs_math,ignore_index=True, sort=False)\n",
    "df_digi = pd.concat(dfs_digi,ignore_index=True, sort=False)\n",
=======
    "print(\"\\nGetting math symbols\")\n",
    "dfs_all = []\n",
    "for cls in ['0','1','2','3','4','5','6','7','8','9','+28', ')28', '(28', ',28', '-28']:\n",
    "    print(f\"Loading {cls}.CSV...\")\n",
    "    a = pd.read_csv(file+cls+\".csv\", index_col=0)\n",
    "    a['class'] = cls[0]\n",
    "    dfs_all.append(a)\n",
    "    \n",
    "print(\"Concatenating Data...\")\n",
    "df_math = pd.concat(dfs_math,ignore_index=True, sort=False)\n",
    "df_digi = pd.concat(dfs_digi,ignore_index=True, sort=False)\n",
    "df_all  = pd.concat(dfs_all, ignore_index=True, sort=False)\n",
>>>>>>> 7f90256751ab0e8fe43609e4b068584294930628
    "print(\"Done\")"
   ]
  },
  {
   "cell_type": "markdown",
   "metadata": {},
   "source": [
    "### Test/Train split"
   ]
  },
  {
   "cell_type": "code",
<<<<<<< HEAD
   "execution_count": 31,
=======
   "execution_count": 3,
>>>>>>> 7f90256751ab0e8fe43609e4b068584294930628
   "metadata": {},
   "outputs": [],
   "source": [
    "Dfeatures = [feature for feature in df_digi]\n",
    "Dfeatures.remove(\"class\")\n",
    "\n",
    "Dtrain_X = np.array(df_digi[df_digi.index%2 == 0][Dfeatures])\n",
    "Dtrain_y = df_digi[df_digi.index%2 == 0][\"class\"]\n",
    "Dtest_X = np.array(df_digi[df_digi.index%2 == 1][Dfeatures])\n",
    "Dtest_y = df_digi[df_digi.index%2 == 1][\"class\"]\n",
    "\n",
    "Mfeatures = [feature for feature in df_math]\n",
    "Mfeatures.remove(\"class\")\n",
<<<<<<< HEAD
    "\n",
    "Mtrain_X = np.array(df_math[df_math.index%2 == 0][Mfeatures])\n",
    "Mtrain_y = df_math[df_math.index%2 == 0][\"class\"]\n",
    "Mtest_X = np.array(df_math[df_math.index%2 == 1][Mfeatures])\n",
    "Mtest_y = df_math[df_math.index%2 == 1][\"class\"]\n"
=======
    "Mtrain_X = np.array(df_math[df_math.index%2 == 0][Mfeatures])\n",
    "Mtrain_y = df_math[df_math.index%2 == 0][\"class\"]\n",
    "Mtest_X = np.array(df_math[df_math.index%2 == 1][Mfeatures])\n",
    "Mtest_y = df_math[df_math.index%2 == 1][\"class\"]\n",
    "\n",
    "Afeatures = [feature for feature in df_all]\n",
    "Afeatures.remove(\"class\")\n",
    "Atrain_X = np.array(df_all[df_all.index%2 == 0][Afeatures])\n",
    "Atrain_y = df_all[df_all.index%2 == 0][\"class\"]\n",
    "Atest_X = np.array(df_all[df_all.index%2 == 1][Afeatures])\n",
    "Atest_y = df_all[df_all.index%2 == 1][\"class\"]"
   ]
  },
  {
   "cell_type": "code",
   "execution_count": 4,
   "metadata": {},
   "outputs": [
    {
     "data": {
      "text/plain": [
       "(4765, 2025)"
      ]
     },
     "execution_count": 4,
     "metadata": {},
     "output_type": "execute_result"
    }
   ],
   "source": [
    "Mtrain_X.shape"
>>>>>>> 7f90256751ab0e8fe43609e4b068584294930628
   ]
  },
  {
   "cell_type": "markdown",
   "metadata": {},
   "source": [
    "## Testing classifiers\n",
    "I conducted some \"accuracy vs parameter\" tests and found these to the be the optimal `n_neighbors` and `max_depth` values. In the future I will put those tests here"
   ]
  },
  {
   "cell_type": "code",
<<<<<<< HEAD
   "execution_count": 34,
=======
   "execution_count": 5,
   "metadata": {},
   "outputs": [],
   "source": [
    "def test_CLF(clf, tests):\n",
    "    print(\"Digit: ------\\nFitting...\")\n",
    "    clf.fit(Dtrain_X, Dtrain_y)\n",
    "    print(\"Scoring...\")\n",
    "    print(\"Score: \", clf.score(Dtest_X[:tests], Dtest_y[:tests]), \"\\n\")\n",
    "\n",
    "    print(\"Math: ------\\nFitting...\")\n",
    "    clf.fit(Mtrain_X, Mtrain_y)\n",
    "    print(\"Scoring...\")\n",
    "    print(\"Score: \", clf.score(Mtest_X[:tests], Mtest_y[:tests]), \"\\n\")\n",
    "\n",
    "    print(\"All: ------\\nFitting...\")\n",
    "    clf.fit(Atrain_X, Atrain_y)\n",
    "    print(\"Scoring...\")\n",
    "    print(\"Score: \", clf.score(Atest_X[:tests], Atest_y[:tests]), \"\\n\")"
   ]
  },
  {
   "cell_type": "code",
   "execution_count": 6,
>>>>>>> 7f90256751ab0e8fe43609e4b068584294930628
   "metadata": {},
   "outputs": [
    {
     "name": "stdout",
     "output_type": "stream",
     "text": [
<<<<<<< HEAD
      "Fitting...\n",
      "Scoring...\n",
      "Digit score:  0.99 \n",
      "\n",
      "Fitting...\n",
      "Scoring...\n",
      "Math score:  0.67 \n",
=======
      "Digit: ------\n",
      "Fitting...\n",
      "Scoring...\n",
      "Score:  1.0 \n",
      "\n",
      "Math: ------\n",
      "Fitting...\n",
      "Scoring...\n",
      "Score:  0.28 \n",
      "\n",
      "All: ------\n",
      "Fitting...\n",
      "Scoring...\n",
      "Score:  1.0 \n",
>>>>>>> 7f90256751ab0e8fe43609e4b068584294930628
      "\n"
     ]
    }
   ],
   "source": [
    "# Kneighbors\n",
    "clf = neighbors.KNeighborsClassifier(n_neighbors=1)\n",
<<<<<<< HEAD
    "print(\"Fitting...\")\n",
    "clf.fit(Dtrain_X, Dtrain_y)\n",
    "print(\"Scoring...\")\n",
    "print(\"Digit score: \", clf.score(Dtest_X[:100], Dtest_y[:100]), \"\\n\")\n",
    "\n",
    "print(\"Fitting...\")\n",
    "clf.fit(Mtrain_X, Mtrain_y)\n",
    "print(\"Scoring...\")\n",
    "print(\"Math score: \", clf.score(Mtest_X[:100], Mtest_y[:100]), \"\\n\")\n"
=======
    "test_CLF(clf, 100)"
>>>>>>> 7f90256751ab0e8fe43609e4b068584294930628
   ]
  },
  {
   "cell_type": "code",
<<<<<<< HEAD
   "execution_count": 37,
=======
   "execution_count": 7,
>>>>>>> 7f90256751ab0e8fe43609e4b068584294930628
   "metadata": {},
   "outputs": [
    {
     "name": "stdout",
     "output_type": "stream",
     "text": [
<<<<<<< HEAD
      "Fitting...\n",
      "Scoring...\n",
      "Digit score:  0.91 \n",
      "\n",
      "Fitting...\n",
      "Scoring...\n",
      "Math score:  0.91 \n",
=======
      "Digit: ------\n",
      "Fitting...\n",
      "Scoring...\n",
      "Score:  0.889 \n",
      "\n",
      "Math: ------\n",
      "Fitting...\n",
      "Scoring...\n",
      "Score:  0.295 \n",
      "\n",
      "All: ------\n",
      "Fitting...\n",
      "Scoring...\n",
      "Score:  0.867 \n",
>>>>>>> 7f90256751ab0e8fe43609e4b068584294930628
      "\n"
     ]
    }
   ],
   "source": [
    "# Decision Tree\n",
<<<<<<< HEAD
    "clf = tree.DecisionTreeClassifier(random_state=10)\n",
    "\n",
    "print(\"Fitting...\")\n",
    "clf.fit(Dtrain_X, Dtrain_y)\n",
    "print(\"Scoring...\")\n",
    "print(\"Digit score: \", clf.score(Dtest_X[:100], Dtest_y[:100]), \"\\n\")\n",
    "\n",
    "print(\"Fitting...\")\n",
    "clf.fit(Mtrain_X, Mtrain_y)\n",
    "print(\"Scoring...\")\n",
    "print(\"Math score: \", clf.score(Mtest_X[:100], Mtest_y[:100]), \"\\n\")"
=======
    "clf = tree.DecisionTreeClassifier(random_state=42, max_depth=15)\n",
    "test_CLF(clf, 1000)"
>>>>>>> 7f90256751ab0e8fe43609e4b068584294930628
   ]
  },
  {
   "cell_type": "code",
<<<<<<< HEAD
   "execution_count": 39,
=======
   "execution_count": 8,
>>>>>>> 7f90256751ab0e8fe43609e4b068584294930628
   "metadata": {},
   "outputs": [
    {
     "name": "stdout",
     "output_type": "stream",
     "text": [
<<<<<<< HEAD
      "Fitting...\n",
      "Scoring...\n",
      "Digit score:  0.5654333333333333 \n",
      "\n",
      "Fitting...\n",
      "Scoring...\n",
      "Math score:  0.9548162567097269 \n",
=======
      "Digit: ------\n",
      "Fitting...\n",
      "Scoring...\n",
      "Score:  0.92 \n",
      "\n",
      "Math: ------\n",
      "Fitting...\n",
      "Scoring...\n",
      "Score:  0.977 \n",
      "\n",
      "All: ------\n",
      "Fitting...\n",
      "Scoring...\n",
      "Score:  0.9085 \n",
>>>>>>> 7f90256751ab0e8fe43609e4b068584294930628
      "\n"
     ]
    }
   ],
   "source": [
    "# Gaussian Naive Bayes\n",
    "clf = naive_bayes.GaussianNB()\n",
<<<<<<< HEAD
    "\n",
    "print(\"Fitting...\")\n",
    "clf.fit(Dtrain_X, Dtrain_y)\n",
    "print(\"Scoring...\")\n",
    "print(\"Digit score: \", clf.score(Dtest_X, Dtest_y), \"\\n\")\n",
    "\n",
    "print(\"Fitting...\")\n",
    "clf.fit(Mtrain_X, Mtrain_y)\n",
    "print(\"Scoring...\")\n",
    "print(\"Math score: \", clf.score(Mtest_X, Mtest_y), \"\\n\")"
=======
    "test_CLF(clf, 2000)"
>>>>>>> 7f90256751ab0e8fe43609e4b068584294930628
   ]
  },
  {
   "cell_type": "markdown",
   "metadata": {},
   "source": [
    "### Finding most accurate hidden_layer_sizes value"
   ]
  },
  {
   "cell_type": "code",
<<<<<<< HEAD
   "execution_count": 57,
=======
   "execution_count": 9,
>>>>>>> 7f90256751ab0e8fe43609e4b068584294930628
   "metadata": {},
   "outputs": [],
   "source": [
    "# Using a small subset of data for faster results\n",
    "data_portion = 500\n",
    "Dtrain_X2 = np.array(df_digi[df_digi.index%data_portion == 0][Dfeatures])\n",
    "Dtrain_y2 = df_digi[df_digi.index%data_portion == 0][\"class\"]\n",
    "Dtest_X2 = np.array(df_digi[df_digi.index%data_portion == 1][Dfeatures])\n",
    "Dtest_y2 = df_digi[df_digi.index%data_portion == 1][\"class\"]\n",
    "\n",
    "Mtrain_X2 = np.array(df_math[df_math.index%data_portion == 0][Mfeatures])\n",
    "Mtrain_y2 = df_math[df_math.index%data_portion == 0][\"class\"]\n",
    "Mtest_X2 = np.array(df_math[df_math.index%data_portion == 1][Mfeatures])\n",
    "Mtest_y2 = df_math[df_math.index%data_portion == 1][\"class\"]\n",
    "\n",
<<<<<<< HEAD
    "sc = preprocessing.StandardScaler()\n",
    "Dtrain_X2 = sc.fit_transform(Dtrain_X2)\n",
    "Dtest_X2 = sc.fit_transform(Dtest_X2)\n",
    "Mtrain_X2 = sc.fit_transform(Mtrain_X2)\n",
    "Mtest_X2 = sc.fit_transform(Mtest_X2)"
   ]
  },
  {
   "cell_type": "code",
   "execution_count": 65,
   "metadata": {},
   "outputs": [
    {
     "data": {
      "text/plain": [
       "8.185352771872449"
      ]
     },
     "execution_count": 65,
     "metadata": {},
     "output_type": "execute_result"
    }
   ],
   "source": [
    "max(Mtest_X2[0])"
=======
    "Atrain_X2 = np.array(df_all[df_all.index%data_portion == 0][Afeatures])\n",
    "Atrain_y2 = df_all[df_all.index%data_portion == 0][\"class\"]\n",
    "Atest_X2 = np.array(df_all[df_all.index%data_portion == 1][Afeatures])\n",
    "Atest_y2 = df_all[df_all.index%data_portion == 1][\"class\"]\n",
    "\n",
    "# sc = preprocessing.StandardScaler()\n",
    "# Dtrain_X2 = sc.fit_transform(Dtrain_X2)\n",
    "# Dtest_X2 = sc.fit_transform(Dtest_X2)\n",
    "# Mtrain_X2 = sc.fit_transform(Mtrain_X2)\n",
    "# Mtest_X2 = sc.fit_transform(Mtest_X2)"
>>>>>>> 7f90256751ab0e8fe43609e4b068584294930628
   ]
  },
  {
   "cell_type": "code",
<<<<<<< HEAD
   "execution_count": 83,
=======
   "execution_count": 10,
>>>>>>> 7f90256751ab0e8fe43609e4b068584294930628
   "metadata": {},
   "outputs": [
    {
     "name": "stdout",
     "output_type": "stream",
     "text": [
<<<<<<< HEAD
      "fitting and scoring hidden_layer_sizes=10...\n",
      "fitting and scoring hidden_layer_sizes=11...\n",
      "fitting and scoring hidden_layer_sizes=12...\n",
      "fitting and scoring hidden_layer_sizes=13...\n",
      "fitting and scoring hidden_layer_sizes=14...\n",
      "fitting and scoring hidden_layer_sizes=15...\n",
      "fitting and scoring hidden_layer_sizes=16...\n",
      "fitting and scoring hidden_layer_sizes=17...\n",
      "fitting and scoring hidden_layer_sizes=18...\n",
      "fitting and scoring hidden_layer_sizes=19...\n",
=======
>>>>>>> 7f90256751ab0e8fe43609e4b068584294930628
      "fitting and scoring hidden_layer_sizes=20...\n",
      "fitting and scoring hidden_layer_sizes=21...\n",
      "fitting and scoring hidden_layer_sizes=22...\n",
      "fitting and scoring hidden_layer_sizes=23...\n",
      "fitting and scoring hidden_layer_sizes=24...\n",
      "fitting and scoring hidden_layer_sizes=25...\n",
      "fitting and scoring hidden_layer_sizes=26...\n",
      "fitting and scoring hidden_layer_sizes=27...\n",
      "fitting and scoring hidden_layer_sizes=28...\n",
<<<<<<< HEAD
      "fitting and scoring hidden_layer_sizes=29...\n",
      "fitting and scoring hidden_layer_sizes=30...\n",
      "fitting and scoring hidden_layer_sizes=31...\n",
      "fitting and scoring hidden_layer_sizes=32...\n",
      "fitting and scoring hidden_layer_sizes=33...\n",
      "fitting and scoring hidden_layer_sizes=34...\n",
      "fitting and scoring hidden_layer_sizes=35...\n",
      "fitting and scoring hidden_layer_sizes=36...\n",
      "fitting and scoring hidden_layer_sizes=37...\n",
      "fitting and scoring hidden_layer_sizes=38...\n",
      "fitting and scoring hidden_layer_sizes=39...\n",
      "fitting and scoring hidden_layer_sizes=40...\n",
      "fitting and scoring hidden_layer_sizes=41...\n",
      "fitting and scoring hidden_layer_sizes=42...\n",
      "fitting and scoring hidden_layer_sizes=43...\n",
      "fitting and scoring hidden_layer_sizes=44...\n"
=======
      "fitting and scoring hidden_layer_sizes=29...\n"
>>>>>>> 7f90256751ab0e8fe43609e4b068584294930628
     ]
    }
   ],
   "source": [
    "# Recording scores\n",
    "Dscores = []\n",
    "Mscores = []\n",
<<<<<<< HEAD
    "MAX = 45\n",
    "for hid in range(1, MAX):\n",
=======
    "Ascores = []\n",
    "MAX = 30\n",
    "for hid in range(20, MAX):\n",
>>>>>>> 7f90256751ab0e8fe43609e4b068584294930628
    "    print(f\"fitting and scoring hidden_layer_sizes={hid}...\")\n",
    "    clf = neural_network.MLPClassifier(hidden_layer_sizes=(hid),max_iter=3000, random_state=42)\n",
    "    \n",
    "    clf.fit(Dtrain_X2, Dtrain_y2)\n",
    "    Dscores.append(clf.score(Dtest_X2, Dtest_y2))\n",
    "    \n",
    "    clf.fit(Mtrain_X2, Mtrain_y2)\n",
<<<<<<< HEAD
    "    Mscores.append(clf.score(Mtest_X2, Mtest_y2))"
=======
    "    Mscores.append(clf.score(Mtest_X2, Mtest_y2))\n",
    "    \n",
    "    clf.fit(Atrain_X2, Atrain_y2)\n",
    "    Ascores.append(clf.score(Atest_X2, Atest_y2))"
>>>>>>> 7f90256751ab0e8fe43609e4b068584294930628
   ]
  },
  {
   "cell_type": "code",
<<<<<<< HEAD
   "execution_count": 82,
=======
   "execution_count": 11,
>>>>>>> 7f90256751ab0e8fe43609e4b068584294930628
   "metadata": {},
   "outputs": [
    {
     "name": "stdout",
     "output_type": "stream",
     "text": [
<<<<<<< HEAD
      "hidden_layer_sizes = 10   ::   0.7205882352941176  ::  0.7333333333333333\n",
      "hidden_layer_sizes = 11   ::   0.7647058823529411  ::  0.7333333333333333\n",
      "hidden_layer_sizes = 12   ::   0.7647058823529411  ::  0.7916666666666666\n",
      "hidden_layer_sizes = 13   ::   0.7941176470588235  ::  0.7916666666666666\n",
      "hidden_layer_sizes = 14   ::   0.7794117647058824  ::  0.7666666666666667\n",
      "hidden_layer_sizes = 15   ::   0.7352941176470589  ::  0.775\n",
      "hidden_layer_sizes = 16   ::   0.7794117647058824  ::  0.725\n",
      "hidden_layer_sizes = 17   ::   0.7941176470588235  ::  0.7166666666666667\n",
      "hidden_layer_sizes = 18   ::   0.7352941176470589  ::  0.7833333333333333\n",
      "hidden_layer_sizes = 19   ::   0.7794117647058824  ::  0.8\n",
      "hidden_layer_sizes = 20   ::   0.8088235294117647  ::  0.7833333333333333\n",
      "hidden_layer_sizes = 21   ::   0.75  ::  0.7416666666666667\n",
      "hidden_layer_sizes = 22   ::   0.75  ::  0.7583333333333333\n",
      "hidden_layer_sizes = 23   ::   0.7058823529411765  ::  0.8\n",
      "hidden_layer_sizes = 24   ::   0.7794117647058824  ::  0.775\n",
      "hidden_layer_sizes = 25   ::   0.8088235294117647  ::  0.7416666666666667\n",
      "hidden_layer_sizes = 26   ::   0.8088235294117647  ::  0.725\n",
      "hidden_layer_sizes = 27   ::   0.7205882352941176  ::  0.775\n",
      "hidden_layer_sizes = 28   ::   0.7941176470588235  ::  0.7583333333333333\n",
      "hidden_layer_sizes = 29   ::   0.8676470588235294  ::  0.7666666666666667\n",
      "hidden_layer_sizes = 30   ::   0.7647058823529411  ::  0.775\n",
      "hidden_layer_sizes = 31   ::   0.8235294117647058  ::  0.7833333333333333\n",
      "hidden_layer_sizes = 32   ::   0.7352941176470589  ::  0.7583333333333333\n",
      "hidden_layer_sizes = 33   ::   0.7794117647058824  ::  0.725\n",
      "hidden_layer_sizes = 34   ::   0.8088235294117647  ::  0.775\n",
      "hidden_layer_sizes = 35   ::   0.7794117647058824  ::  0.775\n",
      "hidden_layer_sizes = 36   ::   0.7058823529411765  ::  0.8083333333333333\n",
      "hidden_layer_sizes = 37   ::   0.7794117647058824  ::  0.8\n",
      "hidden_layer_sizes = 38   ::   0.8235294117647058  ::  0.7666666666666667\n",
      "hidden_layer_sizes = 39   ::   0.8088235294117647  ::  0.7833333333333333\n",
      "hidden_layer_sizes = 40   ::   0.8088235294117647  ::  0.7333333333333333\n",
      "hidden_layer_sizes = 41   ::   0.75  ::  0.775\n",
      "hidden_layer_sizes = 42   ::   0.8088235294117647  ::  0.7416666666666667\n",
      "hidden_layer_sizes = 43   ::   0.75  ::  0.7666666666666667\n",
      "hidden_layer_sizes = 44   ::   0.7794117647058824  ::  0.7916666666666666\n"
=======
      "hidden_layer_sizes =20  ::  0.513 :: 0.55 :: 0.466\n",
      "hidden_layer_sizes =21  ::  0.436 :: 0.7 :: 0.569\n",
      "hidden_layer_sizes =22  ::  0.41 :: 0.65 :: 0.517\n",
      "hidden_layer_sizes =23  ::  0.59 :: 0.5 :: 0.5\n",
      "hidden_layer_sizes =24  ::  0.513 :: 0.45 :: 0.466\n",
      "hidden_layer_sizes =25  ::  0.487 :: 0.55 :: 0.448\n",
      "hidden_layer_sizes =26  ::  0.41 :: 0.7 :: 0.448\n",
      "hidden_layer_sizes =27  ::  0.487 :: 0.55 :: 0.466\n",
      "hidden_layer_sizes =28  ::  0.487 :: 0.6 :: 0.5\n",
      "hidden_layer_sizes =29  ::  0.538 :: 0.65 :: 0.448\n"
>>>>>>> 7f90256751ab0e8fe43609e4b068584294930628
     ]
    }
   ],
   "source": [
<<<<<<< HEAD
    "for i, Dscore, Mscore in zip(range(MAX), Dscores, Mscores):\n",
    "    print(\"hidden_layer_sizes =\", i+10, '  ::  ', Mscore, ' :: ', Dscore )"
=======
    "for i, Dscore, Mscore, Ascore in zip(range(MAX), Dscores, Mscores, Ascores):\n",
    "    print(f\"hidden_layer_sizes ={i+20}  ::  {Dscore:3.3} :: {Mscore:3.3} :: {Ascore:3.3}\" )"
>>>>>>> 7f90256751ab0e8fe43609e4b068584294930628
   ]
  },
  {
   "cell_type": "code",
<<<<<<< HEAD
   "execution_count": 84,
=======
   "execution_count": 12,
>>>>>>> 7f90256751ab0e8fe43609e4b068584294930628
   "metadata": {},
   "outputs": [
    {
     "data": {
<<<<<<< HEAD
      "image/png": "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\n",
=======
      "image/png": "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\n",
>>>>>>> 7f90256751ab0e8fe43609e4b068584294930628
      "text/plain": [
       "<Figure size 432x288 with 1 Axes>"
      ]
     },
     "metadata": {
      "needs_background": "light"
     },
     "output_type": "display_data"
    }
   ],
   "source": [
    "plt.plot(Mscores)\n",
    "plt.plot(Dscores)\n",
    "plt.show()"
   ]
  },
  {
   "cell_type": "code",
<<<<<<< HEAD
   "execution_count": 53,
=======
   "execution_count": 13,
>>>>>>> 7f90256751ab0e8fe43609e4b068584294930628
   "metadata": {},
   "outputs": [
    {
     "name": "stdout",
     "output_type": "stream",
     "text": [
<<<<<<< HEAD
      "hidden_layer_sizes = 1   ::   0.47058823529411764  ::  0.11666666666666667\n",
      "hidden_layer_sizes = 2   ::   0.6911764705882353  ::  0.2\n",
      "hidden_layer_sizes = 3   ::   0.5294117647058824  ::  0.4583333333333333\n",
      "hidden_layer_sizes = 4   ::   0.7205882352941176  ::  0.30833333333333335\n"
=======
      "hidden_layer_sizes = 1   ::   0.55  ::  0.5128205128205128\n",
      "hidden_layer_sizes = 2   ::   0.7  ::  0.4358974358974359\n",
      "hidden_layer_sizes = 3   ::   0.65  ::  0.41025641025641024\n",
      "hidden_layer_sizes = 4   ::   0.5  ::  0.5897435897435898\n",
      "hidden_layer_sizes = 5   ::   0.45  ::  0.5128205128205128\n",
      "hidden_layer_sizes = 6   ::   0.55  ::  0.48717948717948717\n",
      "hidden_layer_sizes = 7   ::   0.7  ::  0.41025641025641024\n",
      "hidden_layer_sizes = 8   ::   0.55  ::  0.48717948717948717\n",
      "hidden_layer_sizes = 9   ::   0.6  ::  0.48717948717948717\n",
      "hidden_layer_sizes = 10   ::   0.65  ::  0.5384615384615384\n"
>>>>>>> 7f90256751ab0e8fe43609e4b068584294930628
     ]
    }
   ],
   "source": [
    "for i, Dscore, Mscore in zip(range(MAX), Dscores, Mscores):\n",
    "    print(\"hidden_layer_sizes =\", i+1, '  ::  ', Mscore, ' :: ', Dscore )"
   ]
  },
  {
   "cell_type": "markdown",
   "metadata": {},
   "source": [
    "Clearly `hidden_layer_sizes=16` is the most accurate value.\n",
    "\n",
    "Using this value, I will conduct accuracy testing with all of the data"
   ]
  },
  {
   "cell_type": "code",
<<<<<<< HEAD
   "execution_count": 88,
=======
   "execution_count": 14,
>>>>>>> 7f90256751ab0e8fe43609e4b068584294930628
   "metadata": {},
   "outputs": [],
   "source": [
    "data_portion = 19\n",
    "Dtrain_X3 = np.array(df_digi[df_digi.index%data_portion != 0][Dfeatures])\n",
    "Dtrain_y3 = df_digi[df_digi.index%data_portion != 0][\"class\"]\n",
    "Dtest_X3 = np.array(df_digi[df_digi.index%data_portion == 0][Dfeatures])\n",
    "Dtest_y3 = df_digi[df_digi.index%data_portion == 0][\"class\"]\n",
    "\n",
    "Mtrain_X3 = np.array(df_math[df_math.index%data_portion != 0][Mfeatures])\n",
    "Mtrain_y3 = df_math[df_math.index%data_portion != 0][\"class\"]\n",
    "Mtest_X3 = np.array(df_math[df_math.index%data_portion == 0][Mfeatures])\n",
    "Mtest_y3 = df_math[df_math.index%data_portion == 0][\"class\"]\n",
    "\n",
<<<<<<< HEAD
    "sc = preprocessing.StandardScaler()\n",
    "Dtrain_X3 = sc.fit_transform(Dtrain_X3)\n",
    "Dtest_X3 = sc.fit_transform(Dtest_X3)\n",
    "Mtrain_X3 = sc.fit_transform(Mtrain_X3)\n",
    "Mtest_X3 = sc.fit_transform(Mtest_X3)\n"
=======
    "Atrain_X3 = np.array(df_all[df_all.index%data_portion != 0][Afeatures])\n",
    "Atrain_y3 = df_all[df_all.index%data_portion != 0][\"class\"]\n",
    "Atest_X3 = np.array(df_all[df_all.index%data_portion == 0][Afeatures])\n",
    "Atest_y3 = df_all[df_all.index%data_portion == 0][\"class\"]\n",
    "\n",
    "\n",
    "# sc = preprocessing.StandardScaler()\n",
    "# Dtrain_X3 = sc.fit_transform(Dtrain_X3)\n",
    "# Dtest_X3 = sc.fit_transform(Dtest_X3)\n",
    "# Mtrain_X3 = sc.fit_transform(Mtrain_X3)\n",
    "# Mtest_X3 = sc.fit_transform(Mtest_X3)\n"
>>>>>>> 7f90256751ab0e8fe43609e4b068584294930628
   ]
  },
  {
   "cell_type": "code",
<<<<<<< HEAD
   "execution_count": 90,
=======
   "execution_count": 15,
>>>>>>> 7f90256751ab0e8fe43609e4b068584294930628
   "metadata": {},
   "outputs": [
    {
     "name": "stdout",
     "output_type": "stream",
     "text": [
      "fitting...\n",
      "scoring...\n",
<<<<<<< HEAD
      "Digits scored: 0.9673844205193161\n",
      "fitting...\n",
      "scoring...\n",
      "Math scored: 0.9988795518207283\n"
=======
      "Digits scored: 0.951195219123506\n",
      "fitting...\n",
      "scoring...\n",
      "Math scored: 0.9820717131474104\n",
      "fitting...\n",
      "scoring...\n",
      "All scored: 0.9408637873754153\n"
>>>>>>> 7f90256751ab0e8fe43609e4b068584294930628
     ]
    }
   ],
   "source": [
    "clf_digi = neural_network.MLPClassifier(hidden_layer_sizes=(39),max_iter=8000, random_state=42)\n",
    "print(\"fitting...\")\n",
    "clf_digi.fit(Dtrain_X3, Dtrain_y3)\n",
    "print(\"scoring...\")\n",
    "print(\"Digits scored:\", clf_digi.score(Dtest_X3, Dtest_y3))\n",
    "\n",
    "clf_math = neural_network.MLPClassifier(hidden_layer_sizes=(39),max_iter=8000, random_state=42)\n",
    "print(\"fitting...\")\n",
    "clf_math.fit(Mtrain_X3, Mtrain_y3)\n",
    "print(\"scoring...\")\n",
<<<<<<< HEAD
    "print(\"Math scored:\", clf_math.score(Mtest_X3, Mtest_y3))"
=======
    "print(\"Math scored:\", clf_math.score(Mtest_X3, Mtest_y3))\n",
    "\n",
    "clf_all = neural_network.MLPClassifier(hidden_layer_sizes=(39),max_iter=8000, random_state=42)\n",
    "print(\"fitting...\")\n",
    "clf_all.fit(Atrain_X3, Atrain_y3)\n",
    "print(\"scoring...\")\n",
    "print(\"All scored:\", clf_all.score(Atest_X3, Atest_y3))"
>>>>>>> 7f90256751ab0e8fe43609e4b068584294930628
   ]
  },
  {
   "cell_type": "code",
<<<<<<< HEAD
   "execution_count": 91,
=======
   "execution_count": 16,
>>>>>>> 7f90256751ab0e8fe43609e4b068584294930628
   "metadata": {},
   "outputs": [],
   "source": [
    "import pickle\n",
    "with open('clf_digi.pk', 'wb') as fout:\n",
    "    pickle.dump(clf_digi, fout)\n",
    "with open('clf_math.pk', 'wb') as fout:\n",
<<<<<<< HEAD
    "    pickle.dump(clf_math, fout)"
=======
    "    pickle.dump(clf_math, fout)\n",
    "with open('clf_all.pk', 'wb') as fout:\n",
    "    pickle.dump(clf_all, fout)"
>>>>>>> 7f90256751ab0e8fe43609e4b068584294930628
   ]
  },
  {
   "cell_type": "code",
<<<<<<< HEAD
   "execution_count": 92,
=======
   "execution_count": 17,
>>>>>>> 7f90256751ab0e8fe43609e4b068584294930628
   "metadata": {},
   "outputs": [
    {
     "name": "stdout",
     "output_type": "stream",
     "text": [
<<<<<<< HEAD
      "0.9673844205193161\n",
      "0.9988795518207283\n"
=======
      "0.951195219123506\n",
      "0.9820717131474104\n",
      "0.9408637873754153\n"
>>>>>>> 7f90256751ab0e8fe43609e4b068584294930628
     ]
    }
   ],
   "source": [
    "clf_digi2 = 10\n",
    "clf_math2 = 10\n",
<<<<<<< HEAD
=======
    "clf_all2 = 10\n",
>>>>>>> 7f90256751ab0e8fe43609e4b068584294930628
    "with open('clf_digi.pk', 'rb') as fin:\n",
    "    clf_digi2 = pickle.load(fin)\n",
    "with open('clf_math.pk', 'rb') as fin:\n",
    "    clf_math2 = pickle.load(fin)\n",
<<<<<<< HEAD
    "    \n",
    "print(clf_digi2.score(Dtest_X3, Dtest_y3))\n",
    "print(clf_math2.score(Mtest_X3, Mtest_y3))"
=======
    "with open('clf_all.pk', 'rb') as fin:\n",
    "    clf_all2 = pickle.load(fin)  \n",
    "    \n",
    "print(clf_digi2.score(Dtest_X3, Dtest_y3))\n",
    "print(clf_math2.score(Mtest_X3, Mtest_y3))\n",
    "print(clf_all2.score(Atest_X3, Atest_y3))"
   ]
  },
  {
   "cell_type": "markdown",
   "metadata": {},
   "source": [
    "### Testing time"
   ]
  },
  {
   "cell_type": "code",
   "execution_count": 82,
   "metadata": {},
   "outputs": [],
   "source": [
    "# functions for testing\n",
    "def compress_array(A, initx, inity, endx, endy):\n",
    "    arr = (A.reshape(initx,inity)).astype('uint8') # sample array\n",
    "    im = Image.fromarray(arr) # monochromatic image\n",
    "    im = im.resize((endx,endy))\n",
    "    return np.array(im)\n",
    "\n",
    "def testImg(arr):\n",
    "    initx = int(np.sqrt(len(arr)))\n",
    "    inity = initx\n",
    "\n",
    "    arrM = compress_array(arr, initx, inity, 45, 45).reshape(1,-1)\n",
    "    arrD = compress_array(arr, initx, inity, 28, 28).reshape(1,-1)\n",
    "\n",
    "    probM = clf_math.predict_proba(arrM)[0]\n",
    "    probD = clf_digi.predict_proba(arrD)[0]\n",
    "    probA = clf_all.predict_proba(arrD)[0]\n",
    "\n",
    "    print(\"Math: ------------------------------\")\n",
    "    plt.imshow(arrM.reshape(45,45), cmap=plt.cm.binary)\n",
    "    plt.title(clf_math.predict(arrM)[0])\n",
    "    plt.show()\n",
    "    for p, c in sorted(zip(probM, clf_math.classes_)):\n",
    "        print(c, \"  ::  \", p)\n",
    "\n",
    "    print(\"\\nDigit: ---------------------------\")\n",
    "    plt.imshow(arrD.reshape(28,28), cmap=plt.cm.binary)\n",
    "    plt.title(clf_digi.predict(arrD)[0])\n",
    "    plt.show()\n",
    "    for p, c in sorted(zip(probD, clf_digi.classes_)):\n",
    "        print(c, \"  ::  \", p)\n",
    "\n",
    "    print(\"\\nAll: ------------------------------\")\n",
    "    plt.imshow(arrD.reshape(28,28), cmap=plt.cm.binary)\n",
    "    plt.title(clf_all.predict(arrD)[0])\n",
    "    plt.show()\n",
    "    for p, c in sorted(zip(probA, clf_all.classes_)):\n",
    "        print(c, \"  ::  \", p)"
   ]
  },
  {
   "cell_type": "code",
   "execution_count": 87,
   "metadata": {},
   "outputs": [],
   "source": [
    "# Functions for finding combined classification\n",
    "def predict_as_dictionary(clf, arr, num):\n",
    "    initx = int(np.sqrt(len(arr)))\n",
    "    inity = initx\n",
    "    arr2 = compress_array(arr, initx, inity, num, num).reshape(1,-1)\n",
    "    return dict(zip(clf.classes_, clf.predict_proba(arr2)[0]))\n",
    "def classify(arr):\n",
    "    probM = predict_as_dictionary(clf_math, arr, 45)\n",
    "    probD = predict_as_dictionary(clf_digi, arr, 28)\n",
    "    probAll = predict_as_dictionary(clf_all, arr, 28)\n",
    "    \n",
    "    prob_M_D = {**probM, **probD}\n",
    "    \n",
    "    prob_true = {}\n",
    "    for symbol in math_symbols+digit_symbols:\n",
    "        prob_true[symbol] = probAll[symbol]*prob_M_D[symbol]\n",
    "\n",
    "    print(\"\\n\\nCombined prediction ------------------------------------------\")\n",
    "    for i in sorted(zip(prob_true.values(), prob_true)):\n",
    "        print(i)"
   ]
  },
  {
   "cell_type": "code",
   "execution_count": 88,
   "metadata": {},
   "outputs": [
    {
     "name": "stdout",
     "output_type": "stream",
     "text": [
      "Math: ------------------------------\n"
     ]
    },
    {
     "data": {
      "image/png": "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\n",
      "text/plain": [
       "<Figure size 432x288 with 1 Axes>"
      ]
     },
     "metadata": {
      "needs_background": "light"
     },
     "output_type": "display_data"
    },
    {
     "name": "stdout",
     "output_type": "stream",
     "text": [
      ",   ::   4.872717012368342e-12\n",
      "-   ::   2.2537008915547398e-10\n",
      "(   ::   2.926047632801648e-09\n",
      ")   ::   1.8332216852286525e-08\n",
      "+   ::   0.9999999785114926\n",
      "\n",
      "Digit: ---------------------------\n"
     ]
    },
    {
     "data": {
      "image/png": "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\n",
      "text/plain": [
       "<Figure size 432x288 with 1 Axes>"
      ]
     },
     "metadata": {
      "needs_background": "light"
     },
     "output_type": "display_data"
    },
    {
     "name": "stdout",
     "output_type": "stream",
     "text": [
      "4   ::   2.6936816186857108e-11\n",
      "6   ::   4.231150153162813e-06\n",
      "0   ::   1.4746484093578336e-05\n",
      "3   ::   2.0521153013980114e-05\n",
      "1   ::   0.0005506573651918139\n",
      "8   ::   0.0005553709299121578\n",
      "9   ::   0.001115639844078066\n",
      "2   ::   0.013921275786678237\n",
      "5   ::   0.023663159349637877\n",
      "7   ::   0.9601543979103043\n",
      "\n",
      "All: ------------------------------\n"
     ]
    },
    {
     "data": {
      "image/png": "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\n",
      "text/plain": [
       "<Figure size 432x288 with 1 Axes>"
      ]
     },
     "metadata": {
      "needs_background": "light"
     },
     "output_type": "display_data"
    },
    {
     "name": "stdout",
     "output_type": "stream",
     "text": [
      "2   ::   3.918094982439326e-28\n",
      "6   ::   6.588402843416147e-28\n",
      "1   ::   9.21333163318294e-28\n",
      "4   ::   1.0733352974740535e-26\n",
      "0   ::   1.234712579716549e-25\n",
      "9   ::   1.577931982190237e-22\n",
      "-   ::   1.0596943349294e-21\n",
      "5   ::   4.3932280830992516e-21\n",
      "8   ::   1.4433837502103274e-19\n",
      "7   ::   3.31312022621788e-16\n",
      "3   ::   1.9379114767473826e-15\n",
      ")   ::   4.5265445587830025e-15\n",
      ",   ::   1.3904392742079747e-14\n",
      "(   ::   2.444753994189828e-14\n",
      "+   ::   0.9999999999999549\n",
      "\n",
      "\n",
      "Combined prediction ------------------------------------------\n",
      "(2.8912235614924175e-37, '4')\n",
      "(2.787652170001854e-33, '6')\n",
      "(2.388234067405896e-31, '-')\n",
      "(5.07338892176691e-31, '1')\n",
      "(1.8207669416931165e-30, '0')\n",
      "(5.454488080893808e-30, '2')\n",
      "(6.775217106098288e-26, ',')\n",
      "(1.7604037905765097e-25, '9')\n",
      "(7.153466637481521e-23, '(')\n",
      "(8.016133755744072e-23, '8')\n",
      "(8.298159644314763e-23, ')')\n",
      "(1.0395765618968174e-22, '5')\n",
      "(3.9768177941881206e-20, '3')\n",
      "(3.18110695600868e-16, '7')\n",
      "(0.9999999785114475, '+')\n"
     ]
    }
   ],
   "source": [
    "# Getting test data\n",
    "num = 20\n",
    "arr = Mtest_X3[num]\n",
    "\n",
    "# Printing preliminary classifications\n",
    "testImg(arr)\n",
    "\n",
    "# Getting combined scores\n",
    "classify(arr)"
>>>>>>> 7f90256751ab0e8fe43609e4b068584294930628
   ]
  }
 ],
 "metadata": {
  "kernelspec": {
   "display_name": "Python 3",
   "language": "python",
   "name": "python3"
  },
  "language_info": {
   "codemirror_mode": {
    "name": "ipython",
    "version": 3
   },
   "file_extension": ".py",
   "mimetype": "text/x-python",
   "name": "python",
   "nbconvert_exporter": "python",
   "pygments_lexer": "ipython3",
   "version": "3.7.4"
  }
 },
 "nbformat": 4,
 "nbformat_minor": 2
}
