{
 "cells": [
  {
   "cell_type": "markdown",
   "metadata": {},
   "source": [
    "# Classifiers"
   ]
  },
  {
   "cell_type": "markdown",
   "metadata": {},
   "source": [
    "## Importing libraries/data"
   ]
  },
  {
   "cell_type": "markdown",
   "metadata": {},
   "source": [
    "### Importing Libraries"
   ]
  },
  {
   "cell_type": "code",
   "execution_count": 1,
   "metadata": {},
   "outputs": [],
   "source": [
    "# For general use\n",
    "import matplotlib.pyplot as plt\n",
    "import numpy as np\n",
    "import pandas as pd\n",
    "\n",
    "# For our classifiers\n",
    "from sklearn import neighbors\n",
    "from sklearn import naive_bayes\n",
    "from sklearn import tree\n",
    "from sklearn import neural_network\n",
    "from sklearn import preprocessing\n",
    "\n",
    "# For confusion matrix/data importing\n",
    "from sklearn import metrics  \n",
    "from sklearn.datasets import load_digits \n",
    "\n",
    "from os import listdir\n",
    "from os.path import isfile, join\n",
    "\n",
    "from PIL import Image\n",
    "\n",
    "import pickle"
   ]
  },
  {
   "cell_type": "markdown",
   "metadata": {},
   "source": [
    "### Getting file names"
   ]
  },
  {
   "cell_type": "code",
   "execution_count": 21,
   "metadata": {},
   "outputs": [],
   "source": [
    "symbols = [str(x) for x in range(10)]+[\"+\", \"-\", \"(\", \")\", \",\"]\n",
    "\n",
    "file_lists = {}\n",
    "for symbol in symbols:\n",
    "    mypath =  \"img/training/\"+symbol\n",
    "    file_lists[symbol] =  [mypath+\"b/\"+f for f in listdir(mypath+\"b\") if isfile(join(mypath+\"b\", f))]\n",
    "    file_lists[symbol] += [mypath+\"n/\"+f for f in listdir(mypath+\"n\") if isfile(join(mypath+\"n\", f))]\n",
    "\n",
    "    # Removing all non-png files\n",
    "    for file in file_lists[symbol]:\n",
    "        if(file[-4:] != \".png\"):\n",
    "            file_lists[symbol].remove(file)"
   ]
  },
  {
   "cell_type": "markdown",
   "metadata": {},
   "source": [
    "### Getting images"
   ]
  },
  {
   "cell_type": "code",
   "execution_count": 22,
   "metadata": {},
   "outputs": [],
   "source": [
    "image_dict = {}\n",
    "for symbol in symbols:\n",
    "    image_dict[symbol] = []\n",
    "    for file in file_lists[symbol]:\n",
    "        image = Image.open(file)\n",
    "        # Scaling image down\n",
    "        image_dict[symbol].append(image.resize((45, 45)))"
   ]
  },
  {
   "cell_type": "markdown",
   "metadata": {},
   "source": [
    "### Converting to mono-chrome"
   ]
  },
  {
   "cell_type": "code",
   "execution_count": 23,
   "metadata": {},
   "outputs": [],
   "source": [
    "images_mono = {}\n",
    "# Turning images into numerical values representing\n",
    "#  brightness of each pixel\n",
    "for symbol in symbols:\n",
    "    images_mono[symbol] = []\n",
    "    for i in image_dict[symbol]:\n",
    "        images_mono[symbol].append(np.asarray( i, dtype=\"int32\" ))"
   ]
  },
  {
   "cell_type": "markdown",
   "metadata": {},
   "source": [
    "### Reshaping digits"
   ]
  },
  {
   "cell_type": "code",
   "execution_count": 24,
   "metadata": {},
   "outputs": [],
   "source": [
    "images_shaped = images_mono.copy()\n",
    "\n",
    "for symbol in symbols:\n",
    "    for image in range(len(images_shaped[symbol])):\n",
    "        images_shaped[symbol][image] = images_shaped[symbol][image].reshape(-1, 45**2)"
   ]
  },
  {
   "cell_type": "markdown",
   "metadata": {},
   "source": [
    "### Consolidating data"
   ]
  },
  {
   "cell_type": "code",
   "execution_count": 25,
   "metadata": {},
   "outputs": [
    {
     "name": "stdout",
     "output_type": "stream",
     "text": [
      "Symbol: 0\n",
      "Creating DF\n",
      "Symbol: 1\n",
      "Creating DF\n",
      "Symbol: 2\n",
      "Creating DF\n",
      "Symbol: 3\n",
      "Creating DF\n",
      "Symbol: 4\n",
      "Creating DF\n",
      "Symbol: 5\n",
      "Creating DF\n",
      "Symbol: 6\n",
      "Creating DF\n",
      "Symbol: 7\n",
      "Creating DF\n",
      "Symbol: 8\n",
      "Creating DF\n",
      "Symbol: 9\n",
      "Creating DF\n",
      "Symbol: +\n",
      "Creating DF\n",
      "Symbol: -\n",
      "Creating DF\n",
      "Symbol: (\n",
      "Creating DF\n",
      "Symbol: )\n",
      "Creating DF\n",
      "Symbol: ,\n",
      "Creating DF\n",
      "Done.\n"
     ]
    }
   ],
   "source": [
    "dfs = []\n",
    "for symbol in symbols:\n",
    "    print(\"Symbol: \"+symbol)\n",
    "    print(\"Creating DF\")\n",
    "    temp = pd.DataFrame([images_shaped[symbol][i][0] for i in range(len(images_shaped[symbol]))])\n",
    "    temp[\"class\"] = symbol\n",
    "    dfs.append(temp)\n",
    "    \n",
    "df = pd.concat(dfs)\n",
    "\n",
    "\n",
    "print(\"Done.\")"
   ]
  },
  {
   "cell_type": "markdown",
   "metadata": {},
   "source": [
    "## Test Train Split"
   ]
  },
  {
   "cell_type": "code",
   "execution_count": 26,
   "metadata": {},
   "outputs": [],
   "source": [
    "features = [x for x in df]\n",
    "features.remove(\"class\")\n",
    "\n",
    "train = df[df.index%2 == 0]\n",
    "test = df[df.index%2 != 0]\n",
    "\n",
    "train_X = np.array(train[features].values)\n",
    "train_y = train[\"class\"].values\n",
    "\n",
    "test_X = np.array(test[features].values)\n",
    "test_y = test[\"class\"].values\n",
    "\n",
    "all_X = np.array(df[features].values)\n",
    "all_y = df[\"class\"]\n",
    "\n",
    "# Getting scaled copy of data\n",
    "sc = preprocessing.StandardScaler()\n",
    "sc_train_X = sc.fit_transform(train_X)\n",
    "sc_test_X  = sc.fit_transform(test_X)\n",
    "sc_all_X   = sc.fit_transform(all_X)"
   ]
  },
  {
   "cell_type": "markdown",
   "metadata": {},
   "source": [
    "## Training classifiers\n",
    "Kneighbors"
   ]
  },
  {
   "cell_type": "code",
   "execution_count": 27,
   "metadata": {},
   "outputs": [
    {
     "name": "stdout",
     "output_type": "stream",
     "text": [
      "Neighbors = 1\n",
      "Neighbors = 3\n",
      "Neighbors = 5\n",
      "Neighbors = 7\n",
      "Neighbors = 9\n"
     ]
    }
   ],
   "source": [
    "KN_scores = []\n",
    "sc_KN_scores = []\n",
    "for i in range(1, 10, 2):\n",
    "    print(\"Neighbors =\",i)\n",
    "    clf_KN = neighbors.KNeighborsClassifier(n_neighbors=i)\n",
    "    clf_KN.fit(train_X, train_y)\n",
    "    KN_scores.append(clf_KN.score(test_X, test_y))\n",
    "    clf_KN.fit(sc_train_X, train_y)\n",
    "    sc_KN_scores.append(clf_KN.score(sc_test_X, test_y))"
   ]
  },
  {
   "cell_type": "markdown",
   "metadata": {},
   "source": [
    "Decision Tree"
   ]
  },
  {
   "cell_type": "code",
   "execution_count": 28,
   "metadata": {},
   "outputs": [],
   "source": [
    "DT_scores = []\n",
    "for i in range(1, 30):\n",
    "    clf_DT = tree.DecisionTreeClassifier(max_depth=i, random_state=42)\n",
    "    clf_DT.fit(train_X, train_y)\n",
    "    DT_scores.append(clf_DT.score(test_X, test_y))"
   ]
  },
  {
   "cell_type": "markdown",
   "metadata": {},
   "source": [
    "GaussianNB"
   ]
  },
  {
   "cell_type": "code",
   "execution_count": 29,
   "metadata": {},
   "outputs": [],
   "source": [
    "clf_GA = naive_bayes.GaussianNB()\n",
    "clf_GA.fit(train_X, train_y)\n",
    "GA_score = clf_GA.score(test_X, test_y)"
   ]
  },
  {
   "cell_type": "markdown",
   "metadata": {},
   "source": [
    "Neural Network"
   ]
  },
  {
   "cell_type": "code",
   "execution_count": 11,
   "metadata": {},
   "outputs": [
    {
     "name": "stdout",
     "output_type": "stream",
     "text": [
      "fitting and scoring hidden_layer_sizes=1...\n",
      "fitting and scoring hidden_layer_sizes=6...\n",
      "fitting and scoring hidden_layer_sizes=11...\n",
      "fitting and scoring hidden_layer_sizes=16...\n",
      "fitting and scoring hidden_layer_sizes=21...\n",
      "fitting and scoring hidden_layer_sizes=26...\n",
      "fitting and scoring hidden_layer_sizes=31...\n",
      "fitting and scoring hidden_layer_sizes=36...\n"
     ]
    }
   ],
   "source": [
    "# Recording scores\n",
    "sc_NN_scores = []\n",
    "NN_scores = []\n",
    "for hid in range(1, 40, 5):\n",
    "    print(f\"fitting and scoring hidden_layer_sizes={hid}...\")\n",
    "    clf_NN = neural_network.MLPClassifier(hidden_layer_sizes=(hid),max_iter=3000, random_state=42)\n",
    "    clf_NN.fit(train_X, train_y)\n",
    "    NN_scores.append(clf_NN.score(test_X, test_y))\n",
    "    \n",
    "    clf_NN.fit(sc_train_X, train_y)\n",
    "    sc_NN_scores.append(clf_NN.score(sc_test_X, test_y))"
   ]
  },
  {
   "cell_type": "markdown",
   "metadata": {},
   "source": [
    "### Comparing Data"
   ]
  },
  {
   "cell_type": "code",
   "execution_count": 30,
   "metadata": {},
   "outputs": [
    {
     "data": {
      "image/png": "[encoded data removed]",
      "text/plain": [
       "<Figure size 432x288 with 1 Axes>"
      ]
     },
     "metadata": {
      "needs_background": "light"
     },
     "output_type": "display_data"
    }
   ],
   "source": [
    "plt.plot(NN_scores, color=\"gold\", lw=5, label=\"not scaled\")\n",
    "plt.plot(sc_NN_scores, color=\"cyan\", lw=5, label=\"scaled\")\n",
    "plt.xticks([x for x in range(8)], labels=[hid for hid in range(1, 40, 5)])\n",
    "plt.ylim((0,1))\n",
    "plt.grid(axis=\"x\")\n",
    "plt.title(\"Neural Networks\")\n",
    "plt.legend()\n",
    "plt.show()"
   ]
  },
  {
   "cell_type": "code",
   "execution_count": 31,
   "metadata": {},
   "outputs": [
    {
     "data": {
      "image/png": "[encoded data removed]",
      "text/plain": [
       "<Figure size 432x288 with 1 Axes>"
      ]
     },
     "metadata": {
      "needs_background": "light"
     },
     "output_type": "display_data"
    }
   ],
   "source": [
    "plt.plot(KN_scores, color=\"purple\", lw=5, label=\"not scaled\")\n",
    "plt.plot(sc_KN_scores, color=\"red\", lw=5, label=\"scaled\")\n",
    "plt.xticks([x for x in range(4)], labels=[hid for hid in range(1, 10, 2)])\n",
    "plt.ylim((0,1))\n",
    "plt.grid(axis=\"x\")\n",
    "plt.title(\"KNeighbors\")\n",
    "plt.legend()\n",
    "plt.show()"
   ]
  },
  {
   "cell_type": "code",
   "execution_count": 32,
   "metadata": {},
   "outputs": [
    {
     "data": {
      "image/png": "[encoded data removed]",
      "text/plain": [
       "<Figure size 432x288 with 1 Axes>"
      ]
     },
     "metadata": {
      "needs_background": "light"
     },
     "output_type": "display_data"
    }
   ],
   "source": [
    "plt.plot([0,30], [GA_score]*2, color=\"hotpink\", lw=5, label=\"GuassianNB\")\n",
    "plt.plot(DT_scores, color=\"lime\", lw=5, label=\"Decision Tree\")\n",
    "\n",
    "plt.xticks([x for x in range(0, 30, 2)], labels=[hid for hid in range(1, 30, 2)])\n",
    "plt.ylim((0,1))\n",
    "plt.grid(axis=\"x\")\n",
    "plt.title(\"Decision Tree and GuassianNB\")\n",
    "plt.legend()\n",
    "plt.show()"
   ]
  },
  {
   "cell_type": "markdown",
   "metadata": {},
   "source": [
    "Putting the two best classifiers into pickle files"
   ]
  },
  {
   "cell_type": "code",
   "execution_count": 33,
   "metadata": {},
   "outputs": [],
   "source": [
    "# KNeighbors\n",
    "sc_clf_KN = neighbors.KNeighborsClassifier(n_neighbors=1)\n",
    "sc_clf_KN.fit(sc_all_X, all_y)\n",
    "with open('sc_KN.pk', 'wb') as fout:\n",
    "    pickle.dump(sc_clf_KN, fout)\n",
    "    \n",
    "# Neural Network\n",
    "sc_clf_NN = neural_network.MLPClassifier(hidden_layer_sizes=(26),max_iter=3000, random_state=42)\n",
    "sc_clf_NN.fit(sc_all_X, all_y)\n",
    "with open('sc_NN.pk', 'wb') as fout:\n",
    "    pickle.dump(sc_clf_NN, fout)"
   ]
  }
 ],
 "metadata": {
  "kernelspec": {
   "display_name": "Python 3",
   "language": "python",
   "name": "python3"
  },
  "language_info": {
   "codemirror_mode": {
    "name": "ipython",
    "version": 3
   },
   "file_extension": ".py",
   "mimetype": "text/x-python",
   "name": "python",
   "nbconvert_exporter": "python",
   "pygments_lexer": "ipython3",
   "version": "3.7.4"
  }
 },
 "nbformat": 4,
 "nbformat_minor": 4
}
