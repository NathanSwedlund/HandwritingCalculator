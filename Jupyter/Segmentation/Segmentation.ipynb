{
 "cells": [
  {
   "cell_type": "markdown",
   "metadata": {},
   "source": [
    "# **Segmentation**\n",
    "The code below illustrates the process of segmentation, e.g., splitting up a single image of a sequence of characters into mulltiple images of individual characters."
   ]
  },
  {
   "cell_type": "markdown",
   "metadata": {},
   "source": [
    "### **Imports**"
   ]
  },
  {
   "cell_type": "code",
   "execution_count": 1,
   "metadata": {},
   "outputs": [],
   "source": [
    "import numpy as np\n",
    "import cv2\n",
    "import imutils\n",
    "import matplotlib.pyplot as plt\n",
    "from imutils import contours\n",
    "import os\n",
    "import glob\n",
    "\n",
    "# For our classifiers\n",
    "from sklearn.datasets import load_digits  \n",
    "from sklearn import neighbors\n",
    "import pickle\n",
    "\n",
    "# For picture manipulation\n",
    "from PIL import Image\n",
    "\n",
    "from scipy import ndimage\n",
    "\n",
    "import math"
   ]
  },
  {
   "cell_type": "markdown",
   "metadata": {},
   "source": [
    "### **Helper Functions**\n",
    "Each of these functions represent a functionality in the segmentation process. Not all are in use, but all have been tested. Once we switched to our own dataset we no longer needed dialation, blurring or closing since our challenge data directly matched the training data. "
   ]
  },
  {
   "cell_type": "code",
   "execution_count": 2,
   "metadata": {},
   "outputs": [],
   "source": [
    "IMAGE_PADDING = 4\n",
    "\n",
    "def convert_to_grayscale(img):\n",
    "    return cv2.cvtColor(img, cv2.COLOR_BGR2GRAY)\n",
    "\n",
    "def apply_gaussian_blur(img):\n",
    "    return cv2.GaussianBlur(img, (3, 3), 1)\n",
    "\n",
    "def apply_threshold(img):\n",
    "    _, img = cv2.threshold(img, 120, 255, cv2.THRESH_BINARY_INV)\n",
    "    return img\n",
    "\n",
    "def dilate(img, rows=1, cols=1, i=1):\n",
    "    return cv2.dilate(img, np.ones((rows, cols), np.uint8), iterations=i)\n",
    "\n",
    "def close(img, rows=1, cols=1):\n",
    "    return cv2.morphologyEx(img, cv2.MORPH_CLOSE, np.ones((rows, cols), np.uint8))\n",
    "\n",
    "def get_contours(img, rows=1, cols=1):\n",
    "    cnts, _ = cv2.findContours(img.copy(), cv2.RETR_EXTERNAL, cv2.CHAIN_APPROX_SIMPLE)\n",
    "    cnts = contours.sort_contours(cnts, method=\"left-to-right\")[0]\n",
    "    return cnts\n",
    "\n",
    "def get_characters(img, cnts):\n",
    "    chars = []\n",
    "    for cnt in cnts:\n",
    "    \n",
    "        # Bounding rect\n",
    "        (x, y, w, h) = cv2.boundingRect(cnt)\n",
    "        chars.append((x,y,w,h,img[y:y+h,x:x+w]))\n",
    "        \n",
    "    return np.asarray(chars)\n",
    "\n",
    "def draw_contours(img, cnts):\n",
    "    image = img.copy()\n",
    "    for cnt in cnts:\n",
    "        (x, y, w, h) = cv2.boundingRect(cnt)\n",
    "        cv2.rectangle(image, (x, y), (x + w, y + h), (0,255,0), 3)\n",
    "    plt.imshow(image, cmap='Greys_r')\n",
    "    plt.show()        \n",
    "\n",
    "def shape(img):\n",
    "    \n",
    "    h,w = img.shape\n",
    "    aspect_ratio = w/h\n",
    "    \n",
    "    if aspect_ratio < 0.95:        \n",
    "        padding = (h - w) // 2\n",
    "        \n",
    "        # Add width padding to create even aspect ratio\n",
    "        img = cv2.copyMakeBorder(img,0,0,padding,padding,cv2.BORDER_CONSTANT,value=(0,0,0))\n",
    "        \n",
    "    elif aspect_ratio > 1.05:        \n",
    "        padding = (w - h) // 2\n",
    "        \n",
    "         # Add width padding to create even aspect ratio\n",
    "        img = cv2.copyMakeBorder(img,padding,padding,0,0,cv2.BORDER_CONSTANT,value=(0,0,0))\n",
    "       \n",
    "    # Resize\n",
    "    img_size = 28 - IMAGE_PADDING * 2\n",
    "    img = cv2.resize(img, (img_size, img_size))\n",
    "    \n",
    "    # add padding\n",
    "    img = cv2.copyMakeBorder(img,IMAGE_PADDING,IMAGE_PADDING,IMAGE_PADDING,IMAGE_PADDING,cv2.BORDER_CONSTANT,value=(0,0,0))\n",
    "    return img"
   ]
  },
  {
   "cell_type": "markdown",
   "metadata": {},
   "source": [
    "## **Segmentation Process**"
   ]
  },
  {
   "cell_type": "markdown",
   "metadata": {},
   "source": [
    "### (1) Load Image"
   ]
  },
  {
   "cell_type": "code",
   "execution_count": 3,
   "metadata": {},
   "outputs": [
    {
     "data": {
      "image/png": "[encoded data removed]",
      "text/plain": [
       "<Figure size 432x288 with 1 Axes>"
      ]
     },
     "metadata": {
      "needs_background": "light"
     },
     "output_type": "display_data"
    }
   ],
   "source": [
    "orig_img = cv2.imread(\"test.png\")\n",
    "plt.imshow(orig_img, cmap=\"Greys_r\")\n",
    "plt.show()"
   ]
  },
  {
   "cell_type": "markdown",
   "metadata": {},
   "source": [
    "### (2) Convert to Grayscale\n",
    "Images cannot be processed in RGB (0,0,0). So we convert the image from RGB to grayscale (0-1)"
   ]
  },
  {
   "cell_type": "code",
   "execution_count": 4,
   "metadata": {},
   "outputs": [
    {
     "data": {
      "image/png": "[encoded data removed]",
      "text/plain": [
       "<Figure size 432x288 with 1 Axes>"
      ]
     },
     "metadata": {
      "needs_background": "light"
     },
     "output_type": "display_data"
    }
   ],
   "source": [
    "img = convert_to_grayscale(orig_img)\n",
    "plt.imshow(img, cmap=\"Greys_r\")\n",
    "plt.show()"
   ]
  },
  {
   "cell_type": "markdown",
   "metadata": {},
   "source": [
    "### (3) Apply Threshold\n",
    "Basically inverting the image. This makes it easier for us to find the contours and classify."
   ]
  },
  {
   "cell_type": "code",
   "execution_count": 5,
   "metadata": {},
   "outputs": [
    {
     "data": {
      "image/png": "[encoded data removed]",
      "text/plain": [
       "<Figure size 432x288 with 1 Axes>"
      ]
     },
     "metadata": {
      "needs_background": "light"
     },
     "output_type": "display_data"
    }
   ],
   "source": [
    "img = apply_threshold(img)\n",
    "plt.imshow(img, cmap=\"Greys_r\")\n",
    "plt.show()"
   ]
  },
  {
   "cell_type": "markdown",
   "metadata": {},
   "source": [
    "### (4) Contours"
   ]
  },
  {
   "cell_type": "code",
   "execution_count": 6,
   "metadata": {},
   "outputs": [
    {
     "data": {
      "image/png": "[encoded data removed]",
      "text/plain": [
       "<Figure size 432x288 with 1 Axes>"
      ]
     },
     "metadata": {
      "needs_background": "light"
     },
     "output_type": "display_data"
    }
   ],
   "source": [
    "cnts = get_contours(img)\n",
    "draw_contours(orig_img, cnts)"
   ]
  },
  {
   "cell_type": "markdown",
   "metadata": {},
   "source": [
    "### (5) Reshaping Indiviudal Characters Method One**\n",
    "Uses center of mass."
   ]
  },
  {
   "cell_type": "code",
   "execution_count": 7,
   "metadata": {},
   "outputs": [
    {
     "data": {
      "image/png": "[encoded data removed]",
      "text/plain": [
       "<Figure size 576x360 with 10 Axes>"
      ]
     },
     "metadata": {},
     "output_type": "display_data"
    }
   ],
   "source": [
    "fig, axs = plt.subplots(nrows=2, ncols=5, figsize=(8, 5),\n",
    "                        subplot_kw={'xticks': [], 'yticks': []})\n",
    "\n",
    "\n",
    "# CREDIT: https://opensourc.es/blog/tensorflow-mnist\n",
    "chars = get_characters(img, cnts)\n",
    "resized_chars_1 = []\n",
    "for ax, char in zip(axs.flat, chars):\n",
    "    char_img = char[4]\n",
    "    rows, cols = char_img.shape\n",
    "    \n",
    "    if rows > cols:\n",
    "        factor = 20 / rows\n",
    "        rows = 20\n",
    "        cols = int(round(cols*factor))\n",
    "        char_img = cv2.resize(char_img, (cols,rows))\n",
    "    else:\n",
    "        factor = 20.0/cols\n",
    "        cols = 20\n",
    "        rows = int(round(rows*factor))\n",
    "        char_img = cv2.resize(char_img, (cols, rows))\n",
    "        \n",
    "    colsPadding = (int(math.ceil((28-cols)/2.0)),int(math.floor((28-cols)/2.0)))\n",
    "    rowsPadding = (int(math.ceil((28-rows)/2.0)),int(math.floor((28-rows)/2.0)))\n",
    "    char_img = np.lib.pad(char_img,(rowsPadding,colsPadding),'constant')\n",
    "    resized_chars_1.append(char_img)\n",
    "    ax.imshow(char_img, cmap=\"Greys_r\")\n",
    "    \n",
    "reszied_chars_1 = np.asarray(resized_chars_1)"
   ]
  },
  {
   "cell_type": "markdown",
   "metadata": {},
   "source": [
    "### (5) Reshaping Indiviudal Characters Method Two\n",
    "Uses padding. This is the method in use currently on the website."
   ]
  },
  {
   "cell_type": "code",
   "execution_count": 8,
   "metadata": {},
   "outputs": [
    {
     "data": {
      "image/png": "[encoded data removed]",
      "text/plain": [
       "<Figure size 576x360 with 10 Axes>"
      ]
     },
     "metadata": {},
     "output_type": "display_data"
    }
   ],
   "source": [
    "fig, axs = plt.subplots(nrows=2, ncols=5, figsize=(8, 5),\n",
    "                        subplot_kw={'xticks': [], 'yticks': []})\n",
    "\n",
    "\n",
    "chars = get_characters(img, cnts)\n",
    "resized_chars_2 = []\n",
    "for ax, char in zip(axs.flat, chars):\n",
    "    char_img = char[4]\n",
    "    char_img = shape(char_img)\n",
    "    resized_chars_2.append(char_img)\n",
    "    ax.imshow(char_img,cmap=\"Greys_r\")\n",
    "    \n",
    "reszied_chars_2 = np.asarray(resized_chars_2)"
   ]
  },
  {
   "cell_type": "markdown",
   "metadata": {},
   "source": [
    "## **Conclusion**"
   ]
  },
  {
   "cell_type": "markdown",
   "metadata": {},
   "source": [
    "These techniques worked farily well for matching our challenge data with MNSIT (which has 3px padding) but had issues with the math dataset (no padding). Again, making our own dataset resolved this issues. Note, if the didgts are too close to one another, they will appear on the edges of the segmented images. This is fine. We are not trying to create a perfectg segmenter, we are just trying to get something to work."
   ]
  }
 ],
 "metadata": {
  "kernelspec": {
   "display_name": "Python 3",
   "language": "python",
   "name": "python3"
  },
  "language_info": {
   "codemirror_mode": {
    "name": "ipython",
    "version": 3
   },
   "file_extension": ".py",
   "mimetype": "text/x-python",
   "name": "python",
   "nbconvert_exporter": "python",
   "pygments_lexer": "ipython3",
   "version": "3.7.6"
  }
 },
 "nbformat": 4,
 "nbformat_minor": 4
}
