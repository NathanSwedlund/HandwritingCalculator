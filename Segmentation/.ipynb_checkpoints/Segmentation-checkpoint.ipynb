{
 "cells": [
  {
   "cell_type": "markdown",
   "metadata": {},
   "source": [
    "### Imports"
   ]
  },
  {
   "cell_type": "code",
   "execution_count": 5,
   "metadata": {},
   "outputs": [],
   "source": [
    "import numpy as np\n",
    "import cv2\n",
    "import imutils\n",
    "import matplotlib.pyplot as plt\n",
    "from imutils import contours\n",
    "import os\n",
    "import glob"
   ]
  },
  {
   "cell_type": "markdown",
   "metadata": {},
   "source": [
    "### Clear Indiviual Char Directory"
   ]
  },
  {
   "cell_type": "code",
   "execution_count": 6,
   "metadata": {},
   "outputs": [],
   "source": [
    "files = glob.glob('./characters/*')\n",
    "for f in files:\n",
    "    os.remove(f)"
   ]
  },
  {
   "cell_type": "markdown",
   "metadata": {},
   "source": [
    "### Load Image and Split Into Individual Chars"
   ]
  },
  {
   "cell_type": "code",
   "execution_count": 7,
   "metadata": {},
   "outputs": [
    {
     "data": {
      "image/png": "[encoded data removed]",
      "text/plain": [
       "<Figure size 432x288 with 1 Axes>"
      ]
     },
     "metadata": {
      "needs_background": "light"
     },
     "output_type": "display_data"
    }
   ],
   "source": [
    "# For now, the image needs to have a background. \n",
    "img = cv2.imread(\"test01.png\")\n",
    "\n",
    "# Convert the image to grayscale\n",
    "# findContours() requires the image to be binary\n",
    "img = cv2.cvtColor(img, cv2.COLOR_BGR2GRAY)\n",
    "\n",
    "# Threshold image\n",
    "_, thresh = cv2.threshold(img, 120, 255, cv2.THRESH_BINARY_INV) \n",
    "\n",
    "# Erode then dialate (if image in noisy use this)\n",
    "# morphed = cv2.morphologyEx(thresh, cv2.MORPH_OPEN, np.ones((2,2)))\n",
    "\n",
    "# Dialate image\n",
    "morphed = cv2.dilate(thresh, np.ones((4,4), np.uint8), iterations=2)\n",
    "\n",
    "# Find contours\n",
    "cnts, _ = cv2.findContours(thresh.copy(), \n",
    "                               cv2.RETR_EXTERNAL, \n",
    "                               cv2.CHAIN_APPROX_SIMPLE)\n",
    "\n",
    "# Sort contours (left-right)\n",
    "cnts = contours.sort_contours(cnts, method=\"left-to-right\")[0]\n",
    "\n",
    "# Iterate through contours\n",
    "i = 0\n",
    "for cnt in cnts:\n",
    "    \n",
    "    # NOTE: We have no check on what is a valid contour,\n",
    "    # meaning, any stray mark will be treated as an\n",
    "    # individual character\n",
    "    \n",
    "    # Identify rectangle boundary\n",
    "    (x, y, w, h) = cv2.boundingRect(cnt)\n",
    "    \n",
    "    # Save character\n",
    "    # NOTE: Before saving we could resize the image here to\n",
    "    # fit training set features\n",
    "    cv2.imwrite(\"./characters/char\" + str(i) + \".png\", img[y:y+h,x:x+w])\n",
    "    i += 1\n",
    "    \n",
    "    # Draw rectangle boundary\n",
    "    cv2.rectangle(img, (x, y), (x + w, y + h), (0, 255, 0), 3)\n",
    "    \n",
    "plt.imshow(img, cmap='Greys_r')\n",
    "plt.show()"
   ]
  },
  {
   "cell_type": "code",
   "execution_count": null,
   "metadata": {},
   "outputs": [],
   "source": []
  }
 ],
 "metadata": {
  "kernelspec": {
   "display_name": "Python 3",
   "language": "python",
   "name": "python3"
  },
  "language_info": {
   "codemirror_mode": {
    "name": "ipython",
    "version": 3
   },
   "file_extension": ".py",
   "mimetype": "text/x-python",
   "name": "python",
   "nbconvert_exporter": "python",
   "pygments_lexer": "ipython3",
   "version": "3.7.6"
  }
 },
 "nbformat": 4,
 "nbformat_minor": 4
}
