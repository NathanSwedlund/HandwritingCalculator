{
 "cells": [
  {
   "cell_type": "markdown",
   "metadata": {},
   "source": [
    "## Importing libraries/data"
   ]
  },
  {
   "cell_type": "markdown",
   "metadata": {},
   "source": [
    "### Importing Libraries"
   ]
  },
  {
   "cell_type": "code",
   "execution_count": 1,
   "metadata": {},
   "outputs": [],
   "source": [
    "# For general use\n",
    "import matplotlib.pyplot as plt\n",
    "import numpy as np\n",
    "import pandas as pd\n",
    "\n",
    "# For our classifiers\n",
    "from sklearn import neighbors\n",
    "from sklearn import naive_bayes\n",
    "from sklearn import tree\n",
    "from sklearn import neural_network\n",
    "\n",
    "# For saving classifier to file\n",
    "import pickle\n",
    "\n",
    "# For confusion matrix/data importing\n",
    "from sklearn import metrics  \n",
    "from sklearn.datasets import load_digits  "
   ]
  },
  {
   "cell_type": "markdown",
   "metadata": {},
   "source": [
    "### Importing CSV data"
   ]
  },
  {
   "cell_type": "code",
   "execution_count": 4,
   "metadata": {},
   "outputs": [
    {
     "name": "stdout",
     "output_type": "stream",
     "text": [
      "Loading +.CSV...\n",
      "Loading ).CSV...\n",
      "Loading (.CSV...\n",
      "Loading ,.CSV...\n",
      "Loading -.CSV...\n",
      "Loading 0.CSV...\n",
      "Loading 1.CSV...\n",
      "Loading 2.CSV...\n",
      "Loading 3.CSV...\n",
      "Loading 4.CSV...\n",
      "Loading 5.CSV...\n",
      "Loading 6.CSV...\n",
      "Loading 7.CSV...\n",
      "Loading 8.CSV...\n",
      "Loading 9.CSV...\n",
      "Concatenating Data...\n",
      "Done\n"
     ]
    }
   ],
   "source": [
    "dfs = []\n",
    "for cls in ['+', ')', '(', ',', '-','0','1','2','3','4','5','6','7','8','9']:\n",
    "    print(f\"Loading {cls}.CSV...\")\n",
    "    a = pd.read_csv(\"CSV/\"+cls+\".csv\", index_col=0)\n",
    "    a['class'] = cls\n",
    "    dfs.append(a)\n",
    "\n",
    "print(\"Concatenating Data...\")\n",
    "df = pd.concat(dfs,ignore_index=True, sort=False)\n",
    "print(\"Done\")"
   ]
  },
  {
   "cell_type": "code",
   "execution_count": 5,
   "metadata": {},
   "outputs": [
    {
     "data": {
      "text/html": [
       "<div>\n",
       "<style scoped>\n",
       "    .dataframe tbody tr th:only-of-type {\n",
       "        vertical-align: middle;\n",
       "    }\n",
       "\n",
       "    .dataframe tbody tr th {\n",
       "        vertical-align: top;\n",
       "    }\n",
       "\n",
       "    .dataframe thead th {\n",
       "        text-align: right;\n",
       "    }\n",
       "</style>\n",
       "<table border=\"1\" class=\"dataframe\">\n",
       "  <thead>\n",
       "    <tr style=\"text-align: right;\">\n",
       "      <th></th>\n",
       "      <th>0</th>\n",
       "      <th>1</th>\n",
       "      <th>2</th>\n",
       "      <th>3</th>\n",
       "      <th>4</th>\n",
       "      <th>5</th>\n",
       "      <th>6</th>\n",
       "      <th>7</th>\n",
       "      <th>8</th>\n",
       "      <th>9</th>\n",
       "      <th>...</th>\n",
       "      <th>775</th>\n",
       "      <th>776</th>\n",
       "      <th>777</th>\n",
       "      <th>778</th>\n",
       "      <th>779</th>\n",
       "      <th>780</th>\n",
       "      <th>781</th>\n",
       "      <th>782</th>\n",
       "      <th>783</th>\n",
       "      <th>class</th>\n",
       "    </tr>\n",
       "  </thead>\n",
       "  <tbody>\n",
       "    <tr>\n",
       "      <td>0</td>\n",
       "      <td>0</td>\n",
       "      <td>0</td>\n",
       "      <td>0</td>\n",
       "      <td>0</td>\n",
       "      <td>0</td>\n",
       "      <td>0</td>\n",
       "      <td>0</td>\n",
       "      <td>0</td>\n",
       "      <td>0</td>\n",
       "      <td>0</td>\n",
       "      <td>...</td>\n",
       "      <td>0</td>\n",
       "      <td>0</td>\n",
       "      <td>0</td>\n",
       "      <td>0</td>\n",
       "      <td>0</td>\n",
       "      <td>0</td>\n",
       "      <td>0</td>\n",
       "      <td>0</td>\n",
       "      <td>0</td>\n",
       "      <td>+</td>\n",
       "    </tr>\n",
       "    <tr>\n",
       "      <td>1</td>\n",
       "      <td>0</td>\n",
       "      <td>0</td>\n",
       "      <td>0</td>\n",
       "      <td>0</td>\n",
       "      <td>0</td>\n",
       "      <td>0</td>\n",
       "      <td>0</td>\n",
       "      <td>0</td>\n",
       "      <td>0</td>\n",
       "      <td>0</td>\n",
       "      <td>...</td>\n",
       "      <td>1</td>\n",
       "      <td>0</td>\n",
       "      <td>0</td>\n",
       "      <td>0</td>\n",
       "      <td>0</td>\n",
       "      <td>0</td>\n",
       "      <td>0</td>\n",
       "      <td>0</td>\n",
       "      <td>0</td>\n",
       "      <td>+</td>\n",
       "    </tr>\n",
       "    <tr>\n",
       "      <td>2</td>\n",
       "      <td>0</td>\n",
       "      <td>0</td>\n",
       "      <td>0</td>\n",
       "      <td>0</td>\n",
       "      <td>0</td>\n",
       "      <td>0</td>\n",
       "      <td>0</td>\n",
       "      <td>0</td>\n",
       "      <td>0</td>\n",
       "      <td>0</td>\n",
       "      <td>...</td>\n",
       "      <td>0</td>\n",
       "      <td>1</td>\n",
       "      <td>0</td>\n",
       "      <td>0</td>\n",
       "      <td>0</td>\n",
       "      <td>0</td>\n",
       "      <td>0</td>\n",
       "      <td>0</td>\n",
       "      <td>0</td>\n",
       "      <td>+</td>\n",
       "    </tr>\n",
       "    <tr>\n",
       "      <td>3</td>\n",
       "      <td>0</td>\n",
       "      <td>0</td>\n",
       "      <td>0</td>\n",
       "      <td>0</td>\n",
       "      <td>0</td>\n",
       "      <td>0</td>\n",
       "      <td>0</td>\n",
       "      <td>0</td>\n",
       "      <td>0</td>\n",
       "      <td>0</td>\n",
       "      <td>...</td>\n",
       "      <td>0</td>\n",
       "      <td>0</td>\n",
       "      <td>0</td>\n",
       "      <td>0</td>\n",
       "      <td>0</td>\n",
       "      <td>0</td>\n",
       "      <td>0</td>\n",
       "      <td>0</td>\n",
       "      <td>0</td>\n",
       "      <td>+</td>\n",
       "    </tr>\n",
       "    <tr>\n",
       "      <td>4</td>\n",
       "      <td>0</td>\n",
       "      <td>0</td>\n",
       "      <td>0</td>\n",
       "      <td>0</td>\n",
       "      <td>0</td>\n",
       "      <td>0</td>\n",
       "      <td>0</td>\n",
       "      <td>0</td>\n",
       "      <td>0</td>\n",
       "      <td>0</td>\n",
       "      <td>...</td>\n",
       "      <td>5</td>\n",
       "      <td>0</td>\n",
       "      <td>0</td>\n",
       "      <td>0</td>\n",
       "      <td>0</td>\n",
       "      <td>0</td>\n",
       "      <td>0</td>\n",
       "      <td>0</td>\n",
       "      <td>0</td>\n",
       "      <td>+</td>\n",
       "    </tr>\n",
       "    <tr>\n",
       "      <td>...</td>\n",
       "      <td>...</td>\n",
       "      <td>...</td>\n",
       "      <td>...</td>\n",
       "      <td>...</td>\n",
       "      <td>...</td>\n",
       "      <td>...</td>\n",
       "      <td>...</td>\n",
       "      <td>...</td>\n",
       "      <td>...</td>\n",
       "      <td>...</td>\n",
       "      <td>...</td>\n",
       "      <td>...</td>\n",
       "      <td>...</td>\n",
       "      <td>...</td>\n",
       "      <td>...</td>\n",
       "      <td>...</td>\n",
       "      <td>...</td>\n",
       "      <td>...</td>\n",
       "      <td>...</td>\n",
       "      <td>...</td>\n",
       "      <td>...</td>\n",
       "    </tr>\n",
       "    <tr>\n",
       "      <td>149659</td>\n",
       "      <td>0</td>\n",
       "      <td>0</td>\n",
       "      <td>0</td>\n",
       "      <td>0</td>\n",
       "      <td>0</td>\n",
       "      <td>0</td>\n",
       "      <td>0</td>\n",
       "      <td>0</td>\n",
       "      <td>0</td>\n",
       "      <td>0</td>\n",
       "      <td>...</td>\n",
       "      <td>0</td>\n",
       "      <td>0</td>\n",
       "      <td>0</td>\n",
       "      <td>0</td>\n",
       "      <td>0</td>\n",
       "      <td>0</td>\n",
       "      <td>0</td>\n",
       "      <td>0</td>\n",
       "      <td>0</td>\n",
       "      <td>9</td>\n",
       "    </tr>\n",
       "    <tr>\n",
       "      <td>149660</td>\n",
       "      <td>0</td>\n",
       "      <td>0</td>\n",
       "      <td>0</td>\n",
       "      <td>0</td>\n",
       "      <td>0</td>\n",
       "      <td>0</td>\n",
       "      <td>0</td>\n",
       "      <td>0</td>\n",
       "      <td>0</td>\n",
       "      <td>0</td>\n",
       "      <td>...</td>\n",
       "      <td>0</td>\n",
       "      <td>0</td>\n",
       "      <td>0</td>\n",
       "      <td>0</td>\n",
       "      <td>0</td>\n",
       "      <td>0</td>\n",
       "      <td>0</td>\n",
       "      <td>0</td>\n",
       "      <td>0</td>\n",
       "      <td>9</td>\n",
       "    </tr>\n",
       "    <tr>\n",
       "      <td>149661</td>\n",
       "      <td>0</td>\n",
       "      <td>0</td>\n",
       "      <td>0</td>\n",
       "      <td>0</td>\n",
       "      <td>0</td>\n",
       "      <td>0</td>\n",
       "      <td>0</td>\n",
       "      <td>0</td>\n",
       "      <td>0</td>\n",
       "      <td>0</td>\n",
       "      <td>...</td>\n",
       "      <td>0</td>\n",
       "      <td>0</td>\n",
       "      <td>0</td>\n",
       "      <td>0</td>\n",
       "      <td>0</td>\n",
       "      <td>0</td>\n",
       "      <td>0</td>\n",
       "      <td>0</td>\n",
       "      <td>0</td>\n",
       "      <td>9</td>\n",
       "    </tr>\n",
       "    <tr>\n",
       "      <td>149662</td>\n",
       "      <td>0</td>\n",
       "      <td>0</td>\n",
       "      <td>0</td>\n",
       "      <td>0</td>\n",
       "      <td>0</td>\n",
       "      <td>0</td>\n",
       "      <td>0</td>\n",
       "      <td>0</td>\n",
       "      <td>0</td>\n",
       "      <td>0</td>\n",
       "      <td>...</td>\n",
       "      <td>0</td>\n",
       "      <td>0</td>\n",
       "      <td>0</td>\n",
       "      <td>0</td>\n",
       "      <td>0</td>\n",
       "      <td>0</td>\n",
       "      <td>0</td>\n",
       "      <td>0</td>\n",
       "      <td>0</td>\n",
       "      <td>9</td>\n",
       "    </tr>\n",
       "    <tr>\n",
       "      <td>149663</td>\n",
       "      <td>0</td>\n",
       "      <td>0</td>\n",
       "      <td>0</td>\n",
       "      <td>0</td>\n",
       "      <td>0</td>\n",
       "      <td>0</td>\n",
       "      <td>0</td>\n",
       "      <td>0</td>\n",
       "      <td>0</td>\n",
       "      <td>0</td>\n",
       "      <td>...</td>\n",
       "      <td>0</td>\n",
       "      <td>0</td>\n",
       "      <td>0</td>\n",
       "      <td>0</td>\n",
       "      <td>0</td>\n",
       "      <td>0</td>\n",
       "      <td>0</td>\n",
       "      <td>0</td>\n",
       "      <td>0</td>\n",
       "      <td>9</td>\n",
       "    </tr>\n",
       "  </tbody>\n",
       "</table>\n",
       "<p>149664 rows × 785 columns</p>\n",
       "</div>"
      ],
      "text/plain": [
       "        0  1  2  3  4  5  6  7  8  9  ...  775  776  777  778  779  780  781  \\\n",
       "0       0  0  0  0  0  0  0  0  0  0  ...    0    0    0    0    0    0    0   \n",
       "1       0  0  0  0  0  0  0  0  0  0  ...    1    0    0    0    0    0    0   \n",
       "2       0  0  0  0  0  0  0  0  0  0  ...    0    1    0    0    0    0    0   \n",
       "3       0  0  0  0  0  0  0  0  0  0  ...    0    0    0    0    0    0    0   \n",
       "4       0  0  0  0  0  0  0  0  0  0  ...    5    0    0    0    0    0    0   \n",
       "...    .. .. .. .. .. .. .. .. .. ..  ...  ...  ...  ...  ...  ...  ...  ...   \n",
       "149659  0  0  0  0  0  0  0  0  0  0  ...    0    0    0    0    0    0    0   \n",
       "149660  0  0  0  0  0  0  0  0  0  0  ...    0    0    0    0    0    0    0   \n",
       "149661  0  0  0  0  0  0  0  0  0  0  ...    0    0    0    0    0    0    0   \n",
       "149662  0  0  0  0  0  0  0  0  0  0  ...    0    0    0    0    0    0    0   \n",
       "149663  0  0  0  0  0  0  0  0  0  0  ...    0    0    0    0    0    0    0   \n",
       "\n",
       "        782  783  class  \n",
       "0         0    0      +  \n",
       "1         0    0      +  \n",
       "2         0    0      +  \n",
       "3         0    0      +  \n",
       "4         0    0      +  \n",
       "...     ...  ...    ...  \n",
       "149659    0    0      9  \n",
       "149660    0    0      9  \n",
       "149661    0    0      9  \n",
       "149662    0    0      9  \n",
       "149663    0    0      9  \n",
       "\n",
       "[149664 rows x 785 columns]"
      ]
     },
     "execution_count": 5,
     "metadata": {},
     "output_type": "execute_result"
    }
   ],
   "source": [
    "df"
   ]
  },
  {
   "cell_type": "markdown",
   "metadata": {},
   "source": [
    "### Test/Train split"
   ]
  },
  {
   "cell_type": "code",
   "execution_count": 7,
   "metadata": {},
   "outputs": [],
   "source": [
    "features = [feature for feature in df]\n",
    "features.remove(\"class\")\n",
    "\n",
    "all_X = np.array(df[features])\n",
    "all_y = np.array(df[\"class\"])\n",
    "\n",
    "train_X = np.array(df[df.index%2 == 0][features])\n",
    "train_y = df[df.index%2 == 0][\"class\"]\n",
    "\n",
    "test_X = np.array(df[df.index%2 == 1][features])\n",
    "test_y = df[df.index%2 == 1][\"class\"]"
   ]
  },
  {
   "cell_type": "markdown",
   "metadata": {},
   "source": [
    "## Testing classifiers\n",
    "I conducted some \"accuracy vs parameter\" tests and found these to the be the optimal `n_neighbors` and `max_depth` values. In the future I will put those tests here"
   ]
  },
  {
   "cell_type": "code",
   "execution_count": 16,
   "metadata": {},
   "outputs": [
    {
     "name": "stdout",
     "output_type": "stream",
     "text": [
      "Fitting...\n",
      "Scoring...\n"
     ]
    },
    {
     "data": {
      "text/plain": [
       "0.7474949899799599"
      ]
     },
     "execution_count": 16,
     "metadata": {},
     "output_type": "execute_result"
    }
   ],
   "source": [
    "# Getting a subset of the data for faster runtime\n",
    "num = 100\n",
    "train_X_KN = np.array(df[df.index%num == 0][features])\n",
    "train_y_KN = df[df.index%num == 0][\"class\"]\n",
    "\n",
    "test_X_KN = np.array(df[df.index%num == 1][features])\n",
    "test_y_KN = df[df.index%num == 1][\"class\"]\n",
    "\n",
    "# Kneighbors\n",
    "clf = neighbors.KNeighborsClassifier(n_neighbors=1)\n",
    "print(\"Fitting...\")\n",
    "clf.fit(train_X_KN, train_y_KN)\n",
    "print(\"Scoring...\")\n",
    "clf.score(test_X_KN, test_y_KN)"
   ]
  },
  {
   "cell_type": "code",
   "execution_count": 6,
   "metadata": {},
   "outputs": [
    {
     "name": "stdout",
     "output_type": "stream",
     "text": [
      "Fitting...\n",
      "Scoring...\n"
     ]
    },
    {
     "data": {
      "text/plain": [
       "0.9230810348514005"
      ]
     },
     "execution_count": 6,
     "metadata": {},
     "output_type": "execute_result"
    }
   ],
   "source": [
    "# Decision Tree\n",
    "clf = tree.DecisionTreeClassifier(random_state=10)\n",
    "print(\"Fitting...\")\n",
    "clf.fit(train_X, train_y)\n",
    "print(\"Scoring...\")\n",
    "clf.score(test_X, test_y)"
   ]
  },
  {
   "cell_type": "code",
   "execution_count": 7,
   "metadata": {},
   "outputs": [
    {
     "name": "stdout",
     "output_type": "stream",
     "text": [
      "Fitting...\n",
      "Scoring...\n"
     ]
    },
    {
     "data": {
      "text/plain": [
       "0.7763657258926663"
      ]
     },
     "execution_count": 7,
     "metadata": {},
     "output_type": "execute_result"
    }
   ],
   "source": [
    "# Gaussian Naive Bayes\n",
    "clf = naive_bayes.GaussianNB()\n",
    "print(\"Fitting...\")\n",
    "clf.fit(train_X, train_y)\n",
    "print(\"Scoring...\")\n",
    "clf.score(test_X, test_y)"
   ]
  },
  {
   "cell_type": "markdown",
   "metadata": {},
   "source": [
    "### Finding most accurate hidden_layer_sizes value"
   ]
  },
  {
   "cell_type": "code",
   "execution_count": 13,
   "metadata": {},
   "outputs": [
    {
     "name": "stdout",
     "output_type": "stream",
     "text": [
      "fitting and scoring hidden_layer_sizes=1...\n",
      "fitting and scoring hidden_layer_sizes=2...\n",
      "fitting and scoring hidden_layer_sizes=3...\n",
      "fitting and scoring hidden_layer_sizes=4...\n",
      "fitting and scoring hidden_layer_sizes=5...\n",
      "fitting and scoring hidden_layer_sizes=6...\n",
      "fitting and scoring hidden_layer_sizes=7...\n",
      "fitting and scoring hidden_layer_sizes=8...\n",
      "fitting and scoring hidden_layer_sizes=9...\n",
      "fitting and scoring hidden_layer_sizes=10...\n",
      "fitting and scoring hidden_layer_sizes=11...\n",
      "fitting and scoring hidden_layer_sizes=12...\n",
      "fitting and scoring hidden_layer_sizes=13...\n",
      "fitting and scoring hidden_layer_sizes=14...\n",
      "fitting and scoring hidden_layer_sizes=15...\n",
      "fitting and scoring hidden_layer_sizes=16...\n",
      "fitting and scoring hidden_layer_sizes=17...\n",
      "fitting and scoring hidden_layer_sizes=18...\n",
      "fitting and scoring hidden_layer_sizes=19...\n"
     ]
    }
   ],
   "source": [
    "# Getting a subset of the data for faster runtime (again)\n",
    "data_portion = 2000\n",
    "train_X_NN = np.array(df[df.index%data_portion == 0][features])\n",
    "train_y_NN = df[df.index%data_portion == 0][\"class\"]\n",
    "\n",
    "test_X2_NN = np.array(df[df.index%data_portion == 1][features])\n",
    "test_y2_NN = df[df.index%data_portion == 1][\"class\"]\n",
    "\n",
    "# Recording scores\n",
    "scoresNN = []\n",
    "for hid in range(1, 20):\n",
    "    print(f\"fitting and scoring hidden_layer_sizes={hid}...\")\n",
    "    clf = neural_network.MLPClassifier(hidden_layer_sizes=(hid),max_iter=2000, random_state=42)\n",
    "    clf.fit(train_X2, train_y2)\n",
    "    scoresNN.append(clf.score(test_X2, test_y2))"
   ]
  },
  {
   "cell_type": "code",
   "execution_count": 9,
   "metadata": {},
   "outputs": [
    {
     "name": "stdout",
     "output_type": "stream",
     "text": [
      "hidden_layer_sizes = 1   ::   0.2866666666666667\n",
      "hidden_layer_sizes = 2   ::   0.22\n",
      "hidden_layer_sizes = 3   ::   0.2866666666666667\n",
      "hidden_layer_sizes = 4   ::   0.3433333333333333\n",
      "hidden_layer_sizes = 5   ::   0.33666666666666667\n",
      "hidden_layer_sizes = 6   ::   0.3333333333333333\n",
      "hidden_layer_sizes = 7   ::   0.2733333333333333\n",
      "hidden_layer_sizes = 8   ::   0.39666666666666667\n",
      "hidden_layer_sizes = 9   ::   0.42333333333333334\n",
      "hidden_layer_sizes = 10   ::   0.35333333333333333\n",
      "hidden_layer_sizes = 11   ::   0.37666666666666665\n",
      "hidden_layer_sizes = 12   ::   0.33\n",
      "hidden_layer_sizes = 13   ::   0.41\n",
      "hidden_layer_sizes = 14   ::   0.41\n",
      "hidden_layer_sizes = 15   ::   0.38\n",
      "hidden_layer_sizes = 16   ::   0.4866666666666667\n",
      "hidden_layer_sizes = 17   ::   0.42333333333333334\n",
      "hidden_layer_sizes = 18   ::   0.5\n",
      "hidden_layer_sizes = 19   ::   0.4166666666666667\n"
     ]
    }
   ],
   "source": [
    "for i, score in zip(range(len(scoresNN)), scoresNN):\n",
    "    print(\"hidden_layer_sizes =\", i+1, '  ::  ', score)"
   ]
  },
  {
   "cell_type": "markdown",
   "metadata": {},
   "source": [
    "Clearly `hidden_layer_sizes=16` is the most accurate value.\n",
    "\n",
    "Using this value, I will conduct accuracy testing with all of the data"
   ]
  },
  {
   "cell_type": "code",
   "execution_count": 10,
   "metadata": {},
   "outputs": [
    {
     "name": "stdout",
     "output_type": "stream",
     "text": [
      "fitting...\n",
      "scoring...\n"
     ]
    },
    {
     "data": {
      "text/plain": [
       "0.9456714902259457"
      ]
     },
     "execution_count": 10,
     "metadata": {},
     "output_type": "execute_result"
    }
   ],
   "source": [
    "# Getting a skewed test/train split so that I will train on the majority \n",
    "#  of the data, but still have a few data to test on\n",
    "num = 19\n",
    "train_X3 = np.array(df[df.index%num != 0][features])\n",
    "train_y3 = df[df.index%num != 0][\"class\"]\n",
    "\n",
    "test_X3 = np.array(df[df.index%num == 0][features])\n",
    "test_y3 = df[df.index%num == 0][\"class\"]\n",
    "\n",
    "clf = neural_network.MLPClassifier(hidden_layer_sizes=(16),max_iter=8000, random_state=42)\n",
    "print(\"fitting...\")\n",
    "clf.fit(train_X3, train_y3)\n",
    "print(\"scoring...\")\n",
    "clf.score(test_X3, test_y3)"
   ]
  },
  {
   "cell_type": "code",
   "execution_count": 11,
   "metadata": {},
   "outputs": [],
   "source": [
    "with open('clf.pk', 'wb') as fout:\n",
    "    pickle.dump(clf, fout)"
   ]
  },
  {
   "cell_type": "code",
   "execution_count": 8,
   "metadata": {},
   "outputs": [
    {
     "data": {
      "text/plain": [
       "0.9586473701090442"
      ]
     },
     "execution_count": 8,
     "metadata": {},
     "output_type": "execute_result"
    }
   ],
   "source": [
    "clf2 = 10\n",
    "with open('clf.pk', 'rb') as fin:\n",
    "    clf2 = pickle.load(fin)\n",
    "clf2.score(all_X, all_y)"
   ]
  },
  {
   "cell_type": "code",
   "execution_count": 9,
   "metadata": {},
   "outputs": [
    {
     "data": {
      "text/plain": [
       "9"
      ]
     },
     "execution_count": 9,
     "metadata": {},
     "output_type": "execute_result"
    }
   ],
   "source": [
    "eval(\"(7*7)-40\")"
   ]
  },
  {
   "cell_type": "markdown",
   "metadata": {},
   "source": [
    "## Predicting things from the server  "
   ]
  },
  {
   "cell_type": "code",
   "execution_count": 17,
   "metadata": {},
   "outputs": [
    {
     "data": {
      "text/plain": [
       "<matplotlib.image.AxesImage at 0x1a2400f890>"
      ]
     },
     "execution_count": 17,
     "metadata": {},
     "output_type": "execute_result"
    },
    {
     "data": {
      "image/png": "[encoded data removed]",
      "text/plain": [
       "<Figure size 432x288 with 1 Axes>"
      ]
     },
     "metadata": {
      "needs_background": "light"
     },
     "output_type": "display_data"
    }
   ],
   "source": [
    "plt.imshow(test_X[30000].reshape(28,28), cmap=plt.cm.binary)"
   ]
  },
  {
   "cell_type": "code",
   "execution_count": 20,
   "metadata": {},
   "outputs": [
    {
     "data": {
      "text/plain": [
       "array([[  0,   0,   0,   0,   0,   0,   0,   0,   0,   0,   0,   0,   0,\n",
       "          0,   0,   0,   0,   0,   0,   0,   0,   0,   0,   0,   0,   0,\n",
       "          0,   0],\n",
       "       [  0,   0,   0,   0,   0,   0,   0,   0,   0,   0,   0,   0,   0,\n",
       "          0,   0,   0,   0,   0,   0,   0,   0,   0,   0,   0,   0,   0,\n",
       "          0,   0],\n",
       "       [  0,   0,   0,   0,   0,   0,   0,   0,   0,   0,   0,   0,   0,\n",
       "          0,   0,   0,   0,   0,   0,   0,   0,   0,   0,   0,   0,   0,\n",
       "          0,   0],\n",
       "       [  0,   0,   0,   0,   0,   0,   0,   0,   0,   0,   0,   0,   0,\n",
       "          0,   0,   0,   0,   0,   0,   0,   0,   0,   0,   0,   0,   0,\n",
       "          0,   0],\n",
       "       [  0,   0,   0,   0,   0,   0,   0,   0,   0,   0,   0,   0,   0,\n",
       "          0,   0,   0,   0,   0,   0,   0,   0,   0,   0,   0,   0,   0,\n",
       "          0,   0],\n",
       "       [  0,   0,   0,   0,   0,   0,   0,   0,   0,   0,   0,   0,   0,\n",
       "         76,  77, 155, 208, 180,  22,   0,   0,   0,   0,   0,   0,   0,\n",
       "          0,   0],\n",
       "       [  0,   0,   0,   0,   0,   0,   0,   0,   0,   0,   6,  98, 214,\n",
       "        254, 254, 254, 254, 254,  71,   0,   0,   0,   0,   0,   0,   0,\n",
       "          0,   0],\n",
       "       [  0,   0,   0,   0,   0,   0,   0,   0,   0,  37, 180, 254, 254,\n",
       "        254, 254, 254, 254, 254, 120,   0,   0,   0,   0,   0,   0,   0,\n",
       "          0,   0],\n",
       "       [  0,   0,   0,   0,   0,   0,   0,   0,   0, 201, 254, 237, 100,\n",
       "         40, 207, 250, 254, 185,  73,   0,   0,   0,   0,   0,   0,   0,\n",
       "          0,   0],\n",
       "       [  0,   0,   0,   0,   0,   0,   0,   0,   0, 175, 254, 156,   0,\n",
       "          0,   0,  95, 217, 249, 235, 202,  92,  10,   0,   0,   0,   0,\n",
       "          0,   0],\n",
       "       [  0,   0,   0,   0,   0,   0,   0,   0,   0,  91, 254, 191,   0,\n",
       "          0,   0,   0,   0,  58, 156, 216, 254, 198,  17,   0,   0,   0,\n",
       "          0,   0],\n",
       "       [  0,   0,   0,   0,   0,   0,   0,   0,   0,  24, 237, 252,  85,\n",
       "          0,   0,   0,   0,   0,   0,   0, 155, 254, 125,   0,   0,   0,\n",
       "          0,   0],\n",
       "       [  0,   0,   0,   0,   0,   0,   0,   0,   0,   0,  57, 254, 253,\n",
       "         29,   0,   0,   0,   0,   0,  49, 215, 254, 125,   0,   0,   0,\n",
       "          0,   0],\n",
       "       [  0,   0,   0,   0,   0,   0,   0,   0,   0,   0,  10, 195, 254,\n",
       "        218,  10,  31,  59, 128, 212, 249, 254, 132,   9,   0,   0,   0,\n",
       "          0,   0],\n",
       "       [  0,   0,   0,   0,   0,   0,   0,   0,   0,   0,   0,  19, 240,\n",
       "        254, 226, 240, 254, 254, 222, 150,  65,   3,   0,   0,   0,   0,\n",
       "          0,   0],\n",
       "       [  0,   0,   0,   0,   0,   0,   0,   0,   0,   0,   3,  98, 213,\n",
       "        254, 254, 254, 186,  65,  13,   0,   0,   0,   0,   0,   0,   0,\n",
       "          0,   0],\n",
       "       [  0,   0,   0,   0,   0,   0,   0,   0,   0,   3, 133, 254, 237,\n",
       "        237, 253, 254,  51,   0,   0,   0,   0,   0,   0,   0,   0,   0,\n",
       "          0,   0],\n",
       "       [  0,   0,   0,   0,   0,   0,   0,   0,   0,  36, 254, 244,   0,\n",
       "          0, 138, 254, 210,  22,   0,   0,   0,   0,   0,   0,   0,   0,\n",
       "          0,   0],\n",
       "       [  0,   0,   0,   0,   0,   0,   0,   0,   0,  36, 254, 156,   0,\n",
       "          0,   0, 224, 254,  86,   0,   0,   0,   0,   0,   0,   0,   0,\n",
       "          0,   0],\n",
       "       [  0,   0,   0,   0,   0,   0,   0,   0,   0,  36, 254, 156,   0,\n",
       "          0,   0,  83, 254, 147,   0,   0,   0,   0,   0,   0,   0,   0,\n",
       "          0,   0],\n",
       "       [  0,   0,   0,   0,   0,   0,   0,   0,   0,  36, 254, 156,   0,\n",
       "          0,   0,  45, 254, 147,   0,   0,   0,   0,   0,   0,   0,   0,\n",
       "          0,   0],\n",
       "       [  0,   0,   0,   0,   0,   0,   0,   0,   0,  18, 227, 233,   0,\n",
       "          0,   0, 136, 254, 133,   0,   0,   0,   0,   0,   0,   0,   0,\n",
       "          0,   0],\n",
       "       [  0,   0,   0,   0,   0,   0,   0,   0,   0,   0, 120, 250,  87,\n",
       "         20,  16, 227, 254,  58,   0,   0,   0,   0,   0,   0,   0,   0,\n",
       "          0,   0],\n",
       "       [  0,   0,   0,   0,   0,   0,   0,   0,   0,   0,  22, 251, 254,\n",
       "        237, 229, 254, 190,  14,   0,   0,   0,   0,   0,   0,   0,   0,\n",
       "          0,   0],\n",
       "       [  0,   0,   0,   0,   0,   0,   0,   0,   0,   0,   0,  59, 195,\n",
       "        254, 254, 160,  14,   0,   0,   0,   0,   0,   0,   0,   0,   0,\n",
       "          0,   0],\n",
       "       [  0,   0,   0,   0,   0,   0,   0,   0,   0,   0,   0,   0,   0,\n",
       "          0,   0,   0,   0,   0,   0,   0,   0,   0,   0,   0,   0,   0,\n",
       "          0,   0],\n",
       "       [  0,   0,   0,   0,   0,   0,   0,   0,   0,   0,   0,   0,   0,\n",
       "          0,   0,   0,   0,   0,   0,   0,   0,   0,   0,   0,   0,   0,\n",
       "          0,   0],\n",
       "       [  0,   0,   0,   0,   0,   0,   0,   0,   0,   0,   0,   0,   0,\n",
       "          0,   0,   0,   0,   0,   0,   0,   0,   0,   0,   0,   0,   0,\n",
       "          0,   0]])"
      ]
     },
     "execution_count": 20,
     "metadata": {},
     "output_type": "execute_result"
    }
   ],
   "source": [
    "test_X[70000].reshape(28,28)"
   ]
  }
 ],
 "metadata": {
  "kernelspec": {
   "display_name": "Python 3",
   "language": "python",
   "name": "python3"
  },
  "language_info": {
   "codemirror_mode": {
    "name": "ipython",
    "version": 3
   },
   "file_extension": ".py",
   "mimetype": "text/x-python",
   "name": "python",
   "nbconvert_exporter": "python",
   "pygments_lexer": "ipython3",
   "version": "3.7.4"
  }
 },
 "nbformat": 4,
 "nbformat_minor": 2
}
