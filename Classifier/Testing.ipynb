{
 "cells": [
  {
   "cell_type": "code",
   "execution_count": 1,
   "metadata": {},
   "outputs": [],
   "source": [
    "import matplotlib.pyplot as plt\n",
    "import numpy as np\n",
    "import pandas as pd\n",
    "\n",
    "from sklearn import neighbors\n",
    "from sklearn import naive_bayes\n",
    "from sklearn import tree\n",
    "from sklearn import neural_network\n",
    "\n",
    "from os import listdir\n",
    "from os.path import isfile, join\n",
    "\n",
    "from sklearn.datasets import load_digits  \n",
    "\n",
    "# For picture manipulation\n",
    "from PIL import Image\n",
    "\n",
    "# For creating directories\n",
    "import os"
   ]
  },
  {
   "cell_type": "markdown",
   "metadata": {},
   "source": [
    "### Getting list of files in dir"
   ]
  },
  {
   "cell_type": "code",
   "execution_count": 2,
   "metadata": {},
   "outputs": [],
   "source": [
    "folder = \"tests\"\n",
    "file_list = [f for f in listdir(folder) if isfile(join(folder, f))]"
   ]
  },
  {
   "cell_type": "code",
   "execution_count": 3,
   "metadata": {},
   "outputs": [
    {
     "data": {
      "text/plain": [
       "['test10.png',\n",
       " 'test6.png',\n",
       " 'test7.png',\n",
       " 'test5.png',\n",
       " 'test4.png',\n",
       " 'test0.png',\n",
       " 'test1.png',\n",
       " 'test3.png',\n",
       " 'test2.png',\n",
       " 'test9.png',\n",
       " 'test8.png']"
      ]
     },
     "execution_count": 3,
     "metadata": {},
     "output_type": "execute_result"
    }
   ],
   "source": [
    "if(\"tests.csv\" in file_list):\n",
    "    file_list.remove(\"tests.csv\")\n",
    "if(\".DS_Store\" in file_list):\n",
    "    file_list.remove(\".DS_Store\")\n",
    "file_list"
   ]
  },
  {
   "cell_type": "markdown",
   "metadata": {},
   "source": [
    "### Scaling Down Images"
   ]
  },
  {
   "cell_type": "code",
   "execution_count": 4,
   "metadata": {},
   "outputs": [],
   "source": [
    "# Scales all images down to 28x28 to match the mnist dataset\n",
    "images_scaled = []\n",
    "for file in file_list:\n",
    "    mypath = folder + \"/\" + file\n",
    "    # Getting original file\n",
    "    image = Image.open(mypath)\n",
    "    # Scaling image down\n",
    "    images_scaled.append(image.resize((28, 28)))"
   ]
  },
  {
   "cell_type": "code",
   "execution_count": 5,
   "metadata": {},
   "outputs": [
    {
     "data": {
      "text/plain": [
       "[<PIL.Image.Image image mode=RGBA size=28x28 at 0x1A1EF66050>,\n",
       " <PIL.Image.Image image mode=RGBA size=28x28 at 0x1A1EF66650>,\n",
       " <PIL.Image.Image image mode=RGBA size=28x28 at 0x1A1EF66750>,\n",
       " <PIL.Image.Image image mode=RGBA size=28x28 at 0x1A1EED78D0>,\n",
       " <PIL.Image.Image image mode=RGBA size=28x28 at 0x1A1EF66790>,\n",
       " <PIL.Image.Image image mode=RGBA size=28x28 at 0x1A1EF666D0>,\n",
       " <PIL.Image.Image image mode=RGBA size=28x28 at 0x1A1EF66810>,\n",
       " <PIL.Image.Image image mode=RGBA size=28x28 at 0x1A1EF66850>,\n",
       " <PIL.Image.Image image mode=RGBA size=28x28 at 0x1A1EF60810>,\n",
       " <PIL.Image.Image image mode=RGBA size=28x28 at 0x1A1EF66990>,\n",
       " <PIL.Image.Image image mode=RGBA size=28x28 at 0x1A1EF66950>]"
      ]
     },
     "execution_count": 5,
     "metadata": {},
     "output_type": "execute_result"
    }
   ],
   "source": [
    "images_scaled"
   ]
  },
  {
   "cell_type": "code",
   "execution_count": 6,
   "metadata": {},
   "outputs": [
    {
     "data": {
      "text/plain": [
       "<matplotlib.image.AxesImage at 0x1a1f671990>"
      ]
     },
     "execution_count": 6,
     "metadata": {},
     "output_type": "execute_result"
    },
    {
     "data": {
      "image/png": "[encoded data removed]",
      "text/plain": [
       "<Figure size 432x288 with 1 Axes>"
      ]
     },
     "metadata": {
      "needs_background": "light"
     },
     "output_type": "display_data"
    }
   ],
   "source": [
    "plt.imshow(images_scaled[0], cmap=plt.cm.binary)"
   ]
  },
  {
   "cell_type": "code",
   "execution_count": 8,
   "metadata": {},
   "outputs": [
    {
     "data": {
      "text/plain": [
       "array([[0, 0, 0, ..., 0, 0, 0],\n",
       "       [0, 0, 0, ..., 0, 0, 0],\n",
       "       [0, 0, 0, ..., 0, 0, 0],\n",
       "       ...,\n",
       "       [0, 0, 0, ..., 0, 0, 0],\n",
       "       [0, 0, 0, ..., 0, 0, 0],\n",
       "       [0, 0, 0, ..., 0, 0, 0]])"
      ]
     },
     "execution_count": 8,
     "metadata": {},
     "output_type": "execute_result"
    }
   ],
   "source": [
    "# Turning images into numerical values representing\n",
    "#  brightness of each pixel\n",
    "digits_mono = []\n",
    "for i in images_scaled:\n",
    "    digits_mono.append(np.asarray( i, dtype=\"int32\" ))\n",
    "\n",
    "final_digits = []\n",
    "for digit, i in zip(digits_mono, range(len(digits_mono))):\n",
    "    final_digits.append([])\n",
    "    for row in digit:\n",
    "        for pixel in row:\n",
    "           final_digits[i].append(int( ((sum(pixel)/len(pixel))*-1)+255 ))\n",
    "\n",
    "# final_digits = [np.array(i).reshape(28,28) for i in final_digits]\n",
    "final_digits = np.array(final_digits)\n",
    "final_digits"
   ]
  },
  {
   "cell_type": "code",
   "execution_count": 26,
   "metadata": {},
   "outputs": [],
   "source": [
    "clf_math = 0\n",
    "with open('clf_just_math.pk', 'rb') as fin:\n",
    "    clf_math = pickle.load(fin)\n",
    "\n",
    "clf_digi = 0\n",
    "with open('clf_just_digits.pk', 'rb') as fin:\n",
    "    clf_digi = pickle.load(fin)\n",
    "\n",
    "clf_all = 0\n",
    "with open('clf.pk', 'rb') as fin:\n",
    "    clf_all = pickle.load(fin)"
   ]
  },
  {
   "cell_type": "code",
   "execution_count": 38,
   "metadata": {
    "scrolled": false
   },
   "outputs": [
    {
     "data": {
      "image/png": "[encoded data removed]",
      "text/plain": [
       "<Figure size 432x288 with 1 Axes>"
      ]
     },
     "metadata": {
      "needs_background": "light"
     },
     "output_type": "display_data"
    },
    {
     "name": "stdout",
     "output_type": "stream",
     "text": [
      "\n",
      "clf_math\n",
      "-  ::  3.3799532449041122e-130\n",
      ",  ::  2.560202560057652e-22\n",
      ")  ::  1.0409539896218383e-11\n",
      "(  ::  0.9999999999895905\n",
      "\n",
      "clf_digi\n",
      "6  ::  7.409173691030395e-06\n",
      "9  ::  0.002216839063722797\n",
      "7  ::  0.01571787664396197\n",
      "5  ::  0.9809816875364229\n",
      "\n",
      "clf_all\n",
      "9  ::  0.0013562335787170004\n",
      "2  ::  0.003591090462915955\n",
      "1  ::  0.09380202264864698\n",
      "7  ::  0.9000914765686227\n",
      "\n",
      "\n",
      "\n"
     ]
    },
    {
     "data": {
      "image/png": "[encoded data removed]",
      "text/plain": [
       "<Figure size 432x288 with 1 Axes>"
      ]
     },
     "metadata": {
      "needs_background": "light"
     },
     "output_type": "display_data"
    },
    {
     "name": "stdout",
     "output_type": "stream",
     "text": [
      "\n",
      "clf_math\n",
      "-  ::  1.421423007899779e-46\n",
      ")  ::  1.1782496937521446e-36\n",
      ",  ::  4.655484056233992e-22\n",
      "(  ::  1.0\n",
      "\n",
      "clf_digi\n",
      "5  ::  0.05186027567270458\n",
      "6  ::  0.0846665672991416\n",
      "9  ::  0.14159077347328308\n",
      "7  ::  0.6497065656796271\n",
      "\n",
      "clf_all\n",
      "1  ::  0.00021986797807675568\n",
      "3  ::  0.015519156064349211\n",
      "9  ::  0.01748083977971482\n",
      "7  ::  0.9663555171445252\n",
      "\n",
      "\n",
      "\n"
     ]
    },
    {
     "data": {
      "image/png": "[encoded data removed]",
      "text/plain": [
       "<Figure size 432x288 with 1 Axes>"
      ]
     },
     "metadata": {
      "needs_background": "light"
     },
     "output_type": "display_data"
    },
    {
     "name": "stdout",
     "output_type": "stream",
     "text": [
      "\n",
      "clf_math\n",
      ")  ::  9.177041880222705e-153\n",
      ",  ::  6.074159619188754e-141\n",
      "-  ::  7.337182929084295e-94\n",
      "(  ::  1.0\n",
      "\n",
      "clf_digi\n",
      "7  ::  0.0011689052231746498\n",
      "9  ::  0.0027826143754526903\n",
      "6  ::  0.008091852493624475\n",
      "4  ::  0.9729880347463937\n",
      "\n",
      "clf_all\n",
      "9  ::  0.0020228325268088934\n",
      "3  ::  0.00960955500105547\n",
      "5  ::  0.11671749106151905\n",
      "0  ::  0.8686676229520953\n",
      "\n",
      "\n",
      "\n"
     ]
    },
    {
     "data": {
      "image/png": "[encoded data removed]",
      "text/plain": [
       "<Figure size 432x288 with 1 Axes>"
      ]
     },
     "metadata": {
      "needs_background": "light"
     },
     "output_type": "display_data"
    },
    {
     "name": "stdout",
     "output_type": "stream",
     "text": [
      "\n",
      "clf_math\n",
      ")  ::  2.0163741164011824e-84\n",
      "-  ::  5.72688924434246e-69\n",
      ",  ::  3.1179838188847885e-38\n",
      "(  ::  1.0\n",
      "\n",
      "clf_digi\n",
      "9  ::  8.603923179334612e-13\n",
      "5  ::  3.699161110971329e-11\n",
      "7  ::  2.9439508874458885e-05\n",
      "6  ::  0.9999705567058089\n",
      "\n",
      "clf_all\n",
      "5  ::  3.8542712712972444e-09\n",
      "8  ::  6.359847193790244e-08\n",
      "4  ::  5.129625249029623e-05\n",
      "7  ::  0.9999486362268356\n",
      "\n",
      "\n",
      "\n"
     ]
    },
    {
     "data": {
      "image/png": "[encoded data removed]",
      "text/plain": [
       "<Figure size 432x288 with 1 Axes>"
      ]
     },
     "metadata": {
      "needs_background": "light"
     },
     "output_type": "display_data"
    },
    {
     "name": "stdout",
     "output_type": "stream",
     "text": [
      "\n",
      "clf_math\n",
      ")  ::  1.6091954978454876e-187\n",
      "-  ::  1.4957082056890642e-171\n",
      ",  ::  2.359750871160007e-171\n",
      "(  ::  1.0\n",
      "\n",
      "clf_digi\n",
      "6  ::  8.306892884494662e-05\n",
      "5  ::  0.0011181405170002873\n",
      "9  ::  0.002524269878962051\n",
      "7  ::  0.9956649018639189\n",
      "\n",
      "clf_all\n",
      "7  ::  0.0038950287628081006\n",
      "1  ::  0.0040007982215125755\n",
      "2  ::  0.38038939778599373\n",
      "3  ::  0.6098307282031449\n",
      "\n",
      "\n",
      "\n"
     ]
    },
    {
     "data": {
      "image/png": "[encoded data removed]",
      "text/plain": [
       "<Figure size 432x288 with 1 Axes>"
      ]
     },
     "metadata": {
      "needs_background": "light"
     },
     "output_type": "display_data"
    },
    {
     "name": "stdout",
     "output_type": "stream",
     "text": [
      "\n",
      "clf_math\n",
      "-  ::  1.0551655829598623e-198\n",
      ")  ::  1.1132426138245968e-168\n",
      ",  ::  2.2528024712862252e-112\n",
      "(  ::  1.0\n",
      "\n",
      "clf_digi\n",
      "9  ::  9.633820963044716e-12\n",
      "5  ::  6.310863777914066e-08\n",
      "7  ::  3.1538504554823745e-05\n",
      "6  ::  0.999968350252278\n",
      "\n",
      "clf_all\n",
      "8  ::  0.00956012799142574\n",
      "1  ::  0.018509813736167783\n",
      "3  ::  0.044497019864095315\n",
      "2  ::  0.9265035103957147\n",
      "\n",
      "\n",
      "\n"
     ]
    },
    {
     "data": {
      "image/png": "[encoded data removed]",
      "text/plain": [
       "<Figure size 432x288 with 1 Axes>"
      ]
     },
     "metadata": {
      "needs_background": "light"
     },
     "output_type": "display_data"
    },
    {
     "name": "stdout",
     "output_type": "stream",
     "text": [
      "\n",
      "clf_math\n",
      "-  ::  1.0926259067771852e-148\n",
      ",  ::  1.029402996672104e-53\n",
      ")  ::  1.984384415215714e-31\n",
      "(  ::  1.0\n",
      "\n",
      "clf_digi\n",
      "6  ::  3.8150979982211044e-20\n",
      "5  ::  7.893740429408175e-08\n",
      "7  ::  0.3224528811494081\n",
      "9  ::  0.6775462104692279\n",
      "\n",
      "clf_all\n",
      "3  ::  2.681569943317411e-13\n",
      "5  ::  5.6869835542173085e-11\n",
      "9  ::  3.7608219706394127e-08\n",
      "7  ::  0.9999999623346404\n",
      "\n",
      "\n",
      "\n"
     ]
    },
    {
     "data": {
      "image/png": "[encoded data removed]",
      "text/plain": [
       "<Figure size 432x288 with 1 Axes>"
      ]
     },
     "metadata": {
      "needs_background": "light"
     },
     "output_type": "display_data"
    },
    {
     "name": "stdout",
     "output_type": "stream",
     "text": [
      "\n",
      "clf_math\n",
      ")  ::  8.51609671729985e-159\n",
      "-  ::  4.6143289067975414e-150\n",
      ",  ::  1.0997195652992065e-129\n",
      "(  ::  1.0\n",
      "\n",
      "clf_digi\n",
      "8  ::  1.536814246537028e-10\n",
      "5  ::  1.746243600093373e-07\n",
      "7  ::  1.242806340223478e-05\n",
      "9  ::  0.4453981582193322\n",
      "\n",
      "clf_all\n",
      "8  ::  0.01433723607189182\n",
      "5  ::  0.0492932360013773\n",
      "3  ::  0.051623746211811344\n",
      "9  ::  0.8828870697853742\n",
      "\n",
      "\n",
      "\n"
     ]
    },
    {
     "data": {
      "image/png": "[encoded data removed]",
      "text/plain": [
       "<Figure size 432x288 with 1 Axes>"
      ]
     },
     "metadata": {
      "needs_background": "light"
     },
     "output_type": "display_data"
    },
    {
     "name": "stdout",
     "output_type": "stream",
     "text": [
      "\n",
      "clf_math\n",
      ",  ::  8.83934327386172e-44\n",
      ")  ::  1.7036021256200615e-43\n",
      "-  ::  8.160161087013379e-33\n",
      "(  ::  1.0\n",
      "\n",
      "clf_digi\n",
      "5  ::  0.06734137569797978\n",
      "6  ::  0.1834197332471383\n",
      "9  ::  0.18911691685656298\n",
      "7  ::  0.41774848680216736\n",
      "\n",
      "clf_all\n",
      "7  ::  0.0013812185890618456\n",
      "8  ::  0.010512710680636621\n",
      "9  ::  0.042070789879963766\n",
      "5  ::  0.9451322941454701\n",
      "\n",
      "\n",
      "\n"
     ]
    },
    {
     "data": {
      "image/png": "[encoded data removed]",
      "text/plain": [
       "<Figure size 432x288 with 1 Axes>"
      ]
     },
     "metadata": {
      "needs_background": "light"
     },
     "output_type": "display_data"
    },
    {
     "name": "stdout",
     "output_type": "stream",
     "text": [
      "\n",
      "clf_math\n",
      "-  ::  3.293850808436669e-106\n",
      ")  ::  6.326141267551065e-55\n",
      ",  ::  7.484386709675727e-45\n",
      "(  ::  1.0\n",
      "\n",
      "clf_digi\n",
      "9  ::  1.9414097732206982e-05\n",
      "5  ::  9.478966831074522e-05\n",
      "7  ::  0.008345868677255506\n",
      "6  ::  0.9911823101357344\n",
      "\n",
      "clf_all\n",
      "4  ::  1.7246058896977273e-06\n",
      "5  ::  9.461056440387521e-06\n",
      "(  ::  0.0008746346608482825\n",
      "7  ::  0.9991129953428863\n",
      "\n",
      "\n",
      "\n"
     ]
    },
    {
     "data": {
      "image/png": "[encoded data removed]",
      "text/plain": [
       "<Figure size 432x288 with 1 Axes>"
      ]
     },
     "metadata": {
      "needs_background": "light"
     },
     "output_type": "display_data"
    },
    {
     "name": "stdout",
     "output_type": "stream",
     "text": [
      "\n",
      "clf_math\n",
      "+  ::  2.7568292113923894e-77\n",
      "-  ::  9.254095577846829e-62\n",
      ",  ::  2.999724096402514e-60\n",
      "(  ::  1.0\n",
      "\n",
      "clf_digi\n",
      "7  ::  6.75129658358517e-08\n",
      "8  ::  8.74414220182093e-07\n",
      "5  ::  1.524506134899858e-06\n",
      "9  ::  0.6981242648083773\n",
      "\n",
      "clf_all\n",
      "5  ::  0.0030228736519012163\n",
      "8  ::  0.0034276840327025866\n",
      "2  ::  0.006313156732859768\n",
      "6  ::  0.985174693304334\n",
      "\n",
      "\n",
      "\n"
     ]
    }
   ],
   "source": [
    "# final_digits[0] = final_digits[0].reshape(784,1)\n",
    "\n",
    "classes = ['+', ')', '(', ',', '-']+[str(x) for x in range(10)]\n",
    "\n",
    "for i in final_digits:\n",
    "    plt.imshow(i.reshape(28,28),cmap=plt.cm.binary);\n",
    "#     plt.title(str(clf_math.predict([i]))+str(clf_digi.predict([i])))\n",
    "    plt.title( clf_all.predict([i]) )\n",
    "\n",
    "    plt.show()\n",
    "\n",
    "    print(\"\\nclf_math\")\n",
    "    math_preds = clf_math.predict_proba([i])\n",
    "    for cls_acc, cls_name in  sorted(zip(math_preds[0], classes[:5]))[-4:]:\n",
    "        print(cls_name, \" :: \", cls_acc)\n",
    "\n",
    "    print(\"\\nclf_digi\")\n",
    "    digi_preds = clf_digi.predict_proba([i])\n",
    "    for cls_acc, cls_name in sorted(zip(digi_preds[0], classes[9:]))[-4:]:\n",
    "        print(cls_name, \" :: \", cls_acc)\n",
    "        \n",
    "    print(\"\\nclf_all\")\n",
    "    all_preds = clf_all.predict_proba([i])\n",
    "    for  cls_acc, cls_name in sorted(zip(all_preds[0], classes))[-4:]:\n",
    "        print(cls_name, \" :: \", cls_acc)\n",
    "        \n",
    "    print(\"\\n\\n\")\n",
    "    \n",
    "\n",
    "# "
   ]
  },
  {
   "cell_type": "code",
   "execution_count": 39,
   "metadata": {},
   "outputs": [
    {
     "data": {
      "text/plain": [
       "array([[2.74625190e-31, 9.80981688e-01, 7.40917369e-06, 1.57178766e-02,\n",
       "        1.82440884e-07, 2.21683906e-03, 7.36759787e-08, 2.85330730e-04,\n",
       "        7.89890604e-04, 7.10131172e-07]])"
      ]
     },
     "execution_count": 39,
     "metadata": {},
     "output_type": "execute_result"
    }
   ],
   "source": [
    "clf_digi.predict_proba([final_digits[0]])"
   ]
  }
 ],
 "metadata": {
  "kernelspec": {
   "display_name": "Python 3",
   "language": "python",
   "name": "python3"
  },
  "language_info": {
   "codemirror_mode": {
    "name": "ipython",
    "version": 3
   },
   "file_extension": ".py",
   "mimetype": "text/x-python",
   "name": "python",
   "nbconvert_exporter": "python",
   "pygments_lexer": "ipython3",
   "version": "3.7.4"
  }
 },
 "nbformat": 4,
 "nbformat_minor": 2
}
