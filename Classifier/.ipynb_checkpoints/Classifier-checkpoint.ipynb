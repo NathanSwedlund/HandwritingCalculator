{
 "cells": [
  {
   "cell_type": "markdown",
   "metadata": {},
   "source": [
    "## Importing libraries/data"
   ]
  },
  {
   "cell_type": "markdown",
   "metadata": {},
   "source": [
    "### Importing Libraries"
   ]
  },
  {
   "cell_type": "code",
   "execution_count": 1,
   "metadata": {},
   "outputs": [],
   "source": [
    "# For general use\n",
    "import matplotlib.pyplot as plt\n",
    "import numpy as np\n",
    "import pandas as pd\n",
    "\n",
    "# For our classifiers\n",
    "from sklearn import neighbors\n",
    "from sklearn import naive_bayes\n",
    "from sklearn import tree\n",
    "from sklearn import neural_network\n",
    "\n",
    "# For saving classifier to file\n",
    "import pickle\n",
    "\n",
    "# For confusion matrix/data importing\n",
    "from sklearn import metrics  \n",
    "from sklearn.datasets import load_digits  "
   ]
  },
  {
   "cell_type": "markdown",
   "metadata": {},
   "source": [
    "### Importing CSV data"
   ]
  },
  {
   "cell_type": "code",
   "execution_count": 33,
   "metadata": {},
   "outputs": [
    {
     "name": "stdout",
     "output_type": "stream",
     "text": [
      "Loading +.CSV...\n",
      "Loading ).CSV...\n",
      "Loading (.CSV...\n",
      "Loading ,.CSV...\n",
      "Loading -.CSV...\n",
      "Concatenating Data...\n",
      "Done\n"
     ]
    }
   ],
   "source": [
    "dfs = []\n",
    "for cls in ['+', ')', '(', ',', '-']:#,'0','1','2','3','4','5','6','7','8','9']:\n",
    "    print(f\"Loading {cls}.CSV...\")\n",
    "    a = pd.read_csv(\"CSV/\"+cls+\".csv\", index_col=0)\n",
    "    a['class'] = cls\n",
    "    dfs.append(a)\n",
    "\n",
    "print(\"Concatenating Data...\")\n",
    "df = pd.concat(dfs,ignore_index=True, sort=False)\n",
    "print(\"Done\")"
   ]
  },
  {
   "cell_type": "code",
   "execution_count": 34,
   "metadata": {},
   "outputs": [
    {
     "data": {
      "text/html": [
       "<div>\n",
       "<style scoped>\n",
       "    .dataframe tbody tr th:only-of-type {\n",
       "        vertical-align: middle;\n",
       "    }\n",
       "\n",
       "    .dataframe tbody tr th {\n",
       "        vertical-align: top;\n",
       "    }\n",
       "\n",
       "    .dataframe thead th {\n",
       "        text-align: right;\n",
       "    }\n",
       "</style>\n",
       "<table border=\"1\" class=\"dataframe\">\n",
       "  <thead>\n",
       "    <tr style=\"text-align: right;\">\n",
       "      <th></th>\n",
       "      <th>0</th>\n",
       "      <th>1</th>\n",
       "      <th>2</th>\n",
       "      <th>3</th>\n",
       "      <th>4</th>\n",
       "      <th>5</th>\n",
       "      <th>6</th>\n",
       "      <th>7</th>\n",
       "      <th>8</th>\n",
       "      <th>9</th>\n",
       "      <th>...</th>\n",
       "      <th>775</th>\n",
       "      <th>776</th>\n",
       "      <th>777</th>\n",
       "      <th>778</th>\n",
       "      <th>779</th>\n",
       "      <th>780</th>\n",
       "      <th>781</th>\n",
       "      <th>782</th>\n",
       "      <th>783</th>\n",
       "      <th>class</th>\n",
       "    </tr>\n",
       "  </thead>\n",
       "  <tbody>\n",
       "    <tr>\n",
       "      <td>0</td>\n",
       "      <td>0</td>\n",
       "      <td>0</td>\n",
       "      <td>0</td>\n",
       "      <td>0</td>\n",
       "      <td>0</td>\n",
       "      <td>0</td>\n",
       "      <td>0</td>\n",
       "      <td>0</td>\n",
       "      <td>0</td>\n",
       "      <td>0</td>\n",
       "      <td>...</td>\n",
       "      <td>0</td>\n",
       "      <td>0</td>\n",
       "      <td>0</td>\n",
       "      <td>0</td>\n",
       "      <td>0</td>\n",
       "      <td>0</td>\n",
       "      <td>0</td>\n",
       "      <td>0</td>\n",
       "      <td>0</td>\n",
       "      <td>+</td>\n",
       "    </tr>\n",
       "    <tr>\n",
       "      <td>1</td>\n",
       "      <td>0</td>\n",
       "      <td>0</td>\n",
       "      <td>0</td>\n",
       "      <td>0</td>\n",
       "      <td>0</td>\n",
       "      <td>0</td>\n",
       "      <td>0</td>\n",
       "      <td>0</td>\n",
       "      <td>0</td>\n",
       "      <td>0</td>\n",
       "      <td>...</td>\n",
       "      <td>1</td>\n",
       "      <td>0</td>\n",
       "      <td>0</td>\n",
       "      <td>0</td>\n",
       "      <td>0</td>\n",
       "      <td>0</td>\n",
       "      <td>0</td>\n",
       "      <td>0</td>\n",
       "      <td>0</td>\n",
       "      <td>+</td>\n",
       "    </tr>\n",
       "    <tr>\n",
       "      <td>2</td>\n",
       "      <td>0</td>\n",
       "      <td>0</td>\n",
       "      <td>0</td>\n",
       "      <td>0</td>\n",
       "      <td>0</td>\n",
       "      <td>0</td>\n",
       "      <td>0</td>\n",
       "      <td>0</td>\n",
       "      <td>0</td>\n",
       "      <td>0</td>\n",
       "      <td>...</td>\n",
       "      <td>0</td>\n",
       "      <td>1</td>\n",
       "      <td>0</td>\n",
       "      <td>0</td>\n",
       "      <td>0</td>\n",
       "      <td>0</td>\n",
       "      <td>0</td>\n",
       "      <td>0</td>\n",
       "      <td>0</td>\n",
       "      <td>+</td>\n",
       "    </tr>\n",
       "    <tr>\n",
       "      <td>3</td>\n",
       "      <td>0</td>\n",
       "      <td>0</td>\n",
       "      <td>0</td>\n",
       "      <td>0</td>\n",
       "      <td>0</td>\n",
       "      <td>0</td>\n",
       "      <td>0</td>\n",
       "      <td>0</td>\n",
       "      <td>0</td>\n",
       "      <td>0</td>\n",
       "      <td>...</td>\n",
       "      <td>0</td>\n",
       "      <td>0</td>\n",
       "      <td>0</td>\n",
       "      <td>0</td>\n",
       "      <td>0</td>\n",
       "      <td>0</td>\n",
       "      <td>0</td>\n",
       "      <td>0</td>\n",
       "      <td>0</td>\n",
       "      <td>+</td>\n",
       "    </tr>\n",
       "    <tr>\n",
       "      <td>4</td>\n",
       "      <td>0</td>\n",
       "      <td>0</td>\n",
       "      <td>0</td>\n",
       "      <td>0</td>\n",
       "      <td>0</td>\n",
       "      <td>0</td>\n",
       "      <td>0</td>\n",
       "      <td>0</td>\n",
       "      <td>0</td>\n",
       "      <td>0</td>\n",
       "      <td>...</td>\n",
       "      <td>5</td>\n",
       "      <td>0</td>\n",
       "      <td>0</td>\n",
       "      <td>0</td>\n",
       "      <td>0</td>\n",
       "      <td>0</td>\n",
       "      <td>0</td>\n",
       "      <td>0</td>\n",
       "      <td>0</td>\n",
       "      <td>+</td>\n",
       "    </tr>\n",
       "    <tr>\n",
       "      <td>...</td>\n",
       "      <td>...</td>\n",
       "      <td>...</td>\n",
       "      <td>...</td>\n",
       "      <td>...</td>\n",
       "      <td>...</td>\n",
       "      <td>...</td>\n",
       "      <td>...</td>\n",
       "      <td>...</td>\n",
       "      <td>...</td>\n",
       "      <td>...</td>\n",
       "      <td>...</td>\n",
       "      <td>...</td>\n",
       "      <td>...</td>\n",
       "      <td>...</td>\n",
       "      <td>...</td>\n",
       "      <td>...</td>\n",
       "      <td>...</td>\n",
       "      <td>...</td>\n",
       "      <td>...</td>\n",
       "      <td>...</td>\n",
       "      <td>...</td>\n",
       "    </tr>\n",
       "    <tr>\n",
       "      <td>89659</td>\n",
       "      <td>0</td>\n",
       "      <td>0</td>\n",
       "      <td>0</td>\n",
       "      <td>0</td>\n",
       "      <td>0</td>\n",
       "      <td>0</td>\n",
       "      <td>0</td>\n",
       "      <td>0</td>\n",
       "      <td>0</td>\n",
       "      <td>0</td>\n",
       "      <td>...</td>\n",
       "      <td>0</td>\n",
       "      <td>0</td>\n",
       "      <td>0</td>\n",
       "      <td>0</td>\n",
       "      <td>0</td>\n",
       "      <td>0</td>\n",
       "      <td>0</td>\n",
       "      <td>0</td>\n",
       "      <td>0</td>\n",
       "      <td>-</td>\n",
       "    </tr>\n",
       "    <tr>\n",
       "      <td>89660</td>\n",
       "      <td>0</td>\n",
       "      <td>0</td>\n",
       "      <td>0</td>\n",
       "      <td>0</td>\n",
       "      <td>0</td>\n",
       "      <td>0</td>\n",
       "      <td>0</td>\n",
       "      <td>0</td>\n",
       "      <td>0</td>\n",
       "      <td>0</td>\n",
       "      <td>...</td>\n",
       "      <td>0</td>\n",
       "      <td>0</td>\n",
       "      <td>0</td>\n",
       "      <td>0</td>\n",
       "      <td>0</td>\n",
       "      <td>0</td>\n",
       "      <td>0</td>\n",
       "      <td>0</td>\n",
       "      <td>0</td>\n",
       "      <td>-</td>\n",
       "    </tr>\n",
       "    <tr>\n",
       "      <td>89661</td>\n",
       "      <td>0</td>\n",
       "      <td>0</td>\n",
       "      <td>0</td>\n",
       "      <td>0</td>\n",
       "      <td>0</td>\n",
       "      <td>0</td>\n",
       "      <td>0</td>\n",
       "      <td>0</td>\n",
       "      <td>0</td>\n",
       "      <td>0</td>\n",
       "      <td>...</td>\n",
       "      <td>0</td>\n",
       "      <td>0</td>\n",
       "      <td>0</td>\n",
       "      <td>0</td>\n",
       "      <td>0</td>\n",
       "      <td>0</td>\n",
       "      <td>0</td>\n",
       "      <td>0</td>\n",
       "      <td>0</td>\n",
       "      <td>-</td>\n",
       "    </tr>\n",
       "    <tr>\n",
       "      <td>89662</td>\n",
       "      <td>0</td>\n",
       "      <td>0</td>\n",
       "      <td>0</td>\n",
       "      <td>0</td>\n",
       "      <td>0</td>\n",
       "      <td>0</td>\n",
       "      <td>0</td>\n",
       "      <td>0</td>\n",
       "      <td>0</td>\n",
       "      <td>0</td>\n",
       "      <td>...</td>\n",
       "      <td>0</td>\n",
       "      <td>0</td>\n",
       "      <td>0</td>\n",
       "      <td>0</td>\n",
       "      <td>0</td>\n",
       "      <td>0</td>\n",
       "      <td>0</td>\n",
       "      <td>0</td>\n",
       "      <td>0</td>\n",
       "      <td>-</td>\n",
       "    </tr>\n",
       "    <tr>\n",
       "      <td>89663</td>\n",
       "      <td>0</td>\n",
       "      <td>0</td>\n",
       "      <td>0</td>\n",
       "      <td>0</td>\n",
       "      <td>0</td>\n",
       "      <td>0</td>\n",
       "      <td>0</td>\n",
       "      <td>0</td>\n",
       "      <td>0</td>\n",
       "      <td>0</td>\n",
       "      <td>...</td>\n",
       "      <td>0</td>\n",
       "      <td>0</td>\n",
       "      <td>0</td>\n",
       "      <td>0</td>\n",
       "      <td>0</td>\n",
       "      <td>0</td>\n",
       "      <td>0</td>\n",
       "      <td>0</td>\n",
       "      <td>0</td>\n",
       "      <td>-</td>\n",
       "    </tr>\n",
       "  </tbody>\n",
       "</table>\n",
       "<p>89664 rows × 785 columns</p>\n",
       "</div>"
      ],
      "text/plain": [
       "       0  1  2  3  4  5  6  7  8  9  ...  775  776  777  778  779  780  781  \\\n",
       "0      0  0  0  0  0  0  0  0  0  0  ...    0    0    0    0    0    0    0   \n",
       "1      0  0  0  0  0  0  0  0  0  0  ...    1    0    0    0    0    0    0   \n",
       "2      0  0  0  0  0  0  0  0  0  0  ...    0    1    0    0    0    0    0   \n",
       "3      0  0  0  0  0  0  0  0  0  0  ...    0    0    0    0    0    0    0   \n",
       "4      0  0  0  0  0  0  0  0  0  0  ...    5    0    0    0    0    0    0   \n",
       "...   .. .. .. .. .. .. .. .. .. ..  ...  ...  ...  ...  ...  ...  ...  ...   \n",
       "89659  0  0  0  0  0  0  0  0  0  0  ...    0    0    0    0    0    0    0   \n",
       "89660  0  0  0  0  0  0  0  0  0  0  ...    0    0    0    0    0    0    0   \n",
       "89661  0  0  0  0  0  0  0  0  0  0  ...    0    0    0    0    0    0    0   \n",
       "89662  0  0  0  0  0  0  0  0  0  0  ...    0    0    0    0    0    0    0   \n",
       "89663  0  0  0  0  0  0  0  0  0  0  ...    0    0    0    0    0    0    0   \n",
       "\n",
       "       782  783  class  \n",
       "0        0    0      +  \n",
       "1        0    0      +  \n",
       "2        0    0      +  \n",
       "3        0    0      +  \n",
       "4        0    0      +  \n",
       "...    ...  ...    ...  \n",
       "89659    0    0      -  \n",
       "89660    0    0      -  \n",
       "89661    0    0      -  \n",
       "89662    0    0      -  \n",
       "89663    0    0      -  \n",
       "\n",
       "[89664 rows x 785 columns]"
      ]
     },
     "execution_count": 34,
     "metadata": {},
     "output_type": "execute_result"
    }
   ],
   "source": [
    "df"
   ]
  },
  {
   "cell_type": "markdown",
   "metadata": {},
   "source": [
    "### Test/Train split"
   ]
  },
  {
   "cell_type": "code",
   "execution_count": 35,
   "metadata": {},
   "outputs": [],
   "source": [
    "features = [feature for feature in df]\n",
    "features.remove(\"class\")\n",
    "\n",
    "all_X = np.array(df[features])\n",
    "all_y = np.array(df[\"class\"])\n",
    "\n",
    "train_X = np.array(df[df.index%2 == 0][features])\n",
    "train_y = df[df.index%2 == 0][\"class\"]\n",
    "\n",
    "test_X = np.array(df[df.index%2 == 1][features])\n",
    "test_y = df[df.index%2 == 1][\"class\"]"
   ]
  },
  {
   "cell_type": "markdown",
   "metadata": {},
   "source": [
    "## Testing classifiers\n",
    "I conducted some \"accuracy vs parameter\" tests and found these to the be the optimal `n_neighbors` and `max_depth` values. In the future I will put those tests here"
   ]
  },
  {
   "cell_type": "code",
   "execution_count": 36,
   "metadata": {},
   "outputs": [
    {
     "name": "stdout",
     "output_type": "stream",
     "text": [
      "Fitting...\n",
      "Scoring...\n"
     ]
    },
    {
     "data": {
      "text/plain": [
       "0.6521739130434783"
      ]
     },
     "execution_count": 36,
     "metadata": {},
     "output_type": "execute_result"
    }
   ],
   "source": [
    "# Getting a subset of the data for faster runtime\n",
    "num = 100\n",
    "train_X_KN = np.array(df[df.index%num == 0][features])\n",
    "train_y_KN = df[df.index%num == 0][\"class\"]\n",
    "\n",
    "test_X_KN = np.array(df[df.index%num == 1][features])\n",
    "test_y_KN = df[df.index%num == 1][\"class\"]\n",
    "\n",
    "# Kneighbors\n",
    "clf = neighbors.KNeighborsClassifier(n_neighbors=1)\n",
    "print(\"Fitting...\")\n",
    "clf.fit(train_X_KN, train_y_KN)\n",
    "print(\"Scoring...\")\n",
    "clf.score(test_X_KN, test_y_KN)"
   ]
  },
  {
   "cell_type": "code",
   "execution_count": 37,
   "metadata": {},
   "outputs": [
    {
     "name": "stdout",
     "output_type": "stream",
     "text": [
      "Fitting...\n",
      "Scoring...\n"
     ]
    },
    {
     "data": {
      "text/plain": [
       "0.983806209850107"
      ]
     },
     "execution_count": 37,
     "metadata": {},
     "output_type": "execute_result"
    }
   ],
   "source": [
    "# Decision Tree\n",
    "clf = tree.DecisionTreeClassifier(random_state=10)\n",
    "print(\"Fitting...\")\n",
    "clf.fit(train_X, train_y)\n",
    "print(\"Scoring...\")\n",
    "clf.score(test_X, test_y)"
   ]
  },
  {
   "cell_type": "code",
   "execution_count": 38,
   "metadata": {},
   "outputs": [
    {
     "name": "stdout",
     "output_type": "stream",
     "text": [
      "Fitting...\n",
      "Scoring...\n"
     ]
    },
    {
     "data": {
      "text/plain": [
       "0.9196556031406139"
      ]
     },
     "execution_count": 38,
     "metadata": {},
     "output_type": "execute_result"
    }
   ],
   "source": [
    "# Gaussian Naive Bayes\n",
    "clf = naive_bayes.GaussianNB()\n",
    "print(\"Fitting...\")\n",
    "clf.fit(train_X, train_y)\n",
    "print(\"Scoring...\")\n",
    "clf.score(test_X, test_y)"
   ]
  },
  {
   "cell_type": "markdown",
   "metadata": {},
   "source": [
    "### Finding most accurate hidden_layer_sizes value"
   ]
  },
  {
   "cell_type": "code",
   "execution_count": 47,
   "metadata": {},
   "outputs": [
    {
     "name": "stdout",
     "output_type": "stream",
     "text": [
      "fitting and scoring hidden_layer_sizes=1...\n",
      "fitting and scoring hidden_layer_sizes=6...\n",
      "fitting and scoring hidden_layer_sizes=11...\n",
      "fitting and scoring hidden_layer_sizes=16...\n",
      "fitting and scoring hidden_layer_sizes=21...\n",
      "fitting and scoring hidden_layer_sizes=26...\n",
      "fitting and scoring hidden_layer_sizes=31...\n",
      "fitting and scoring hidden_layer_sizes=36...\n"
     ]
    }
   ],
   "source": [
    "# Getting a subset of the data for faster runtime (again)\n",
    "data_portion = 100\n",
    "train_X_NN = np.array(df[df.index%data_portion == 0][features])\n",
    "train_y_NN = df[df.index%data_portion == 0][\"class\"]\n",
    "\n",
    "test_X_NN = np.array(df[df.index%data_portion == 1][features])\n",
    "test_y_NN = df[df.index%data_portion == 1][\"class\"]\n",
    "\n",
    "# Recording scores\n",
    "scoresNN = []\n",
    "for hid in range(1, 40, 5):\n",
    "    print(f\"fitting and scoring hidden_layer_sizes={hid}...\")\n",
    "    clf = neural_network.MLPClassifier(hidden_layer_sizes=(hid),max_iter=2000, random_state=42)\n",
    "    clf.fit(train_X_NN, train_y_NN)\n",
    "    scoresNN.append(clf.score(test_X_NN, test_y_NN))"
   ]
  },
  {
   "cell_type": "code",
   "execution_count": 48,
   "metadata": {},
   "outputs": [
    {
     "name": "stdout",
     "output_type": "stream",
     "text": [
      "hidden_layer_sizes = 1   ::   0.5440356744704571\n",
      "hidden_layer_sizes = 6   ::   0.7959866220735786\n",
      "hidden_layer_sizes = 11   ::   0.7670011148272018\n",
      "hidden_layer_sizes = 16   ::   0.7725752508361204\n",
      "hidden_layer_sizes = 21   ::   0.7837235228539576\n",
      "hidden_layer_sizes = 26   ::   0.8171683389074693\n",
      "hidden_layer_sizes = 31   ::   0.8182831661092531\n",
      "hidden_layer_sizes = 36   ::   0.8182831661092531\n"
     ]
    }
   ],
   "source": [
    "for i, score in zip(range(len(scoresNN)), scoresNN):\n",
    "    print(\"hidden_layer_sizes =\", i*5+1, '  ::  ', score)"
   ]
  },
  {
   "cell_type": "markdown",
   "metadata": {},
   "source": [
    "Clearly `hidden_layer_sizes=16` is the most accurate value.\n",
    "\n",
    "Using this value, I will conduct accuracy testing with all of the data"
   ]
  },
  {
   "cell_type": "code",
   "execution_count": 49,
   "metadata": {},
   "outputs": [
    {
     "name": "stdout",
     "output_type": "stream",
     "text": [
      "fitting...\n",
      "scoring...\n"
     ]
    },
    {
     "data": {
      "text/plain": [
       "0.9983272930025091"
      ]
     },
     "execution_count": 49,
     "metadata": {},
     "output_type": "execute_result"
    }
   ],
   "source": [
    "# Getting a skewed test/train split so that I will train on the majority \n",
    "#  of the data, but still have a few data to test on\n",
    "num = 25\n",
    "train_X3 = np.array(df[df.index%num != 0][features])\n",
    "train_y3 = df[df.index%num != 0][\"class\"]\n",
    "\n",
    "test_X3 = np.array(df[df.index%num == 0][features])\n",
    "test_y3 = df[df.index%num == 0][\"class\"]\n",
    "\n",
    "clf = neural_network.MLPClassifier(hidden_layer_sizes=(33),max_iter=8000, random_state=42)\n",
    "print(\"fitting...\")\n",
    "clf.fit(train_X3, train_y3)\n",
    "print(\"scoring...\")\n",
    "clf.score(test_X3, test_y3)"
   ]
  },
  {
   "cell_type": "code",
   "execution_count": 51,
   "metadata": {},
   "outputs": [],
   "source": [
    "with open('clf_just_math.pk', 'wb') as fout:\n",
    "    pickle.dump(clf, fout)"
   ]
  },
  {
   "cell_type": "code",
   "execution_count": 71,
   "metadata": {},
   "outputs": [],
   "source": [
    "clf_math = 0\n",
    "clf_digi = 0\n",
    "with open('clf_just_math.pk', 'rb') as fin:\n",
    "    clf_math = pickle.load(fin)\n",
    "\n",
    "with open('clf_justDigits.pk', 'rb') as fin:\n",
    "    clf_digi = pickle.load(fin)\n"
   ]
  },
  {
   "cell_type": "code",
   "execution_count": 54,
   "metadata": {},
   "outputs": [
    {
     "data": {
      "text/plain": [
       "array([[1.02784120e-29, 1.00000000e+00, 2.25079960e-24, 3.04710142e-14,\n",
       "        5.66887518e-93]])"
      ]
     },
     "execution_count": 54,
     "metadata": {},
     "output_type": "execute_result"
    }
   ],
   "source": [
    "# all_y[0]\n",
    "# clf2.predict(all_X[0].reshape(28,28))\n",
    "# clf2.predict([all_X[0]])\n",
    "clf2.predict_proba([all_X[33433]])"
   ]
  },
  {
   "cell_type": "code",
   "execution_count": 55,
   "metadata": {},
   "outputs": [
    {
     "data": {
      "text/plain": [
       "')'"
      ]
     },
     "execution_count": 55,
     "metadata": {},
     "output_type": "execute_result"
    }
   ],
   "source": [
    "all_y[33433]"
   ]
  },
  {
   "cell_type": "code",
   "execution_count": 9,
   "metadata": {},
   "outputs": [
    {
     "data": {
      "text/plain": [
       "9"
      ]
     },
     "execution_count": 9,
     "metadata": {},
     "output_type": "execute_result"
    }
   ],
   "source": [
    "eval(\"(7*7)-40\")"
   ]
  },
  {
   "cell_type": "markdown",
   "metadata": {},
   "source": [
    "## Predicting things from the server  "
   ]
  },
  {
   "cell_type": "code",
   "execution_count": 56,
   "metadata": {},
   "outputs": [
    {
     "data": {
      "text/plain": [
       "<matplotlib.image.AxesImage at 0x1a2460de90>"
      ]
     },
     "execution_count": 56,
     "metadata": {},
     "output_type": "execute_result"
    },
    {
     "data": {
      "image/png": "[encoded data removed]",
      "text/plain": [
       "<Figure size 432x288 with 1 Axes>"
      ]
     },
     "metadata": {
      "needs_background": "light"
     },
     "output_type": "display_data"
    }
   ],
   "source": [
    "plt.imshow(test_X[30000].reshape(28,28), cmap=plt.cm.binary)"
   ]
  },
  {
   "cell_type": "code",
   "execution_count": 68,
   "metadata": {},
   "outputs": [
    {
     "data": {
      "text/html": [
       "<div>\n",
       "<style scoped>\n",
       "    .dataframe tbody tr th:only-of-type {\n",
       "        vertical-align: middle;\n",
       "    }\n",
       "\n",
       "    .dataframe tbody tr th {\n",
       "        vertical-align: top;\n",
       "    }\n",
       "\n",
       "    .dataframe thead th {\n",
       "        text-align: right;\n",
       "    }\n",
       "</style>\n",
       "<table border=\"1\" class=\"dataframe\">\n",
       "  <thead>\n",
       "    <tr style=\"text-align: right;\">\n",
       "      <th></th>\n",
       "      <th>Unnamed: 0</th>\n",
       "      <th>0</th>\n",
       "      <th>1</th>\n",
       "      <th>2</th>\n",
       "      <th>3</th>\n",
       "      <th>4</th>\n",
       "      <th>5</th>\n",
       "      <th>6</th>\n",
       "      <th>7</th>\n",
       "      <th>8</th>\n",
       "      <th>...</th>\n",
       "      <th>774</th>\n",
       "      <th>775</th>\n",
       "      <th>776</th>\n",
       "      <th>777</th>\n",
       "      <th>778</th>\n",
       "      <th>779</th>\n",
       "      <th>780</th>\n",
       "      <th>781</th>\n",
       "      <th>782</th>\n",
       "      <th>783</th>\n",
       "    </tr>\n",
       "  </thead>\n",
       "  <tbody>\n",
       "    <tr>\n",
       "      <td>0</td>\n",
       "      <td>0</td>\n",
       "      <td>0</td>\n",
       "      <td>0</td>\n",
       "      <td>0</td>\n",
       "      <td>0</td>\n",
       "      <td>0</td>\n",
       "      <td>0</td>\n",
       "      <td>0</td>\n",
       "      <td>0</td>\n",
       "      <td>0</td>\n",
       "      <td>...</td>\n",
       "      <td>0</td>\n",
       "      <td>0</td>\n",
       "      <td>0</td>\n",
       "      <td>0</td>\n",
       "      <td>0</td>\n",
       "      <td>0</td>\n",
       "      <td>0</td>\n",
       "      <td>0</td>\n",
       "      <td>0</td>\n",
       "      <td>0</td>\n",
       "    </tr>\n",
       "    <tr>\n",
       "      <td>1</td>\n",
       "      <td>1</td>\n",
       "      <td>0</td>\n",
       "      <td>0</td>\n",
       "      <td>0</td>\n",
       "      <td>0</td>\n",
       "      <td>0</td>\n",
       "      <td>0</td>\n",
       "      <td>0</td>\n",
       "      <td>0</td>\n",
       "      <td>0</td>\n",
       "      <td>...</td>\n",
       "      <td>0</td>\n",
       "      <td>0</td>\n",
       "      <td>0</td>\n",
       "      <td>0</td>\n",
       "      <td>0</td>\n",
       "      <td>0</td>\n",
       "      <td>0</td>\n",
       "      <td>0</td>\n",
       "      <td>0</td>\n",
       "      <td>0</td>\n",
       "    </tr>\n",
       "    <tr>\n",
       "      <td>2</td>\n",
       "      <td>2</td>\n",
       "      <td>0</td>\n",
       "      <td>0</td>\n",
       "      <td>0</td>\n",
       "      <td>0</td>\n",
       "      <td>0</td>\n",
       "      <td>0</td>\n",
       "      <td>0</td>\n",
       "      <td>0</td>\n",
       "      <td>0</td>\n",
       "      <td>...</td>\n",
       "      <td>0</td>\n",
       "      <td>0</td>\n",
       "      <td>0</td>\n",
       "      <td>0</td>\n",
       "      <td>0</td>\n",
       "      <td>0</td>\n",
       "      <td>0</td>\n",
       "      <td>0</td>\n",
       "      <td>0</td>\n",
       "      <td>0</td>\n",
       "    </tr>\n",
       "  </tbody>\n",
       "</table>\n",
       "<p>3 rows × 785 columns</p>\n",
       "</div>"
      ],
      "text/plain": [
       "   Unnamed: 0  0  1  2  3  4  5  6  7  8  ...  774  775  776  777  778  779  \\\n",
       "0           0  0  0  0  0  0  0  0  0  0  ...    0    0    0    0    0    0   \n",
       "1           1  0  0  0  0  0  0  0  0  0  ...    0    0    0    0    0    0   \n",
       "2           2  0  0  0  0  0  0  0  0  0  ...    0    0    0    0    0    0   \n",
       "\n",
       "   780  781  782  783  \n",
       "0    0    0    0    0  \n",
       "1    0    0    0    0  \n",
       "2    0    0    0    0  \n",
       "\n",
       "[3 rows x 785 columns]"
      ]
     },
     "execution_count": 68,
     "metadata": {},
     "output_type": "execute_result"
    }
   ],
   "source": [
    "test_df = pd.read_csv(\"tests/tests.csv\")\n",
    "test_df"
   ]
  },
  {
   "cell_type": "code",
   "execution_count": 85,
   "metadata": {},
   "outputs": [
    {
     "name": "stdout",
     "output_type": "stream",
     "text": [
      "+  ::  8.416603600968807e-194\n",
      ")  ::  1.8366465995842252e-147\n",
      "(  ::  1.0\n",
      ",  ::  8.209373055365604e-96\n",
      "-  ::  7.4138434233079225e-115\n",
      "0  ::  2.8567679269099252e-11\n",
      "1  ::  0.00031937776349764117\n",
      "2  ::  0.056156276125878445\n",
      "3  ::  0.8024828842820134\n",
      "4  ::  0.07223482783502287\n",
      "5  ::  0.022123966663751573\n",
      "6  ::  9.03774106807503e-05\n",
      "7  ::  1.8649591306808423e-08\n",
      "8  ::  0.046077917001501996\n",
      "9  ::  0.0005143542394944446\n"
     ]
    },
    {
     "data": {
      "text/plain": [
       "<matplotlib.image.AxesImage at 0x1a294a8090>"
      ]
     },
     "execution_count": 85,
     "metadata": {},
     "output_type": "execute_result"
    },
    {
     "data": {
      "image/png": "[encoded data removed]",
      "text/plain": [
       "<Figure size 432x288 with 1 Axes>"
      ]
     },
     "metadata": {
      "needs_background": "light"
     },
     "output_type": "display_data"
    }
   ],
   "source": [
    "np.array(test_df.iloc[0])\n",
    "test_X = np.array(test_df[features])\n",
    "\n",
    "math_preds = clf_math.predict_proba([test_X[0]])\n",
    "for cls_name, cls_acc in zip(['+', ')', '(', ',', '-'], math_preds[0]):\n",
    "    print(cls_name, \" :: \", cls_acc)\n",
    "    \n",
    "digi_preds = clf_digi.predict_proba([test_X[0]])\n",
    "for cls_name, cls_acc in zip([str(x) for x in range(10)], digi_preds[0]):\n",
    "    print(cls_name, \" :: \", cls_acc)\n",
    "\n",
    "plt.imshow(test_X[0].reshape(28,28))"
   ]
  },
  {
   "cell_type": "code",
   "execution_count": 82,
   "metadata": {},
   "outputs": [
    {
     "data": {
      "text/plain": [
       "array([[8.41660360e-194, 1.83664660e-147, 1.00000000e+000,\n",
       "        8.20937306e-096, 7.41384342e-115]])"
      ]
     },
     "execution_count": 82,
     "metadata": {},
     "output_type": "execute_result"
    }
   ],
   "source": [
    "digi_preds = clf_math.predict_proba([test_X[0]])\n",
    "digi_preds"
   ]
  }
 ],
 "metadata": {
  "kernelspec": {
   "display_name": "Python 3",
   "language": "python",
   "name": "python3"
  },
  "language_info": {
   "codemirror_mode": {
    "name": "ipython",
    "version": 3
   },
   "file_extension": ".py",
   "mimetype": "text/x-python",
   "name": "python",
   "nbconvert_exporter": "python",
   "pygments_lexer": "ipython3",
   "version": "3.7.4"
  }
 },
 "nbformat": 4,
 "nbformat_minor": 2
}
